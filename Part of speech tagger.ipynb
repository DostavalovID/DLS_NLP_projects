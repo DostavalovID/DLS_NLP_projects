{
  "nbformat": 4,
  "nbformat_minor": 0,
  "metadata": {
    "colab": {
      "name": "Тэггер частей речи дз",
      "provenance": [],
      "collapsed_sections": []
    },
    "kernelspec": {
      "display_name": "Python 3",
      "language": "python",
      "name": "python3"
    },
    "language_info": {
      "codemirror_mode": {
        "name": "ipython",
        "version": 3
      },
      "file_extension": ".py",
      "mimetype": "text/x-python",
      "name": "python",
      "nbconvert_exporter": "python",
      "pygments_lexer": "ipython3",
      "version": "3.7.4"
    },
    "toc": {
      "base_numbering": 1,
      "nav_menu": {},
      "number_sections": false,
      "sideBar": true,
      "skip_h1_title": false,
      "title_cell": "Table of Contents",
      "title_sidebar": "Contents",
      "toc_cell": false,
      "toc_position": {},
      "toc_section_display": true,
      "toc_window_display": false
    },
    "varInspector": {
      "cols": {
        "lenName": 16,
        "lenType": 16,
        "lenVar": 40
      },
      "kernels_config": {
        "python": {
          "delete_cmd_postfix": "",
          "delete_cmd_prefix": "del ",
          "library": "var_list.py",
          "varRefreshCmd": "print(var_dic_list())"
        },
        "r": {
          "delete_cmd_postfix": ") ",
          "delete_cmd_prefix": "rm(",
          "library": "var_list.r",
          "varRefreshCmd": "cat(var_dic_list()) "
        }
      },
      "types_to_exclude": [
        "module",
        "function",
        "builtin_function_or_method",
        "instance",
        "_Feature"
      ],
      "window_display": false
    },
    "accelerator": "GPU"
  },
  "cells": [
    {
      "cell_type": "markdown",
      "metadata": {
        "id": "Ot3c4fjZwC4T"
      },
      "source": [
        "<img src=\"https://s8.hostingkartinok.com/uploads/images/2018/08/308b49fcfbc619d629fe4604bceb67ac.jpg\" width=500, height=450>\n",
        "<h3 style=\"text-align: center;\"><b>Физтех-Школа Прикладной математики и информатики (ФПМИ) МФТИ</b></h3>"
      ]
    },
    {
      "cell_type": "markdown",
      "metadata": {
        "id": "P2JdzEXmwRU5"
      },
      "source": [
        "---"
      ]
    },
    {
      "cell_type": "markdown",
      "metadata": {
        "id": "oMohh_6CwC4W"
      },
      "source": [
        "### Задача определения частей речи, Part-Of-Speech Tagger (POS)"
      ]
    },
    {
      "cell_type": "markdown",
      "metadata": {
        "id": "2Aad2tmBwC4Y"
      },
      "source": [
        "Мы будем решать задачу определения частей речи (POS-теггинга) с помощью скрытой марковской модели (HMM)."
      ]
    },
    {
      "cell_type": "code",
      "metadata": {
        "id": "gYYV0mdmwC4f",
        "scrolled": false
      },
      "source": [
        "import nltk\n",
        "import pandas as pd\n",
        "import numpy as np\n",
        "from collections import OrderedDict, deque\n",
        "from nltk.corpus import brown\n",
        "import matplotlib.pyplot as plt"
      ],
      "execution_count": 1,
      "outputs": []
    },
    {
      "cell_type": "markdown",
      "metadata": {
        "id": "FPgI52lRwC4n"
      },
      "source": [
        "Вам в помощь http://www.nltk.org/book/"
      ]
    },
    {
      "cell_type": "markdown",
      "metadata": {
        "id": "hxdJxMEAwC4o"
      },
      "source": [
        "Загрузим brown корпус"
      ]
    },
    {
      "cell_type": "code",
      "metadata": {
        "id": "ZvhXAL_9wC4q",
        "scrolled": true,
        "colab": {
          "base_uri": "https://localhost:8080/"
        },
        "outputId": "7b619108-e218-4967-9a4a-b9a914cd378d"
      },
      "source": [
        "nltk.download('brown')"
      ],
      "execution_count": 2,
      "outputs": [
        {
          "output_type": "stream",
          "name": "stdout",
          "text": [
            "[nltk_data] Downloading package brown to /root/nltk_data...\n",
            "[nltk_data]   Package brown is already up-to-date!\n"
          ]
        },
        {
          "output_type": "execute_result",
          "data": {
            "text/plain": [
              "True"
            ]
          },
          "metadata": {},
          "execution_count": 2
        }
      ]
    },
    {
      "cell_type": "markdown",
      "metadata": {
        "id": "ASm3Dpggs25b"
      },
      "source": [
        "Существует множество наборов грамматических тегов, или тегсетов, например:\n",
        "* НКРЯ\n",
        "* Mystem\n",
        "* UPenn\n",
        "* OpenCorpora (его использует pymorphy2)\n",
        "* Universal Dependencies"
      ]
    },
    {
      "cell_type": "markdown",
      "metadata": {
        "id": "wto8PSC6wC4v"
      },
      "source": [
        "<b>Существует не одна система тегирования, поэтому будьте внимательны, когда прогнозируете тег слов в тексте и вычисляете качество прогноза. Можете получить несправедливо низкое качество вашего решения."
      ]
    },
    {
      "cell_type": "markdown",
      "metadata": {
        "id": "eJ6tuHA_wC4z"
      },
      "source": [
        "На данный момент стандартом является **Universal Dependencies**. Подробнее про проект можно почитать [вот тут](http://universaldependencies.org/), а про теги — [вот тут](http://universaldependencies.org/u/pos/)"
      ]
    },
    {
      "cell_type": "code",
      "metadata": {
        "id": "Cht7dImWwC42",
        "colab": {
          "base_uri": "https://localhost:8080/"
        },
        "outputId": "c4136b83-f8e4-4063-c7e7-1fea27af9cb9"
      },
      "source": [
        "nltk.download('universal_tagset')"
      ],
      "execution_count": 3,
      "outputs": [
        {
          "output_type": "stream",
          "name": "stdout",
          "text": [
            "[nltk_data] Downloading package universal_tagset to /root/nltk_data...\n",
            "[nltk_data]   Package universal_tagset is already up-to-date!\n"
          ]
        },
        {
          "output_type": "execute_result",
          "data": {
            "text/plain": [
              "True"
            ]
          },
          "metadata": {},
          "execution_count": 3
        }
      ]
    },
    {
      "cell_type": "markdown",
      "metadata": {
        "id": "IiTimRRywC47"
      },
      "source": [
        "<img src=\"https://4.bp.blogspot.com/-IcFli2wljs0/WrVCw3umY_I/AAAAAAAACYM/UJ_neoUAs3wF95dj2Ouf3BzxXzB_b2TbQCLcBGAs/s1600/postags.png\">\n"
      ]
    },
    {
      "cell_type": "markdown",
      "metadata": {
        "id": "iyDBMcBSwC48"
      },
      "source": [
        "Мы имеем массив предложений пар (слово-тег)"
      ]
    },
    {
      "cell_type": "code",
      "metadata": {
        "id": "BobflewQwC4-",
        "scrolled": false,
        "colab": {
          "base_uri": "https://localhost:8080/"
        },
        "outputId": "0c63cdc5-cd32-4cff-952d-68b2d260145e"
      },
      "source": [
        "brown_tagged_sents = brown.tagged_sents(tagset=\"universal\")\n",
        "brown_tagged_sents"
      ],
      "execution_count": 4,
      "outputs": [
        {
          "output_type": "execute_result",
          "data": {
            "text/plain": [
              "[[('The', 'DET'), ('Fulton', 'NOUN'), ('County', 'NOUN'), ('Grand', 'ADJ'), ('Jury', 'NOUN'), ('said', 'VERB'), ('Friday', 'NOUN'), ('an', 'DET'), ('investigation', 'NOUN'), ('of', 'ADP'), (\"Atlanta's\", 'NOUN'), ('recent', 'ADJ'), ('primary', 'NOUN'), ('election', 'NOUN'), ('produced', 'VERB'), ('``', '.'), ('no', 'DET'), ('evidence', 'NOUN'), (\"''\", '.'), ('that', 'ADP'), ('any', 'DET'), ('irregularities', 'NOUN'), ('took', 'VERB'), ('place', 'NOUN'), ('.', '.')], [('The', 'DET'), ('jury', 'NOUN'), ('further', 'ADV'), ('said', 'VERB'), ('in', 'ADP'), ('term-end', 'NOUN'), ('presentments', 'NOUN'), ('that', 'ADP'), ('the', 'DET'), ('City', 'NOUN'), ('Executive', 'ADJ'), ('Committee', 'NOUN'), (',', '.'), ('which', 'DET'), ('had', 'VERB'), ('over-all', 'ADJ'), ('charge', 'NOUN'), ('of', 'ADP'), ('the', 'DET'), ('election', 'NOUN'), (',', '.'), ('``', '.'), ('deserves', 'VERB'), ('the', 'DET'), ('praise', 'NOUN'), ('and', 'CONJ'), ('thanks', 'NOUN'), ('of', 'ADP'), ('the', 'DET'), ('City', 'NOUN'), ('of', 'ADP'), ('Atlanta', 'NOUN'), (\"''\", '.'), ('for', 'ADP'), ('the', 'DET'), ('manner', 'NOUN'), ('in', 'ADP'), ('which', 'DET'), ('the', 'DET'), ('election', 'NOUN'), ('was', 'VERB'), ('conducted', 'VERB'), ('.', '.')], ...]"
            ]
          },
          "metadata": {},
          "execution_count": 4
        }
      ]
    },
    {
      "cell_type": "markdown",
      "metadata": {
        "id": "jSu1KqRrwC5L"
      },
      "source": [
        "Первое предложение"
      ]
    },
    {
      "cell_type": "code",
      "metadata": {
        "id": "zCHCZPlkwC5N",
        "colab": {
          "base_uri": "https://localhost:8080/"
        },
        "outputId": "c97fcefa-4c0f-4696-9b97-f97b7363c53b"
      },
      "source": [
        "brown_tagged_sents[0]"
      ],
      "execution_count": null,
      "outputs": [
        {
          "output_type": "execute_result",
          "data": {
            "text/plain": [
              "[('The', 'DET'),\n",
              " ('Fulton', 'NOUN'),\n",
              " ('County', 'NOUN'),\n",
              " ('Grand', 'ADJ'),\n",
              " ('Jury', 'NOUN'),\n",
              " ('said', 'VERB'),\n",
              " ('Friday', 'NOUN'),\n",
              " ('an', 'DET'),\n",
              " ('investigation', 'NOUN'),\n",
              " ('of', 'ADP'),\n",
              " (\"Atlanta's\", 'NOUN'),\n",
              " ('recent', 'ADJ'),\n",
              " ('primary', 'NOUN'),\n",
              " ('election', 'NOUN'),\n",
              " ('produced', 'VERB'),\n",
              " ('``', '.'),\n",
              " ('no', 'DET'),\n",
              " ('evidence', 'NOUN'),\n",
              " (\"''\", '.'),\n",
              " ('that', 'ADP'),\n",
              " ('any', 'DET'),\n",
              " ('irregularities', 'NOUN'),\n",
              " ('took', 'VERB'),\n",
              " ('place', 'NOUN'),\n",
              " ('.', '.')]"
            ]
          },
          "metadata": {},
          "execution_count": 5
        }
      ]
    },
    {
      "cell_type": "markdown",
      "metadata": {
        "id": "SIV2MiRxwC5Q"
      },
      "source": [
        "Все пары (слово-тег)"
      ]
    },
    {
      "cell_type": "markdown",
      "metadata": {
        "id": "y-ADby6LwC5V"
      },
      "source": [
        "Проанализируйте данные, с которыми Вы работаете. Используйте `nltk.FreqDist()` для подсчета частоты встречаемости тега и слова в нашем корпусе. Под частой элемента подразумевается кол-во этого элемента в корпусе."
      ]
    },
    {
      "cell_type": "code",
      "metadata": {
        "scrolled": false,
        "id": "JzRoXuKFcMZK"
      },
      "source": [
        "# Приведем слова к нижнему регистру\n",
        "brown_tagged_words = list(map(lambda x: (x[0].lower(), x[1]), brown_tagged_words))"
      ],
      "execution_count": null,
      "outputs": []
    },
    {
      "cell_type": "code",
      "metadata": {
        "id": "4giWaqXjwC5W",
        "colab": {
          "base_uri": "https://localhost:8080/"
        },
        "outputId": "cf9a4f89-0173-494e-bb7b-eefe679fb392"
      },
      "source": [
        "print('Кол-во предложений: ', len(brown_tagged_sents))\n",
        "tags = [tag for (word, tag) in brown_tagged_words] # наши теги\n",
        "words = [word for (word, tag) in brown_tagged_words] # наши слова\n",
        "\n",
        "tag_num = pd.Series(nltk.FreqDist(tags)).sort_values(ascending=False)# тег - кол-во тега в корпусе\n",
        "word_num = pd.Series(nltk.FreqDist(words)).sort_values(ascending=False) # слово - кол-во слова в корпусе"
      ],
      "execution_count": null,
      "outputs": [
        {
          "output_type": "stream",
          "name": "stdout",
          "text": [
            "Кол-во предложений:  57340\n"
          ]
        }
      ]
    },
    {
      "cell_type": "code",
      "metadata": {
        "id": "yfiPpCcLwC5Z",
        "scrolled": true,
        "colab": {
          "base_uri": "https://localhost:8080/"
        },
        "outputId": "c0d3b667-6b1a-4358-fc40-c6bd3738d4b6"
      },
      "source": [
        "tag_num"
      ],
      "execution_count": null,
      "outputs": [
        {
          "output_type": "execute_result",
          "data": {
            "text/plain": [
              "NOUN    275558\n",
              "VERB    182750\n",
              ".       147565\n",
              "ADP     144766\n",
              "DET     137019\n",
              "ADJ      83721\n",
              "ADV      56239\n",
              "PRON     49334\n",
              "CONJ     38151\n",
              "PRT      29829\n",
              "NUM      14874\n",
              "X         1386\n",
              "dtype: int64"
            ]
          },
          "metadata": {},
          "execution_count": 9
        }
      ]
    },
    {
      "cell_type": "code",
      "metadata": {
        "colab": {
          "base_uri": "https://localhost:8080/"
        },
        "id": "1_OBArRIZxOV",
        "outputId": "0c2e8f82-92ed-4dfe-daa4-df877db80148"
      },
      "source": [
        "word_num"
      ],
      "execution_count": null,
      "outputs": [
        {
          "output_type": "execute_result",
          "data": {
            "text/plain": [
              "the             69971\n",
              ",               58334\n",
              ".               49346\n",
              "of              36412\n",
              "and             28853\n",
              "                ...  \n",
              "waist-length        1\n",
              "caveat              1\n",
              "patrician           1\n",
              "unfit               1\n",
              "stupefying          1\n",
              "Length: 49815, dtype: int64"
            ]
          },
          "metadata": {},
          "execution_count": 10
        }
      ]
    },
    {
      "cell_type": "code",
      "metadata": {
        "id": "8Y1huw7TwC5b",
        "colab": {
          "base_uri": "https://localhost:8080/",
          "height": 336
        },
        "outputId": "7f104d6f-9f85-41d4-e635-4b2ace6e6b7d"
      },
      "source": [
        "plt.figure(figsize=(12, 5))\n",
        "plt.bar(tag_num.index, tag_num.values)\n",
        "plt.title(\"Tag_frequency\")\n",
        "plt.show()"
      ],
      "execution_count": null,
      "outputs": [
        {
          "output_type": "display_data",
          "data": {
            "image/png": "[encoded data removed]",
            "text/plain": [
              "<Figure size 864x360 with 1 Axes>"
            ]
          },
          "metadata": {
            "needs_background": "light"
          }
        }
      ]
    },
    {
      "cell_type": "code",
      "metadata": {
        "id": "gBbhnJsmwC5f",
        "colab": {
          "base_uri": "https://localhost:8080/"
        },
        "outputId": "ff61e229-f85e-4e6c-befb-f97b5f0e7e03"
      },
      "source": [
        "word_num[:5]"
      ],
      "execution_count": null,
      "outputs": [
        {
          "output_type": "execute_result",
          "data": {
            "text/plain": [
              "the    69971\n",
              ",      58334\n",
              ".      49346\n",
              "of     36412\n",
              "and    28853\n",
              "dtype: int64"
            ]
          },
          "metadata": {},
          "execution_count": 12
        }
      ]
    },
    {
      "cell_type": "code",
      "metadata": {
        "id": "1WmEOBMkwC5i",
        "colab": {
          "base_uri": "https://localhost:8080/",
          "height": 336
        },
        "outputId": "e8ef0341-803f-4abf-c761-2d215982dd9d"
      },
      "source": [
        "plt.figure(figsize=(12, 5))\n",
        "plt.bar(word_num.index[:10], word_num.values[:10])\n",
        "plt.title(\"Word_frequency\")\n",
        "plt.show()"
      ],
      "execution_count": null,
      "outputs": [
        {
          "output_type": "display_data",
          "data": {
            "image/png": "[encoded data removed]",
            "text/plain": [
              "<Figure size 864x360 with 1 Axes>"
            ]
          },
          "metadata": {
            "needs_background": "light"
          }
        }
      ]
    },
    {
      "cell_type": "markdown",
      "metadata": {
        "id": "n08z2PjMwC5o"
      },
      "source": [
        "### Вопрос 1:\n",
        "* Кол-во слова `cat` в корпусе?"
      ]
    },
    {
      "cell_type": "code",
      "metadata": {
        "id": "jhB7di3YwC5p",
        "colab": {
          "base_uri": "https://localhost:8080/"
        },
        "outputId": "59c54239-a691-4c4f-9979-63af532e2ba7"
      },
      "source": [
        "word_num['cat']"
      ],
      "execution_count": null,
      "outputs": [
        {
          "output_type": "execute_result",
          "data": {
            "text/plain": [
              "23"
            ]
          },
          "metadata": {},
          "execution_count": 14
        }
      ]
    },
    {
      "cell_type": "markdown",
      "metadata": {
        "id": "UsCfVLsewC5s"
      },
      "source": [
        "### Вопрос 2:\n",
        "* Самое популярное слово с самым популярным тегом? <br>(*сначала выбираете слова с самым популярным тегом, а затем выбираете самое популярное слово из уже выбранных*)"
      ]
    },
    {
      "cell_type": "code",
      "metadata": {
        "id": "oio-XBYkwC5t"
      },
      "source": [
        "# самый популярный тег NOUN. найдем самый популярное существительное\n",
        "noun_words = [word for (word, tag) in brown_tagged_words if tag == 'NOUN']\n",
        "noun_word_num = pd.Series(nltk.FreqDist(noun_words)).sort_values(ascending=False)"
      ],
      "execution_count": null,
      "outputs": []
    },
    {
      "cell_type": "code",
      "metadata": {
        "colab": {
          "base_uri": "https://localhost:8080/"
        },
        "id": "E_UEUNG8ierf",
        "outputId": "c3a3c458-2d3c-4e0e-c83c-70901f8edaa0"
      },
      "source": [
        "noun_word_num[:10]"
      ],
      "execution_count": null,
      "outputs": [
        {
          "output_type": "execute_result",
          "data": {
            "text/plain": [
              "time      1597\n",
              "man       1203\n",
              "af         995\n",
              "years      949\n",
              "way        899\n",
              "people     845\n",
              "mr.        844\n",
              "state      787\n",
              "world      787\n",
              "men        763\n",
              "dtype: int64"
            ]
          },
          "metadata": {},
          "execution_count": 16
        }
      ]
    },
    {
      "cell_type": "markdown",
      "metadata": {
        "id": "HJ1PJr-Ga1pr"
      },
      "source": [
        "Итого значит ответ на второй вопрос слово \"time\""
      ]
    },
    {
      "cell_type": "markdown",
      "metadata": {
        "id": "K-OGc1rSwC5x"
      },
      "source": [
        "Впоследствии обучение моделей может занимать слишком много времени, работайте с подвыборкой, например, только текстами определенных категорий."
      ]
    },
    {
      "cell_type": "markdown",
      "metadata": {
        "id": "Eb7MhxVRwC5y"
      },
      "source": [
        "Категории нашего корпуса:"
      ]
    },
    {
      "cell_type": "code",
      "metadata": {
        "id": "GSiVcP1TwC51",
        "colab": {
          "base_uri": "https://localhost:8080/"
        },
        "outputId": "8cc5c896-14b1-4df9-ee1c-0d62337ce520"
      },
      "source": [
        "brown.categories()"
      ],
      "execution_count": null,
      "outputs": [
        {
          "output_type": "execute_result",
          "data": {
            "text/plain": [
              "['adventure',\n",
              " 'belles_lettres',\n",
              " 'editorial',\n",
              " 'fiction',\n",
              " 'government',\n",
              " 'hobbies',\n",
              " 'humor',\n",
              " 'learned',\n",
              " 'lore',\n",
              " 'mystery',\n",
              " 'news',\n",
              " 'religion',\n",
              " 'reviews',\n",
              " 'romance',\n",
              " 'science_fiction']"
            ]
          },
          "metadata": {},
          "execution_count": 17
        }
      ]
    },
    {
      "cell_type": "markdown",
      "metadata": {
        "id": "MjSlFatJwC53"
      },
      "source": [
        "Будем работать с категорией humor"
      ]
    },
    {
      "cell_type": "markdown",
      "metadata": {
        "id": "_f1rl5x0wC55"
      },
      "source": [
        "Cделайте случайное разбиение выборки на обучение и контроль в отношении 9:1. "
      ]
    },
    {
      "cell_type": "code",
      "metadata": {
        "id": "GX9t-1qowC58",
        "colab": {
          "base_uri": "https://localhost:8080/"
        },
        "outputId": "1b6e0a98-d7ff-4775-ec80-470c026595c5"
      },
      "source": [
        "brown_tagged_sents = brown.tagged_sents(tagset=\"universal\", categories='humor')\n",
        "# Приведем слова к нижнему регистру\n",
        "my_brown_tagged_sents = []\n",
        "for sent in brown_tagged_sents:\n",
        "    my_brown_tagged_sents.append(list(map(lambda x: (x[0].lower(), x[1]), sent)))\n",
        "my_brown_tagged_sents = np.array(my_brown_tagged_sents)\n",
        "\n",
        "from sklearn.model_selection import train_test_split\n",
        "train_sents, test_sents = train_test_split(my_brown_tagged_sents, random_state=0, test_size=0.1)"
      ],
      "execution_count": null,
      "outputs": [
        {
          "output_type": "stream",
          "name": "stderr",
          "text": [
            "/usr/local/lib/python3.7/dist-packages/ipykernel_launcher.py:6: VisibleDeprecationWarning: Creating an ndarray from ragged nested sequences (which is a list-or-tuple of lists-or-tuples-or ndarrays with different lengths or shapes) is deprecated. If you meant to do this, you must specify 'dtype=object' when creating the ndarray\n",
            "  \n"
          ]
        }
      ]
    },
    {
      "cell_type": "code",
      "metadata": {
        "id": "pXkVwUjYwC5-",
        "colab": {
          "base_uri": "https://localhost:8080/"
        },
        "outputId": "761d5d3f-de43-4a7a-fc62-4aefc63c4848"
      },
      "source": [
        "len(train_sents)"
      ],
      "execution_count": null,
      "outputs": [
        {
          "output_type": "execute_result",
          "data": {
            "text/plain": [
              "947"
            ]
          },
          "metadata": {},
          "execution_count": 59
        }
      ]
    },
    {
      "cell_type": "code",
      "metadata": {
        "id": "JQMjzJ2YwC6C",
        "colab": {
          "base_uri": "https://localhost:8080/"
        },
        "outputId": "c962b6d5-b855-485b-8e37-16237dddf702"
      },
      "source": [
        "len(test_sents)"
      ],
      "execution_count": null,
      "outputs": [
        {
          "output_type": "execute_result",
          "data": {
            "text/plain": [
              "106"
            ]
          },
          "metadata": {},
          "execution_count": 60
        }
      ]
    },
    {
      "cell_type": "code",
      "metadata": {
        "colab": {
          "base_uri": "https://localhost:8080/"
        },
        "id": "Wdl0op_nUj_m",
        "outputId": "bb3eba3b-2d78-48fb-c0e6-017d9b05466e"
      },
      "source": [
        "test_sents"
      ],
      "execution_count": null,
      "outputs": [
        {
          "output_type": "execute_result",
          "data": {
            "text/plain": [
              "array([list([('``', '.'), ('imagine', 'VERB'), ('being', 'VERB'), ('able', 'ADJ'), ('to', 'PRT'), ('laugh', 'VERB'), ('and', 'CONJ'), ('wink', 'VERB'), ('when', 'ADV'), (\"you're\", 'PRT'), ('like', 'ADP'), ('the', 'DET'), ('top', 'ADJ'), ('part', 'NOUN'), ('of', 'ADP'), ('that', 'DET'), ('picture', 'NOUN'), ('frame', 'NOUN'), ('at', 'ADP'), ('home', 'NOUN'), (\"''\", '.'), (',', '.'), ('one', 'NUM'), ('of', 'ADP'), ('them', 'PRON'), ('said', 'VERB'), ('.', '.')]),\n",
              "       list([('``', '.'), ('just', 'ADV'), ('you', 'PRON'), ('wait', 'VERB'), (\"''\", '.'), (',', '.'), ('said', 'VERB'), ('arlene', 'NOUN'), ('again', 'ADV'), (',', '.'), ('as', 'ADP'), ('though', 'ADP'), ('she', 'PRON'), ('were', 'VERB'), ('discovering', 'VERB'), ('the', 'DET'), ('pleasantly', 'ADV'), ('tingling', 'VERB'), ('insinuations', 'NOUN'), ('of', 'ADP'), ('that', 'DET'), ('handy', 'ADJ'), ('little', 'ADJ'), ('sturdy', 'ADJ'), ('statement', 'NOUN'), ('.', '.')]),\n",
              "       list([('as', 'ADP'), ('we', 'PRON'), ('find', 'VERB'), ('out', 'PRT'), ('at', 'ADP'), ('the', 'DET'), ('end', 'NOUN'), (',', '.'), ('it', 'PRON'), ('is', 'VERB'), ('not', 'ADV'), ('the', 'DET'), ('stool', 'NOUN'), ('(', '.'), ('symbolizing', 'VERB'), ('doris', 'NOUN'), (',', '.'), ('therefore', 'ADV'), ('the', 'DET'), ('english', 'NOUN'), (')', '.'), ('that', 'ADP'), ('he', 'PRON'), ('is', 'VERB'), ('punishing', 'VERB'), ('but', 'CONJ'), ('the', 'DET'), ('piece', 'NOUN'), ('of', 'ADP'), ('venetian', 'ADJ'), ('blind', 'NOUN'), ('.', '.')]),\n",
              "       list([('as', 'ADP'), ('he', 'PRON'), ('leads', 'VERB'), ('the', 'DET'), ('neurenschatz', 'NOUN'), ('skolkau', 'NOUN'), ('orchestra', 'NOUN'), (',', '.'), ('schlek', 'NOUN'), ('gives', 'VERB'), ('a', 'DET'), ('tremendously', 'ADV'), ('inspired', 'VERB'), ('performance', 'NOUN'), ('of', 'ADP'), ('both', 'DET'), ('the', 'DET'), ('baslot', 'NOUN'), ('and', 'CONJ'), ('rattzhenfuut', 'NOUN'), ('concertos', 'NOUN'), (',', '.'), ('including', 'ADP'), ('the', 'DET'), ('controversial', 'ADJ'), ('tschilwyk', 'NOUN'), ('cadenza', 'NOUN'), (',', '.'), ('which', 'DET'), ('was', 'VERB'), ('included', 'VERB'), ('at', 'ADP'), ('the', 'DET'), (\"conductor's\", 'NOUN'), ('insistence', 'NOUN'), ('.', '.')]),\n",
              "       list([('not', 'ADV'), ('without', 'ADP'), ('good', 'ADJ'), ('reason', 'NOUN'), ('has', 'VERB'), ('the', 'DET'), ('anatomical', 'NOUN'), ('been', 'VERB'), ('called', 'VERB'), ('jocular', 'ADJ'), ('journalese', 'NOUN'), ('.', '.')]),\n",
              "       list([('at', 'ADP'), ('first', 'ADV'), ('barco', 'NOUN'), ('was', 'VERB'), ('evasive', 'ADJ'), ('and', 'CONJ'), ('shifty', 'ADJ'), ('.', '.')]),\n",
              "       list([('welch', 'NOUN'), ('summoned', 'VERB'), ('jail', 'NOUN'), ('officials', 'NOUN'), ('to', 'ADP'), (\"barco's\", 'NOUN'), ('cell', 'NOUN'), ('.', '.')]),\n",
              "       list([('``', '.'), (\"who's\", 'PRT'), ('in', 'ADP'), ('it', 'PRON'), (\"''\", '.'), ('?', '.'), ('?', '.')]),\n",
              "       list([('``', '.'), ('the', 'DET'), ('world', 'NOUN'), ('that', 'PRON'), ('was', 'VERB'), ('once', 'ADV'), ('foot-loose', 'ADJ'), ('and', 'CONJ'), ('fancy-free', 'ADJ'), (\"''\", '.'), (',', '.'), ('he', 'PRON'), ('said', 'VERB'), (',', '.'), ('``', '.'), ('has', 'VERB'), ('now', 'ADV'), ('become', 'VERB'), ('screw-loose', 'ADJ'), ('and', 'CONJ'), ('frenzy-free', 'ADJ'), ('.', '.')]),\n",
              "       list([('he', 'PRON'), ('kissed', 'VERB'), ('her', 'PRON'), ('back', 'ADV'), ('.', '.')]),\n",
              "       list([('letch', 'NOUN'), ('had', 'VERB'), ('returned', 'VERB'), ('from', 'ADP'), ('his', 'DET'), ('debacle', 'NOUN'), ('unrepentant', 'ADJ'), ('and', 'CONJ'), ('more', 'ADV'), ('badly', 'ADV'), ('behaved', 'VERB'), ('than', 'ADP'), ('before', 'ADV'), ('.', '.')]),\n",
              "       list([('inscribed', 'VERB'), ('around', 'ADP'), ('its', 'DET'), ('base', 'NOUN'), ('is', 'VERB'), ('a', 'DET'), ('charm', 'NOUN'), ('in', 'ADP'), ('balinese', 'NOUN'), (',', '.'), ('a', 'DET'), ('dialect', 'NOUN'), ('i', 'PRON'), ('take', 'VERB'), ('it', 'PRON'), ('you', 'PRON'), (\"don't\", 'VERB'), ('comprehend', 'VERB'), ('.', '.')]),\n",
              "       list([('she', 'PRON'), ('patronized', 'VERB'), ('greenwich', 'NOUN'), ('village', 'NOUN'), ('artists', 'NOUN'), ('for', 'ADP'), ('awhile', 'ADV'), (',', '.'), ('then', 'ADV'), ('put', 'VERB'), ('some', 'DET'), ('money', 'NOUN'), ('into', 'ADP'), ('a', 'DET'), ('broadway', 'NOUN'), ('show', 'NOUN'), ('which', 'DET'), ('was', 'VERB'), ('successful', 'ADJ'), ('(', '.'), ('terrible', 'ADJ'), (',', '.'), ('but', 'CONJ'), ('successful', 'ADJ'), (')', '.'), ('.', '.')]),\n",
              "       list([('sometimes', 'ADV'), (',', '.'), ('as', 'ADP'), ('at', 'ADP'), ('this', 'DET'), ('juncture', 'NOUN'), (',', '.'), ('he', 'PRON'), ('did', 'VERB'), ('not', 'ADV'), ('.', '.')]),\n",
              "       list([('however', 'ADV'), (',', '.'), ('such', 'PRT'), ('a', 'DET'), ('hotbed', 'NOUN'), ('of', 'ADP'), ('gossip', 'NOUN'), ('had', 'VERB'), ('grown', 'VERB'), ('up', 'PRT'), ('during', 'ADP'), ('the', 'DET'), ('trial', 'NOUN'), (',', '.'), ('that', 'ADP'), ('every', 'DET'), ('precaution', 'NOUN'), ('had', 'VERB'), ('to', 'PRT'), ('be', 'VERB'), ('taken', 'VERB'), ('to', 'PRT'), ('keep', 'VERB'), ('my', 'DET'), ('visit', 'NOUN'), ('from', 'ADP'), ('being', 'VERB'), ('whispered', 'VERB'), ('to', 'ADP'), ('the', 'DET'), ('world', 'NOUN'), (',', '.'), ('society', 'NOUN'), (',', '.'), ('and', 'CONJ'), ('even', 'ADV'), (',', '.'), ('alas', 'PRT'), (',', '.'), ('to', 'ADP'), ('my', 'DET'), ('own', 'ADJ'), ('mother', 'NOUN'), ('.', '.')]),\n",
              "       list([('then', 'ADV'), (',', '.'), ('arlene', 'NOUN'), ('threw', 'VERB'), ('herself', 'PRON'), ('backwards', 'ADV'), ('and', 'CONJ'), ('wiggled', 'VERB'), ('in', 'ADP'), ('a', 'DET'), ('way', 'NOUN'), ('that', 'PRON'), ('was', 'VERB'), ('just', 'ADV'), ('wonderful', 'ADJ'), ('.', '.')]),\n",
              "       list([('she', 'PRON'), ('was', 'VERB'), ('rollickingly', 'ADV'), ('happy', 'ADJ'), ('.', '.')]),\n",
              "       list([('they', 'PRON'), ('wanted', 'VERB'), ('to', 'PRT'), ('touch', 'VERB'), ('the', 'DET'), ('mystery', 'NOUN'), ('.', '.')]),\n",
              "       list([('the', 'DET'), ('next', 'ADJ'), ('time', 'NOUN'), ('we', 'PRON'), ('saw', 'VERB'), ('him', 'PRON'), (',', '.'), ('he', 'PRON'), ('was', 'VERB'), ('a', 'DET'), ('changed', 'VERB'), ('person', 'NOUN'), (';', '.'), (';', '.')]),\n",
              "       list([('the', 'DET'), ('grocery', 'NOUN'), ('the', 'DET'), ('youth', 'NOUN'), ('worked', 'VERB'), ('for', 'ADP'), ('soon', 'ADV'), ('tired', 'VERB'), ('of', 'ADP'), ('his', 'DET'), ('depressing', 'ADJ'), ('effect', 'NOUN'), ('on', 'ADP'), ('customers', 'NOUN'), (',', '.'), ('most', 'ADJ'), ('of', 'ADP'), ('whom', 'PRON'), ('were', 'VERB'), ('sufficiently', 'ADV'), ('neurotic', 'ADJ'), ('without', 'ADP'), ('the', 'DET'), ('threat', 'NOUN'), ('of', 'ADP'), ('incubi', 'NOUN'), (',', '.'), ('and', 'CONJ'), ('let', 'VERB'), ('him', 'PRON'), ('go', 'VERB'), ('.', '.')]),\n",
              "       list([('my', 'DET'), ('object', 'NOUN'), (',', '.'), ('rather', 'ADV'), (',', '.'), ('is', 'VERB'), ('to', 'PRT'), ('alert', 'VERB'), ('you', 'PRON'), ('to', 'ADP'), ('an', 'DET'), ('aspect', 'NOUN'), ('or', 'CONJ'), ('two', 'NUM'), ('of', 'ADP'), ('the', 'DET'), ('affair', 'NOUN'), ('that', 'PRON'), ('could', 'VERB'), ('have', 'VERB'), ('the', 'DET'), ('gravest', 'ADJ'), ('implications', 'NOUN'), ('for', 'ADP'), ('you', 'PRON'), (',', '.'), ('far', 'ADV'), ('beyond', 'ADP'), ('the', 'DET'), ('legal', 'ADJ'), ('sanctions', 'NOUN'), ('society', 'NOUN'), ('might', 'VERB'), ('inflict', 'VERB'), ('.', '.')]),\n",
              "       list([('similarly', 'ADV'), (',', '.'), ('when', 'ADV'), ('a', 'DET'), ('reporter', 'NOUN'), ('once', 'ADV'), ('questioned', 'VERB'), ('lincoln', 'NOUN'), ('in', 'ADP'), ('cryptic', 'ADJ'), ('fashion', 'NOUN'), (',', '.'), ('lincoln', 'NOUN'), ('refused', 'VERB'), ('to', 'PRT'), ('make', 'VERB'), ('any', 'DET'), ('further', 'ADJ'), ('statement', 'NOUN'), ('.', '.')]),\n",
              "       list([('their', 'DET'), ('curiosity', 'NOUN'), ('went', 'VERB'), ('happily', 'ADV'), ('out', 'ADP'), ('of', 'ADP'), ('bounds', 'NOUN'), ('.', '.')]),\n",
              "       list([('``', '.'), ('the', 'DET'), ('heart', 'NOUN'), (\"''\", '.'), (',', '.'), ('i', 'PRON'), ('said', 'VERB'), ('finally', 'ADV'), (',', '.'), ('``', '.'), ('is', 'VERB'), ('now', 'ADV'), ('either', 'CONJ'), ('in', 'ADP'), ('the', 'DET'), ('throat', 'NOUN'), ('or', 'CONJ'), ('the', 'DET'), ('mouth', 'NOUN'), ('or', 'CONJ'), ('the', 'DET'), ('stomach', 'NOUN'), ('or', 'CONJ'), ('the', 'DET'), ('shoes', 'NOUN'), ('.', '.')]),\n",
              "       list([('no', 'ADV'), (',', '.'), ('he', 'PRON'), (\"didn't\", 'VERB'), ('know', 'VERB'), ('of', 'ADP'), ('any', 'DET'), ('handyman-carpenter', 'NOUN'), ('.', '.')]),\n",
              "       list([('marcellus', 'NOUN'), (',', '.'), ('the', 'DET'), ('hero', 'NOUN'), (',', '.'), ('is', 'VERB'), ('beset', 'VERB'), ('from', 'ADP'), ('all', 'PRT'), ('sides', 'NOUN'), ('by', 'ADP'), ('the', 'DET'), ('problems', 'NOUN'), ('of', 'ADP'), ('approaching', 'VERB'), ('manhood', 'NOUN'), ('.', '.')]),\n",
              "       list([('but', 'CONJ'), ('it', 'PRON'), ('was', 'VERB'), ('small', 'ADJ'), ('consolation', 'NOUN'), ('.', '.')]),\n",
              "       list([('mr.', 'NOUN'), ('crombie', 'NOUN'), ('poked', 'VERB'), ('at', 'ADP'), ('it', 'PRON'), ('gingerly', 'ADV'), ('with', 'ADP'), ('his', 'DET'), ('foot', 'NOUN'), ('.', '.')]),\n",
              "       list([('but', 'CONJ'), ('they', 'PRON'), ('kept', 'VERB'), ('on', 'ADP'), ('clapping', 'VERB'), ('for', 'ADP'), ('a', 'DET'), ('long', 'ADJ'), (',', '.'), ('long', 'ADJ'), ('time', 'NOUN'), ('.', '.')]),\n",
              "       list([('the', 'DET'), ('first', 'ADJ'), ('one', 'NOUN'), ('said', 'VERB'), (',', '.'), ('``', '.'), ('he', 'PRON'), ('sure', 'ADV'), ('does', 'VERB'), ('shake', 'VERB'), ('.', '.')]),\n",
              "       list([('this', 'DET'), ('clergyman', 'NOUN'), ('should', 'VERB'), ('have', 'VERB'), ('referred', 'VERB'), ('to', 'ADP'), (\"shakespeare's\", 'NOUN'), ('dictum', 'NOUN'), (':', '.'), ('``', '.'), ('so-so', 'ADV'), ('is', 'VERB'), ('a', 'DET'), ('good', 'ADJ'), (',', '.'), ('very', 'ADV'), ('good', 'ADJ'), (',', '.'), ('very', 'ADV'), ('excellent', 'ADJ'), ('maxim', 'NOUN'), ('.', '.')]),\n",
              "       list([('evenings', 'NOUN'), (',', '.'), ('he', 'PRON'), ('was', 'VERB'), ('frequently', 'ADV'), ('to', 'PRT'), ('be', 'VERB'), ('seen', 'VERB'), ('at', 'ADP'), ('restaurants', 'NOUN'), ('like', 'ADP'), ('enrico', 'NOUN'), ('&', 'CONJ'), (\"paglieri's\", 'NOUN'), ('or', 'CONJ'), (\"peter's\", 'NOUN'), ('backyard', 'NOUN'), ('drunkenly', 'ADV'), ('donning', 'VERB'), (\"ladies'\", 'NOUN'), ('hats', 'NOUN'), ('and', 'CONJ'), ('singing', 'VERB'), ('``', '.'), ('o', 'X'), ('sole', 'X'), ('mio', 'X'), (\"''\", '.'), ('.', '.')]),\n",
              "       list([('the', 'DET'), ('girl', 'NOUN'), ('nodded', 'VERB'), ('understandingly', 'ADV'), ('.', '.')]),\n",
              "       list([('``', '.'), ('you', 'PRON'), ('what', 'DET'), (\"''\", '.'), ('?', '.'), ('?', '.')]),\n",
              "       list([('for', 'ADP'), ('it', 'PRON'), ('seems', 'VERB'), ('that', 'ADP'), ('barco', 'NOUN'), (',', '.'), ('fancying', 'VERB'), ('himself', 'PRON'), ('a', 'DET'), (\"ladies'\", 'NOUN'), ('man', 'NOUN'), ('(', '.'), ('and', 'CONJ'), ('why', 'ADV'), ('not', 'ADV'), (',', '.'), ('after', 'ADP'), ('seven', 'NUM'), ('marriages', 'NOUN'), ('?', '.'), ('?', '.')]),\n",
              "       list([('i', 'PRON'), ('studied', 'VERB'), ('welch', 'NOUN'), ('closely', 'ADV'), ('as', 'ADP'), ('the', 'DET'), ('trial', 'NOUN'), ('progressed', 'VERB'), ('for', 'ADP'), ('any', 'DET'), ('hint', 'NOUN'), ('which', 'DET'), ('might', 'VERB'), ('give', 'VERB'), ('me', 'PRON'), ('a', 'DET'), ('lead', 'NOUN'), ('as', 'ADP'), ('to', 'ADP'), ('how', 'ADV'), ('he', 'PRON'), ('might', 'VERB'), ('be', 'VERB'), ('thwarted', 'VERB'), ('.', '.')]),\n",
              "       list([('while', 'ADP'), ('mr.', 'NOUN'), ('blatz', 'NOUN'), ('was', 'VERB'), ('putting', 'VERB'), ('up', 'PRT'), ('the', 'DET'), ('pegboards', 'NOUN'), ('and', 'CONJ'), ('starting', 'VERB'), ('the', 'DET'), ('workbench', 'NOUN'), (',', '.'), ('mr.', 'NOUN'), ('crombie', 'NOUN'), ('told', 'VERB'), ('him', 'PRON'), ('of', 'ADP'), ('this', 'DET'), ('idea', 'NOUN'), ('about', 'ADP'), ('paneling', 'NOUN'), ('the', 'DET'), ('whole', 'ADJ'), ('end', 'NOUN'), ('of', 'ADP'), ('the', 'DET'), ('cellar', 'NOUN'), ('.', '.')]),\n",
              "       list([('``', '.'), ('the', 'DET'), ('other', 'ADJ'), ('day', 'NOUN'), ('arnold', 'NOUN'), ('toynbee', 'NOUN'), ('spoke', 'VERB'), ('against', 'ADP'), ('the', 'DET'), ('inveterate', 'ADJ'), ('tendency', 'NOUN'), ('of', 'ADP'), ('our', 'DET'), ('species', 'NOUN'), ('to', 'PRT'), ('believe', 'VERB'), ('in', 'ADP'), ('the', 'DET'), ('uniqueness', 'NOUN'), ('of', 'ADP'), ('its', 'DET'), ('religions', 'NOUN'), (',', '.'), ('its', 'DET'), ('ideologies', 'NOUN'), (',', '.'), ('and', 'CONJ'), ('its', 'DET'), ('virtually', 'ADV'), ('everything', 'NOUN'), ('else', 'ADV'), ('.', '.')]),\n",
              "       list([('``', '.'), ('we', 'PRON'), ('have', 'VERB'), ('good', 'ADJ'), ('times', 'NOUN'), (\"''\", '.'), ('.', '.')]),\n",
              "       list([('another', 'DET'), ('case', 'NOUN'), ('involves', 'VERB'), ('a', 'DET'), ('newspaper', 'NOUN'), ('reporter', 'NOUN'), ('who', 'PRON'), ('tripped', 'VERB'), ('up', 'PRT'), ('a', 'DET'), ('politician', 'NOUN'), ('.', '.')]),\n",
              "       list([('her', 'DET'), ('reply', 'NOUN'), ('stung', 'VERB'), ('me', 'PRON'), (',', '.'), ('but', 'CONJ'), ('this', 'DET'), ('was', 'VERB'), ('too', 'ADV'), ('important', 'ADJ'), ('to', 'PRT'), ('let', 'VERB'), ('my', 'DET'), ('hurt', 'NOUN'), ('make', 'VERB'), ('any', 'DET'), ('difference', 'NOUN'), ('.', '.')]),\n",
              "       list([('like', 'ADP'), ('almost', 'ADV'), ('everybody', 'NOUN'), ('else', 'ADV'), (',', '.'), ('he', 'PRON'), ('confused', 'VERB'), ('the', 'DET'), ('heart', 'NOUN'), (',', '.'), ('both', 'DET'), ('as', 'ADP'), ('organ', 'NOUN'), ('and', 'CONJ'), ('as', 'ADP'), ('symbol', 'NOUN'), (',', '.'), ('with', 'ADP'), ('the', 'DET'), ('disturbed', 'VERB'), ('psyche', 'NOUN'), (',', '.'), ('the', 'DET'), ('deranged', 'VERB'), ('glands', 'NOUN'), (',', '.'), ('and', 'CONJ'), ('the', 'DET'), ('jumpy', 'ADJ'), ('central', 'ADJ'), ('nervous', 'ADJ'), ('system', 'NOUN'), ('.', '.')]),\n",
              "       list([('``', '.'), ('there', 'ADV'), (\"''\", '.'), (',', '.'), ('said', 'VERB'), ('mr.', 'NOUN'), ('mills', 'NOUN'), ('.', '.')]),\n",
              "       list([('it', 'PRON'), ('read', 'VERB'), (':', '.'), ('``', '.'), ('shot', 'VERB'), ('in', 'ADP'), ('the', 'DET'), ('lumbar', 'ADJ'), ('region', 'NOUN'), (\"''\", '.'), ('.', '.')]),\n",
              "       list([('but', 'CONJ'), ('that', 'DET'), (\"wasn't\", 'VERB'), ('very', 'ADV'), ('funny', 'ADJ'), (',', '.'), ('either', 'ADV'), ('.', '.')]),\n",
              "       list([('a', 'DET'), (\"bee's\", 'NOUN'), ('place', 'NOUN'), ('is', 'VERB'), ('in', 'ADP'), ('the', 'DET'), ('hive', 'NOUN'), (\"''\", '.'), ('.', '.')]),\n",
              "       list([('a', 'DET'), ('man', 'NOUN'), ('of', 'ADP'), ('vaulting', 'VERB'), ('ambition', 'NOUN'), (',', '.'), ('with', 'ADP'), ('one', 'NUM'), ('eye', 'NOUN'), ('on', 'ADP'), ('the', 'DET'), ('mayorship', 'NOUN'), ('of', 'ADP'), ('los', 'NOUN'), ('angeles', 'NOUN'), (',', '.'), ('nothing', 'NOUN'), ('ever', 'ADV'), ('escaped', 'VERB'), ('him', 'PRON'), ('which', 'DET'), ('might', 'VERB'), ('possibly', 'ADV'), ('lead', 'VERB'), ('to', 'ADP'), ('personal', 'ADJ'), ('publicity', 'NOUN'), ('.', '.')]),\n",
              "       list([('the', 'DET'), ('attempt', 'NOUN'), ('had', 'VERB'), ('failed', 'VERB'), ('because', 'ADP'), (',', '.'), ('when', 'ADV'), ('endeavoring', 'VERB'), ('to', 'PRT'), ('cut', 'VERB'), ('his', 'DET'), ('wrists', 'NOUN'), (',', '.'), ('this', 'DET'), ('murderer', 'NOUN'), ('of', 'ADP'), ('seven', 'NUM'), ('women', 'NOUN'), ('had', 'VERB'), ('fainted', 'VERB'), ('at', 'ADP'), ('the', 'DET'), ('sight', 'NOUN'), ('of', 'ADP'), ('blood', 'NOUN'), ('.', '.')]),\n",
              "       list([('``', '.'), (\"i've\", 'PRT'), ('been', 'VERB'), ('waiting', 'VERB'), ('to', 'PRT'), ('get', 'VERB'), ('these', 'DET'), ('things', 'NOUN'), ('done', 'VERB'), ('for', 'ADP'), ('months', 'NOUN'), (\"''\", '.'), (',', '.'), ('she', 'PRON'), ('said', 'VERB'), ('.', '.')]),\n",
              "       list([('she', 'PRON'), ('laughed', 'VERB'), ('a', 'DET'), ('little', 'ADJ'), ('and', 'CONJ'), ('tossed', 'VERB'), ('the', 'DET'), ('dregs', 'NOUN'), ('rakishly', 'ADV'), ('around', 'ADV'), ('in', 'ADP'), ('her', 'DET'), ('glass', 'NOUN'), ('.', '.')]),\n",
              "       list([('although', 'ADP'), ('the', 'DET'), ('play', 'NOUN'), ('does', 'VERB'), ('show', 'VERB'), ('a', 'DET'), ('certain', 'ADJ'), ('structural', 'ADJ'), ('amateurishness', 'NOUN'), ('(', '.'), ('there', 'PRT'), ('are', 'VERB'), ('eleven', 'NUM'), ('acts', 'NOUN'), ('varying', 'VERB'), ('in', 'ADP'), ('length', 'NOUN'), ('from', 'ADP'), ('twenty-five', 'NUM'), ('seconds', 'NOUN'), ('to', 'ADP'), ('an', 'DET'), ('hour', 'NOUN'), ('and', 'CONJ'), ('a', 'DET'), ('half', 'PRT'), (')', '.'), (',', '.'), ('the', 'DET'), ('statement', 'NOUN'), ('it', 'PRON'), ('makes', 'VERB'), ('concerning', 'ADP'), ('the', 'DET'), ('ceaseless', 'ADJ'), ('yearning', 'NOUN'), ('and', 'CONJ'), ('searching', 'VERB'), ('of', 'ADP'), ('youth', 'NOUN'), ('is', 'VERB'), ('profound', 'ADJ'), ('and', 'CONJ'), ('worthy', 'ADJ'), ('of', 'ADP'), ('our', 'DET'), ('attention', 'NOUN'), ('.', '.')]),\n",
              "       list([('``', '.'), ('such', 'ADJ'), ('as', 'ADP'), (\"''\", '.'), ('?', '.'), ('?', '.')]),\n",
              "       list([('the', 'DET'), ('comic', 'ADJ'), ('indefinite', 'NOUN'), ('comprises', 'VERB'), ('an', 'DET'), ('extensive', 'ADJ'), ('class', 'NOUN'), ('of', 'ADP'), ('comedy', 'NOUN'), ('.', '.')]),\n",
              "       list([('i', 'PRON'), ('now', 'ADV'), ('felt', 'VERB'), ('it', 'PRON'), ('wiser', 'ADJ'), ('to', 'PRT'), ('keep', 'VERB'), ('baby-dear', 'NOUN'), ('in', 'ADP'), ('school', 'NOUN'), ('and', 'CONJ'), ('--', '.'), ('during', 'ADP'), ('the', 'DET'), ('summers', 'NOUN'), ('--', '.'), ('at', 'ADP'), ('a', 'DET'), ('camp', 'NOUN'), ('run', 'VERB'), ('by', 'ADP'), ('the', 'DET'), ('society', 'NOUN'), ('of', 'ADP'), ('friends', 'NOUN'), ('all', 'PRT'), ('year', 'NOUN'), ('around', 'ADV'), ('.', '.')]),\n",
              "       list([('i', 'PRON'), ('hated', 'VERB'), ('being', 'VERB'), ('dragged', 'VERB'), ('into', 'ADP'), ('the', 'DET'), ('salons', 'NOUN'), ('of', 'ADP'), ('these', 'DET'), ('aristocrats', 'NOUN'), ('.', '.')]),\n",
              "       list([('the', 'DET'), ('latest', 'ADJ'), ('and', 'CONJ'), (',', '.'), ('significantly', 'ADV'), (',', '.'), ('greatest', 'ADJ'), ('fruit', 'NOUN'), ('of', 'ADP'), ('this', 'DET'), ('theatrical', 'ADJ'), ('vine', 'NOUN'), ('is', 'VERB'), ('the', 'DET'), (',', '.'), ('an', 'DET'), ('adaptation', 'NOUN'), ('of', 'ADP'), (\"basho's\", 'NOUN'), ('classic', 'ADJ'), ('frog-haiku', 'NOUN'), ('by', 'ADP'), ('roger', 'NOUN'), ('entwhistle', 'NOUN'), (',', '.'), ('a', 'DET'), ('former', 'ADJ'), ('university', 'NOUN'), ('of', 'ADP'), ('maryland', 'NOUN'), ('chemistry', 'NOUN'), ('instructor', 'NOUN'), ('.', '.')]),\n",
              "       list([('for', 'ADP'), ('the', 'DET'), ('last', 'ADJ'), ('two', 'NUM'), ('years', 'NOUN'), (',', '.'), ('this', 'DET'), ('frontier', 'NOUN'), ('of', 'ADP'), ('the', 'DET'), ('arts', 'NOUN'), ('has', 'VERB'), ('produced', 'VERB'), ('a', 'DET'), ('number', 'NOUN'), ('of', 'ADP'), ('so-called', 'ADJ'), ('``', '.'), ('non-dramas', 'NOUN'), (\"''\", '.'), ('which', 'DET'), ('have', 'VERB'), ('left', 'VERB'), ('indelible', 'ADJ'), (',', '.'), ('bittersweet', 'ADJ'), ('impressions', 'NOUN'), ('on', 'ADP'), ('the', 'DET'), ('psyche', 'NOUN'), ('of', 'ADP'), ('this', 'DET'), ('veteran', 'NOUN'), ('theatregoer', 'NOUN'), ('.', '.')]),\n",
              "       list([('actually', 'ADV'), (',', '.'), ('it', 'PRON'), ('was', 'VERB'), ('inaudible', 'ADJ'), ('to', 'ADP'), ('anyone', 'NOUN'), ('not', 'ADV'), ('expecting', 'VERB'), ('it', 'PRON'), ('.', '.')]),\n",
              "       list([('one', 'NUM'), ('woman', 'NOUN'), ('--', '.'), ('she', 'PRON'), ('could', 'VERB'), ('have', 'VERB'), ('been', 'VERB'), ('either', 'CONJ'), ('english', 'ADJ'), ('or', 'CONJ'), ('american', 'ADJ'), ('--', '.'), ('went', 'VERB'), ('up', 'PRT'), ('to', 'ADP'), ('him', 'PRON'), ('and', 'CONJ'), ('said', 'VERB'), (',', '.'), (\"'\", '.'), ('but', 'CONJ'), ('you', 'PRON'), ('are', 'VERB'), ('the', 'DET'), ('foreigners', 'NOUN'), (\"'\", '.'), (\"''\", '.'), ('.', '.')]),\n",
              "       list([('for', 'ADP'), ('example', 'NOUN'), (',', '.'), ('when', 'ADV'), ('the', 'DET'), ('film', 'NOUN'), ('is', 'VERB'), ('only', 'ADV'), ('four', 'NUM'), ('minutes', 'NOUN'), ('old', 'ADJ'), (',', '.'), ('neitzbohr', 'NOUN'), ('refers', 'VERB'), ('to', 'ADP'), ('a', 'DET'), ('small', 'ADJ'), (',', '.'), ('victorian', 'ADJ'), ('piano', 'NOUN'), ('stool', 'NOUN'), ('as', 'ADP'), ('``', '.'), ('wilhelmina', 'NOUN'), (\"''\", '.'), (',', '.'), ('and', 'CONJ'), ('we', 'PRON'), ('are', 'VERB'), ('thereupon', 'ADV'), ('subjected', 'VERB'), ('to', 'ADP'), ('a', 'DET'), ('flashback', 'NOUN'), ('that', 'PRON'), ('informs', 'VERB'), ('us', 'PRON'), ('that', 'ADP'), ('this', 'DET'), ('very', 'ADJ'), ('piano', 'NOUN'), ('stool', 'NOUN'), ('was', 'VERB'), ('once', 'ADV'), ('used', 'VERB'), ('by', 'ADP'), ('an', 'DET'), ('epileptic', 'ADJ'), ('governess', 'NOUN'), ('whose', 'DET'), ('name', 'NOUN'), (',', '.'), ('of', 'ADP'), ('course', 'NOUN'), (',', '.'), ('was', 'VERB'), ('doris', 'NOUN'), ('(', '.'), ('the', 'DET'), ('english', 'NOUN'), ('equivalent', 'NOUN'), (',', '.'), ('when', 'ADV'), ('passed', 'VERB'), ('through', 'ADP'), ('middle-gaelic', 'NOUN'), ('derivations', 'NOUN'), (',', '.'), ('of', 'ADP'), ('wilhelmina', 'NOUN'), (')', '.'), ('.', '.')]),\n",
              "       list([('this', 'DET'), ('could', 'VERB'), ('be', 'VERB'), ('told', 'VERB'), ('chiefly', 'ADV'), ('from', 'ADP'), ('a', 'DET'), ('sort', 'NOUN'), ('of', 'ADP'), ('head-tossing', 'NOUN'), ('and', 'CONJ'), ('prancing', 'VERB'), (',', '.'), ('a', 'DET'), ('horselike', 'ADJ'), ('balkiness', 'NOUN'), ('of', 'ADP'), ('demeanor', 'NOUN'), ('.', '.')]),\n",
              "       list([('such', 'ADJ'), ('sweeping', 'VERB'), ('distractions', 'NOUN'), ('are', 'VERB'), ('hardly', 'ADV'), ('conducive', 'ADJ'), ('to', 'ADP'), ('``', '.'), ('oscar', 'NOUN'), (\"''\", '.'), ('winning', 'VERB'), ('performances', 'NOUN'), ('.', '.')]),\n",
              "       list([('it', 'PRON'), (\"isn't\", 'VERB'), ('what', 'DET'), ('the', 'DET'), ('ideologist', 'NOUN'), ('believes', 'VERB'), ('in', 'PRT'), (',', '.'), ('but', 'CONJ'), ('what', 'DET'), ('he', 'PRON'), ('hates', 'VERB'), (',', '.'), ('that', 'ADP'), ('puts', 'VERB'), ('the', 'DET'), ('world', 'NOUN'), ('in', 'ADP'), ('jeopardy', 'NOUN'), ('.', '.')]),\n",
              "       list([('``', '.'), ('o', 'PRT'), ('!', '.'), ('!', '.')]),\n",
              "       list([('a', 'DET'), ('``', '.'), ('splash', 'NOUN'), ('party', 'NOUN'), (\"''\", '.'), ('at', 'ADP'), ('the', 'DET'), ('new', 'ADJ'), ('pool', 'NOUN'), (',', '.'), ('which', 'DET'), ('i', 'PRON'), ('had', 'VERB'), ('built', 'VERB'), ('in', 'ADP'), ('the', 'DET'), ('hope', 'NOUN'), ('of', 'ADP'), ('keeping', 'VERB'), ('letch', 'NOUN'), ('away', 'ADV'), ('from', 'ADP'), ('public', 'ADJ'), ('beaches', 'NOUN'), (',', '.'), ('when', 'ADV'), ('letch', 'NOUN'), ('and', 'CONJ'), ('a', 'DET'), ('certain', 'ADJ'), ('aquacutie', 'NOUN'), ('stayed', 'VERB'), ('underwater', 'ADV'), ('together', 'ADV'), ('for', 'ADP'), ('the', 'DET'), ('better', 'ADJ'), ('part', 'NOUN'), ('of', 'ADP'), ('an', 'DET'), ('hour', 'NOUN'), (';', '.'), (';', '.')]),\n",
              "       list([(\"''\", '.'), ('i', 'PRON'), ('thought', 'VERB'), (',', '.'), ('and', 'CONJ'), ('wondered', 'VERB'), ('what', 'DET'), ('kind', 'NOUN'), ('of', 'ADP'), ('homesteads', 'NOUN'), ('such', 'ADJ'), ('odd', 'ADJ'), ('pioneers', 'NOUN'), ('would', 'VERB'), ('establish', 'VERB'), ('in', 'ADP'), ('this', 'DET'), ('suburban', 'ADJ'), ('frontier', 'NOUN'), (';', '.'), (';', '.')]),\n",
              "       list([('mr.', 'NOUN'), ('mills', 'NOUN'), ('had', 'VERB'), ('done', 'VERB'), ('some', 'DET'), ('figuring', 'NOUN'), ('on', 'ADP'), ('a', 'DET'), ('scrap', 'NOUN'), ('of', 'ADP'), ('paper', 'NOUN'), ('and', 'CONJ'), ('given', 'VERB'), ('him', 'PRON'), ('the', 'DET'), ('various', 'ADJ'), ('kinds', 'NOUN'), ('of', 'ADP'), ('boards', 'NOUN'), ('and', 'CONJ'), ('two-by-fours', 'NOUN'), ('which', 'DET'), (',', '.'), ('properly', 'ADV'), ('handled', 'VERB'), (',', '.'), ('would', 'VERB'), (',', '.'), ('he', 'PRON'), ('had', 'VERB'), ('assured', 'VERB'), ('him', 'PRON'), (',', '.'), ('turn', 'VERB'), ('into', 'ADP'), ('a', 'DET'), ('workbench', 'NOUN'), ('.', '.')]),\n",
              "       list([('a', 'DET'), ('biting', 'VERB'), (',', '.'), ('pithy', 'ADJ'), ('parable', 'NOUN'), ('of', 'ADP'), ('the', 'DET'), ('all-pervading', 'ADJ'), ('hollowness', 'NOUN'), ('of', 'ADP'), ('modern', 'ADJ'), ('life', 'NOUN'), (',', '.'), ('the', 'DET'), ('piece', 'NOUN'), ('has', 'VERB'), ('been', 'VERB'), ('set', 'VERB'), ('by', 'ADP'), ('mlle', 'NOUN'), ('lagoon', 'NOUN'), ('to', 'ADP'), ('a', 'DET'), ('sumptuous', 'ADJ'), ('score', 'NOUN'), ('(', '.'), ('a', 'DET'), ('single', 'ADJ'), ('motif', 'NOUN'), ('played', 'VERB'), ('over', 'PRT'), ('and', 'CONJ'), ('over', 'PRT'), ('by', 'ADP'), ('four', 'NUM'), ('thousand', 'NUM'), ('french', 'ADJ'), ('horns', 'NOUN'), (')', '.'), ('by', 'ADP'), ('existentialist', 'NOUN'), ('hot-shot', 'NOUN'), ('jean-paul', 'NOUN'), ('sartre', 'NOUN'), ('.', '.')]),\n",
              "       list([('the', 'DET'), ('jail', 'NOUN'), ('authorities', 'NOUN'), ('--', '.'), ('attaching', 'VERB'), ('no', 'DET'), ('particular', 'ADJ'), ('significance', 'NOUN'), ('to', 'ADP'), ('the', 'DET'), ('episode', 'NOUN'), ('--', '.'), ('offered', 'VERB'), ('barco', 'NOUN'), ('whisky', 'NOUN'), ('to', 'PRT'), ('revive', 'VERB'), ('him', 'PRON'), (';', '.'), (';', '.')]),\n",
              "       list([('they', 'PRON'), ('also', 'ADV'), ('caught', 'VERB'), ('on', 'PRT'), ('a', 'DET'), ('little', 'ADJ'), ('bit', 'NOUN'), ('on', 'ADP'), ('how', 'ADV'), ('to', 'PRT'), ('smile', 'VERB'), ('a', 'DET'), ('lot', 'NOUN'), ('without', 'ADP'), ('your', 'DET'), ('lips', 'NOUN'), ('trembling', 'VERB'), ('.', '.')]),\n",
              "       list([('it', 'PRON'), ('was', 'VERB'), ('during', 'ADP'), ('her', 'DET'), ('``', '.'), ('writing', 'VERB'), (\"''\", '.'), ('period', 'NOUN'), ('that', 'ADP'), ('she', 'PRON'), ('and', 'CONJ'), ('herb', 'NOUN'), ('met', 'VERB'), ('and', 'CONJ'), ('decided', 'VERB'), ('that', 'ADP'), ('they', 'PRON'), ('were', 'VERB'), ('in', 'ADP'), ('love', 'NOUN'), ('.', '.')]),\n",
              "       list([('there', 'PRT'), ('was', 'VERB'), ('no', 'DET'), ('question', 'NOUN'), ('of', 'ADP'), ('that', 'DET'), ('.', '.')]),\n",
              "       list([('carpenters', 'NOUN'), ('all', 'PRT'), ('wanted', 'VERB'), ('steady', 'ADJ'), ('work', 'NOUN'), ('and', 'CONJ'), ('at', 'ADP'), ('the', 'DET'), ('moment', 'NOUN'), ('every', 'DET'), (\"mother's\", 'NOUN'), ('son', 'NOUN'), ('for', 'ADP'), ('twenty', 'NUM'), ('miles', 'NOUN'), ('around', 'ADV'), ('that', 'PRON'), ('could', 'VERB'), ('hammer', 'VERB'), ('nails', 'NOUN'), ('for', 'ADP'), ('twenty-five', 'NUM'), ('dollars', 'NOUN'), ('a', 'DET'), ('day', 'NOUN'), ('was', 'VERB'), ('working', 'VERB'), ('on', 'ADP'), ('the', 'DET'), ('school', 'NOUN'), ('job', 'NOUN'), ('.', '.')]),\n",
              "       list([('my', 'DET'), ('mother', 'NOUN'), ('constituted', 'VERB'), ('herself', 'PRON'), ('the', 'DET'), ('voice', 'NOUN'), ('of', 'ADP'), ('all', 'PRT'), ('of', 'ADP'), ('us', 'PRON'), ('.', '.')]),\n",
              "       list([('compassionately', 'ADV'), ('yours', 'PRON'), (',', '.')]),\n",
              "       list([('``', '.'), ('if', 'ADP'), ('you', 'PRON'), ('are', 'VERB'), ('trying', 'VERB'), ('to', 'PRT'), ('get', 'VERB'), ('us', 'PRON'), ('out', 'ADP'), ('of', 'ADP'), ('the', 'DET'), ('brothel', 'NOUN'), (',', '.'), ('the', 'DET'), ('dustbin', 'NOUN'), (',', '.'), ('the', 'DET'), ('kitchen', 'NOUN'), ('sink', 'NOUN'), (',', '.'), ('and', 'CONJ'), ('the', 'DET'), ('tawdry', 'ADJ'), ('living-room', 'NOUN'), (',', '.'), ('you', 'PRON'), ('are', 'VERB'), ('probably', 'ADV'), ('wasting', 'VERB'), ('your', 'DET'), ('time', 'NOUN'), (\"''\", '.'), (',', '.'), ('moreland', 'NOUN'), ('told', 'VERB'), ('me', 'PRON'), ('.', '.')]),\n",
              "       list([('``', '.'), ('i', 'PRON'), ('may', 'VERB'), ('be', 'VERB'), ('back', 'ADV'), (\"''\", '.'), (',', '.'), ('he', 'PRON'), ('explained', 'VERB'), (',', '.'), ('``', '.'), ('and', 'CONJ'), ('then', 'ADV'), ('again', 'ADV'), (',', '.'), ('i', 'PRON'), ('may', 'VERB'), ('not', 'ADV'), (\"''\", '.'), ('.', '.')]),\n",
              "       list([('but', 'CONJ'), ('the', 'DET'), ('supreme', 'ADJ'), ('court', 'NOUN'), (\"wouldn't\", 'VERB'), ('even', 'VERB'), ('hear', 'VERB'), ('my', 'DET'), ('case', 'NOUN'), ('!', '.'), ('!', '.')]),\n",
              "       list([('the', 'DET'), ('double', 'ADJ'), ('meaning', 'NOUN'), ('in', 'ADP'), ('the', 'DET'), ('anatomical', 'NOUN'), ('made', 'VERB'), ('it', 'PRON'), ('a', 'DET'), ('familiar', 'ADJ'), ('vaudeville', 'NOUN'), ('device', 'NOUN'), (',', '.'), ('as', 'ADP'), ('in', 'ADP'), ('the', 'DET'), ('gags', 'NOUN'), ('of', 'ADP'), ('weber', 'NOUN'), ('and', 'CONJ'), ('fields', 'NOUN'), ('.', '.')]),\n",
              "       list([(\"''\", '.')]),\n",
              "       list([('he', 'PRON'), ('asked', 'VERB'), (',', '.'), ('between', 'ADP'), ('wheezes', 'NOUN'), ('of', 'ADP'), ('laughter', 'NOUN'), ('.', '.')]),\n",
              "       list([('``', '.'), ('i', 'PRON'), ('was', 'VERB'), ('just', 'ADV'), (\"sayin'\", 'VERB'), ('to', 'ADP'), ('him', 'PRON'), ('that', 'ADP'), (\"i'm\", 'PRT'), ('all', 'ADV'), ('ready', 'ADJ'), ('now', 'ADV'), ('for', 'ADP'), ('anything', 'NOUN'), ('else', 'ADV'), ('you', 'PRON'), ('want', 'VERB'), ('done', 'VERB'), (\"''\", '.'), ('.', '.')]),\n",
              "       list([('``', '.'), ('such', 'ADJ'), ('as', 'ADP'), (\"'\", '.'), ('sending', 'VERB'), ('the', 'DET'), ('cat', 'NOUN'), ('to', 'PRT'), ('guard', 'VERB'), ('the', 'DET'), ('mice', 'NOUN'), (\"'\", '.'), (',', '.'), ('or', 'CONJ'), (\"'\", '.'), ('the', 'DET'), ('falcon', 'NOUN'), ('to', 'PRT'), ('protect', 'VERB'), ('the', 'DET'), ('dove', 'NOUN'), (\"'\", '.'), (',', '.'), ('or', 'CONJ'), ('most', 'ADV'), ('terribly', 'ADV'), ('sharp', 'ADJ'), ('of', 'ADP'), ('all', 'PRT'), (',', '.'), (\"'\", '.'), ('the', 'DET'), ('human', 'NOUN'), ('being', 'NOUN'), ('to', 'PRT'), ('save', 'VERB'), ('humanity', 'NOUN'), (\"'\", '.'), (\"''\", '.'), ('.', '.')]),\n",
              "       list([('during', 'ADP'), ('these', 'DET'), ('first', 'ADJ'), ('days', 'NOUN'), ('of', 'ADP'), ('the', 'DET'), ('trial', 'NOUN'), ('i', 'PRON'), (\"didn't\", 'VERB'), ('have', 'VERB'), ('as', 'ADV'), ('much', 'ADJ'), ('time', 'NOUN'), ('to', 'PRT'), ('commiserate', 'VERB'), ('with', 'ADP'), ('viola', 'NOUN'), ('as', 'ADP'), ('i', 'PRON'), ('should', 'VERB'), ('have', 'VERB'), ('liked', 'VERB'), ('.', '.')]),\n",
              "       list([('``', '.'), ('what', 'DET'), ('a', 'DET'), ('nasty', 'ADJ'), ('fall', 'NOUN'), ('was', 'VERB'), ('there', 'ADV'), (\"''\", '.'), ('!', '.'), ('!', '.')]),\n",
              "       list([('the', 'DET'), ('police', 'NOUN'), ('captain', 'NOUN'), ('chortled', 'VERB'), ('.', '.')]),\n",
              "       list([('naturally', 'ADV'), (',', '.'), ('viola', 'NOUN'), ('had', 'VERB'), ('no', 'DET'), ('wish', 'NOUN'), ('to', 'PRT'), ('remain', 'VERB'), (',', '.'), ('but', 'CONJ'), ('she', 'PRON'), ('felt', 'VERB'), ('she', 'PRON'), (\"couldn't\", 'VERB'), ('leave', 'VERB'), ('so', 'ADV'), ('soon', 'ADV'), ('after', 'ADP'), ('her', 'DET'), ('arrival', 'NOUN'), (',', '.'), ('in', 'ADP'), ('all', 'PRT'), ('politeness', 'NOUN'), ('to', 'PRT'), ('her', 'DET'), ('host', 'NOUN'), ('.', '.')]),\n",
              "       list([('``', '.'), ('by', 'ADP'), ('the', 'DET'), ('way', 'NOUN'), (\"''\", '.'), (',', '.'), ('said', 'VERB'), ('mr.', 'NOUN'), ('blatz', 'NOUN'), (',', '.'), ('packing', 'VERB'), ('his', 'DET'), ('tools', 'NOUN'), ('into', 'ADP'), ('a', 'DET'), ('battered', 'VERB'), ('carrier', 'NOUN'), (',', '.'), ('``', '.'), ('them', 'DET'), ('power', 'NOUN'), ('tools', 'NOUN'), ('needs', 'VERB'), ('extra', 'ADJ'), ('voltage', 'NOUN'), ('.', '.')]),\n",
              "       list([(\"hell's\", 'NOUN'), ('own', 'VERB'), ('amount', 'VERB'), ('of', 'ADP'), ('chaulmoogra', 'NOUN'), ('oil', 'NOUN'), ('did', 'VERB'), ('nothing', 'NOUN'), ('to', 'PRT'), ('alleviate', 'VERB'), ('their', 'DET'), ('torment', 'NOUN'), (';', '.'), (';', '.')]),\n",
              "       list([('the', 'DET'), ('doors', 'NOUN'), ('of', 'ADP'), ('the', 'DET'), ('d', 'NOUN'), ('train', 'NOUN'), ('slid', 'VERB'), ('shut', 'VERB'), (',', '.'), ('and', 'CONJ'), ('as', 'ADP'), ('i', 'PRON'), ('dropped', 'VERB'), ('into', 'ADP'), ('a', 'DET'), ('seat', 'NOUN'), ('and', 'CONJ'), (',', '.'), ('exhaling', 'VERB'), (',', '.'), ('looked', 'VERB'), ('up', 'PRT'), ('across', 'ADP'), ('the', 'DET'), ('aisle', 'NOUN'), (',', '.'), ('the', 'DET'), ('whole', 'ADJ'), ('aviary', 'NOUN'), ('in', 'ADP'), ('my', 'DET'), ('head', 'NOUN'), ('burst', 'VERB'), ('into', 'ADP'), ('song', 'NOUN'), ('.', '.')]),\n",
              "       list([('my', 'DET'), ('heart', 'NOUN'), ('was', 'VERB'), ('not', 'ADV'), ('in', 'ADP'), ('it', 'PRON'), (',', '.'), ('but', 'CONJ'), (',', '.'), ('oddly', 'ADV'), ('enough', 'ADV'), (',', '.'), ('it', 'PRON'), ('remains', 'VERB'), ('the', 'DET'), ('most', 'ADV'), ('financially', 'ADV'), ('successful', 'ADJ'), ('picture', 'NOUN'), ('of', 'ADP'), ('my', 'DET'), ('career', 'NOUN'), ('.', '.')]),\n",
              "       list([('in', 'ADP'), ('common', 'ADJ'), ('parlance', 'NOUN'), ('they', 'PRON'), ('would', 'VERB'), ('be', 'VERB'), ('described', 'VERB'), ('as', 'ADP'), ('misses', 'NOUN'), ('--', '.'), ('misinterpreters', 'NOUN'), (',', '.'), ('misunderstanders', 'NOUN'), (',', '.'), ('misdirectors', 'NOUN'), ('and', 'CONJ'), ('kindred', 'NOUN'), ('misdeeds', 'NOUN'), ('.', '.')]),\n",
              "       list([('they', 'PRON'), ('were', 'VERB'), ('``', '.'), ('sincere', 'ADJ'), (\"''\", '.'), ('--', '.'), ('men', 'NOUN'), ('of', 'ADP'), ('the', 'DET'), ('too-hearty', 'ADJ'), ('handclasp', 'NOUN'), ('and', 'CONJ'), ('the', 'DET'), ('urgent', 'ADJ'), ('smile', 'NOUN'), ('.', '.')]),\n",
              "       list([('``', '.'), ('i', 'PRON'), ('see', 'VERB'), ('the', 'DET'), ('girl', 'NOUN'), ('but', 'CONJ'), ('i', 'PRON'), (\"don't\", 'VERB'), ('see', 'VERB'), ('the', 'DET'), ('car', 'NOUN'), ('with', 'ADP'), ('slacks', 'NOUN'), ('on', 'PRT'), (\"''\", '.'), ('.', '.')]),\n",
              "       list([('``', '.'), ('furiouser', 'ADJ'), ('and', 'CONJ'), ('furiouser', 'ADJ'), (\"''\", '.'), (',', '.'), ('i', 'PRON'), ('said', 'VERB'), ('.', '.')]),\n",
              "       list([('and', 'CONJ'), ('so', 'ADP'), ('they', 'PRON'), ('were', 'VERB'), ('consistently', 'ADV'), ('true', 'ADJ'), ('to', 'ADP'), ('their', 'DET'), ('principles', 'NOUN'), ('.', '.')]),\n",
              "       list([('moreland', 'NOUN'), ('sat', 'VERB'), ('brooding', 'VERB'), ('for', 'ADP'), ('a', 'DET'), ('full', 'ADJ'), ('minute', 'NOUN'), (',', '.'), ('during', 'ADP'), ('which', 'DET'), ('i', 'PRON'), ('made', 'VERB'), ('each', 'DET'), ('of', 'ADP'), ('us', 'PRON'), ('a', 'DET'), ('new', 'ADJ'), ('drink', 'NOUN'), ('.', '.')]),\n",
              "       list([('it', 'PRON'), ('all', 'PRT'), ('seemed', 'VERB'), ('rather', 'ADV'), ('hopeless', 'ADJ'), ('.', '.')]),\n",
              "       list([('he', 'PRON'), ('was', 'VERB'), ('bitter', 'ADJ'), ('and', 'CONJ'), ('resentful', 'ADJ'), ('toward', 'ADP'), ('her', 'PRON'), (',', '.'), ('personally', 'ADV'), ('resentful', 'ADJ'), ('.', '.')]),\n",
              "       list([('add', 'VERB'), ('things', 'NOUN'), ('as', 'ADP'), ('you', 'PRON'), ('find', 'VERB'), ('you', 'PRON'), ('need', 'VERB'), (\"'em\", 'PRON'), (\"''\", '.'), ('.', '.')]),\n",
              "       list([('my', 'DET'), ('plea', 'NOUN'), ('was', 'VERB'), ('unanimously', 'ADV'), ('voted', 'VERB'), ('down', 'PRT'), ('and', 'CONJ'), ('``', '.'), ('thrown', 'VERB'), ('out', 'PRT'), (\"''\", '.'), ('.', '.')]),\n",
              "       list([('moreland', 'NOUN'), ('asked', 'VERB'), (',', '.'), ('grimly', 'ADV'), ('.', '.')]),\n",
              "       list([('this', 'DET'), ('evening', 'NOUN'), (',', '.'), ('they', 'PRON'), ('were', 'VERB'), ('pushed', 'VERB'), ('in', 'PRT'), ('from', 'ADP'), ('the', 'DET'), ('breakfast', 'NOUN'), ('room', 'NOUN'), (',', '.'), ('with', 'ADP'), ('odds', 'NOUN'), ('and', 'CONJ'), ('ends', 'NOUN'), ('of', 'ADP'), ('dessert', 'NOUN'), ('distributed', 'VERB'), ('over', 'ADP'), ('them', 'PRON'), ('.', '.')]),\n",
              "       list([('``', '.'), ('there', 'PRT'), ('was', 'VERB'), ('also', 'ADV'), ('gott', 'X'), ('strafe', 'X'), ('angleterre', 'X'), (\"''\", '.'), (',', '.'), ('moreland', 'NOUN'), ('reminded', 'VERB'), ('me', 'PRON'), (',', '.'), ('``', '.'), ('and', 'CONJ'), ('carthago', 'X'), ('delenda', 'X'), ('est', 'X'), (',', '.'), ('or', 'CONJ'), ('if', 'ADP'), ('you', 'PRON'), ('will', 'VERB'), (',', '.'), ('deus', 'X'), ('strafe', 'X'), ('carthage', 'NOUN'), ('.', '.')]),\n",
              "       list([('``', '.'), ('mr.', 'NOUN'), ('jones', 'NOUN'), (',', '.'), ('you', 'PRON'), ('may', 'VERB'), ('recall', 'VERB'), ('that', 'ADP'), ('we', 'PRON'), ('printed', 'VERB'), ('last', 'ADJ'), ('week', 'NOUN'), ('your', 'DET'), ('denial', 'NOUN'), ('of', 'ADP'), ('having', 'VERB'), ('retracted', 'VERB'), ('the', 'DET'), ('contradiction', 'NOUN'), ('of', 'ADP'), ('your', 'DET'), ('original', 'ADJ'), ('statement', 'NOUN'), ('.', '.')]),\n",
              "       list([('she', 'PRON'), ('was', 'VERB'), ('biting', 'VERB'), ('into', 'ADP'), ('a', 'DET'), ('small', 'ADJ'), ('red', 'ADJ'), ('radish', 'NOUN'), (';', '.'), (';', '.')])],\n",
              "      dtype=object)"
            ]
          },
          "metadata": {},
          "execution_count": 81
        }
      ]
    },
    {
      "cell_type": "markdown",
      "metadata": {
        "id": "_rEasLVcwC6G"
      },
      "source": [
        "### Метод максимального правдоподобия для обучения модели\n",
        "\n",
        "* $\\normalsize S = s_0, s_1, ..., s_N$ - скрытые состояния, то есть различные теги\n",
        "* $\\normalsize O = o_0, o_1, ..., o_M$ - различные слова\n",
        "* $\\normalsize a_{i,j} = p(s_j|s_i)$ - вероятность того, что, находясь в скрытом состоянии $s_i$, мы попадем в состояние $s_j$ (элемент матрицы $A$)\n",
        "* $\\normalsize b_{k,j}=p(o_k|s_j)$ - вероятность того, что при скрытом состоянии $s_j$ находится слово $o_k$(элемент матрицы $B$)\n",
        "\n",
        "$$\\normalsize x_t \\in O, y_t \\in S$$\n",
        "$\\normalsize (x_t, y_t)$ - слово и тег, стоящие на месте $t$ $\\Rightarrow$ \n",
        "* $\\normalsize X$ - последовательность слов\n",
        "* $\\normalsize Y$ - последовательность тегов\n",
        "\n",
        "Требуется построить скрытую марковскую модель (class HiddenMarkovModel) и написать метод fit для настройки всех её параметров с помощью оценок максимального правдоподобия по размеченным данным (последовательности пар слово+тег):\n",
        "\n",
        "- Вероятности переходов между скрытыми состояниями $p(y_t | y_{t - 1})$ посчитайте на основе частот биграмм POS-тегов.\n",
        "\n",
        "\n",
        "- Вероятности эмиссий наблюдаемых состояний $p(x_t | y_t)$ посчитайте на основе частот \"POS-тег - слово\".\n",
        "\n",
        "\n",
        "- Распределение вероятностей начальных состояний $p(y_0)$ задайте равномерным.\n",
        "\n",
        "Пример $X = [x_0, x_1], Y = [y_0, y_1]$:<br><br>\n",
        "$$p(X, Y) = p(x_0, x_1, y_0, y_1) = p(y_0) \\cdot p(x_0, x_1, y_1 | y_0) = p(y_0) \\cdot p(x_0 | y_0) \\cdot\n",
        "p(x_1, y_1 | x_0, y_0) = \\\\ = p(y_0) \\cdot p(x_0 | y_0) \\cdot p(y_1 | x_0, y_0) \\cdot p(x_1 | x_0, y_0, y_1)\n",
        "= (\\text{в силу условий нашей модели}) = \\\\ = p(y_0) \\cdot p(x_0 | y_0) \\cdot p(y_1 | y_0) \\cdot p(x_1 | y_1) \\Rightarrow$$ <br>\n",
        "Для последовательности длины $n + 1$:<br>\n",
        "$$p(X, Y) = p(x_0 ... x_{n - 1}, y_0 ... y_{n - 1}) \\cdot p(y_n | y_{n - 1}) \\cdot p(x_n | y_n)$$"
      ]
    },
    {
      "cell_type": "markdown",
      "metadata": {
        "id": "tysPoe5rwC6I"
      },
      "source": [
        "#### Алгоритм Витерби для применения модели\n",
        "\n",
        "\n",
        "Требуется написать метод .predict для определения частей речи на тестовой выборке. Чтобы использовать обученную модель на новых данных, необходимо реализовать алгоритм Витерби. Это алгоритм динамиеского программирования, с помощью которого мы будем находить наиболее вероятную последовательность скрытых состояний модели для фиксированной последовательности слов:\n",
        "\n",
        "$$ \\hat{Y} = \\arg \\max_{Y} p(Y|X) = \\arg \\max_{Y} p(Y, X) $$\n",
        "\n",
        "Пусть $\\normalsize Q_{t,s}$ - самая вероятная последовательность скрытых состояний длины $t$ с окончанием в состоянии $s$. $\\normalsize q_{t, s}$ - вероятность этой последовательности.\n",
        "$$(1)\\: \\normalsize q_{t,s} = \\max_{s'} q_{t - 1, s'} \\cdot p(s | s') \\cdot p(o_t | s)$$\n",
        "$\\normalsize Q_{t,s}$ можно восстановить по argmax-ам."
      ]
    },
    {
      "cell_type": "code",
      "metadata": {
        "id": "QpEXdhOfwC6J"
      },
      "source": [
        "class HiddenMarkovModel:    \n",
        "    def __init__(self):\n",
        "    \n",
        "        pass\n",
        "        \n",
        "    def fit(self, train_tokens_tags_list):\n",
        "        \"\"\"\n",
        "        train_tokens_tags_list: массив предложений пар слово-тег (выборка для train) \n",
        "        \"\"\"\n",
        "        tags = [tag for sent in train_tokens_tags_list\n",
        "                for (word, tag) in sent]\n",
        "        words = [word for sent in train_tokens_tags_list\n",
        "                 for (word, tag) in sent]\n",
        "        \n",
        "        tag_num = pd.Series(nltk.FreqDist(tags)).sort_index()\n",
        "        word_num = pd.Series(nltk.FreqDist(words)).sort_values(ascending=False)\n",
        "         \n",
        "        self.tags = tag_num.index\n",
        "        self.words = word_num.index\n",
        "        \n",
        "        A = pd.DataFrame({'{}'.format(tag) : [0] * len(tag_num) for tag in tag_num.index}, index=tag_num.index)\n",
        "        B = pd.DataFrame({'{}'.format(tag) : [0] * len(word_num) for tag in tag_num.index}, index=word_num.index)\n",
        "        \n",
        "        # Вычисляем матрицу A и B по частотам слов и тегов\n",
        "        \n",
        "        # sent - предложение\n",
        "        # sent[i][0] - i слово в этом предложении, sent[i][1] - i тег в этом предложении\n",
        "        for sent in train_tokens_tags_list:\n",
        "            for i in range(len(sent)):\n",
        "                B.loc[sent[i][0],sent[i][1]] += 1 # текущая i-пара слово-тег (обновите матрицу B аналогично A)\n",
        "                if len(sent) - 1 != i: # для последнего тега нет следующего тега\n",
        "                    A.loc[sent[i][1], sent[i + 1][1]] += 1 # пара тег-тег\n",
        "        \n",
        "        # переходим к вероятностям\n",
        "        \n",
        "        # нормируем по строке, то есть по всем всевозможным следующим тегам\n",
        "        A = A.divide(A.sum(axis=1), axis=0)\n",
        "        \n",
        "        # нормируем по столбцу, то есть по всем всевозможным текущим словам\n",
        "        B = B / np.sum(B, axis=0)\n",
        "        \n",
        "        self.A = A\n",
        "        self.B = B\n",
        "        \n",
        "        return self\n",
        "        \n",
        "    \n",
        "    def predict(self, test_tokens_list):\n",
        "        \"\"\"\n",
        "        test_tokens_list : массив предложений пар слово-тег (выборка для test)\n",
        "        \"\"\"\n",
        "        predict_tags = OrderedDict({i : np.array([]) for i in range(len(test_tokens_list))})\n",
        "        print(self.A.keys())\n",
        "        print('words ', self.words)\n",
        "        for i_sent in range(len(test_tokens_list)):\n",
        "            \n",
        "            current_sent =  [sent_token[0] for sent_token in test_tokens_list[i_sent]]# текущее предложение\n",
        "            len_sent = len(current_sent) # длина предложения \n",
        "            q = np.zeros(shape=(len_sent + 1, len(self.tags)))\n",
        "            q[0] = 1 # нулевое состояние (равномерная инициализация по всем s)\n",
        "            back_point = np.zeros(shape=(len_sent + 1, len(self.tags))) # # argmax\n",
        "            back_point = back_point.astype('int')\n",
        "            for t in range(len_sent):\n",
        "                \n",
        "                # если мы не встречали такое слово в обучении, то вместо него будет \n",
        "                # самое популярное слово с самым популярным тегом (вопрос 2)\n",
        "                if current_sent[t] not in self.words:\n",
        "                    current_sent[t] = 'time'\n",
        "                    \n",
        "                # через max выбираем следующий тег\n",
        "                for i_s in range(len(self.tags)):\n",
        "                    \n",
        "                    s = self.tags[i_s]\n",
        "                    \n",
        "                    # формула (1)\n",
        "                    q[t + 1][i_s] = np.max(q[t, :] *\n",
        "                        self.A.loc[:, s] * \n",
        "                        self.B.loc[current_sent[t], s])\n",
        "                    \n",
        "                    # argmax формула(1)\n",
        "                    \n",
        "                    # argmax, чтобы восстановить последовательность тегов\n",
        "                    back_point[t + 1][i_s] = (q[t, :] * self.A.loc[:, s] * \n",
        "                        self.B.loc[current_sent[t],s]).reset_index()[s].idxmax() # индекс \n",
        "                    \n",
        "            back_point = back_point.astype('int')\n",
        "            \n",
        "            # выписываем теги, меняя порядок на реальный\n",
        "            back_tag = deque()\n",
        "            current_tag = np.argmax(q[len_sent])\n",
        "            for t in range(len_sent, 0, -1):\n",
        "                back_tag.appendleft(self.tags[current_tag])\n",
        "                current_tag = back_point[t, current_tag]\n",
        "             \n",
        "            predict_tags[i_sent] = np.array(back_tag)\n",
        "        \n",
        "        \n",
        "        return predict_tags                 "
      ],
      "execution_count": 33,
      "outputs": []
    },
    {
      "cell_type": "markdown",
      "metadata": {
        "id": "y0BLgsWkwC6M"
      },
      "source": [
        "Обучите скрытую марковскую модель:"
      ]
    },
    {
      "cell_type": "code",
      "metadata": {
        "id": "ZcSoyUAxwC6M",
        "colab": {
          "base_uri": "https://localhost:8080/"
        },
        "outputId": "8ff21641-f349-4b98-f7f4-ffc97039cede"
      },
      "source": [
        "my_model = HiddenMarkovModel()\n",
        "my_model.fit(train_sents)\n"
      ],
      "execution_count": null,
      "outputs": [
        {
          "output_type": "execute_result",
          "data": {
            "text/plain": [
              "<__main__.HiddenMarkovModel at 0x7fa14cde5c50>"
            ]
          },
          "metadata": {},
          "execution_count": 93
        }
      ]
    },
    {
      "cell_type": "code",
      "metadata": {
        "colab": {
          "base_uri": "https://localhost:8080/"
        },
        "id": "wWKE5RnL-_GD",
        "outputId": "43fa1499-7766-424e-d325-9371560271f1"
      },
      "source": [
        "predictions = my_model.predict(test_sents)"
      ],
      "execution_count": null,
      "outputs": [
        {
          "output_type": "stream",
          "name": "stdout",
          "text": [
            "Index(['.', 'ADJ', 'ADP', 'ADV', 'CONJ', 'DET', 'NOUN', 'NUM', 'PRON', 'PRT',\n",
            "       'VERB', 'X'],\n",
            "      dtype='object')\n",
            "words  Index([',', 'the', '.', 'and', 'a', 'of', 'to', 'in', '''', '``',\n",
            "       ...\n",
            "       'ape', 'quavering', 'tapping', 'storming', 'occasions', 'sulks',\n",
            "       'blaming', 'profanity', 'temperament', 'meted'],\n",
            "      dtype='object', length=4431)\n"
          ]
        }
      ]
    },
    {
      "cell_type": "code",
      "metadata": {
        "colab": {
          "base_uri": "https://localhost:8080/"
        },
        "id": "BNiOYzUHWxj4",
        "outputId": "7e68843e-30b0-4185-a1cb-68a3f54ef60c"
      },
      "source": [
        "predictions"
      ],
      "execution_count": null,
      "outputs": [
        {
          "output_type": "execute_result",
          "data": {
            "text/plain": [
              "OrderedDict([(0,\n",
              "              array(['.', 'VERB', 'VERB', 'ADJ', 'ADP', 'NOUN', 'CONJ', 'VERB', 'ADV',\n",
              "                     'PRT', 'ADP', 'DET', 'NOUN', 'NOUN', 'ADP', 'DET', 'NOUN', 'NOUN',\n",
              "                     'ADP', 'NOUN', '.', '.', 'NUM', 'ADP', 'PRON', 'VERB', '.'],\n",
              "                    dtype='<U4')),\n",
              "             (1,\n",
              "              array(['.', 'ADV', 'PRON', 'VERB', '.', '.', 'VERB', 'NOUN', 'ADV', '.',\n",
              "                     'ADP', 'ADP', 'PRON', 'VERB', 'NOUN', 'DET', 'NOUN', 'NOUN',\n",
              "                     'NOUN', 'ADP', 'DET', 'NOUN', 'ADV', 'ADJ', 'NOUN', '.'],\n",
              "                    dtype='<U4')),\n",
              "             (2,\n",
              "              array(['ADP', 'PRON', 'VERB', 'PRT', 'ADP', 'DET', 'NOUN', '.', 'PRON',\n",
              "                     'VERB', 'ADV', 'DET', 'NOUN', '.', 'VERB', 'NOUN', '.', 'ADV',\n",
              "                     'DET', 'NOUN', '.', 'ADP', 'PRON', 'VERB', 'NOUN', 'CONJ', 'DET',\n",
              "                     'NOUN', 'ADP', 'ADJ', 'NOUN', '.'], dtype='<U4')),\n",
              "             (3,\n",
              "              array(['ADP', 'PRON', 'NOUN', 'DET', 'NOUN', 'NOUN', 'NOUN', '.', 'NOUN',\n",
              "                     'NOUN', 'DET', 'NOUN', 'NOUN', 'NOUN', 'ADP', 'DET', 'DET', 'NOUN',\n",
              "                     'CONJ', 'NOUN', 'NOUN', '.', 'ADP', 'DET', 'NOUN', 'NOUN', 'NOUN',\n",
              "                     '.', 'DET', 'VERB', 'NOUN', 'ADP', 'DET', 'NOUN', 'NOUN', '.'],\n",
              "                    dtype='<U4')),\n",
              "             (4,\n",
              "              array(['ADV', 'ADP', 'ADJ', 'NOUN', 'VERB', 'DET', 'NOUN', 'VERB', 'VERB',\n",
              "                     'ADJ', 'NOUN', '.'], dtype='<U4')),\n",
              "             (5,\n",
              "              array(['ADP', 'ADJ', 'NOUN', 'VERB', 'ADJ', 'CONJ', 'NOUN', '.'],\n",
              "                    dtype='<U4')),\n",
              "             (6,\n",
              "              array(['NOUN', 'NOUN', 'NOUN', 'NOUN', 'ADP', 'NOUN', 'NOUN', '.'],\n",
              "                    dtype='<U4')),\n",
              "             (7,\n",
              "              array(['.', 'NOUN', 'ADP', 'PRON', '.', '.', '.'], dtype='<U4')),\n",
              "             (8,\n",
              "              array(['.', 'DET', 'NOUN', 'PRON', 'VERB', 'ADV', 'NOUN', 'CONJ', 'NOUN',\n",
              "                     '.', '.', 'PRON', 'VERB', '.', '.', 'VERB', 'ADV', 'VERB', 'NOUN',\n",
              "                     'CONJ', 'NOUN', '.'], dtype='<U4')),\n",
              "             (9, array(['PRON', 'VERB', 'DET', 'NOUN', '.'], dtype='<U4')),\n",
              "             (10,\n",
              "              array(['NOUN', 'VERB', 'VERB', 'ADP', 'DET', 'NOUN', 'NOUN', 'CONJ',\n",
              "                     'ADJ', 'NOUN', 'NOUN', 'ADP', 'ADV', '.'], dtype='<U4')),\n",
              "             (11,\n",
              "              array(['NOUN', 'ADP', 'DET', 'NOUN', 'VERB', 'DET', 'NOUN', 'ADP', 'NOUN',\n",
              "                     '.', 'DET', 'NOUN', 'PRON', 'VERB', 'PRON', 'PRON', 'VERB', 'NOUN',\n",
              "                     '.'], dtype='<U4')),\n",
              "             (12,\n",
              "              array(['PRON', 'NOUN', 'NOUN', 'NOUN', 'NOUN', 'ADP', 'NOUN', '.', 'ADV',\n",
              "                     'VERB', 'DET', 'NOUN', 'ADP', 'DET', 'NOUN', 'VERB', 'DET', 'VERB',\n",
              "                     'ADJ', '.', 'X', '.', 'CONJ', 'ADJ', '.', '.'], dtype='<U4')),\n",
              "             (13,\n",
              "              array(['ADV', '.', 'ADP', 'ADP', 'DET', 'NOUN', '.', 'PRON', 'VERB',\n",
              "                     'ADV', '.'], dtype='<U4')),\n",
              "             (14,\n",
              "              array(['ADV', '.', 'PRT', 'DET', 'NOUN', 'ADP', 'NOUN', 'VERB', 'VERB',\n",
              "                     'PRT', 'ADP', 'DET', 'NOUN', '.', 'ADP', 'DET', 'NOUN', 'VERB',\n",
              "                     'PRT', 'VERB', 'VERB', 'PRT', 'VERB', 'DET', 'NOUN', 'ADP', 'NOUN',\n",
              "                     'NOUN', 'ADP', 'DET', 'NOUN', '.', 'NOUN', '.', 'CONJ', 'ADV', '.',\n",
              "                     'NOUN', '.', 'ADP', 'DET', 'ADJ', 'NOUN', '.'], dtype='<U4')),\n",
              "             (15,\n",
              "              array(['ADV', '.', 'NOUN', 'VERB', 'PRON', 'NOUN', 'CONJ', 'NOUN', 'ADP',\n",
              "                     'DET', 'NOUN', 'PRON', 'VERB', 'ADV', 'ADJ', '.'], dtype='<U4')),\n",
              "             (16, array(['PRON', 'VERB', 'NOUN', 'ADJ', '.'], dtype='<U4')),\n",
              "             (17,\n",
              "              array(['PRON', 'VERB', 'PRT', 'VERB', 'DET', 'NOUN', '.'], dtype='<U4')),\n",
              "             (18,\n",
              "              array(['DET', 'ADJ', 'NOUN', 'PRON', 'VERB', 'PRON', '.', 'PRON', 'VERB',\n",
              "                     'DET', 'VERB', 'NOUN', '.', '.'], dtype='<U4')),\n",
              "             (19,\n",
              "              array(['DET', 'NOUN', 'DET', 'NOUN', 'VERB', 'ADP', 'ADV', 'VERB', 'ADP',\n",
              "                     'DET', 'NOUN', 'NOUN', 'ADP', 'NOUN', '.', 'ADV', 'ADP', 'PRON',\n",
              "                     'VERB', 'NOUN', 'NOUN', 'ADP', 'DET', 'NOUN', 'ADP', 'NOUN', '.',\n",
              "                     'CONJ', 'VERB', 'PRON', 'VERB', '.'], dtype='<U4')),\n",
              "             (20,\n",
              "              array(['DET', 'NOUN', '.', 'ADV', '.', 'VERB', 'ADP', 'NOUN', 'PRON',\n",
              "                     'ADP', 'DET', 'NOUN', 'CONJ', 'NUM', 'ADP', 'DET', 'NOUN', 'PRON',\n",
              "                     'VERB', 'VERB', 'DET', 'NOUN', 'NOUN', 'ADP', 'PRON', '.', 'ADJ',\n",
              "                     'NOUN', 'DET', 'NOUN', 'NOUN', 'NOUN', 'VERB', 'NOUN', '.'],\n",
              "                    dtype='<U4')),\n",
              "             (21,\n",
              "              array(['NOUN', '.', 'ADV', 'DET', 'NOUN', 'ADP', 'NOUN', 'NOUN', 'ADP',\n",
              "                     'ADJ', 'NOUN', '.', 'NOUN', 'VERB', 'PRT', 'VERB', 'DET', 'ADJ',\n",
              "                     'NOUN', '.'], dtype='<U4')),\n",
              "             (22,\n",
              "              array(['DET', 'NOUN', 'VERB', 'NOUN', 'PRT', 'ADP', 'NOUN', '.'],\n",
              "                    dtype='<U4')),\n",
              "             (23,\n",
              "              array(['.', 'DET', 'NOUN', '.', '.', 'PRON', 'VERB', 'ADV', '.', '.',\n",
              "                     'VERB', 'ADV', 'ADV', 'ADP', 'DET', 'NOUN', 'CONJ', 'DET', 'NOUN',\n",
              "                     'CONJ', 'DET', 'NOUN', 'CONJ', 'DET', 'NOUN', '.'], dtype='<U4')),\n",
              "             (24,\n",
              "              array(['ADV', '.', 'PRON', 'VERB', 'VERB', 'ADP', 'DET', 'NOUN', '.'],\n",
              "                    dtype='<U4')),\n",
              "             (25,\n",
              "              array(['NOUN', '.', 'DET', 'NOUN', '.', 'VERB', 'NOUN', 'ADP', 'PRT',\n",
              "                     'NOUN', 'ADP', 'DET', 'NOUN', 'ADP', 'NOUN', 'NOUN', '.'],\n",
              "                    dtype='<U4')),\n",
              "             (26,\n",
              "              array(['CONJ', 'PRON', 'VERB', 'ADJ', 'NOUN', '.'], dtype='<U4')),\n",
              "             (27,\n",
              "              array(['NOUN', 'NOUN', 'VERB', 'ADP', 'PRON', 'NOUN', 'ADP', 'DET',\n",
              "                     'NOUN', '.'], dtype='<U4')),\n",
              "             (28,\n",
              "              array(['CONJ', 'PRON', 'VERB', 'ADP', 'NOUN', 'ADP', 'DET', 'ADJ', '.',\n",
              "                     'ADJ', 'NOUN', '.'], dtype='<U4')),\n",
              "             (29,\n",
              "              array(['DET', 'ADJ', 'NOUN', 'VERB', '.', '.', 'PRON', 'ADJ', 'VERB',\n",
              "                     'VERB', '.'], dtype='<U4')),\n",
              "             (30,\n",
              "              array(['DET', 'NOUN', 'VERB', 'VERB', 'VERB', 'ADP', 'NOUN', 'NOUN', '.',\n",
              "                     '.', 'ADJ', 'VERB', 'DET', 'ADJ', '.', 'ADV', 'ADJ', '.', 'ADV',\n",
              "                     'ADJ', 'NOUN', '.'], dtype='<U4')),\n",
              "             (31,\n",
              "              array(['NOUN', '.', 'PRON', 'VERB', 'NOUN', 'PRT', 'VERB', 'VERB', 'ADP',\n",
              "                     'NOUN', 'ADP', 'NOUN', 'NOUN', 'NOUN', 'CONJ', 'NOUN', 'NOUN',\n",
              "                     'NOUN', 'NOUN', 'NOUN', 'NOUN', 'CONJ', 'NOUN', '.', 'NOUN', 'ADJ',\n",
              "                     'NOUN', '.', '.'], dtype='<U4')),\n",
              "             (32, array(['DET', 'NOUN', 'NOUN', 'NOUN', '.'], dtype='<U4')),\n",
              "             (33, array(['.', 'PRON', 'DET', '.', '.', '.'], dtype='<U4')),\n",
              "             (34,\n",
              "              array(['ADP', 'PRON', 'VERB', 'DET', 'NOUN', '.', 'NOUN', 'PRON', 'DET',\n",
              "                     'NOUN', 'NOUN', '.', 'CONJ', 'ADV', 'ADV', '.', 'ADP', 'NUM',\n",
              "                     'NOUN', '.', '.'], dtype='<U4')),\n",
              "             (35,\n",
              "              array(['PRON', 'NOUN', 'NOUN', 'ADV', 'ADP', 'DET', 'NOUN', 'VERB', 'ADP',\n",
              "                     'DET', 'NOUN', 'DET', 'VERB', 'VERB', 'PRON', 'DET', 'NOUN', 'ADP',\n",
              "                     'PRT', 'ADV', 'PRON', 'VERB', 'VERB', 'NOUN', '.'], dtype='<U4')),\n",
              "             (36,\n",
              "              array(['ADP', 'NOUN', 'NOUN', 'VERB', 'VERB', 'PRT', 'DET', 'NOUN',\n",
              "                     'CONJ', 'VERB', 'DET', 'NOUN', '.', 'NOUN', 'NOUN', 'VERB', 'PRON',\n",
              "                     'ADP', 'DET', 'NOUN', 'ADP', 'NOUN', 'DET', 'ADJ', 'NOUN', 'ADP',\n",
              "                     'DET', 'NOUN', '.'], dtype='<U4')),\n",
              "             (37,\n",
              "              array(['.', 'DET', 'ADJ', 'NOUN', 'NOUN', 'NOUN', 'VERB', 'ADP', 'DET',\n",
              "                     'NOUN', 'NOUN', 'ADP', 'DET', 'NOUN', 'PRT', 'VERB', 'ADP', 'DET',\n",
              "                     'NOUN', 'ADP', 'DET', 'NOUN', '.', 'DET', 'NOUN', '.', 'CONJ',\n",
              "                     'DET', 'ADV', 'NOUN', 'ADV', '.'], dtype='<U4')),\n",
              "             (38,\n",
              "              array(['.', 'PRON', 'VERB', 'ADJ', 'NOUN', '.', '.'], dtype='<U4')),\n",
              "             (39,\n",
              "              array(['DET', 'NOUN', 'VERB', 'DET', 'NOUN', 'NOUN', 'PRON', 'NOUN',\n",
              "                     'ADP', 'DET', 'NOUN', '.'], dtype='<U4')),\n",
              "             (40,\n",
              "              array(['DET', 'NOUN', 'VERB', 'PRON', '.', 'CONJ', 'DET', 'VERB', 'ADV',\n",
              "                     'ADJ', 'PRT', 'VERB', 'DET', 'NOUN', 'VERB', 'DET', 'NOUN', '.'],\n",
              "                    dtype='<U4')),\n",
              "             (41,\n",
              "              array(['VERB', 'ADV', 'NOUN', 'ADV', '.', 'PRON', 'VERB', 'DET', 'NOUN',\n",
              "                     '.', 'DET', 'ADP', 'NOUN', 'CONJ', 'ADP', 'NOUN', '.', 'ADP',\n",
              "                     'DET', 'NOUN', 'NOUN', '.', 'DET', 'NOUN', 'NOUN', '.', 'CONJ',\n",
              "                     'DET', 'NOUN', 'NOUN', 'ADJ', 'NOUN', '.'], dtype='<U4')),\n",
              "             (42,\n",
              "              array(['.', 'PRT', '.', '.', 'VERB', 'NOUN', 'NOUN', '.'], dtype='<U4')),\n",
              "             (43,\n",
              "              array(['PRON', 'VERB', '.', '.', 'VERB', 'ADP', 'DET', 'NOUN', 'NOUN',\n",
              "                     '.', '.'], dtype='<U4')),\n",
              "             (44,\n",
              "              array(['CONJ', 'PRON', 'VERB', 'ADV', 'ADJ', '.', 'CONJ', '.'],\n",
              "                    dtype='<U4')),\n",
              "             (45,\n",
              "              array(['DET', 'NOUN', 'NOUN', 'VERB', 'ADP', 'DET', 'NOUN', '.', '.'],\n",
              "                    dtype='<U4')),\n",
              "             (46,\n",
              "              array(['DET', 'NOUN', 'ADP', 'NOUN', 'NOUN', '.', 'ADP', 'NUM', 'NOUN',\n",
              "                     'ADP', 'DET', 'NOUN', 'ADP', 'NOUN', 'NOUN', '.', 'NOUN', 'ADV',\n",
              "                     'NOUN', 'PRON', 'DET', 'VERB', 'ADV', 'VERB', 'ADP', 'ADJ', 'NOUN',\n",
              "                     '.'], dtype='<U4')),\n",
              "             (47,\n",
              "              array(['DET', 'NOUN', 'VERB', 'NOUN', 'ADP', '.', 'ADV', 'NOUN', 'PRT',\n",
              "                     'VERB', 'DET', 'NOUN', '.', 'DET', 'NOUN', 'ADP', 'NUM', 'NOUN',\n",
              "                     'VERB', 'NOUN', 'ADP', 'DET', 'NOUN', 'ADP', 'NOUN', '.'],\n",
              "                    dtype='<U4')),\n",
              "             (48,\n",
              "              array(['.', 'PRT', 'VERB', 'VERB', 'PRT', 'VERB', 'DET', 'NOUN', 'VERB',\n",
              "                     'ADP', 'NOUN', '.', '.', 'PRON', 'VERB', '.'], dtype='<U4')),\n",
              "             (49,\n",
              "              array(['PRON', 'VERB', 'DET', 'ADJ', 'CONJ', 'VERB', 'DET', 'NOUN',\n",
              "                     'NOUN', 'ADV', 'ADP', 'DET', 'NOUN', '.'], dtype='<U4')),\n",
              "             (50,\n",
              "              array(['ADP', 'DET', 'NOUN', 'VERB', 'VERB', 'DET', 'ADJ', 'NOUN', 'NOUN',\n",
              "                     '.', 'PRT', 'VERB', 'NOUN', 'NOUN', 'NOUN', 'ADP', 'NOUN', 'ADP',\n",
              "                     'NOUN', 'NOUN', 'ADP', 'DET', 'NOUN', 'CONJ', 'DET', 'ADV', '.',\n",
              "                     '.', 'DET', 'NOUN', 'PRON', 'NOUN', 'ADP', 'DET', 'NOUN', 'NOUN',\n",
              "                     'CONJ', 'VERB', 'ADP', 'NOUN', 'VERB', 'ADJ', 'CONJ', 'ADJ', 'ADP',\n",
              "                     'DET', 'NOUN', '.'], dtype='<U4')),\n",
              "             (51, array(['.', 'ADJ', 'ADP', '.', '.', '.'], dtype='<U3')),\n",
              "             (52,\n",
              "              array(['DET', 'ADJ', 'ADJ', 'NOUN', 'DET', 'NOUN', 'NOUN', 'ADP', 'NOUN',\n",
              "                     '.'], dtype='<U4')),\n",
              "             (53,\n",
              "              array(['PRON', 'ADV', 'VERB', 'PRON', 'NOUN', 'PRT', 'VERB', 'NOUN',\n",
              "                     'ADP', 'NOUN', 'CONJ', '.', 'ADP', 'DET', 'NOUN', '.', 'ADP',\n",
              "                     'DET', 'NOUN', 'VERB', 'ADP', 'DET', 'NOUN', 'ADP', 'NOUN', 'PRT',\n",
              "                     'NOUN', 'ADV', '.'], dtype='<U4')),\n",
              "             (54,\n",
              "              array(['PRON', 'NOUN', 'VERB', 'VERB', 'ADP', 'DET', 'NOUN', 'ADP', 'DET',\n",
              "                     'NOUN', '.'], dtype='<U4')),\n",
              "             (55,\n",
              "              array(['DET', 'NOUN', 'CONJ', '.', 'NOUN', '.', 'ADJ', 'NOUN', 'ADP',\n",
              "                     'DET', 'NOUN', 'NOUN', 'VERB', 'DET', '.', 'DET', 'NOUN', 'ADP',\n",
              "                     'NOUN', 'ADJ', 'NOUN', 'ADP', 'NOUN', 'NOUN', '.', 'DET', 'ADJ',\n",
              "                     'NOUN', 'ADP', 'NOUN', 'NOUN', 'NOUN', '.'], dtype='<U4')),\n",
              "             (56,\n",
              "              array(['ADP', 'DET', 'ADJ', 'NUM', 'NOUN', '.', 'DET', 'NOUN', 'ADP',\n",
              "                     'DET', 'NOUN', 'VERB', 'NOUN', 'DET', 'NOUN', 'ADP', 'ADJ', '.',\n",
              "                     'NOUN', '.', 'DET', 'VERB', 'ADJ', 'NOUN', '.', 'NOUN', 'NOUN',\n",
              "                     'ADP', 'DET', 'NOUN', 'ADP', 'DET', 'NOUN', 'NOUN', '.'],\n",
              "                    dtype='<U4')),\n",
              "             (57,\n",
              "              array(['ADV', '.', 'PRON', 'VERB', 'NOUN', 'ADP', 'NOUN', 'ADV', 'NOUN',\n",
              "                     'PRON', '.'], dtype='<U4')),\n",
              "             (58,\n",
              "              array(['NUM', 'NOUN', '.', 'PRON', 'VERB', 'VERB', 'VERB', 'ADV', 'ADJ',\n",
              "                     'CONJ', 'ADJ', '.', 'VERB', 'PRT', 'ADP', 'PRON', 'CONJ', 'VERB',\n",
              "                     '.', '.', 'CONJ', 'PRON', 'VERB', 'DET', 'NOUN', '.', '.', '.'],\n",
              "                    dtype='<U4')),\n",
              "             (59,\n",
              "              array(['ADP', 'NOUN', '.', 'ADV', 'DET', 'NOUN', 'VERB', 'ADV', 'NUM',\n",
              "                     'NOUN', 'ADJ', '.', 'NOUN', 'NOUN', 'ADP', 'DET', 'ADJ', '.',\n",
              "                     'NOUN', 'NOUN', 'NOUN', 'ADP', '.', 'NOUN', '.', '.', 'CONJ',\n",
              "                     'PRON', 'VERB', 'NOUN', 'VERB', 'ADP', 'DET', 'NOUN', 'PRON',\n",
              "                     'VERB', 'PRON', 'ADP', 'DET', 'ADJ', 'NOUN', 'NOUN', 'VERB', 'ADV',\n",
              "                     'VERB', 'ADP', 'DET', 'NOUN', 'NOUN', 'DET', 'NOUN', '.', 'ADP',\n",
              "                     'NOUN', '.', 'VERB', 'NOUN', '.', 'DET', 'ADJ', 'NOUN', '.', 'ADV',\n",
              "                     'VERB', 'ADP', 'NOUN', 'NOUN', '.', 'ADP', 'NOUN', '.', '.'],\n",
              "                    dtype='<U4')),\n",
              "             (60,\n",
              "              array(['DET', 'VERB', 'VERB', 'VERB', 'NOUN', 'ADP', 'DET', 'NOUN', 'ADP',\n",
              "                     'NOUN', 'CONJ', 'NOUN', '.', 'DET', 'NOUN', 'NOUN', 'ADP', 'NOUN',\n",
              "                     '.'], dtype='<U4')),\n",
              "             (61,\n",
              "              array(['ADJ', 'NOUN', 'NOUN', 'VERB', 'ADV', 'NOUN', 'PRT', '.', 'NOUN',\n",
              "                     '.', 'NOUN', 'NOUN', '.'], dtype='<U4')),\n",
              "             (62,\n",
              "              array(['PRON', 'VERB', 'DET', 'DET', 'NOUN', 'VERB', 'ADP', '.', 'CONJ',\n",
              "                     'DET', 'PRON', 'NOUN', '.', 'DET', 'NOUN', 'DET', 'NOUN', 'ADP',\n",
              "                     'NOUN', '.'], dtype='<U4')),\n",
              "             (63, array(['.', 'NOUN', '.', '.'], dtype='<U4')),\n",
              "             (64,\n",
              "              array(['DET', '.', 'NOUN', 'NOUN', '.', 'ADP', 'DET', 'ADJ', 'NOUN', '.',\n",
              "                     'DET', 'PRON', 'VERB', 'VERB', 'ADP', 'DET', 'NOUN', 'ADP', 'VERB',\n",
              "                     'NOUN', 'ADV', 'ADP', 'ADJ', 'NOUN', '.', 'ADV', 'NOUN', 'CONJ',\n",
              "                     'DET', 'ADJ', 'NOUN', 'VERB', 'NOUN', 'ADV', 'ADP', 'DET', 'ADJ',\n",
              "                     'NOUN', 'ADP', 'DET', 'NOUN', '.', '.'], dtype='<U4')),\n",
              "             (65,\n",
              "              array(['.', 'PRON', 'VERB', '.', 'CONJ', 'NOUN', 'DET', 'NOUN', 'ADP',\n",
              "                     'NOUN', 'ADJ', 'NOUN', 'NOUN', 'VERB', 'NOUN', 'ADP', 'DET',\n",
              "                     'NOUN', 'NOUN', '.', '.'], dtype='<U4')),\n",
              "             (66,\n",
              "              array(['NOUN', 'NOUN', 'VERB', 'VERB', 'DET', 'NOUN', 'ADP', 'DET',\n",
              "                     'NOUN', 'ADP', 'NOUN', 'CONJ', 'VERB', 'PRON', 'DET', 'ADJ',\n",
              "                     'NOUN', 'ADP', 'NOUN', 'CONJ', 'NOUN', 'DET', '.', 'NOUN', 'NOUN',\n",
              "                     '.', 'VERB', '.', 'PRON', 'VERB', 'VERB', 'PRON', '.', 'VERB',\n",
              "                     'ADP', 'DET', 'NOUN', '.'], dtype='<U4')),\n",
              "             (67,\n",
              "              array(['DET', 'VERB', '.', 'NOUN', 'NOUN', 'ADP', 'DET', 'NOUN', 'NOUN',\n",
              "                     'ADP', 'ADJ', 'NOUN', '.', 'DET', 'NOUN', 'VERB', 'VERB', 'VERB',\n",
              "                     'ADP', 'NOUN', 'NOUN', 'ADP', 'DET', 'ADJ', 'NOUN', '.', 'DET',\n",
              "                     'ADJ', 'NOUN', 'VERB', 'PRT', 'CONJ', 'PRT', 'ADP', 'NUM', 'NUM',\n",
              "                     'ADJ', 'NOUN', '.', 'ADP', 'NOUN', 'NOUN', 'NOUN', 'NOUN', '.'],\n",
              "                    dtype='<U4')),\n",
              "             (68,\n",
              "              array(['DET', 'NOUN', 'NOUN', '.', 'VERB', 'DET', 'ADJ', 'NOUN', 'ADP',\n",
              "                     'DET', 'NOUN', '.', 'NOUN', 'NOUN', 'NOUN', 'PRT', 'VERB', 'PRON',\n",
              "                     '.', '.'], dtype='<U4')),\n",
              "             (69,\n",
              "              array(['PRON', 'ADV', 'VERB', 'ADP', 'DET', 'ADJ', 'NOUN', 'ADP', 'ADV',\n",
              "                     'ADP', 'NOUN', 'DET', 'NOUN', 'ADP', 'DET', 'NOUN', 'VERB', '.'],\n",
              "                    dtype='<U4')),\n",
              "             (70,\n",
              "              array(['PRON', 'VERB', 'ADP', 'DET', '.', 'VERB', '.', 'NOUN', 'ADP',\n",
              "                     'PRON', 'CONJ', 'NOUN', 'VERB', 'CONJ', 'NOUN', 'ADP', 'PRON',\n",
              "                     'VERB', 'ADP', 'NOUN', '.'], dtype='<U4')),\n",
              "             (71,\n",
              "              array(['PRT', 'VERB', 'DET', 'NOUN', 'ADP', 'PRON', '.'], dtype='<U4')),\n",
              "             (72,\n",
              "              array(['NOUN', 'PRT', 'VERB', 'NOUN', 'NOUN', 'CONJ', 'ADP', 'DET',\n",
              "                     'NOUN', 'DET', 'NOUN', 'NOUN', 'ADP', 'NUM', 'NOUN', 'ADP', 'PRON',\n",
              "                     'VERB', 'NOUN', 'NOUN', 'ADP', 'NOUN', 'NOUN', 'DET', 'NOUN',\n",
              "                     'VERB', 'VERB', 'ADP', 'DET', 'NOUN', 'NOUN', '.'], dtype='<U4')),\n",
              "             (73,\n",
              "              array(['DET', 'NOUN', 'NOUN', 'PRON', 'DET', 'NOUN', 'ADP', 'PRT', 'ADP',\n",
              "                     'PRON', '.'], dtype='<U4')),\n",
              "             (74, array(['NOUN', 'PRON', '.'], dtype='<U4')),\n",
              "             (75,\n",
              "              array(['.', 'ADP', 'PRON', 'VERB', 'VERB', 'PRT', 'VERB', 'PRON', 'PRT',\n",
              "                     'ADP', 'DET', 'NOUN', '.', 'DET', 'NOUN', '.', 'DET', 'NOUN',\n",
              "                     'NOUN', '.', 'CONJ', 'DET', 'NOUN', 'NOUN', '.', 'PRON', 'VERB',\n",
              "                     'ADV', 'NOUN', 'DET', 'NOUN', '.', '.', 'NOUN', 'VERB', 'PRON',\n",
              "                     '.'], dtype='<U4')),\n",
              "             (76,\n",
              "              array(['.', 'PRON', 'VERB', 'VERB', 'ADV', '.', '.', 'PRON', 'VERB', '.',\n",
              "                     '.', 'CONJ', 'ADV', 'ADV', '.', 'PRON', 'VERB', 'ADV', '.', '.'],\n",
              "                    dtype='<U4')),\n",
              "             (77,\n",
              "              array(['CONJ', 'DET', 'ADJ', 'NOUN', 'VERB', 'ADV', 'VERB', 'DET', 'NOUN',\n",
              "                     '.', '.'], dtype='<U4')),\n",
              "             (78,\n",
              "              array(['DET', 'ADJ', 'NOUN', 'ADP', 'DET', 'NOUN', 'VERB', 'PRON', 'DET',\n",
              "                     'ADJ', 'NOUN', 'NOUN', '.', 'ADP', 'ADP', 'DET', 'NOUN', 'ADP',\n",
              "                     'NOUN', 'CONJ', 'NOUN', '.'], dtype='<U4')),\n",
              "             (79, array(['.'], dtype='<U1')),\n",
              "             (80,\n",
              "              array(['PRON', 'VERB', '.', 'ADP', 'NOUN', 'ADP', 'NOUN', '.'],\n",
              "                    dtype='<U4')),\n",
              "             (81,\n",
              "              array(['.', 'PRON', 'VERB', 'ADV', 'NOUN', 'ADP', 'PRON', 'ADP', 'PRT',\n",
              "                     'ADV', 'ADJ', 'ADV', 'ADP', 'NOUN', 'ADV', 'PRON', 'VERB', 'VERB',\n",
              "                     '.', '.'], dtype='<U4')),\n",
              "             (82,\n",
              "              array(['.', 'ADJ', 'ADP', '.', 'VERB', 'DET', 'NOUN', 'ADP', 'NOUN',\n",
              "                     'DET', 'NOUN', '.', '.', 'CONJ', '.', 'DET', 'NOUN', 'ADP', 'NOUN',\n",
              "                     'DET', 'NOUN', '.', '.', 'CONJ', 'ADV', 'ADV', 'NOUN', 'ADP',\n",
              "                     'PRT', '.', '.', 'DET', 'NOUN', 'VERB', 'ADP', 'NOUN', 'NOUN', '.',\n",
              "                     '.', '.'], dtype='<U4')),\n",
              "             (83,\n",
              "              array(['ADP', 'DET', 'ADJ', 'NOUN', 'ADP', 'DET', 'NOUN', 'PRON', 'VERB',\n",
              "                     'VERB', 'ADP', 'ADJ', 'NOUN', 'ADP', 'NOUN', 'ADP', 'NOUN', 'ADP',\n",
              "                     'PRON', 'VERB', 'VERB', 'VERB', '.'], dtype='<U4')),\n",
              "             (84,\n",
              "              array(['.', 'DET', 'DET', 'NOUN', 'VERB', 'VERB', 'PRT', '.', '.', '.'],\n",
              "                    dtype='<U4')),\n",
              "             (85, array(['DET', 'NOUN', 'NOUN', 'NOUN', '.'], dtype='<U4')),\n",
              "             (86,\n",
              "              array(['ADV', '.', 'NOUN', 'VERB', 'ADV', 'VERB', 'ADP', 'NOUN', '.',\n",
              "                     'CONJ', 'PRON', 'VERB', 'PRON', 'VERB', 'NOUN', 'ADV', 'ADV',\n",
              "                     'ADP', 'DET', 'NOUN', '.', 'ADP', 'PRT', 'NOUN', 'ADP', 'DET',\n",
              "                     'NOUN', '.'], dtype='<U4')),\n",
              "             (87,\n",
              "              array(['.', 'ADP', 'DET', 'NOUN', '.', '.', 'VERB', 'NOUN', 'NOUN', '.',\n",
              "                     'NOUN', 'DET', 'NOUN', 'ADP', 'DET', 'NOUN', 'NOUN', '.', '.',\n",
              "                     'DET', 'NOUN', 'NOUN', 'NOUN', 'ADJ', 'NOUN', '.'], dtype='<U4')),\n",
              "             (88,\n",
              "              array(['NOUN', 'ADJ', 'NOUN', 'ADP', 'NOUN', 'NOUN', 'VERB', 'NOUN',\n",
              "                     'PRT', 'VERB', 'DET', 'NOUN', '.', '.'], dtype='<U4')),\n",
              "             (89,\n",
              "              array(['DET', 'NOUN', 'ADP', 'DET', 'NOUN', 'NOUN', 'VERB', 'NOUN', '.',\n",
              "                     'CONJ', 'ADP', 'PRON', 'NOUN', 'ADP', 'DET', 'NOUN', 'CONJ', '.',\n",
              "                     'NOUN', '.', 'VERB', 'PRT', 'ADP', 'DET', 'NOUN', '.', 'DET',\n",
              "                     'ADJ', 'NOUN', 'ADP', 'DET', 'NOUN', 'NOUN', 'ADP', 'NOUN', '.'],\n",
              "                    dtype='<U4')),\n",
              "             (90,\n",
              "              array(['DET', 'NOUN', 'VERB', 'ADV', 'ADP', 'PRON', '.', 'CONJ', '.',\n",
              "                     'ADV', 'ADV', '.', 'PRON', 'NOUN', 'DET', 'ADJ', 'NOUN', 'ADJ',\n",
              "                     'NOUN', 'ADP', 'DET', 'NOUN', '.'], dtype='<U4')),\n",
              "             (91,\n",
              "              array(['ADP', 'NOUN', 'NOUN', 'PRON', 'VERB', 'VERB', 'VERB', 'ADP',\n",
              "                     'NOUN', '.', 'NOUN', '.', 'NOUN', '.', 'NOUN', 'CONJ', 'NOUN',\n",
              "                     'NOUN', '.'], dtype='<U4')),\n",
              "             (92,\n",
              "              array(['PRON', 'VERB', '.', 'NOUN', '.', '.', 'NOUN', 'ADP', 'DET',\n",
              "                     'NOUN', 'NOUN', 'CONJ', 'DET', 'NOUN', 'NOUN', '.'], dtype='<U4')),\n",
              "             (93,\n",
              "              array(['.', 'PRON', 'VERB', 'DET', 'NOUN', 'CONJ', 'PRON', 'VERB', 'VERB',\n",
              "                     'DET', 'NOUN', 'ADP', 'NOUN', 'ADP', '.', '.'], dtype='<U4')),\n",
              "             (94,\n",
              "              array(['.', 'NOUN', 'CONJ', 'NOUN', '.', '.', 'PRON', 'VERB', '.'],\n",
              "                    dtype='<U4')),\n",
              "             (95,\n",
              "              array(['CONJ', 'ADV', 'PRON', 'VERB', 'NOUN', 'ADJ', 'ADP', 'DET', 'NOUN',\n",
              "                     '.'], dtype='<U4')),\n",
              "             (96,\n",
              "              array(['NOUN', 'VERB', 'NOUN', 'ADP', 'DET', 'ADJ', 'NOUN', '.', 'ADP',\n",
              "                     'DET', 'PRON', 'VERB', 'DET', 'ADP', 'PRON', 'DET', 'ADJ', 'NOUN',\n",
              "                     '.'], dtype='<U4')),\n",
              "             (97,\n",
              "              array(['PRON', 'PRT', 'VERB', 'ADV', 'NOUN', '.'], dtype='<U4')),\n",
              "             (98,\n",
              "              array(['PRON', 'VERB', 'ADJ', 'CONJ', 'NOUN', 'ADP', 'DET', '.', 'ADV',\n",
              "                     'NOUN', '.'], dtype='<U4')),\n",
              "             (99,\n",
              "              array(['NOUN', 'NOUN', 'ADP', 'PRON', 'VERB', 'PRON', 'VERB', 'PRON', '.',\n",
              "                     '.'], dtype='<U4')),\n",
              "             (100,\n",
              "              array(['DET', 'NOUN', 'VERB', 'NOUN', 'NOUN', 'PRT', 'CONJ', '.', 'VERB',\n",
              "                     'PRT', '.', '.'], dtype='<U4')),\n",
              "             (101, array(['NOUN', 'VERB', '.', 'NOUN', '.'], dtype='<U4')),\n",
              "             (102,\n",
              "              array(['DET', 'NOUN', '.', 'PRON', 'VERB', 'VERB', 'ADP', 'ADP', 'DET',\n",
              "                     'NOUN', 'NOUN', '.', 'ADP', 'NOUN', 'CONJ', 'NOUN', 'ADP', 'NOUN',\n",
              "                     'NOUN', 'ADP', 'PRON', '.'], dtype='<U4')),\n",
              "             (103,\n",
              "              array(['.', 'PRT', 'VERB', 'ADV', 'NOUN', 'NOUN', 'NOUN', '.', '.',\n",
              "                     'NOUN', 'NOUN', 'PRON', '.', '.', 'CONJ', 'NOUN', 'NOUN', 'NOUN',\n",
              "                     '.', 'CONJ', 'ADP', 'PRON', 'VERB', '.', 'NOUN', 'NOUN', 'NOUN',\n",
              "                     '.'], dtype='<U4')),\n",
              "             (104,\n",
              "              array(['.', 'NOUN', 'NOUN', '.', 'PRON', 'VERB', 'VERB', 'ADP', 'PRON',\n",
              "                     'NOUN', 'ADJ', 'NOUN', 'DET', 'NOUN', 'ADP', 'VERB', 'NOUN', 'DET',\n",
              "                     'NOUN', 'ADP', 'DET', 'ADJ', 'NOUN', '.'], dtype='<U4')),\n",
              "             (105,\n",
              "              array(['PRON', 'VERB', 'VERB', 'ADP', 'DET', 'ADJ', 'ADJ', 'NOUN', '.',\n",
              "                     '.'], dtype='<U4'))])"
            ]
          },
          "metadata": {},
          "execution_count": 95
        }
      ]
    },
    {
      "cell_type": "markdown",
      "metadata": {
        "id": "FeVNt19kwC6P"
      },
      "source": [
        "Проверьте работу реализованного алгоритма на следующих модельных примерах, проинтерпретируйте результат.\n",
        "\n",
        "- 'He can stay'\n",
        "- 'a cat and a dog'\n",
        "- 'I have a television'\n",
        "- 'My favourite character'"
      ]
    },
    {
      "cell_type": "code",
      "metadata": {
        "id": "cMJErf7NwC6Q",
        "colab": {
          "base_uri": "https://localhost:8080/"
        },
        "outputId": "5e98c2ad-2603-40df-902e-dcaacb7d6c40"
      },
      "source": [
        "sents = [['He', 'can', 'stay'], ['a', 'cat', 'and', 'a', 'dog'], ['I', 'have', 'a', 'television'],\n",
        "         ['My', 'favourite', 'character']]\n",
        "my_model.predict(sents)"
      ],
      "execution_count": null,
      "outputs": [
        {
          "output_type": "stream",
          "name": "stdout",
          "text": [
            "Index(['.', 'ADJ', 'ADP', 'ADV', 'CONJ', 'DET', 'NOUN', 'NUM', 'PRON', 'PRT',\n",
            "       'VERB', 'X'],\n",
            "      dtype='object')\n",
            "words  Index([',', 'the', '.', 'and', 'a', 'of', 'to', 'in', '''', '``',\n",
            "       ...\n",
            "       'ape', 'quavering', 'tapping', 'storming', 'occasions', 'sulks',\n",
            "       'blaming', 'profanity', 'temperament', 'meted'],\n",
            "      dtype='object', length=4431)\n"
          ]
        },
        {
          "output_type": "execute_result",
          "data": {
            "text/plain": [
              "OrderedDict([(0, array(['NOUN', 'NOUN', 'NOUN'], dtype='<U4')),\n",
              "             (1, array(['DET', 'NOUN', 'DET', 'DET', 'NOUN'], dtype='<U4')),\n",
              "             (2, array(['NOUN', 'NOUN', 'DET', 'NOUN'], dtype='<U4')),\n",
              "             (3, array(['NOUN', 'NOUN', 'NOUN'], dtype='<U4'))])"
            ]
          },
          "metadata": {},
          "execution_count": 101
        }
      ]
    },
    {
      "cell_type": "code",
      "metadata": {
        "colab": {
          "base_uri": "https://localhost:8080/"
        },
        "id": "mc3bpZVd4yfh",
        "outputId": "cb13757a-da6e-4c8b-a7a7-2b5bd12c35ab"
      },
      "source": [
        "sent = [['I', 'like', 'to', 'play', 'table', 'tennis']]\n",
        "my_model.predict(sent)"
      ],
      "execution_count": null,
      "outputs": [
        {
          "output_type": "stream",
          "name": "stdout",
          "text": [
            "Index(['.', 'ADJ', 'ADP', 'ADV', 'CONJ', 'DET', 'NOUN', 'NUM', 'PRON', 'PRT',\n",
            "       'VERB', 'X'],\n",
            "      dtype='object')\n",
            "words  Index([',', 'the', '.', 'and', 'a', 'of', 'to', 'in', '''', '``',\n",
            "       ...\n",
            "       'ape', 'quavering', 'tapping', 'storming', 'occasions', 'sulks',\n",
            "       'blaming', 'profanity', 'temperament', 'meted'],\n",
            "      dtype='object', length=4431)\n"
          ]
        },
        {
          "output_type": "execute_result",
          "data": {
            "text/plain": [
              "OrderedDict([(0,\n",
              "              array(['NOUN', 'NOUN', 'NOUN', 'NOUN', 'NOUN', 'NOUN'], dtype='<U4'))])"
            ]
          },
          "metadata": {},
          "execution_count": 102
        }
      ]
    },
    {
      "cell_type": "markdown",
      "metadata": {
        "id": "suDCwbGMwC6T"
      },
      "source": [
        "### Вопрос 3:\n",
        "* Какой тег вы получили для слова `can`?"
      ]
    },
    {
      "cell_type": "code",
      "metadata": {
        "id": "ReHeG3IjwC6U"
      },
      "source": [
        "\"NOUN\""
      ],
      "execution_count": null,
      "outputs": []
    },
    {
      "cell_type": "markdown",
      "metadata": {
        "id": "ObAslurlwC6X"
      },
      "source": [
        "### Вопрос 4:\n",
        "* Какой тег вы получили для слова `favourite`?"
      ]
    },
    {
      "cell_type": "code",
      "metadata": {
        "id": "94crVrrXwC6Y"
      },
      "source": [
        "\"NOUN\""
      ],
      "execution_count": null,
      "outputs": []
    },
    {
      "cell_type": "markdown",
      "metadata": {
        "id": "YPC4NZ4HwC6a"
      },
      "source": [
        "Примените модель к отложенной выборке Брауновского корпуса и подсчитайте точность определения тегов (accuracy). Сделайте выводы. "
      ]
    },
    {
      "cell_type": "code",
      "metadata": {
        "id": "-7aioBc1wC6b"
      },
      "source": [
        "def accuracy_score(model, sents, predicts):\n",
        "    true_pred = 0\n",
        "    num_pred = 0\n",
        "\n",
        "    for i, sent in enumerate(sents):\n",
        "        for j, word_pair in enumerate(sent):\n",
        "            tag = word_pair[1]\n",
        "            word = word_pair[0]\n",
        "            if tag == predicts[i][j]:\n",
        "                true_pred += 1\n",
        "            num_pred += 1\n",
        "    \n",
        "    print(\"Accuracy:\", true_pred / num_pred * 100, '%')"
      ],
      "execution_count": null,
      "outputs": []
    },
    {
      "cell_type": "code",
      "metadata": {
        "id": "roesKrPCcMbp",
        "colab": {
          "base_uri": "https://localhost:8080/"
        },
        "outputId": "c6ebd9fa-8cdc-4fd7-bfeb-417df345bffd"
      },
      "source": [
        "accuracy_score(my_model, test_sents, predictions)"
      ],
      "execution_count": null,
      "outputs": [
        {
          "output_type": "stream",
          "name": "stdout",
          "text": [
            "Accuracy: 88.82847256549678 %\n"
          ]
        }
      ]
    },
    {
      "cell_type": "markdown",
      "metadata": {
        "id": "ff_W7J8XwC6e"
      },
      "source": [
        "### Вопрос 5:\n",
        "* Какое качество вы получили(округлите до одного знака после запятой)?"
      ]
    },
    {
      "cell_type": "code",
      "metadata": {
        "id": "ptvlpc-6wC6f"
      },
      "source": [
        "88.8"
      ],
      "execution_count": null,
      "outputs": []
    },
    {
      "cell_type": "markdown",
      "metadata": {
        "id": "FpAgfZRTwC6h"
      },
      "source": [
        "## DefaultTagger"
      ]
    },
    {
      "cell_type": "markdown",
      "metadata": {
        "id": "9b4cPKyiwC6j"
      },
      "source": [
        "### Вопрос 6:\n",
        "* Какое качество вы бы получили, если бы предсказывали любой тег, как самый популярный тег на выборке train(округлите до одного знака после запятой)?"
      ]
    },
    {
      "cell_type": "markdown",
      "metadata": {
        "id": "Td-0Pe0vwC6k"
      },
      "source": [
        "Вы можете испоьзовать DefaultTagger(метод tag для предсказания частей речи предложения)"
      ]
    },
    {
      "cell_type": "code",
      "metadata": {
        "id": "NfZYlMxJwC6m"
      },
      "source": [
        "from nltk.tag import DefaultTagger"
      ],
      "execution_count": null,
      "outputs": []
    },
    {
      "cell_type": "code",
      "metadata": {
        "id": "_pF2mqrQCzF6"
      },
      "source": [
        "default_tagger = DefaultTagger('NOUN')\n"
      ],
      "execution_count": null,
      "outputs": []
    },
    {
      "cell_type": "code",
      "metadata": {
        "id": "-e5g3oJ6c1C8"
      },
      "source": [
        "def default_accuracy_score(sents):\n",
        "    true_pred = 0\n",
        "    num_pred = 0\n",
        "\n",
        "    for i, sent in enumerate(sents):\n",
        "        for j, word_pair in enumerate(sent):\n",
        "            tag = word_pair[1]\n",
        "            word = word_pair[0]\n",
        "            if tag == 'NOUN':\n",
        "                true_pred += 1\n",
        "            num_pred += 1\n",
        "    \n",
        "    print(\"Accuracy:\", true_pred / num_pred * 100, '%')"
      ],
      "execution_count": null,
      "outputs": []
    },
    {
      "cell_type": "code",
      "metadata": {
        "colab": {
          "base_uri": "https://localhost:8080/"
        },
        "id": "XeKNNGwVc6f8",
        "outputId": "4d5f9afa-6bd2-4d83-9540-cdb1e2393d45"
      },
      "source": [
        "default_accuracy_score(test_sents)"
      ],
      "execution_count": null,
      "outputs": [
        {
          "output_type": "stream",
          "name": "stdout",
          "text": [
            "Accuracy: 20.217498764211566 %\n"
          ]
        }
      ]
    },
    {
      "cell_type": "markdown",
      "metadata": {
        "id": "lz7Q3BfbwC6o"
      },
      "source": [
        "## NLTK, Rnnmorph"
      ]
    },
    {
      "cell_type": "markdown",
      "metadata": {
        "id": "PZvdB22Oyycz"
      },
      "source": [
        "Вспомним первый [семинар](https://colab.research.google.com/drive/1FHZVU6yJT61J8w1hALno0stD4VU36rit?usp=sharing) нашего курса. В том семинаре мы с вами работали c некоторыми библиотеками.\n",
        "\n",
        "Не забудьте преобразовать систему тэгов из `'en-ptb' в 'universal'` с помощью функции `map_tag` или используйте `tagset='universal'`"
      ]
    },
    {
      "cell_type": "code",
      "metadata": {
        "id": "9bn1TGlGAfuL"
      },
      "source": [
        "from nltk.tag.mapping import map_tag"
      ],
      "execution_count": null,
      "outputs": []
    },
    {
      "cell_type": "code",
      "metadata": {
        "id": "UOMN3B3vqf_3"
      },
      "source": [
        "test_words = [[pair[0] for pair in sent] for sent in test_sents]\n",
        "test_tags = [[pair[1] for pair in sent] for sent in test_sents]"
      ],
      "execution_count": null,
      "outputs": []
    },
    {
      "cell_type": "code",
      "metadata": {
        "id": "JJQFfbp8A_cj",
        "colab": {
          "base_uri": "https://localhost:8080/"
        },
        "outputId": "5ccc1c15-d3dd-4a4f-fffd-ccd8119c3e70"
      },
      "source": [
        "import nltk\n",
        "nltk.pos_tag(['I','like','eat','bananas'], tagset='universal')"
      ],
      "execution_count": null,
      "outputs": [
        {
          "output_type": "execute_result",
          "data": {
            "text/plain": [
              "[('I', 'PRON'), ('like', 'VERB'), ('eat', 'ADJ'), ('bananas', 'NOUN')]"
            ]
          },
          "metadata": {},
          "execution_count": 148
        }
      ]
    },
    {
      "cell_type": "code",
      "metadata": {
        "id": "JW-d91u1sLij"
      },
      "source": [
        "def nltk_accuracy_score(sentences, tags):\n",
        "    true_pred = 0\n",
        "    num_pred = 0\n",
        "    for i in range(len(sentences)):\n",
        "        preds = nltk.pos_tag(sentences[i],tagset='universal')\n",
        "        for j in range(len(sentences[i])):\n",
        "            if preds[j][1] == tags[i][j]:\n",
        "                true_pred += 1\n",
        "            num_pred += 1\n",
        "    \n",
        "    print(\"Accuracy:\", true_pred / num_pred * 100, '%')"
      ],
      "execution_count": null,
      "outputs": []
    },
    {
      "cell_type": "code",
      "metadata": {
        "colab": {
          "base_uri": "https://localhost:8080/"
        },
        "id": "QcVm3e76tgrS",
        "outputId": "1948ec81-f36f-4cd8-f1bf-ce547e80d63e"
      },
      "source": [
        "nltk_accuracy_score(test_words, test_tags)"
      ],
      "execution_count": null,
      "outputs": [
        {
          "output_type": "stream",
          "name": "stdout",
          "text": [
            "Accuracy: 89.22392486406328 %\n"
          ]
        }
      ]
    },
    {
      "cell_type": "code",
      "metadata": {
        "id": "8LD_61W7N35q",
        "colab": {
          "base_uri": "https://localhost:8080/"
        },
        "outputId": "2db7ca38-60c8-407c-e153-043b9d084e6e"
      },
      "source": [
        "from rnnmorph.predictor import RNNMorphPredictor\n",
        "predictor = RNNMorphPredictor(language=\"en\")"
      ],
      "execution_count": null,
      "outputs": [
        {
          "output_type": "stream",
          "name": "stdout",
          "text": [
            "[nltk_data] Downloading package wordnet to /root/nltk_data...\n",
            "[nltk_data]   Package wordnet is already up-to-date!\n",
            "[nltk_data] Downloading package averaged_perceptron_tagger to\n",
            "[nltk_data]     /root/nltk_data...\n",
            "[nltk_data]   Package averaged_perceptron_tagger is already up-to-\n",
            "[nltk_data]       date!\n",
            "[nltk_data] Downloading package universal_tagset to /root/nltk_data...\n",
            "[nltk_data]   Package universal_tagset is already up-to-date!\n"
          ]
        }
      ]
    },
    {
      "cell_type": "code",
      "metadata": {
        "colab": {
          "base_uri": "https://localhost:8080/"
        },
        "id": "DzrZyeLuvLNy",
        "outputId": "68ba3696-3a21-407d-8712-b93e000e7908"
      },
      "source": [
        "!pip install rnnmorph"
      ],
      "execution_count": null,
      "outputs": [
        {
          "output_type": "stream",
          "name": "stdout",
          "text": [
            "Collecting rnnmorph\n",
            "  Downloading rnnmorph-0.4.1.tar.gz (19.7 MB)\n",
            "\u001b[K     |████████████████████████████████| 19.7 MB 45.3 MB/s \n",
            "\u001b[?25hRequirement already satisfied: numpy>=1.12.1 in /usr/local/lib/python3.7/dist-packages (from rnnmorph) (1.19.5)\n",
            "Requirement already satisfied: scipy>=0.19.0 in /usr/local/lib/python3.7/dist-packages (from rnnmorph) (1.4.1)\n",
            "Requirement already satisfied: scikit-learn>=0.18.1 in /usr/local/lib/python3.7/dist-packages (from rnnmorph) (0.22.2.post1)\n",
            "Requirement already satisfied: keras>=2.1.4 in /usr/local/lib/python3.7/dist-packages (from rnnmorph) (2.6.0)\n",
            "Requirement already satisfied: h5py>=2.7.0 in /usr/local/lib/python3.7/dist-packages (from rnnmorph) (3.1.0)\n",
            "Collecting pymorphy2>=0.8\n",
            "  Downloading pymorphy2-0.9.1-py3-none-any.whl (55 kB)\n",
            "\u001b[K     |████████████████████████████████| 55 kB 4.1 MB/s \n",
            "\u001b[?25hCollecting russian-tagsets==0.6\n",
            "  Downloading russian-tagsets-0.6.tar.gz (23 kB)\n",
            "Requirement already satisfied: tqdm>=4.14.0 in /usr/local/lib/python3.7/dist-packages (from rnnmorph) (4.62.3)\n",
            "Collecting jsonpickle>=0.9.4\n",
            "  Downloading jsonpickle-2.0.0-py2.py3-none-any.whl (37 kB)\n",
            "Requirement already satisfied: nltk>=3.2.5 in /usr/local/lib/python3.7/dist-packages (from rnnmorph) (3.2.5)\n",
            "Requirement already satisfied: cached-property in /usr/local/lib/python3.7/dist-packages (from h5py>=2.7.0->rnnmorph) (1.5.2)\n",
            "Requirement already satisfied: importlib-metadata in /usr/local/lib/python3.7/dist-packages (from jsonpickle>=0.9.4->rnnmorph) (4.8.1)\n",
            "Requirement already satisfied: six in /usr/local/lib/python3.7/dist-packages (from nltk>=3.2.5->rnnmorph) (1.15.0)\n",
            "Collecting dawg-python>=0.7.1\n",
            "  Downloading DAWG_Python-0.7.2-py2.py3-none-any.whl (11 kB)\n",
            "Requirement already satisfied: docopt>=0.6 in /usr/local/lib/python3.7/dist-packages (from pymorphy2>=0.8->rnnmorph) (0.6.2)\n",
            "Collecting pymorphy2-dicts-ru<3.0,>=2.4\n",
            "  Downloading pymorphy2_dicts_ru-2.4.417127.4579844-py2.py3-none-any.whl (8.2 MB)\n",
            "\u001b[K     |████████████████████████████████| 8.2 MB 48.5 MB/s \n",
            "\u001b[?25hRequirement already satisfied: joblib>=0.11 in /usr/local/lib/python3.7/dist-packages (from scikit-learn>=0.18.1->rnnmorph) (1.0.1)\n",
            "Requirement already satisfied: typing-extensions>=3.6.4 in /usr/local/lib/python3.7/dist-packages (from importlib-metadata->jsonpickle>=0.9.4->rnnmorph) (3.7.4.3)\n",
            "Requirement already satisfied: zipp>=0.5 in /usr/local/lib/python3.7/dist-packages (from importlib-metadata->jsonpickle>=0.9.4->rnnmorph) (3.6.0)\n",
            "Building wheels for collected packages: rnnmorph, russian-tagsets\n",
            "  Building wheel for rnnmorph (setup.py) ... \u001b[?25l\u001b[?25hdone\n",
            "  Created wheel for rnnmorph: filename=rnnmorph-0.4.1-py3-none-any.whl size=19746379 sha256=21fd2b41d1a20e469acb7194b7bcc0eb4931a9f8ba50fcc719f065dd61c0ddf7\n",
            "  Stored in directory: /root/.cache/pip/wheels/b9/e8/8b/b4639d66ee5373f0db8dbe9a2ea94784c8e93fd52e9d2e811f\n",
            "  Building wheel for russian-tagsets (setup.py) ... \u001b[?25l\u001b[?25hdone\n",
            "  Created wheel for russian-tagsets: filename=russian_tagsets-0.6-py3-none-any.whl size=24637 sha256=813f69d7ae99f5014e339c40ac815794b9dd2573bd5a0b15ae16d7979a524072\n",
            "  Stored in directory: /root/.cache/pip/wheels/5e/b4/26/9c17a7cdcfc6b8cf43111312f3e7c6abb8e583599e37c422f8\n",
            "Successfully built rnnmorph russian-tagsets\n",
            "Installing collected packages: pymorphy2-dicts-ru, dawg-python, russian-tagsets, pymorphy2, jsonpickle, rnnmorph\n",
            "Successfully installed dawg-python-0.7.2 jsonpickle-2.0.0 pymorphy2-0.9.1 pymorphy2-dicts-ru-2.4.417127.4579844 rnnmorph-0.4.1 russian-tagsets-0.6\n"
          ]
        }
      ]
    },
    {
      "cell_type": "code",
      "metadata": {
        "id": "h6KCKuB1vEe4"
      },
      "source": [
        "smth = predictor.predict(['I','like','eat','bananas'])"
      ],
      "execution_count": null,
      "outputs": []
    },
    {
      "cell_type": "code",
      "metadata": {
        "colab": {
          "base_uri": "https://localhost:8080/"
        },
        "id": "LTpm8F9bv4HP",
        "outputId": "771fc9b8-5500-49f7-eed0-5cc449397c07"
      },
      "source": [
        "smth[1]"
      ],
      "execution_count": null,
      "outputs": [
        {
          "output_type": "execute_result",
          "data": {
            "text/plain": [
              "<normal_form=like; word=like; pos=VERB; tag=Mood=Ind|Tense=Pres|VerbForm=Fin; score=0.9968>"
            ]
          },
          "metadata": {},
          "execution_count": 193
        }
      ]
    },
    {
      "cell_type": "code",
      "metadata": {
        "id": "IceyOl4MxIAu"
      },
      "source": [
        "def rnnmorph_accuracy_score(sentences, tags):\n",
        "    true_pred = 0\n",
        "    num_pred = 0\n",
        "    for i in range(len(sentences)):\n",
        "        preds = predictor.predict(sentences[i])\n",
        "        for j in range(len(sentences[i])):\n",
        "            if preds[j].pos == tags[i][j]:\n",
        "                true_pred += 1\n",
        "            num_pred += 1\n",
        "    \n",
        "    print(\"Accuracy:\", true_pred / num_pred * 100, '%')"
      ],
      "execution_count": null,
      "outputs": []
    },
    {
      "cell_type": "code",
      "metadata": {
        "colab": {
          "base_uri": "https://localhost:8080/"
        },
        "id": "nA1xH__9xasP",
        "outputId": "26b126d7-5094-4021-98e3-baa9f6e94824"
      },
      "source": [
        "rnnmorph_accuracy_score(test_words, test_tags)"
      ],
      "execution_count": null,
      "outputs": [
        {
          "output_type": "stream",
          "name": "stdout",
          "text": [
            "WARNING:tensorflow:5 out of the last 8 calls to <function Model.make_predict_function.<locals>.predict_function at 0x7fa0faf99cb0> triggered tf.function retracing. Tracing is expensive and the excessive number of tracings could be due to (1) creating @tf.function repeatedly in a loop, (2) passing tensors with different shapes, (3) passing Python objects instead of tensors. For (1), please define your @tf.function outside of the loop. For (2), @tf.function has experimental_relax_shapes=True option that relaxes argument shapes that can avoid unnecessary retracing. For (3), please refer to https://www.tensorflow.org/guide/function#controlling_retracing and https://www.tensorflow.org/api_docs/python/tf/function for  more details.\n",
            "Accuracy: 62.827483934750376 %\n"
          ]
        }
      ]
    },
    {
      "cell_type": "markdown",
      "metadata": {
        "id": "i1z8x4vvwC6s"
      },
      "source": [
        "### Вопрос 7:\n",
        "* Какое качество вы получили, используя каждую из двух библиотек? Сравните их результаты.\n",
        "\n",
        "* Качество с библиотекой rnnmorph должно быть хуже, так как там используется немного другая система тэгов. Какие здесь отличия?"
      ]
    },
    {
      "cell_type": "code",
      "metadata": {
        "id": "GBd3RgqVwC6s"
      },
      "source": [
        "#nltk получен скор: Accuracy: 89.22392486406328 %\n",
        "#rnnmorph получен скор: Accuracy: 62.827483934750376 %\n",
        "#как и предполагалось, качество и вправду ниже у rnnmorph.predictor"
      ],
      "execution_count": null,
      "outputs": []
    },
    {
      "cell_type": "markdown",
      "metadata": {
        "id": "5w1W5hSkcMcV"
      },
      "source": [
        "## BiLSTMTagger"
      ]
    },
    {
      "cell_type": "markdown",
      "metadata": {
        "id": "mm1-S3t2cMcW"
      },
      "source": [
        "### Подготовка данных"
      ]
    },
    {
      "cell_type": "markdown",
      "metadata": {
        "id": "GayTl7mUcMcX"
      },
      "source": [
        "Изменим структуру данных"
      ]
    },
    {
      "cell_type": "code",
      "metadata": {
        "id": "cZsAN8oQUVbq"
      },
      "source": [
        "brown_tagged_sents = brown.tagged_sents(tagset=\"universal\", categories='humor')"
      ],
      "execution_count": 4,
      "outputs": []
    },
    {
      "cell_type": "code",
      "metadata": {
        "id": "CnXcI64fxoj4",
        "scrolled": false,
        "colab": {
          "base_uri": "https://localhost:8080/"
        },
        "outputId": "7c7c00e4-9ada-4f2e-e2b2-c804d631c479"
      },
      "source": [
        "pos_data = [list(zip(*sent)) for sent in brown_tagged_sents]\n",
        "print(pos_data[0])"
      ],
      "execution_count": 5,
      "outputs": [
        {
          "output_type": "stream",
          "name": "stdout",
          "text": [
            "[('It', 'was', 'among', 'these', 'that', 'Hinkle', 'identified', 'a', 'photograph', 'of', 'Barco', '!', '!'), ('PRON', 'VERB', 'ADP', 'DET', 'ADP', 'NOUN', 'VERB', 'DET', 'NOUN', 'ADP', 'NOUN', '.', '.')]\n"
          ]
        }
      ]
    },
    {
      "cell_type": "markdown",
      "metadata": {
        "id": "DpRE3c-3cMcc"
      },
      "source": [
        "До этого мы писали много кода сами, теперь пора эксплуатировать pytorch"
      ]
    },
    {
      "cell_type": "code",
      "metadata": {
        "id": "gvFlzrYnxokE"
      },
      "source": [
        "from torchtext.legacy.data import Field, BucketIterator\n",
        "import torchtext\n",
        "\n",
        "# наши поля\n",
        "WORD = Field(lower=True)\n",
        "TAG = Field(unk_token=None) # все токены нам извсетны\n",
        "\n",
        "# создаем примеры\n",
        "examples = []\n",
        "for words, tags in pos_data:\n",
        "    examples.append(torchtext.legacy.data.Example.fromlist([list(words), list(tags)], fields=[('words', WORD), ('tags', TAG)]))"
      ],
      "execution_count": 6,
      "outputs": []
    },
    {
      "cell_type": "markdown",
      "metadata": {
        "id": "tjl6u6cpOc1u"
      },
      "source": [
        "Вот один наш пример:"
      ]
    },
    {
      "cell_type": "code",
      "metadata": {
        "id": "dnrzktytN9rL",
        "colab": {
          "base_uri": "https://localhost:8080/"
        },
        "outputId": "14872865-9a23-45ad-a95a-6924d73b23a2"
      },
      "source": [
        "print(vars(examples[0]))"
      ],
      "execution_count": 7,
      "outputs": [
        {
          "output_type": "stream",
          "name": "stdout",
          "text": [
            "{'words': ['it', 'was', 'among', 'these', 'that', 'hinkle', 'identified', 'a', 'photograph', 'of', 'barco', '!', '!'], 'tags': ['PRON', 'VERB', 'ADP', 'DET', 'ADP', 'NOUN', 'VERB', 'DET', 'NOUN', 'ADP', 'NOUN', '.', '.']}\n"
          ]
        }
      ]
    },
    {
      "cell_type": "markdown",
      "metadata": {
        "id": "nUhTrWCWcMcj"
      },
      "source": [
        "Теперь формируем наш датасет"
      ]
    },
    {
      "cell_type": "code",
      "metadata": {
        "id": "LGKkbZUIxokO",
        "scrolled": true,
        "colab": {
          "base_uri": "https://localhost:8080/"
        },
        "outputId": "fabc71c7-c32c-498c-b7ce-4f48f9999be7"
      },
      "source": [
        "# кладем примеры в наш датасет\n",
        "dataset = torchtext.legacy.data.Dataset(examples, fields=[('words', WORD), ('tags', TAG)])\n",
        "\n",
        "train_data, valid_data, test_data = dataset.split(split_ratio=[0.8, 0.1, 0.1])\n",
        "\n",
        "print(f\"Number of training examples: {len(train_data.examples)}\")\n",
        "print(f\"Number of validation examples: {len(valid_data.examples)}\")\n",
        "print(f\"Number of testing examples: {len(test_data.examples)}\")"
      ],
      "execution_count": 8,
      "outputs": [
        {
          "output_type": "stream",
          "name": "stdout",
          "text": [
            "Number of training examples: 842\n",
            "Number of validation examples: 106\n",
            "Number of testing examples: 105\n"
          ]
        }
      ]
    },
    {
      "cell_type": "markdown",
      "metadata": {
        "id": "T89unpppcMcp"
      },
      "source": [
        "Построим словари. Параметр `min_freq` выберете сами. При построении словаря испольузем только **train**"
      ]
    },
    {
      "cell_type": "code",
      "metadata": {
        "id": "tZwkwhlrxoka",
        "scrolled": true,
        "colab": {
          "base_uri": "https://localhost:8080/"
        },
        "outputId": "c451ae50-201a-42f5-9344-20eb85e6297c"
      },
      "source": [
        "WORD.build_vocab(train_data, min_freq=3)\n",
        "TAG.build_vocab(train_data)\n",
        "\n",
        "print(f\"Unique tokens in source (ru) vocabulary: {len(WORD.vocab)}\")\n",
        "print(f\"Unique tokens in target (en) vocabulary: {len(TAG.vocab)}\")\n",
        "\n",
        "print(WORD.vocab.itos[::200])\n",
        "print(TAG.vocab.itos)"
      ],
      "execution_count": 9,
      "outputs": [
        {
          "output_type": "stream",
          "name": "stdout",
          "text": [
            "Unique tokens in source (ru) vocabulary: 732\n",
            "Unique tokens in target (en) vocabulary: 13\n",
            "['<unk>', 'woman', 'becomes', 'happened']\n",
            "['<pad>', 'NOUN', 'VERB', '.', 'DET', 'ADP', 'ADJ', 'PRON', 'ADV', 'CONJ', 'PRT', 'NUM', 'X']\n"
          ]
        }
      ]
    },
    {
      "cell_type": "code",
      "metadata": {
        "id": "vjn07NP-xokl",
        "scrolled": true,
        "colab": {
          "base_uri": "https://localhost:8080/"
        },
        "outputId": "6aeab221-ca85-43aa-b772-c03142c47fbd"
      },
      "source": [
        "print(vars(train_data.examples[9]))"
      ],
      "execution_count": 10,
      "outputs": [
        {
          "output_type": "stream",
          "name": "stdout",
          "text": [
            "{'words': ['he', 'had', 'aged', 'thirty', 'years', ',', 'and', 'his', 'face', ',', 'the', 'color', 'of', 'tallow', ',', 'was', 'crisscrossed', 'with', 'wrinkles', ',', 'as', 'though', 'it', 'had', 'been', 'wrapped', 'in', 'chicken', 'wire', '.'], 'tags': ['PRON', 'VERB', 'VERB', 'NUM', 'NOUN', '.', 'CONJ', 'DET', 'NOUN', '.', 'DET', 'NOUN', 'ADP', 'NOUN', '.', 'VERB', 'VERB', 'ADP', 'NOUN', '.', 'ADP', 'ADP', 'PRON', 'VERB', 'VERB', 'VERB', 'ADP', 'NOUN', 'NOUN', '.']}\n"
          ]
        }
      ]
    },
    {
      "cell_type": "markdown",
      "metadata": {
        "id": "LxgkU4cZcMcz"
      },
      "source": [
        "Посмотрим с насколько большими предложениями мы имеем дело"
      ]
    },
    {
      "cell_type": "code",
      "metadata": {
        "id": "dVpMi1_0xoku",
        "scrolled": true,
        "colab": {
          "base_uri": "https://localhost:8080/",
          "height": 281
        },
        "outputId": "52ad6817-8950-46c6-b969-924bcb45b716"
      },
      "source": [
        "length = map(len, [vars(x)['words'] for x in train_data.examples])\n",
        "\n",
        "plt.figure(figsize=[8, 4])\n",
        "plt.title(\"Length distribution in Train data\")\n",
        "plt.hist(list(length), bins=20);"
      ],
      "execution_count": 11,
      "outputs": [
        {
          "output_type": "display_data",
          "data": {
            "image/png": "[encoded data removed]",
            "text/plain": [
              "<Figure size 576x288 with 1 Axes>"
            ]
          },
          "metadata": {
            "needs_background": "light"
          }
        }
      ]
    },
    {
      "cell_type": "markdown",
      "metadata": {
        "id": "yi28N2RBcMc5"
      },
      "source": [
        "Для обучения `BiLSTM` лучше использовать colab"
      ]
    },
    {
      "cell_type": "code",
      "metadata": {
        "id": "LAGSrqWsxok2",
        "scrolled": true,
        "colab": {
          "base_uri": "https://localhost:8080/"
        },
        "outputId": "bdf5355a-844f-47ac-87e3-9cd8e5192f96"
      },
      "source": [
        "import torch\n",
        "from torch import nn\n",
        "import torch.nn.functional as F\n",
        "import torch.optim as optim\n",
        "\n",
        "device = torch.device('cuda' if torch.cuda.is_available() else 'cpu')\n",
        "device"
      ],
      "execution_count": 12,
      "outputs": [
        {
          "output_type": "execute_result",
          "data": {
            "text/plain": [
              "device(type='cuda')"
            ]
          },
          "metadata": {},
          "execution_count": 12
        }
      ]
    },
    {
      "cell_type": "markdown",
      "metadata": {
        "id": "2DSWm0UjcMc-"
      },
      "source": [
        "Для более быстрого и устойчивого обучения сгруппируем наши данные по батчам"
      ]
    },
    {
      "cell_type": "code",
      "metadata": {
        "id": "dmwAyhNgxok_"
      },
      "source": [
        "# бьем нашу выборку на батч, не забывая сначала отсортировать выборку по длине\n",
        "def _len_sort_key(x):\n",
        "    return len(x.words)\n",
        "\n",
        "BATCH_SIZE = 32\n",
        "\n",
        "train_iterator, valid_iterator, test_iterator = BucketIterator.splits(\n",
        "    (train_data, valid_data, test_data), \n",
        "    batch_size = BATCH_SIZE, \n",
        "    device = device,\n",
        "    sort_key=_len_sort_key\n",
        ")"
      ],
      "execution_count": 13,
      "outputs": []
    },
    {
      "cell_type": "code",
      "metadata": {
        "id": "6aTjW00nxolI",
        "colab": {
          "base_uri": "https://localhost:8080/"
        },
        "outputId": "bef766e4-1f1b-4a5f-aee8-45ea14d2e575"
      },
      "source": [
        "# посмотрим  на количество батчей\n",
        "list(map(len, [train_iterator, valid_iterator, test_iterator]))"
      ],
      "execution_count": 14,
      "outputs": [
        {
          "output_type": "execute_result",
          "data": {
            "text/plain": [
              "[27, 4, 4]"
            ]
          },
          "metadata": {},
          "execution_count": 14
        }
      ]
    },
    {
      "cell_type": "code",
      "metadata": {
        "colab": {
          "base_uri": "https://localhost:8080/"
        },
        "id": "vqFM_3NFdzGf",
        "outputId": "dfbf0836-eceb-4267-8dda-297ade5af726"
      },
      "source": [
        "len(WORD.vocab)"
      ],
      "execution_count": 15,
      "outputs": [
        {
          "output_type": "execute_result",
          "data": {
            "text/plain": [
              "732"
            ]
          },
          "metadata": {},
          "execution_count": 15
        }
      ]
    },
    {
      "cell_type": "markdown",
      "metadata": {
        "id": "zyLQsizhcMdI"
      },
      "source": [
        "### Модель и её обучение"
      ]
    },
    {
      "cell_type": "markdown",
      "metadata": {
        "id": "-i9oHzcrcMdJ"
      },
      "source": [
        "Инициализируем нашу модель"
      ]
    },
    {
      "cell_type": "code",
      "metadata": {
        "id": "Ff7BLWs_xolS",
        "scrolled": true,
        "colab": {
          "base_uri": "https://localhost:8080/"
        },
        "outputId": "3fabdc45-a814-41eb-d90a-187064ecb438"
      },
      "source": [
        "class LSTMTagger(nn.Module):\n",
        "\n",
        "    def __init__(self, input_dim, emb_dim, hid_dim, output_dim, dropout, bidirectional=False):\n",
        "        super().__init__()\n",
        "        \n",
        "        self.bidirectional = bidirectional\n",
        "        self.embeddings = nn.Embedding(input_dim, emb_dim)\n",
        "        self.dropout = nn.Dropout(p=dropout)\n",
        "\n",
        "        self.rnn = nn.LSTM(emb_dim, hid_dim, bidirectional=bidirectional)\n",
        "        \n",
        "        # если bidirectional, то предсказываем на основе конкатенации двух hidden\n",
        "        self.tag = nn.Linear((1 + bidirectional) * hid_dim, output_dim)\n",
        "\n",
        "    def forward(self, sent):\n",
        "        \n",
        "        #sent = [sent len, batch size] \n",
        "        \n",
        "        # не забываем применить dropout к embedding\n",
        "        embedded = self.embeddings(sent)\n",
        "\n",
        "        output, _ = self.rnn(embedded)\n",
        "        #output = [sent len, batch size, hid dim * n directions]\n",
        "        output = self.dropout(output)        \n",
        "        prediction = self.tag(output)    \n",
        "        return prediction\n",
        "        \n",
        "# параметры модели\n",
        "INPUT_DIM = len(WORD.vocab)\n",
        "OUTPUT_DIM = len(TAG.vocab)\n",
        "EMB_DIM = 300\n",
        "HID_DIM = 256\n",
        "DROPOUT = 0.2\n",
        "BIDIRECTIONAL = False\n",
        "\n",
        "model = LSTMTagger(INPUT_DIM, EMB_DIM, HID_DIM, OUTPUT_DIM, DROPOUT, BIDIRECTIONAL).to(device)\n",
        "\n",
        "# инициализируем веса\n",
        "def init_weights(m):\n",
        "    for name, param in m.named_parameters():\n",
        "        nn.init.uniform_(param, -0.08, 0.08)\n",
        "        \n",
        "model.apply(init_weights)"
      ],
      "execution_count": 16,
      "outputs": [
        {
          "output_type": "execute_result",
          "data": {
            "text/plain": [
              "LSTMTagger(\n",
              "  (embeddings): Embedding(732, 300)\n",
              "  (dropout): Dropout(p=0.2, inplace=False)\n",
              "  (rnn): LSTM(300, 256)\n",
              "  (tag): Linear(in_features=256, out_features=13, bias=True)\n",
              ")"
            ]
          },
          "metadata": {},
          "execution_count": 16
        }
      ]
    },
    {
      "cell_type": "markdown",
      "metadata": {
        "id": "EJLqq8IHcMdQ"
      },
      "source": [
        "Подсчитаем количество обучаемых параметров нашей модели"
      ]
    },
    {
      "cell_type": "code",
      "metadata": {
        "id": "_Auu53Kdxolm",
        "colab": {
          "base_uri": "https://localhost:8080/"
        },
        "outputId": "bbedecc6-b45a-4709-f78b-49a57e4b0d9e"
      },
      "source": [
        "def count_parameters(model):\n",
        "    parameters_count = 0\n",
        "    for param in model.parameters():\n",
        "        temp = 1\n",
        "        for j in range(len(param.shape)):\n",
        "            temp *= param.shape[j]\n",
        "\n",
        "        parameters_count += temp\n",
        "        print(param.shape)\n",
        "    return parameters_count\n",
        "\n",
        "print(f'The model has {count_parameters(model):,} trainable parameters')"
      ],
      "execution_count": 17,
      "outputs": [
        {
          "output_type": "stream",
          "name": "stdout",
          "text": [
            "torch.Size([732, 300])\n",
            "torch.Size([1024, 300])\n",
            "torch.Size([1024, 256])\n",
            "torch.Size([1024])\n",
            "torch.Size([1024])\n",
            "torch.Size([13, 256])\n",
            "torch.Size([13])\n",
            "The model has 794,333 trainable parameters\n"
          ]
        }
      ]
    },
    {
      "cell_type": "code",
      "metadata": {
        "colab": {
          "base_uri": "https://localhost:8080/"
        },
        "id": "w0p6pr86d8bH",
        "outputId": "841541fe-8f31-47ec-b11c-9735e73d02cf"
      },
      "source": [
        "# параметры в случае всего датасета\n",
        "print(f'The model has {count_parameters(model):,} trainable parameters')"
      ],
      "execution_count": 117,
      "outputs": [
        {
          "output_type": "stream",
          "name": "stdout",
          "text": [
            "torch.Size([724, 300])\n",
            "torch.Size([1024, 300])\n",
            "torch.Size([1024, 256])\n",
            "torch.Size([1024])\n",
            "torch.Size([1024])\n",
            "torch.Size([13, 256])\n",
            "torch.Size([13])\n",
            "The model has 791,933 trainable parameters\n"
          ]
        }
      ]
    },
    {
      "cell_type": "markdown",
      "metadata": {
        "id": "oSBfvf9HcMd9"
      },
      "source": [
        "Погнали обучать"
      ]
    },
    {
      "cell_type": "code",
      "metadata": {
        "id": "AjD1Y7Rmxolu",
        "scrolled": true
      },
      "source": [
        "PAD_IDX = TAG.vocab.stoi['<pad>']\n",
        "optimizer = optim.Adam(model.parameters(), lr=4e-4)\n",
        "criterion = nn.CrossEntropyLoss(ignore_index = PAD_IDX)\n",
        "\n",
        "def train(model, iterator, optimizer, criterion, clip, train_history=None, valid_history=None):\n",
        "    model.train()\n",
        "    \n",
        "    epoch_loss = 0\n",
        "    history = []\n",
        "    for i, batch in enumerate(iterator):\n",
        "        tags = batch.tags\n",
        "        words = batch.words\n",
        "        optimizer.zero_grad()\n",
        "        output = model(words)\n",
        "        tags = tags.view(-1)\n",
        "        output = output.view(output.shape[0]*output.shape[1],-1)\n",
        "        loss = criterion(output, tags)\n",
        "        epoch_loss += loss\n",
        "        #tags = [sent len, batch size]\n",
        "        #output = [sent len, batch size, output dim]\n",
        "        \n",
        "        \n",
        "        #tags = [sent len * batch size]\n",
        "        #output = [sent len * batch size, output dim]\n",
        "        \n",
        "        loss.backward()\n",
        "        \n",
        "        # Gradient clipping(решение проблемы взрыва граденты), clip - максимальная норма вектора\n",
        "        torch.nn.utils.clip_grad_norm_(model.parameters(), max_norm=clip)\n",
        "        \n",
        "        optimizer.step()\n",
        "        \n",
        "        epoch_loss += loss.item()\n",
        "        \n",
        "        history.append(loss.cpu().data.numpy())\n",
        "        if (i+1)%10==0:\n",
        "            fig, ax = plt.subplots(nrows=1, ncols=2, figsize=(12, 8))\n",
        "\n",
        "            clear_output(True)\n",
        "            ax[0].plot(history, label='train loss')\n",
        "            ax[0].set_xlabel('Batch')\n",
        "            ax[0].set_title('Train loss')\n",
        "            \n",
        "            if train_history is not None:\n",
        "                ax[1].plot(train_history, label='general train history')\n",
        "                ax[1].set_xlabel('Epoch')\n",
        "            if valid_history is not None:\n",
        "                ax[1].plot(valid_history, label='general valid history')\n",
        "            plt.legend()\n",
        "            \n",
        "            plt.show()\n",
        "\n",
        "        \n",
        "    return epoch_loss / len(iterator)\n",
        "\n",
        "def evaluate(model, iterator, criterion):\n",
        "    model.eval()\n",
        "    \n",
        "    epoch_loss = 0\n",
        "    \n",
        "    history = []\n",
        "    \n",
        "    with torch.no_grad():\n",
        "    \n",
        "        for i, batch in enumerate(iterator):\n",
        "            words = batch.words\n",
        "            tags = batch.tags\n",
        "            output = model(words)\n",
        "\n",
        "            #tags = [sent len, batch size]\n",
        "            #output = [sent len, batch size, output dim]\n",
        "\n",
        "            output = output.view(output.shape[0]*output.shape[1],-1)\n",
        "            tags = tags.view(-1)\n",
        "\n",
        "            #tags = [sent len * batch size]\n",
        "            #output = [sent len * batch size, output dim]\n",
        "\n",
        "            loss = criterion(output, tags)\n",
        "            \n",
        "            epoch_loss += loss.item()\n",
        "        \n",
        "    return epoch_loss / len(iterator)\n",
        "\n",
        "def epoch_time(start_time, end_time):\n",
        "    elapsed_time = end_time - start_time\n",
        "    elapsed_mins = int(elapsed_time / 60)\n",
        "    elapsed_secs = int(elapsed_time - (elapsed_mins * 60))\n",
        "    return elapsed_mins, elapsed_secs"
      ],
      "execution_count": 18,
      "outputs": []
    },
    {
      "cell_type": "code",
      "metadata": {
        "id": "TJdXIyTHxol2",
        "scrolled": false
      },
      "source": [
        "import time\n",
        "import math\n",
        "import matplotlib\n",
        "matplotlib.rcParams.update({'figure.figsize': (16, 12), 'font.size': 14})\n",
        "import matplotlib.pyplot as plt\n",
        "%matplotlib inline\n",
        "from IPython.display import clear_output\n",
        "\n",
        "\n",
        "def train_model(model, epochs):\n",
        "    train_history = []\n",
        "    valid_history = []\n",
        "\n",
        "    N_EPOCHS = epochs\n",
        "    CLIP = 3\n",
        "\n",
        "    best_valid_loss = float('inf')\n",
        "\n",
        "    for epoch in range(N_EPOCHS):\n",
        "\n",
        "        start_time = time.time()\n",
        "\n",
        "        train_loss = train(model, train_iterator, optimizer, criterion, CLIP, train_history, valid_history)\n",
        "        valid_loss = evaluate(model, valid_iterator, criterion)\n",
        "\n",
        "        end_time = time.time()\n",
        "\n",
        "        epoch_mins, epoch_secs = epoch_time(start_time, end_time)\n",
        "\n",
        "        if valid_loss < best_valid_loss:\n",
        "            best_valid_loss = valid_loss\n",
        "            torch.save(model.state_dict(), 'best-val-model.pt')\n",
        "\n",
        "        train_history.append(train_loss)\n",
        "        valid_history.append(valid_loss)\n",
        "        print(f'Epoch: {epoch+1:02} | Time: {epoch_mins}m {epoch_secs}s')\n",
        "        print(f'\\tTrain Loss: {train_loss:.3f} | Train PPL: {math.exp(train_loss):7.3f}')\n",
        "        print(f'\\t Val. Loss: {valid_loss:.3f} |  Val. PPL: {math.exp(valid_loss):7.3f}')"
      ],
      "execution_count": 19,
      "outputs": []
    },
    {
      "cell_type": "code",
      "metadata": {
        "colab": {
          "base_uri": "https://localhost:8080/",
          "height": 563
        },
        "id": "5h2ad4qliNxB",
        "outputId": "86487de9-c9b1-4da3-f327-6a4b5f3d4a6b"
      },
      "source": [
        "train_model(model, 35)"
      ],
      "execution_count": 120,
      "outputs": [
        {
          "output_type": "display_data",
          "data": {
            "image/png": "[encoded data removed]",
            "text/plain": [
              "<Figure size 864x576 with 2 Axes>"
            ]
          },
          "metadata": {
            "needs_background": "light"
          }
        },
        {
          "output_type": "stream",
          "name": "stdout",
          "text": [
            "Epoch: 35 | Time: 0m 1s\n",
            "\tTrain Loss: 0.318 | Train PPL:   1.375\n",
            "\t Val. Loss: 0.384 |  Val. PPL:   1.469\n"
          ]
        }
      ]
    },
    {
      "cell_type": "markdown",
      "metadata": {
        "id": "Fr860UPacMeI"
      },
      "source": [
        "### Применение модели"
      ]
    },
    {
      "cell_type": "code",
      "metadata": {
        "id": "5sDAfAq9xol9"
      },
      "source": [
        "def accuracy_model(model, iterator):\n",
        "    model.eval()\n",
        "    \n",
        "    true_pred = 0\n",
        "    num_pred = 0\n",
        "    \n",
        "    with torch.no_grad():\n",
        "        for i, batch in enumerate(iterator):\n",
        "\n",
        "            words = batch.words\n",
        "            tags = batch.tags\n",
        "\n",
        "            output = model(words)\n",
        "            \n",
        "            #output = [sent len, batch size, output dim]\n",
        "            output = output.argmax(dim=2)\n",
        "            \n",
        "            #output = [sent len, batch size]\n",
        "            predict_tags = output.cpu().numpy()\n",
        "            true_tags = tags.cpu().numpy()\n",
        "\n",
        "            true_pred += np.sum((true_tags == predict_tags) & (true_tags != PAD_IDX))\n",
        "            num_pred += np.prod(true_tags.shape) - (true_tags == PAD_IDX).sum()\n",
        "        \n",
        "    return round(true_pred / num_pred * 100, 3)"
      ],
      "execution_count": 20,
      "outputs": []
    },
    {
      "cell_type": "code",
      "metadata": {
        "id": "V2n0H85mxomE",
        "scrolled": true,
        "colab": {
          "base_uri": "https://localhost:8080/"
        },
        "outputId": "6132befd-b446-4624-f687-bce2721b724c"
      },
      "source": [
        "print(\"Accuracy:\", accuracy_model(model, test_iterator), '%')"
      ],
      "execution_count": 122,
      "outputs": [
        {
          "output_type": "stream",
          "name": "stdout",
          "text": [
            "Accuracy: 85.259 %\n"
          ]
        }
      ]
    },
    {
      "cell_type": "markdown",
      "metadata": {
        "id": "FacTKSPJcMeP"
      },
      "source": [
        "Вы можете улучшить качество, изменяя параметры модели. Но чтобы добиться нужного качества, вам неообходимо взять все выборку, а не только категорию `humor`."
      ]
    },
    {
      "cell_type": "code",
      "metadata": {
        "id": "QXqXg0gbcMeR",
        "colab": {
          "base_uri": "https://localhost:8080/",
          "height": 435
        },
        "outputId": "b7d66d1a-53a2-4826-e9ce-66cb5f8be163"
      },
      "source": [
        "\n",
        "brown_tagged_sents = brown.tagged_sents(tagset=\"universal\")\n",
        "\n",
        "pos_data = [list(zip(*sent)) for sent in brown_tagged_sents]\n",
        "print(pos_data[0])\n",
        "\n",
        "# создаем примеры\n",
        "examples = []\n",
        "for words, tags in pos_data:\n",
        "    examples.append(torchtext.legacy.data.Example.fromlist([list(words), list(tags)], fields=[('words', WORD), ('tags', TAG)]))\n",
        "\n",
        "# кладем примеры в наш датасет\n",
        "dataset = torchtext.legacy.data.Dataset(examples, fields=[('words', WORD), ('tags', TAG)])\n",
        "\n",
        "train_data, valid_data, test_data = dataset.split(split_ratio=[0.8, 0.1, 0.1])\n",
        "\n",
        "print(f\"Number of training examples: {len(train_data.examples)}\")\n",
        "print(f\"Number of validation examples: {len(valid_data.examples)}\")\n",
        "print(f\"Number of testing examples: {len(test_data.examples)}\")\n",
        "\n",
        "\n",
        "WORD.build_vocab(train_data, min_freq=10)\n",
        "TAG.build_vocab(train_data)\n",
        "\n",
        "print(f\"Unique tokens in source (ru) vocabulary: {len(WORD.vocab)}\")\n",
        "print(f\"Unique tokens in target (en) vocabulary: {len(TAG.vocab)}\")\n",
        "\n",
        "print(WORD.vocab.itos[::200])\n",
        "print(TAG.vocab.itos)\n",
        "\n",
        "\n",
        "length = map(len, [vars(x)['words'] for x in train_data.examples])\n",
        "\n",
        "plt.figure(figsize=[8, 4])\n",
        "plt.title(\"Length distribution in Train data\")\n",
        "plt.hist(list(length), bins=20);\n",
        "\n",
        "\n",
        "INPUT_DIM = len(WORD.vocab)\n",
        "OUTPUT_DIM = len(TAG.vocab)\n",
        "EMB_DIM = 300\n",
        "HID_DIM = 256\n",
        "DROPOUT = 0.2\n",
        "BIDIRECTIONAL = False\n",
        "\n",
        "\n",
        "model_full = LSTMTagger(INPUT_DIM, EMB_DIM, HID_DIM, OUTPUT_DIM, DROPOUT, BIDIRECTIONAL).to(device)\n",
        "PAD_IDX = TAG.vocab.stoi['<pad>']\n",
        "optimizer = optim.Adam(model_full.parameters(), lr=4e-4)\n",
        "criterion = nn.CrossEntropyLoss(ignore_index = PAD_IDX)"
      ],
      "execution_count": 21,
      "outputs": [
        {
          "output_type": "stream",
          "name": "stdout",
          "text": [
            "[('The', 'Fulton', 'County', 'Grand', 'Jury', 'said', 'Friday', 'an', 'investigation', 'of', \"Atlanta's\", 'recent', 'primary', 'election', 'produced', '``', 'no', 'evidence', \"''\", 'that', 'any', 'irregularities', 'took', 'place', '.'), ('DET', 'NOUN', 'NOUN', 'ADJ', 'NOUN', 'VERB', 'NOUN', 'DET', 'NOUN', 'ADP', 'NOUN', 'ADJ', 'NOUN', 'NOUN', 'VERB', '.', 'DET', 'NOUN', '.', 'ADP', 'DET', 'NOUN', 'VERB', 'NOUN', '.')]\n",
            "Number of training examples: 45872\n",
            "Number of validation examples: 5734\n",
            "Number of testing examples: 5734\n",
            "Unique tokens in source (ru) vocabulary: 7298\n",
            "Unique tokens in target (en) vocabulary: 13\n",
            "['<unk>', 'course', 'office', 'report', 'c', 'sides', 'units', 'selected', 'ancient', 'phil', 'p.', 'trained', 'incident', 'brings', 'normally', 'turns', 'camera', 'testing', 'partially', 'clarity', 'orange', 'shirt', 'widow', 'anticipated', \"who's\", 'revolutionary', 'milling', 'dangers', 'startling', 'humble', 'aqueous', 'orbit', 'cambridge', 'nam', 'assault', 'ideals', 'skies']\n",
            "['<pad>', 'NOUN', 'VERB', '.', 'ADP', 'DET', 'ADJ', 'ADV', 'PRON', 'CONJ', 'PRT', 'NUM', 'X']\n"
          ]
        },
        {
          "output_type": "display_data",
          "data": {
            "image/png": "[encoded data removed]",
            "text/plain": [
              "<Figure size 576x288 with 1 Axes>"
            ]
          },
          "metadata": {
            "needs_background": "light"
          }
        }
      ]
    },
    {
      "cell_type": "code",
      "metadata": {
        "id": "tuRClho8dRGS"
      },
      "source": [
        "train_iterator, valid_iterator, test_iterator = BucketIterator.splits(\n",
        "    (train_data, valid_data, test_data), \n",
        "    batch_size = 128, \n",
        "    device = device,\n",
        "    sort_key=_len_sort_key\n",
        ")"
      ],
      "execution_count": 22,
      "outputs": []
    },
    {
      "cell_type": "code",
      "metadata": {
        "colab": {
          "base_uri": "https://localhost:8080/",
          "height": 563
        },
        "id": "MTdWGd1DdetK",
        "outputId": "3b9e7d9e-a66b-416e-edb4-eef941cd0d11"
      },
      "source": [
        "train_model(model_full, 20)"
      ],
      "execution_count": 23,
      "outputs": [
        {
          "output_type": "display_data",
          "data": {
            "image/png": "[encoded data removed]",
            "text/plain": [
              "<Figure size 864x576 with 2 Axes>"
            ]
          },
          "metadata": {
            "needs_background": "light"
          }
        },
        {
          "output_type": "stream",
          "name": "stdout",
          "text": [
            "Epoch: 20 | Time: 0m 29s\n",
            "\tTrain Loss: 0.131 | Train PPL:   1.139\n",
            "\t Val. Loss: 0.219 |  Val. PPL:   1.245\n"
          ]
        }
      ]
    },
    {
      "cell_type": "code",
      "metadata": {
        "colab": {
          "base_uri": "https://localhost:8080/"
        },
        "id": "nUiWyVnuf_tZ",
        "outputId": "e36ce3cb-043f-487b-a342-fd4ca4a6b892"
      },
      "source": [
        "print(\"Accuracy:\", accuracy_model(model_full, test_iterator), '%')\n",
        "#тут чуть чуть переобучившись"
      ],
      "execution_count": 24,
      "outputs": [
        {
          "output_type": "stream",
          "name": "stdout",
          "text": [
            "Accuracy: 93.767 %\n"
          ]
        }
      ]
    },
    {
      "cell_type": "code",
      "metadata": {
        "id": "QlNw7_Gnnf4U"
      },
      "source": [
        ""
      ],
      "execution_count": null,
      "outputs": []
    },
    {
      "cell_type": "markdown",
      "metadata": {
        "id": "gnpi2R6rcMeU"
      },
      "source": [
        "Вам неоходимо добиться качества не меньше, чем `accuracy = 93 %` "
      ]
    },
    {
      "cell_type": "code",
      "metadata": {
        "id": "TqD1lZuwxomK",
        "scrolled": true
      },
      "source": [
        "best_model = LSTMTagger(INPUT_DIM, EMB_DIM, HID_DIM, OUTPUT_DIM, DROPOUT, BIDIRECTIONAL).to(device)\n",
        "best_model.load_state_dict(torch.load('best-val-model.pt'))\n",
        "assert accuracy_model(best_model, test_iterator) >= 93"
      ],
      "execution_count": 25,
      "outputs": []
    },
    {
      "cell_type": "code",
      "metadata": {
        "colab": {
          "base_uri": "https://localhost:8080/"
        },
        "id": "SAI_UD1enidS",
        "outputId": "4db194b6-efdb-451b-b32f-c591ceb19727"
      },
      "source": [
        "print(\"Accuracy:\", accuracy_model(best_model, test_iterator), '%')"
      ],
      "execution_count": 26,
      "outputs": [
        {
          "output_type": "stream",
          "name": "stdout",
          "text": [
            "Accuracy: 94.348 %\n"
          ]
        }
      ]
    },
    {
      "cell_type": "markdown",
      "metadata": {
        "id": "nVfdJM-lcMeZ"
      },
      "source": [
        "Пример решение нашей задачи:"
      ]
    },
    {
      "cell_type": "code",
      "metadata": {
        "id": "W3GUbwldxomW"
      },
      "source": [
        "def print_tags(model, data):\n",
        "    model.eval()\n",
        "    \n",
        "    with torch.no_grad():\n",
        "        words, _ = data\n",
        "        example = torch.LongTensor([WORD.vocab.stoi[elem] for elem in words]).unsqueeze(1).to(device)\n",
        "        \n",
        "        output = model(example).argmax(dim=-1).cpu().numpy()\n",
        "        tags = [TAG.vocab.itos[int(elem)] for elem in output]\n",
        "\n",
        "        for token, tag in zip(words, tags):\n",
        "            print(f'{token:15s}{tag}')"
      ],
      "execution_count": 31,
      "outputs": []
    },
    {
      "cell_type": "code",
      "metadata": {
        "id": "6djqgrxZoL3G"
      },
      "source": [
        "print_tags(best_model, pos_data[-1])"
      ],
      "execution_count": 32,
      "outputs": []
    },
    {
      "cell_type": "markdown",
      "metadata": {
        "heading_collapsed": true,
        "id": "zMIJDOBmwC6v"
      },
      "source": [
        "## Сравните результаты моделей HiddenMarkov, LstmTagger:\n",
        "* при обучение на маленькой части корпуса, например, на категории humor\n",
        "* при обучении на всем корпусе"
      ]
    },
    {
      "cell_type": "markdown",
      "metadata": {
        "id": "uUjNMJyPoSx6"
      },
      "source": [
        "Итак у нас есть результаты: \n",
        "LstmTagger на Humor: 85.259\n",
        "LstmTagger на всем датасете: 94.348\n",
        "\n",
        "HiddenMarkov на Humor: 88.82\n",
        "Осталось только запустить HiddenMarkov на всем, это сделаем ниже для удобства\n",
        "Cпойлер: ниже мы узнаем что HiddenMarkov получила 96.26 на всем датасете"
      ]
    },
    {
      "cell_type": "code",
      "metadata": {
        "id": "uDdsG2AjO-sp",
        "colab": {
          "base_uri": "https://localhost:8080/"
        },
        "outputId": "aa857aec-7ba3-4366-90db-d3d9bb39678d"
      },
      "source": [
        "brown_tagged_sents = brown.tagged_sents(tagset=\"universal\")\n",
        "# Приведем слова к нижнему регистру\n",
        "my_brown_tagged_sents = []\n",
        "for sent in brown_tagged_sents:\n",
        "    my_brown_tagged_sents.append(list(map(lambda x: (x[0].lower(), x[1]), sent)))\n",
        "my_brown_tagged_sents = np.array(my_brown_tagged_sents)\n",
        "\n",
        "from sklearn.model_selection import train_test_split\n",
        "train_sents, test_sents = train_test_split(my_brown_tagged_sents, random_state=0, test_size=0.1)"
      ],
      "execution_count": 34,
      "outputs": [
        {
          "output_type": "stream",
          "name": "stderr",
          "text": [
            "/usr/local/lib/python3.7/dist-packages/ipykernel_launcher.py:6: VisibleDeprecationWarning: Creating an ndarray from ragged nested sequences (which is a list-or-tuple of lists-or-tuples-or ndarrays with different lengths or shapes) is deprecated. If you meant to do this, you must specify 'dtype=object' when creating the ndarray\n",
            "  \n"
          ]
        }
      ]
    },
    {
      "cell_type": "code",
      "metadata": {
        "colab": {
          "base_uri": "https://localhost:8080/"
        },
        "id": "2DpBHq4TpYl_",
        "outputId": "c17fc7b6-b582-487e-fe16-b3bf6dce9304"
      },
      "source": [
        "HMM = HiddenMarkovModel()\n",
        "HMM.fit(train_sents)"
      ],
      "execution_count": 35,
      "outputs": [
        {
          "output_type": "execute_result",
          "data": {
            "text/plain": [
              "<__main__.HiddenMarkovModel at 0x7f74ce5c5590>"
            ]
          },
          "metadata": {},
          "execution_count": 35
        }
      ]
    },
    {
      "cell_type": "code",
      "metadata": {
        "colab": {
          "base_uri": "https://localhost:8080/"
        },
        "id": "focRIps5pgfx",
        "outputId": "3925c4ce-1883-4e4c-8aeb-3e4a50f86a67"
      },
      "source": [
        "predictions = HMM.predict(test_sents)"
      ],
      "execution_count": 37,
      "outputs": [
        {
          "output_type": "stream",
          "name": "stdout",
          "text": [
            "Index(['.', 'ADJ', 'ADP', 'ADV', 'CONJ', 'DET', 'NOUN', 'NUM', 'PRON', 'PRT',\n",
            "       'VERB', 'X'],\n",
            "      dtype='object')\n",
            "words  Index(['the', ',', '.', 'of', 'and', 'to', 'a', 'in', 'that', 'is',\n",
            "       ...\n",
            "       'second-stage', 'comas', 'electroshocks', 'hillsdale', 'oilman-rancher',\n",
            "       'scolatti', 'mcneil', 'ja', '11-year', '11,744'],\n",
            "      dtype='object', length=47597)\n"
          ]
        }
      ]
    },
    {
      "cell_type": "code",
      "metadata": {
        "id": "w6udOSmjpvWo"
      },
      "source": [
        "def accuracy_score(model, sents, predicts):\n",
        "    true_pred = 0\n",
        "    num_pred = 0\n",
        "\n",
        "    for i, sent in enumerate(sents):\n",
        "        for j, word_pair in enumerate(sent):\n",
        "            tag = word_pair[1]\n",
        "            word = word_pair[0]\n",
        "            if tag == predicts[i][j]:\n",
        "                true_pred += 1\n",
        "            num_pred += 1\n",
        "    \n",
        "    print(\"Accuracy:\", true_pred / num_pred * 100, '%')"
      ],
      "execution_count": 38,
      "outputs": []
    },
    {
      "cell_type": "code",
      "metadata": {
        "colab": {
          "base_uri": "https://localhost:8080/"
        },
        "id": "h0VeHh_hpv1R",
        "outputId": "4a658243-f268-44e1-a5e5-191444c22745"
      },
      "source": [
        "accuracy_score(HMM, test_sents, predictions)"
      ],
      "execution_count": 39,
      "outputs": [
        {
          "output_type": "stream",
          "name": "stdout",
          "text": [
            "Accuracy: 96.26295331104619 %\n"
          ]
        }
      ]
    },
    {
      "cell_type": "code",
      "metadata": {
        "colab": {
          "base_uri": "https://localhost:8080/"
        },
        "id": "ROAGQMo_45mJ",
        "outputId": "555fb383-6d36-48de-a5c8-d5f9985ff412"
      },
      "source": [
        "# проверим напоследок \n",
        "sents = [['He', 'can', 'stay'], ['a', 'cat', 'and', 'a', 'dog'], ['I', 'have', 'a', 'television'],\n",
        "         ['My', 'favourite', 'character']]\n",
        "HMM.predict(sents)"
      ],
      "execution_count": 40,
      "outputs": [
        {
          "output_type": "stream",
          "name": "stdout",
          "text": [
            "Index(['.', 'ADJ', 'ADP', 'ADV', 'CONJ', 'DET', 'NOUN', 'NUM', 'PRON', 'PRT',\n",
            "       'VERB', 'X'],\n",
            "      dtype='object')\n",
            "words  Index(['the', ',', '.', 'of', 'and', 'to', 'a', 'in', 'that', 'is',\n",
            "       ...\n",
            "       'second-stage', 'comas', 'electroshocks', 'hillsdale', 'oilman-rancher',\n",
            "       'scolatti', 'mcneil', 'ja', '11-year', '11,744'],\n",
            "      dtype='object', length=47597)\n"
          ]
        },
        {
          "output_type": "execute_result",
          "data": {
            "text/plain": [
              "OrderedDict([(0, array(['NOUN', 'NOUN', 'NOUN'], dtype='<U4')),\n",
              "             (1, array(['DET', 'NOUN', 'DET', 'DET', 'NOUN'], dtype='<U4')),\n",
              "             (2, array(['NOUN', 'NOUN', 'DET', 'NOUN'], dtype='<U4')),\n",
              "             (3, array(['NOUN', 'NOUN', 'NOUN'], dtype='<U4'))])"
            ]
          },
          "metadata": {},
          "execution_count": 40
        }
      ]
    },
    {
      "cell_type": "code",
      "metadata": {
        "id": "e8d5PlnF5Uuh"
      },
      "source": [
        ""
      ],
      "execution_count": null,
      "outputs": []
    }
  ]
}
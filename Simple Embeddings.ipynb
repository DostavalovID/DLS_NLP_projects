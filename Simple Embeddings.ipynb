{
  "nbformat": 4,
  "nbformat_minor": 0,
  "metadata": {
    "accelerator": "GPU",
    "colab": {
      "name": "Простые эмбеддинги дз",
      "provenance": [],
      "collapsed_sections": [
        "0sUSxk866j1_"
      ]
    },
    "kernelspec": {
      "display_name": "Python 3",
      "language": "python",
      "name": "python3"
    },
    "language_info": {
      "codemirror_mode": {
        "name": "ipython",
        "version": 3
      },
      "file_extension": ".py",
      "mimetype": "text/x-python",
      "name": "python",
      "nbconvert_exporter": "python",
      "pygments_lexer": "ipython3",
      "version": "3.7.2"
    },
    "widgets": {
      "application/vnd.jupyter.widget-state+json": {
        "181f6783be894af4bee745e96cd256ce": {
          "model_module": "@jupyter-widgets/controls",
          "model_name": "HBoxModel",
          "model_module_version": "1.5.0",
          "state": {
            "_view_name": "HBoxView",
            "_dom_classes": [],
            "_model_name": "HBoxModel",
            "_view_module": "@jupyter-widgets/controls",
            "_model_module_version": "1.5.0",
            "_view_count": null,
            "_view_module_version": "1.5.0",
            "box_style": "",
            "layout": "IPY_MODEL_f6aa6a8e6ce74613ab3c78f19b975b5f",
            "_model_module": "@jupyter-widgets/controls",
            "children": [
              "IPY_MODEL_966223197edd4f65893e23077365702f",
              "IPY_MODEL_41a0d96661d244bc9012717eac0d608c",
              "IPY_MODEL_c65d83597c8b4b0cb51000a7a49ec9e7"
            ]
          }
        },
        "f6aa6a8e6ce74613ab3c78f19b975b5f": {
          "model_module": "@jupyter-widgets/base",
          "model_name": "LayoutModel",
          "model_module_version": "1.2.0",
          "state": {
            "_view_name": "LayoutView",
            "grid_template_rows": null,
            "right": null,
            "justify_content": null,
            "_view_module": "@jupyter-widgets/base",
            "overflow": null,
            "_model_module_version": "1.2.0",
            "_view_count": null,
            "flex_flow": null,
            "width": null,
            "min_width": null,
            "border": null,
            "align_items": null,
            "bottom": null,
            "_model_module": "@jupyter-widgets/base",
            "top": null,
            "grid_column": null,
            "overflow_y": null,
            "overflow_x": null,
            "grid_auto_flow": null,
            "grid_area": null,
            "grid_template_columns": null,
            "flex": null,
            "_model_name": "LayoutModel",
            "justify_items": null,
            "grid_row": null,
            "max_height": null,
            "align_content": null,
            "visibility": null,
            "align_self": null,
            "height": null,
            "min_height": null,
            "padding": null,
            "grid_auto_rows": null,
            "grid_gap": null,
            "max_width": null,
            "order": null,
            "_view_module_version": "1.2.0",
            "grid_template_areas": null,
            "object_position": null,
            "object_fit": null,
            "grid_auto_columns": null,
            "margin": null,
            "display": null,
            "left": null
          }
        },
        "966223197edd4f65893e23077365702f": {
          "model_module": "@jupyter-widgets/controls",
          "model_name": "HTMLModel",
          "model_module_version": "1.5.0",
          "state": {
            "_view_name": "HTMLView",
            "style": "IPY_MODEL_3ecc269fcc794d91bc0cb334366e9538",
            "_dom_classes": [],
            "description": "",
            "_model_name": "HTMLModel",
            "placeholder": "​",
            "_view_module": "@jupyter-widgets/controls",
            "_model_module_version": "1.5.0",
            "value": " 27%",
            "_view_count": null,
            "_view_module_version": "1.5.0",
            "description_tooltip": null,
            "_model_module": "@jupyter-widgets/controls",
            "layout": "IPY_MODEL_7583e3de87b9426eb387285e10f85a6f"
          }
        },
        "41a0d96661d244bc9012717eac0d608c": {
          "model_module": "@jupyter-widgets/controls",
          "model_name": "FloatProgressModel",
          "model_module_version": "1.5.0",
          "state": {
            "_view_name": "ProgressView",
            "style": "IPY_MODEL_0b2c9cfc67a14c9f8b7ac4db6c653e83",
            "_dom_classes": [],
            "description": "",
            "_model_name": "FloatProgressModel",
            "bar_style": "danger",
            "max": 3760,
            "_view_module": "@jupyter-widgets/controls",
            "_model_module_version": "1.5.0",
            "value": 1000,
            "_view_count": null,
            "_view_module_version": "1.5.0",
            "orientation": "horizontal",
            "min": 0,
            "description_tooltip": null,
            "_model_module": "@jupyter-widgets/controls",
            "layout": "IPY_MODEL_0064f1f4d091468ea5af10ac5daac302"
          }
        },
        "c65d83597c8b4b0cb51000a7a49ec9e7": {
          "model_module": "@jupyter-widgets/controls",
          "model_name": "HTMLModel",
          "model_module_version": "1.5.0",
          "state": {
            "_view_name": "HTMLView",
            "style": "IPY_MODEL_ac07b1a4261a47099a3cf768541abc28",
            "_dom_classes": [],
            "description": "",
            "_model_name": "HTMLModel",
            "placeholder": "​",
            "_view_module": "@jupyter-widgets/controls",
            "_model_module_version": "1.5.0",
            "value": " 1000/3760 [03:13&lt;09:00,  5.11it/s]",
            "_view_count": null,
            "_view_module_version": "1.5.0",
            "description_tooltip": null,
            "_model_module": "@jupyter-widgets/controls",
            "layout": "IPY_MODEL_d85728ba5b59446b939aba32e26059a8"
          }
        },
        "3ecc269fcc794d91bc0cb334366e9538": {
          "model_module": "@jupyter-widgets/controls",
          "model_name": "DescriptionStyleModel",
          "model_module_version": "1.5.0",
          "state": {
            "_view_name": "StyleView",
            "_model_name": "DescriptionStyleModel",
            "description_width": "",
            "_view_module": "@jupyter-widgets/base",
            "_model_module_version": "1.5.0",
            "_view_count": null,
            "_view_module_version": "1.2.0",
            "_model_module": "@jupyter-widgets/controls"
          }
        },
        "7583e3de87b9426eb387285e10f85a6f": {
          "model_module": "@jupyter-widgets/base",
          "model_name": "LayoutModel",
          "model_module_version": "1.2.0",
          "state": {
            "_view_name": "LayoutView",
            "grid_template_rows": null,
            "right": null,
            "justify_content": null,
            "_view_module": "@jupyter-widgets/base",
            "overflow": null,
            "_model_module_version": "1.2.0",
            "_view_count": null,
            "flex_flow": null,
            "width": null,
            "min_width": null,
            "border": null,
            "align_items": null,
            "bottom": null,
            "_model_module": "@jupyter-widgets/base",
            "top": null,
            "grid_column": null,
            "overflow_y": null,
            "overflow_x": null,
            "grid_auto_flow": null,
            "grid_area": null,
            "grid_template_columns": null,
            "flex": null,
            "_model_name": "LayoutModel",
            "justify_items": null,
            "grid_row": null,
            "max_height": null,
            "align_content": null,
            "visibility": null,
            "align_self": null,
            "height": null,
            "min_height": null,
            "padding": null,
            "grid_auto_rows": null,
            "grid_gap": null,
            "max_width": null,
            "order": null,
            "_view_module_version": "1.2.0",
            "grid_template_areas": null,
            "object_position": null,
            "object_fit": null,
            "grid_auto_columns": null,
            "margin": null,
            "display": null,
            "left": null
          }
        },
        "0b2c9cfc67a14c9f8b7ac4db6c653e83": {
          "model_module": "@jupyter-widgets/controls",
          "model_name": "ProgressStyleModel",
          "model_module_version": "1.5.0",
          "state": {
            "_view_name": "StyleView",
            "_model_name": "ProgressStyleModel",
            "description_width": "",
            "_view_module": "@jupyter-widgets/base",
            "_model_module_version": "1.5.0",
            "_view_count": null,
            "_view_module_version": "1.2.0",
            "bar_color": null,
            "_model_module": "@jupyter-widgets/controls"
          }
        },
        "0064f1f4d091468ea5af10ac5daac302": {
          "model_module": "@jupyter-widgets/base",
          "model_name": "LayoutModel",
          "model_module_version": "1.2.0",
          "state": {
            "_view_name": "LayoutView",
            "grid_template_rows": null,
            "right": null,
            "justify_content": null,
            "_view_module": "@jupyter-widgets/base",
            "overflow": null,
            "_model_module_version": "1.2.0",
            "_view_count": null,
            "flex_flow": null,
            "width": null,
            "min_width": null,
            "border": null,
            "align_items": null,
            "bottom": null,
            "_model_module": "@jupyter-widgets/base",
            "top": null,
            "grid_column": null,
            "overflow_y": null,
            "overflow_x": null,
            "grid_auto_flow": null,
            "grid_area": null,
            "grid_template_columns": null,
            "flex": null,
            "_model_name": "LayoutModel",
            "justify_items": null,
            "grid_row": null,
            "max_height": null,
            "align_content": null,
            "visibility": null,
            "align_self": null,
            "height": null,
            "min_height": null,
            "padding": null,
            "grid_auto_rows": null,
            "grid_gap": null,
            "max_width": null,
            "order": null,
            "_view_module_version": "1.2.0",
            "grid_template_areas": null,
            "object_position": null,
            "object_fit": null,
            "grid_auto_columns": null,
            "margin": null,
            "display": null,
            "left": null
          }
        },
        "ac07b1a4261a47099a3cf768541abc28": {
          "model_module": "@jupyter-widgets/controls",
          "model_name": "DescriptionStyleModel",
          "model_module_version": "1.5.0",
          "state": {
            "_view_name": "StyleView",
            "_model_name": "DescriptionStyleModel",
            "description_width": "",
            "_view_module": "@jupyter-widgets/base",
            "_model_module_version": "1.5.0",
            "_view_count": null,
            "_view_module_version": "1.2.0",
            "_model_module": "@jupyter-widgets/controls"
          }
        },
        "d85728ba5b59446b939aba32e26059a8": {
          "model_module": "@jupyter-widgets/base",
          "model_name": "LayoutModel",
          "model_module_version": "1.2.0",
          "state": {
            "_view_name": "LayoutView",
            "grid_template_rows": null,
            "right": null,
            "justify_content": null,
            "_view_module": "@jupyter-widgets/base",
            "overflow": null,
            "_model_module_version": "1.2.0",
            "_view_count": null,
            "flex_flow": null,
            "width": null,
            "min_width": null,
            "border": null,
            "align_items": null,
            "bottom": null,
            "_model_module": "@jupyter-widgets/base",
            "top": null,
            "grid_column": null,
            "overflow_y": null,
            "overflow_x": null,
            "grid_auto_flow": null,
            "grid_area": null,
            "grid_template_columns": null,
            "flex": null,
            "_model_name": "LayoutModel",
            "justify_items": null,
            "grid_row": null,
            "max_height": null,
            "align_content": null,
            "visibility": null,
            "align_self": null,
            "height": null,
            "min_height": null,
            "padding": null,
            "grid_auto_rows": null,
            "grid_gap": null,
            "max_width": null,
            "order": null,
            "_view_module_version": "1.2.0",
            "grid_template_areas": null,
            "object_position": null,
            "object_fit": null,
            "grid_auto_columns": null,
            "margin": null,
            "display": null,
            "left": null
          }
        },
        "b90c5f2a1c2e4f6dae4d1d675748e354": {
          "model_module": "@jupyter-widgets/controls",
          "model_name": "HBoxModel",
          "model_module_version": "1.5.0",
          "state": {
            "_view_name": "HBoxView",
            "_dom_classes": [],
            "_model_name": "HBoxModel",
            "_view_module": "@jupyter-widgets/controls",
            "_model_module_version": "1.5.0",
            "_view_count": null,
            "_view_module_version": "1.5.0",
            "box_style": "",
            "layout": "IPY_MODEL_1a15080da4fb439180f7e3cab54f6feb",
            "_model_module": "@jupyter-widgets/controls",
            "children": [
              "IPY_MODEL_a08d644030f7427e9437a43cab4f3ad8",
              "IPY_MODEL_d1bad061eec94778b8930d36a786ea47",
              "IPY_MODEL_605ec0d22c034854828b560f9fa74a65"
            ]
          }
        },
        "1a15080da4fb439180f7e3cab54f6feb": {
          "model_module": "@jupyter-widgets/base",
          "model_name": "LayoutModel",
          "model_module_version": "1.2.0",
          "state": {
            "_view_name": "LayoutView",
            "grid_template_rows": null,
            "right": null,
            "justify_content": null,
            "_view_module": "@jupyter-widgets/base",
            "overflow": null,
            "_model_module_version": "1.2.0",
            "_view_count": null,
            "flex_flow": null,
            "width": null,
            "min_width": null,
            "border": null,
            "align_items": null,
            "bottom": null,
            "_model_module": "@jupyter-widgets/base",
            "top": null,
            "grid_column": null,
            "overflow_y": null,
            "overflow_x": null,
            "grid_auto_flow": null,
            "grid_area": null,
            "grid_template_columns": null,
            "flex": null,
            "_model_name": "LayoutModel",
            "justify_items": null,
            "grid_row": null,
            "max_height": null,
            "align_content": null,
            "visibility": null,
            "align_self": null,
            "height": null,
            "min_height": null,
            "padding": null,
            "grid_auto_rows": null,
            "grid_gap": null,
            "max_width": null,
            "order": null,
            "_view_module_version": "1.2.0",
            "grid_template_areas": null,
            "object_position": null,
            "object_fit": null,
            "grid_auto_columns": null,
            "margin": null,
            "display": null,
            "left": null
          }
        },
        "a08d644030f7427e9437a43cab4f3ad8": {
          "model_module": "@jupyter-widgets/controls",
          "model_name": "HTMLModel",
          "model_module_version": "1.5.0",
          "state": {
            "_view_name": "HTMLView",
            "style": "IPY_MODEL_96bd73b6df784294a117e9e5355cd5e5",
            "_dom_classes": [],
            "description": "",
            "_model_name": "HTMLModel",
            "placeholder": "​",
            "_view_module": "@jupyter-widgets/controls",
            "_model_module_version": "1.5.0",
            "value": "100%",
            "_view_count": null,
            "_view_module_version": "1.5.0",
            "description_tooltip": null,
            "_model_module": "@jupyter-widgets/controls",
            "layout": "IPY_MODEL_15bdd72b3dd745899e01f1056f115284"
          }
        },
        "d1bad061eec94778b8930d36a786ea47": {
          "model_module": "@jupyter-widgets/controls",
          "model_name": "FloatProgressModel",
          "model_module_version": "1.5.0",
          "state": {
            "_view_name": "ProgressView",
            "style": "IPY_MODEL_9a4ce5253aef49dab484d2d6effd4777",
            "_dom_classes": [],
            "description": "",
            "_model_name": "FloatProgressModel",
            "bar_style": "success",
            "max": 6,
            "_view_module": "@jupyter-widgets/controls",
            "_model_module_version": "1.5.0",
            "value": 6,
            "_view_count": null,
            "_view_module_version": "1.5.0",
            "orientation": "horizontal",
            "min": 0,
            "description_tooltip": null,
            "_model_module": "@jupyter-widgets/controls",
            "layout": "IPY_MODEL_66f87394467548dd8c8bc5ed8b127c88"
          }
        },
        "605ec0d22c034854828b560f9fa74a65": {
          "model_module": "@jupyter-widgets/controls",
          "model_name": "HTMLModel",
          "model_module_version": "1.5.0",
          "state": {
            "_view_name": "HTMLView",
            "style": "IPY_MODEL_dd4f02dcc74c421cb6aad06e74e259b6",
            "_dom_classes": [],
            "description": "",
            "_model_name": "HTMLModel",
            "placeholder": "​",
            "_view_module": "@jupyter-widgets/controls",
            "_model_module_version": "1.5.0",
            "value": " 6/6 [00:00&lt;00:00, 114.85it/s]",
            "_view_count": null,
            "_view_module_version": "1.5.0",
            "description_tooltip": null,
            "_model_module": "@jupyter-widgets/controls",
            "layout": "IPY_MODEL_5bac7f7354d1405c90dcaa353e5af78b"
          }
        },
        "96bd73b6df784294a117e9e5355cd5e5": {
          "model_module": "@jupyter-widgets/controls",
          "model_name": "DescriptionStyleModel",
          "model_module_version": "1.5.0",
          "state": {
            "_view_name": "StyleView",
            "_model_name": "DescriptionStyleModel",
            "description_width": "",
            "_view_module": "@jupyter-widgets/base",
            "_model_module_version": "1.5.0",
            "_view_count": null,
            "_view_module_version": "1.2.0",
            "_model_module": "@jupyter-widgets/controls"
          }
        },
        "15bdd72b3dd745899e01f1056f115284": {
          "model_module": "@jupyter-widgets/base",
          "model_name": "LayoutModel",
          "model_module_version": "1.2.0",
          "state": {
            "_view_name": "LayoutView",
            "grid_template_rows": null,
            "right": null,
            "justify_content": null,
            "_view_module": "@jupyter-widgets/base",
            "overflow": null,
            "_model_module_version": "1.2.0",
            "_view_count": null,
            "flex_flow": null,
            "width": null,
            "min_width": null,
            "border": null,
            "align_items": null,
            "bottom": null,
            "_model_module": "@jupyter-widgets/base",
            "top": null,
            "grid_column": null,
            "overflow_y": null,
            "overflow_x": null,
            "grid_auto_flow": null,
            "grid_area": null,
            "grid_template_columns": null,
            "flex": null,
            "_model_name": "LayoutModel",
            "justify_items": null,
            "grid_row": null,
            "max_height": null,
            "align_content": null,
            "visibility": null,
            "align_self": null,
            "height": null,
            "min_height": null,
            "padding": null,
            "grid_auto_rows": null,
            "grid_gap": null,
            "max_width": null,
            "order": null,
            "_view_module_version": "1.2.0",
            "grid_template_areas": null,
            "object_position": null,
            "object_fit": null,
            "grid_auto_columns": null,
            "margin": null,
            "display": null,
            "left": null
          }
        },
        "9a4ce5253aef49dab484d2d6effd4777": {
          "model_module": "@jupyter-widgets/controls",
          "model_name": "ProgressStyleModel",
          "model_module_version": "1.5.0",
          "state": {
            "_view_name": "StyleView",
            "_model_name": "ProgressStyleModel",
            "description_width": "",
            "_view_module": "@jupyter-widgets/base",
            "_model_module_version": "1.5.0",
            "_view_count": null,
            "_view_module_version": "1.2.0",
            "bar_color": null,
            "_model_module": "@jupyter-widgets/controls"
          }
        },
        "66f87394467548dd8c8bc5ed8b127c88": {
          "model_module": "@jupyter-widgets/base",
          "model_name": "LayoutModel",
          "model_module_version": "1.2.0",
          "state": {
            "_view_name": "LayoutView",
            "grid_template_rows": null,
            "right": null,
            "justify_content": null,
            "_view_module": "@jupyter-widgets/base",
            "overflow": null,
            "_model_module_version": "1.2.0",
            "_view_count": null,
            "flex_flow": null,
            "width": null,
            "min_width": null,
            "border": null,
            "align_items": null,
            "bottom": null,
            "_model_module": "@jupyter-widgets/base",
            "top": null,
            "grid_column": null,
            "overflow_y": null,
            "overflow_x": null,
            "grid_auto_flow": null,
            "grid_area": null,
            "grid_template_columns": null,
            "flex": null,
            "_model_name": "LayoutModel",
            "justify_items": null,
            "grid_row": null,
            "max_height": null,
            "align_content": null,
            "visibility": null,
            "align_self": null,
            "height": null,
            "min_height": null,
            "padding": null,
            "grid_auto_rows": null,
            "grid_gap": null,
            "max_width": null,
            "order": null,
            "_view_module_version": "1.2.0",
            "grid_template_areas": null,
            "object_position": null,
            "object_fit": null,
            "grid_auto_columns": null,
            "margin": null,
            "display": null,
            "left": null
          }
        },
        "dd4f02dcc74c421cb6aad06e74e259b6": {
          "model_module": "@jupyter-widgets/controls",
          "model_name": "DescriptionStyleModel",
          "model_module_version": "1.5.0",
          "state": {
            "_view_name": "StyleView",
            "_model_name": "DescriptionStyleModel",
            "description_width": "",
            "_view_module": "@jupyter-widgets/base",
            "_model_module_version": "1.5.0",
            "_view_count": null,
            "_view_module_version": "1.2.0",
            "_model_module": "@jupyter-widgets/controls"
          }
        },
        "5bac7f7354d1405c90dcaa353e5af78b": {
          "model_module": "@jupyter-widgets/base",
          "model_name": "LayoutModel",
          "model_module_version": "1.2.0",
          "state": {
            "_view_name": "LayoutView",
            "grid_template_rows": null,
            "right": null,
            "justify_content": null,
            "_view_module": "@jupyter-widgets/base",
            "overflow": null,
            "_model_module_version": "1.2.0",
            "_view_count": null,
            "flex_flow": null,
            "width": null,
            "min_width": null,
            "border": null,
            "align_items": null,
            "bottom": null,
            "_model_module": "@jupyter-widgets/base",
            "top": null,
            "grid_column": null,
            "overflow_y": null,
            "overflow_x": null,
            "grid_auto_flow": null,
            "grid_area": null,
            "grid_template_columns": null,
            "flex": null,
            "_model_name": "LayoutModel",
            "justify_items": null,
            "grid_row": null,
            "max_height": null,
            "align_content": null,
            "visibility": null,
            "align_self": null,
            "height": null,
            "min_height": null,
            "padding": null,
            "grid_auto_rows": null,
            "grid_gap": null,
            "max_width": null,
            "order": null,
            "_view_module_version": "1.2.0",
            "grid_template_areas": null,
            "object_position": null,
            "object_fit": null,
            "grid_auto_columns": null,
            "margin": null,
            "display": null,
            "left": null
          }
        },
        "ca59b338096c4d16b807c39701081415": {
          "model_module": "@jupyter-widgets/controls",
          "model_name": "HBoxModel",
          "model_module_version": "1.5.0",
          "state": {
            "_view_name": "HBoxView",
            "_dom_classes": [],
            "_model_name": "HBoxModel",
            "_view_module": "@jupyter-widgets/controls",
            "_model_module_version": "1.5.0",
            "_view_count": null,
            "_view_module_version": "1.5.0",
            "box_style": "",
            "layout": "IPY_MODEL_b457302cb683423caa5dc037019c19cf",
            "_model_module": "@jupyter-widgets/controls",
            "children": [
              "IPY_MODEL_c1277b9d00fc47098d20bcada315a28d",
              "IPY_MODEL_cf74606fde074d5c830c44198da330f8",
              "IPY_MODEL_5370bee161a94ca9aa07c01a9a8405bc"
            ]
          }
        },
        "b457302cb683423caa5dc037019c19cf": {
          "model_module": "@jupyter-widgets/base",
          "model_name": "LayoutModel",
          "model_module_version": "1.2.0",
          "state": {
            "_view_name": "LayoutView",
            "grid_template_rows": null,
            "right": null,
            "justify_content": null,
            "_view_module": "@jupyter-widgets/base",
            "overflow": null,
            "_model_module_version": "1.2.0",
            "_view_count": null,
            "flex_flow": null,
            "width": null,
            "min_width": null,
            "border": null,
            "align_items": null,
            "bottom": null,
            "_model_module": "@jupyter-widgets/base",
            "top": null,
            "grid_column": null,
            "overflow_y": null,
            "overflow_x": null,
            "grid_auto_flow": null,
            "grid_area": null,
            "grid_template_columns": null,
            "flex": null,
            "_model_name": "LayoutModel",
            "justify_items": null,
            "grid_row": null,
            "max_height": null,
            "align_content": null,
            "visibility": null,
            "align_self": null,
            "height": null,
            "min_height": null,
            "padding": null,
            "grid_auto_rows": null,
            "grid_gap": null,
            "max_width": null,
            "order": null,
            "_view_module_version": "1.2.0",
            "grid_template_areas": null,
            "object_position": null,
            "object_fit": null,
            "grid_auto_columns": null,
            "margin": null,
            "display": null,
            "left": null
          }
        },
        "c1277b9d00fc47098d20bcada315a28d": {
          "model_module": "@jupyter-widgets/controls",
          "model_name": "HTMLModel",
          "model_module_version": "1.5.0",
          "state": {
            "_view_name": "HTMLView",
            "style": "IPY_MODEL_53239293e91740e9a0773b6673f6f817",
            "_dom_classes": [],
            "description": "",
            "_model_name": "HTMLModel",
            "placeholder": "​",
            "_view_module": "@jupyter-widgets/controls",
            "_model_module_version": "1.5.0",
            "value": "100%",
            "_view_count": null,
            "_view_module_version": "1.5.0",
            "description_tooltip": null,
            "_model_module": "@jupyter-widgets/controls",
            "layout": "IPY_MODEL_871be9990c0c468bb8f1c50d390da71d"
          }
        },
        "cf74606fde074d5c830c44198da330f8": {
          "model_module": "@jupyter-widgets/controls",
          "model_name": "FloatProgressModel",
          "model_module_version": "1.5.0",
          "state": {
            "_view_name": "ProgressView",
            "style": "IPY_MODEL_d66d21816742498397ed5ab59a4be804",
            "_dom_classes": [],
            "description": "",
            "_model_name": "FloatProgressModel",
            "bar_style": "success",
            "max": 6,
            "_view_module": "@jupyter-widgets/controls",
            "_model_module_version": "1.5.0",
            "value": 6,
            "_view_count": null,
            "_view_module_version": "1.5.0",
            "orientation": "horizontal",
            "min": 0,
            "description_tooltip": null,
            "_model_module": "@jupyter-widgets/controls",
            "layout": "IPY_MODEL_02e787f015a14f48a0b844da0f3f4c05"
          }
        },
        "5370bee161a94ca9aa07c01a9a8405bc": {
          "model_module": "@jupyter-widgets/controls",
          "model_name": "HTMLModel",
          "model_module_version": "1.5.0",
          "state": {
            "_view_name": "HTMLView",
            "style": "IPY_MODEL_659f9014e0644a81826e12668ca2cc08",
            "_dom_classes": [],
            "description": "",
            "_model_name": "HTMLModel",
            "placeholder": "​",
            "_view_module": "@jupyter-widgets/controls",
            "_model_module_version": "1.5.0",
            "value": " 6/6 [00:00&lt;00:00, 101.31it/s]",
            "_view_count": null,
            "_view_module_version": "1.5.0",
            "description_tooltip": null,
            "_model_module": "@jupyter-widgets/controls",
            "layout": "IPY_MODEL_e61dc2ea902a4cc9bffa592b9d5046ce"
          }
        },
        "53239293e91740e9a0773b6673f6f817": {
          "model_module": "@jupyter-widgets/controls",
          "model_name": "DescriptionStyleModel",
          "model_module_version": "1.5.0",
          "state": {
            "_view_name": "StyleView",
            "_model_name": "DescriptionStyleModel",
            "description_width": "",
            "_view_module": "@jupyter-widgets/base",
            "_model_module_version": "1.5.0",
            "_view_count": null,
            "_view_module_version": "1.2.0",
            "_model_module": "@jupyter-widgets/controls"
          }
        },
        "871be9990c0c468bb8f1c50d390da71d": {
          "model_module": "@jupyter-widgets/base",
          "model_name": "LayoutModel",
          "model_module_version": "1.2.0",
          "state": {
            "_view_name": "LayoutView",
            "grid_template_rows": null,
            "right": null,
            "justify_content": null,
            "_view_module": "@jupyter-widgets/base",
            "overflow": null,
            "_model_module_version": "1.2.0",
            "_view_count": null,
            "flex_flow": null,
            "width": null,
            "min_width": null,
            "border": null,
            "align_items": null,
            "bottom": null,
            "_model_module": "@jupyter-widgets/base",
            "top": null,
            "grid_column": null,
            "overflow_y": null,
            "overflow_x": null,
            "grid_auto_flow": null,
            "grid_area": null,
            "grid_template_columns": null,
            "flex": null,
            "_model_name": "LayoutModel",
            "justify_items": null,
            "grid_row": null,
            "max_height": null,
            "align_content": null,
            "visibility": null,
            "align_self": null,
            "height": null,
            "min_height": null,
            "padding": null,
            "grid_auto_rows": null,
            "grid_gap": null,
            "max_width": null,
            "order": null,
            "_view_module_version": "1.2.0",
            "grid_template_areas": null,
            "object_position": null,
            "object_fit": null,
            "grid_auto_columns": null,
            "margin": null,
            "display": null,
            "left": null
          }
        },
        "d66d21816742498397ed5ab59a4be804": {
          "model_module": "@jupyter-widgets/controls",
          "model_name": "ProgressStyleModel",
          "model_module_version": "1.5.0",
          "state": {
            "_view_name": "StyleView",
            "_model_name": "ProgressStyleModel",
            "description_width": "",
            "_view_module": "@jupyter-widgets/base",
            "_model_module_version": "1.5.0",
            "_view_count": null,
            "_view_module_version": "1.2.0",
            "bar_color": null,
            "_model_module": "@jupyter-widgets/controls"
          }
        },
        "02e787f015a14f48a0b844da0f3f4c05": {
          "model_module": "@jupyter-widgets/base",
          "model_name": "LayoutModel",
          "model_module_version": "1.2.0",
          "state": {
            "_view_name": "LayoutView",
            "grid_template_rows": null,
            "right": null,
            "justify_content": null,
            "_view_module": "@jupyter-widgets/base",
            "overflow": null,
            "_model_module_version": "1.2.0",
            "_view_count": null,
            "flex_flow": null,
            "width": null,
            "min_width": null,
            "border": null,
            "align_items": null,
            "bottom": null,
            "_model_module": "@jupyter-widgets/base",
            "top": null,
            "grid_column": null,
            "overflow_y": null,
            "overflow_x": null,
            "grid_auto_flow": null,
            "grid_area": null,
            "grid_template_columns": null,
            "flex": null,
            "_model_name": "LayoutModel",
            "justify_items": null,
            "grid_row": null,
            "max_height": null,
            "align_content": null,
            "visibility": null,
            "align_self": null,
            "height": null,
            "min_height": null,
            "padding": null,
            "grid_auto_rows": null,
            "grid_gap": null,
            "max_width": null,
            "order": null,
            "_view_module_version": "1.2.0",
            "grid_template_areas": null,
            "object_position": null,
            "object_fit": null,
            "grid_auto_columns": null,
            "margin": null,
            "display": null,
            "left": null
          }
        },
        "659f9014e0644a81826e12668ca2cc08": {
          "model_module": "@jupyter-widgets/controls",
          "model_name": "DescriptionStyleModel",
          "model_module_version": "1.5.0",
          "state": {
            "_view_name": "StyleView",
            "_model_name": "DescriptionStyleModel",
            "description_width": "",
            "_view_module": "@jupyter-widgets/base",
            "_model_module_version": "1.5.0",
            "_view_count": null,
            "_view_module_version": "1.2.0",
            "_model_module": "@jupyter-widgets/controls"
          }
        },
        "e61dc2ea902a4cc9bffa592b9d5046ce": {
          "model_module": "@jupyter-widgets/base",
          "model_name": "LayoutModel",
          "model_module_version": "1.2.0",
          "state": {
            "_view_name": "LayoutView",
            "grid_template_rows": null,
            "right": null,
            "justify_content": null,
            "_view_module": "@jupyter-widgets/base",
            "overflow": null,
            "_model_module_version": "1.2.0",
            "_view_count": null,
            "flex_flow": null,
            "width": null,
            "min_width": null,
            "border": null,
            "align_items": null,
            "bottom": null,
            "_model_module": "@jupyter-widgets/base",
            "top": null,
            "grid_column": null,
            "overflow_y": null,
            "overflow_x": null,
            "grid_auto_flow": null,
            "grid_area": null,
            "grid_template_columns": null,
            "flex": null,
            "_model_name": "LayoutModel",
            "justify_items": null,
            "grid_row": null,
            "max_height": null,
            "align_content": null,
            "visibility": null,
            "align_self": null,
            "height": null,
            "min_height": null,
            "padding": null,
            "grid_auto_rows": null,
            "grid_gap": null,
            "max_width": null,
            "order": null,
            "_view_module_version": "1.2.0",
            "grid_template_areas": null,
            "object_position": null,
            "object_fit": null,
            "grid_auto_columns": null,
            "margin": null,
            "display": null,
            "left": null
          }
        },
        "47919544ce1749329c0634fdb191034e": {
          "model_module": "@jupyter-widgets/controls",
          "model_name": "HBoxModel",
          "model_module_version": "1.5.0",
          "state": {
            "_view_name": "HBoxView",
            "_dom_classes": [],
            "_model_name": "HBoxModel",
            "_view_module": "@jupyter-widgets/controls",
            "_model_module_version": "1.5.0",
            "_view_count": null,
            "_view_module_version": "1.5.0",
            "box_style": "",
            "layout": "IPY_MODEL_34191284ba3b47fb99d08f394e53c10a",
            "_model_module": "@jupyter-widgets/controls",
            "children": [
              "IPY_MODEL_553b2a3b1a3544a58025b83b1a20243e",
              "IPY_MODEL_f02689aaba694a5abfe5ab7bd0ddbea8",
              "IPY_MODEL_b41740b4bf61486ea0f48b5a1cd6ae9f"
            ]
          }
        },
        "34191284ba3b47fb99d08f394e53c10a": {
          "model_module": "@jupyter-widgets/base",
          "model_name": "LayoutModel",
          "model_module_version": "1.2.0",
          "state": {
            "_view_name": "LayoutView",
            "grid_template_rows": null,
            "right": null,
            "justify_content": null,
            "_view_module": "@jupyter-widgets/base",
            "overflow": null,
            "_model_module_version": "1.2.0",
            "_view_count": null,
            "flex_flow": null,
            "width": null,
            "min_width": null,
            "border": null,
            "align_items": null,
            "bottom": null,
            "_model_module": "@jupyter-widgets/base",
            "top": null,
            "grid_column": null,
            "overflow_y": null,
            "overflow_x": null,
            "grid_auto_flow": null,
            "grid_area": null,
            "grid_template_columns": null,
            "flex": null,
            "_model_name": "LayoutModel",
            "justify_items": null,
            "grid_row": null,
            "max_height": null,
            "align_content": null,
            "visibility": null,
            "align_self": null,
            "height": null,
            "min_height": null,
            "padding": null,
            "grid_auto_rows": null,
            "grid_gap": null,
            "max_width": null,
            "order": null,
            "_view_module_version": "1.2.0",
            "grid_template_areas": null,
            "object_position": null,
            "object_fit": null,
            "grid_auto_columns": null,
            "margin": null,
            "display": null,
            "left": null
          }
        },
        "553b2a3b1a3544a58025b83b1a20243e": {
          "model_module": "@jupyter-widgets/controls",
          "model_name": "HTMLModel",
          "model_module_version": "1.5.0",
          "state": {
            "_view_name": "HTMLView",
            "style": "IPY_MODEL_f47f8dc376ed4b98853ae34cec8949ac",
            "_dom_classes": [],
            "description": "",
            "_model_name": "HTMLModel",
            "placeholder": "​",
            "_view_module": "@jupyter-widgets/controls",
            "_model_module_version": "1.5.0",
            "value": " 27%",
            "_view_count": null,
            "_view_module_version": "1.5.0",
            "description_tooltip": null,
            "_model_module": "@jupyter-widgets/controls",
            "layout": "IPY_MODEL_e80d6b3cd4474626a53aaaec4135aa0c"
          }
        },
        "f02689aaba694a5abfe5ab7bd0ddbea8": {
          "model_module": "@jupyter-widgets/controls",
          "model_name": "FloatProgressModel",
          "model_module_version": "1.5.0",
          "state": {
            "_view_name": "ProgressView",
            "style": "IPY_MODEL_8abedc130c5c4f16b06e0bc1637d57bb",
            "_dom_classes": [],
            "description": "",
            "_model_name": "FloatProgressModel",
            "bar_style": "danger",
            "max": 3760,
            "_view_module": "@jupyter-widgets/controls",
            "_model_module_version": "1.5.0",
            "value": 1000,
            "_view_count": null,
            "_view_module_version": "1.5.0",
            "orientation": "horizontal",
            "min": 0,
            "description_tooltip": null,
            "_model_module": "@jupyter-widgets/controls",
            "layout": "IPY_MODEL_2b7b83cbc22743b19dc5cd6f311f3bbd"
          }
        },
        "b41740b4bf61486ea0f48b5a1cd6ae9f": {
          "model_module": "@jupyter-widgets/controls",
          "model_name": "HTMLModel",
          "model_module_version": "1.5.0",
          "state": {
            "_view_name": "HTMLView",
            "style": "IPY_MODEL_b87868739cb146b2bf64fc45ff5b7815",
            "_dom_classes": [],
            "description": "",
            "_model_name": "HTMLModel",
            "placeholder": "​",
            "_view_module": "@jupyter-widgets/controls",
            "_model_module_version": "1.5.0",
            "value": " 1000/3760 [03:22&lt;09:19,  4.94it/s]",
            "_view_count": null,
            "_view_module_version": "1.5.0",
            "description_tooltip": null,
            "_model_module": "@jupyter-widgets/controls",
            "layout": "IPY_MODEL_059e73a687204886a51c40c63db8bc7e"
          }
        },
        "f47f8dc376ed4b98853ae34cec8949ac": {
          "model_module": "@jupyter-widgets/controls",
          "model_name": "DescriptionStyleModel",
          "model_module_version": "1.5.0",
          "state": {
            "_view_name": "StyleView",
            "_model_name": "DescriptionStyleModel",
            "description_width": "",
            "_view_module": "@jupyter-widgets/base",
            "_model_module_version": "1.5.0",
            "_view_count": null,
            "_view_module_version": "1.2.0",
            "_model_module": "@jupyter-widgets/controls"
          }
        },
        "e80d6b3cd4474626a53aaaec4135aa0c": {
          "model_module": "@jupyter-widgets/base",
          "model_name": "LayoutModel",
          "model_module_version": "1.2.0",
          "state": {
            "_view_name": "LayoutView",
            "grid_template_rows": null,
            "right": null,
            "justify_content": null,
            "_view_module": "@jupyter-widgets/base",
            "overflow": null,
            "_model_module_version": "1.2.0",
            "_view_count": null,
            "flex_flow": null,
            "width": null,
            "min_width": null,
            "border": null,
            "align_items": null,
            "bottom": null,
            "_model_module": "@jupyter-widgets/base",
            "top": null,
            "grid_column": null,
            "overflow_y": null,
            "overflow_x": null,
            "grid_auto_flow": null,
            "grid_area": null,
            "grid_template_columns": null,
            "flex": null,
            "_model_name": "LayoutModel",
            "justify_items": null,
            "grid_row": null,
            "max_height": null,
            "align_content": null,
            "visibility": null,
            "align_self": null,
            "height": null,
            "min_height": null,
            "padding": null,
            "grid_auto_rows": null,
            "grid_gap": null,
            "max_width": null,
            "order": null,
            "_view_module_version": "1.2.0",
            "grid_template_areas": null,
            "object_position": null,
            "object_fit": null,
            "grid_auto_columns": null,
            "margin": null,
            "display": null,
            "left": null
          }
        },
        "8abedc130c5c4f16b06e0bc1637d57bb": {
          "model_module": "@jupyter-widgets/controls",
          "model_name": "ProgressStyleModel",
          "model_module_version": "1.5.0",
          "state": {
            "_view_name": "StyleView",
            "_model_name": "ProgressStyleModel",
            "description_width": "",
            "_view_module": "@jupyter-widgets/base",
            "_model_module_version": "1.5.0",
            "_view_count": null,
            "_view_module_version": "1.2.0",
            "bar_color": null,
            "_model_module": "@jupyter-widgets/controls"
          }
        },
        "2b7b83cbc22743b19dc5cd6f311f3bbd": {
          "model_module": "@jupyter-widgets/base",
          "model_name": "LayoutModel",
          "model_module_version": "1.2.0",
          "state": {
            "_view_name": "LayoutView",
            "grid_template_rows": null,
            "right": null,
            "justify_content": null,
            "_view_module": "@jupyter-widgets/base",
            "overflow": null,
            "_model_module_version": "1.2.0",
            "_view_count": null,
            "flex_flow": null,
            "width": null,
            "min_width": null,
            "border": null,
            "align_items": null,
            "bottom": null,
            "_model_module": "@jupyter-widgets/base",
            "top": null,
            "grid_column": null,
            "overflow_y": null,
            "overflow_x": null,
            "grid_auto_flow": null,
            "grid_area": null,
            "grid_template_columns": null,
            "flex": null,
            "_model_name": "LayoutModel",
            "justify_items": null,
            "grid_row": null,
            "max_height": null,
            "align_content": null,
            "visibility": null,
            "align_self": null,
            "height": null,
            "min_height": null,
            "padding": null,
            "grid_auto_rows": null,
            "grid_gap": null,
            "max_width": null,
            "order": null,
            "_view_module_version": "1.2.0",
            "grid_template_areas": null,
            "object_position": null,
            "object_fit": null,
            "grid_auto_columns": null,
            "margin": null,
            "display": null,
            "left": null
          }
        },
        "b87868739cb146b2bf64fc45ff5b7815": {
          "model_module": "@jupyter-widgets/controls",
          "model_name": "DescriptionStyleModel",
          "model_module_version": "1.5.0",
          "state": {
            "_view_name": "StyleView",
            "_model_name": "DescriptionStyleModel",
            "description_width": "",
            "_view_module": "@jupyter-widgets/base",
            "_model_module_version": "1.5.0",
            "_view_count": null,
            "_view_module_version": "1.2.0",
            "_model_module": "@jupyter-widgets/controls"
          }
        },
        "059e73a687204886a51c40c63db8bc7e": {
          "model_module": "@jupyter-widgets/base",
          "model_name": "LayoutModel",
          "model_module_version": "1.2.0",
          "state": {
            "_view_name": "LayoutView",
            "grid_template_rows": null,
            "right": null,
            "justify_content": null,
            "_view_module": "@jupyter-widgets/base",
            "overflow": null,
            "_model_module_version": "1.2.0",
            "_view_count": null,
            "flex_flow": null,
            "width": null,
            "min_width": null,
            "border": null,
            "align_items": null,
            "bottom": null,
            "_model_module": "@jupyter-widgets/base",
            "top": null,
            "grid_column": null,
            "overflow_y": null,
            "overflow_x": null,
            "grid_auto_flow": null,
            "grid_area": null,
            "grid_template_columns": null,
            "flex": null,
            "_model_name": "LayoutModel",
            "justify_items": null,
            "grid_row": null,
            "max_height": null,
            "align_content": null,
            "visibility": null,
            "align_self": null,
            "height": null,
            "min_height": null,
            "padding": null,
            "grid_auto_rows": null,
            "grid_gap": null,
            "max_width": null,
            "order": null,
            "_view_module_version": "1.2.0",
            "grid_template_areas": null,
            "object_position": null,
            "object_fit": null,
            "grid_auto_columns": null,
            "margin": null,
            "display": null,
            "left": null
          }
        },
        "8f11199ef7e84f88b37c8f84fca324e3": {
          "model_module": "@jupyter-widgets/controls",
          "model_name": "HBoxModel",
          "model_module_version": "1.5.0",
          "state": {
            "_view_name": "HBoxView",
            "_dom_classes": [],
            "_model_name": "HBoxModel",
            "_view_module": "@jupyter-widgets/controls",
            "_model_module_version": "1.5.0",
            "_view_count": null,
            "_view_module_version": "1.5.0",
            "box_style": "",
            "layout": "IPY_MODEL_b00e4999bfd6407cad2d1bbaf0bd4203",
            "_model_module": "@jupyter-widgets/controls",
            "children": [
              "IPY_MODEL_30a5364bf14b48eca73749020d135227",
              "IPY_MODEL_af2fffab053a4673a637ae6da23f6d95",
              "IPY_MODEL_8d9731d8b65d42fb9fa94fb6c96811f7"
            ]
          }
        },
        "b00e4999bfd6407cad2d1bbaf0bd4203": {
          "model_module": "@jupyter-widgets/base",
          "model_name": "LayoutModel",
          "model_module_version": "1.2.0",
          "state": {
            "_view_name": "LayoutView",
            "grid_template_rows": null,
            "right": null,
            "justify_content": null,
            "_view_module": "@jupyter-widgets/base",
            "overflow": null,
            "_model_module_version": "1.2.0",
            "_view_count": null,
            "flex_flow": null,
            "width": null,
            "min_width": null,
            "border": null,
            "align_items": null,
            "bottom": null,
            "_model_module": "@jupyter-widgets/base",
            "top": null,
            "grid_column": null,
            "overflow_y": null,
            "overflow_x": null,
            "grid_auto_flow": null,
            "grid_area": null,
            "grid_template_columns": null,
            "flex": null,
            "_model_name": "LayoutModel",
            "justify_items": null,
            "grid_row": null,
            "max_height": null,
            "align_content": null,
            "visibility": null,
            "align_self": null,
            "height": null,
            "min_height": null,
            "padding": null,
            "grid_auto_rows": null,
            "grid_gap": null,
            "max_width": null,
            "order": null,
            "_view_module_version": "1.2.0",
            "grid_template_areas": null,
            "object_position": null,
            "object_fit": null,
            "grid_auto_columns": null,
            "margin": null,
            "display": null,
            "left": null
          }
        },
        "30a5364bf14b48eca73749020d135227": {
          "model_module": "@jupyter-widgets/controls",
          "model_name": "HTMLModel",
          "model_module_version": "1.5.0",
          "state": {
            "_view_name": "HTMLView",
            "style": "IPY_MODEL_4c891cfcbacf48a7b22a350b9d206c12",
            "_dom_classes": [],
            "description": "",
            "_model_name": "HTMLModel",
            "placeholder": "​",
            "_view_module": "@jupyter-widgets/controls",
            "_model_module_version": "1.5.0",
            "value": "100%",
            "_view_count": null,
            "_view_module_version": "1.5.0",
            "description_tooltip": null,
            "_model_module": "@jupyter-widgets/controls",
            "layout": "IPY_MODEL_7e5f6c7acd5e4530a2d493395ddd3a51"
          }
        },
        "af2fffab053a4673a637ae6da23f6d95": {
          "model_module": "@jupyter-widgets/controls",
          "model_name": "FloatProgressModel",
          "model_module_version": "1.5.0",
          "state": {
            "_view_name": "ProgressView",
            "style": "IPY_MODEL_cdb7c2f6925d41438c6eee40582337c2",
            "_dom_classes": [],
            "description": "",
            "_model_name": "FloatProgressModel",
            "bar_style": "success",
            "max": 6,
            "_view_module": "@jupyter-widgets/controls",
            "_model_module_version": "1.5.0",
            "value": 6,
            "_view_count": null,
            "_view_module_version": "1.5.0",
            "orientation": "horizontal",
            "min": 0,
            "description_tooltip": null,
            "_model_module": "@jupyter-widgets/controls",
            "layout": "IPY_MODEL_299787b512374d4d9679ba8dc97704d6"
          }
        },
        "8d9731d8b65d42fb9fa94fb6c96811f7": {
          "model_module": "@jupyter-widgets/controls",
          "model_name": "HTMLModel",
          "model_module_version": "1.5.0",
          "state": {
            "_view_name": "HTMLView",
            "style": "IPY_MODEL_3eba9d1cf9034aa59655c5932de43f00",
            "_dom_classes": [],
            "description": "",
            "_model_name": "HTMLModel",
            "placeholder": "​",
            "_view_module": "@jupyter-widgets/controls",
            "_model_module_version": "1.5.0",
            "value": " 6/6 [00:00&lt;00:00, 111.91it/s]",
            "_view_count": null,
            "_view_module_version": "1.5.0",
            "description_tooltip": null,
            "_model_module": "@jupyter-widgets/controls",
            "layout": "IPY_MODEL_cd2ba7cfe49047c19f7a8076003b196a"
          }
        },
        "4c891cfcbacf48a7b22a350b9d206c12": {
          "model_module": "@jupyter-widgets/controls",
          "model_name": "DescriptionStyleModel",
          "model_module_version": "1.5.0",
          "state": {
            "_view_name": "StyleView",
            "_model_name": "DescriptionStyleModel",
            "description_width": "",
            "_view_module": "@jupyter-widgets/base",
            "_model_module_version": "1.5.0",
            "_view_count": null,
            "_view_module_version": "1.2.0",
            "_model_module": "@jupyter-widgets/controls"
          }
        },
        "7e5f6c7acd5e4530a2d493395ddd3a51": {
          "model_module": "@jupyter-widgets/base",
          "model_name": "LayoutModel",
          "model_module_version": "1.2.0",
          "state": {
            "_view_name": "LayoutView",
            "grid_template_rows": null,
            "right": null,
            "justify_content": null,
            "_view_module": "@jupyter-widgets/base",
            "overflow": null,
            "_model_module_version": "1.2.0",
            "_view_count": null,
            "flex_flow": null,
            "width": null,
            "min_width": null,
            "border": null,
            "align_items": null,
            "bottom": null,
            "_model_module": "@jupyter-widgets/base",
            "top": null,
            "grid_column": null,
            "overflow_y": null,
            "overflow_x": null,
            "grid_auto_flow": null,
            "grid_area": null,
            "grid_template_columns": null,
            "flex": null,
            "_model_name": "LayoutModel",
            "justify_items": null,
            "grid_row": null,
            "max_height": null,
            "align_content": null,
            "visibility": null,
            "align_self": null,
            "height": null,
            "min_height": null,
            "padding": null,
            "grid_auto_rows": null,
            "grid_gap": null,
            "max_width": null,
            "order": null,
            "_view_module_version": "1.2.0",
            "grid_template_areas": null,
            "object_position": null,
            "object_fit": null,
            "grid_auto_columns": null,
            "margin": null,
            "display": null,
            "left": null
          }
        },
        "cdb7c2f6925d41438c6eee40582337c2": {
          "model_module": "@jupyter-widgets/controls",
          "model_name": "ProgressStyleModel",
          "model_module_version": "1.5.0",
          "state": {
            "_view_name": "StyleView",
            "_model_name": "ProgressStyleModel",
            "description_width": "",
            "_view_module": "@jupyter-widgets/base",
            "_model_module_version": "1.5.0",
            "_view_count": null,
            "_view_module_version": "1.2.0",
            "bar_color": null,
            "_model_module": "@jupyter-widgets/controls"
          }
        },
        "299787b512374d4d9679ba8dc97704d6": {
          "model_module": "@jupyter-widgets/base",
          "model_name": "LayoutModel",
          "model_module_version": "1.2.0",
          "state": {
            "_view_name": "LayoutView",
            "grid_template_rows": null,
            "right": null,
            "justify_content": null,
            "_view_module": "@jupyter-widgets/base",
            "overflow": null,
            "_model_module_version": "1.2.0",
            "_view_count": null,
            "flex_flow": null,
            "width": null,
            "min_width": null,
            "border": null,
            "align_items": null,
            "bottom": null,
            "_model_module": "@jupyter-widgets/base",
            "top": null,
            "grid_column": null,
            "overflow_y": null,
            "overflow_x": null,
            "grid_auto_flow": null,
            "grid_area": null,
            "grid_template_columns": null,
            "flex": null,
            "_model_name": "LayoutModel",
            "justify_items": null,
            "grid_row": null,
            "max_height": null,
            "align_content": null,
            "visibility": null,
            "align_self": null,
            "height": null,
            "min_height": null,
            "padding": null,
            "grid_auto_rows": null,
            "grid_gap": null,
            "max_width": null,
            "order": null,
            "_view_module_version": "1.2.0",
            "grid_template_areas": null,
            "object_position": null,
            "object_fit": null,
            "grid_auto_columns": null,
            "margin": null,
            "display": null,
            "left": null
          }
        },
        "3eba9d1cf9034aa59655c5932de43f00": {
          "model_module": "@jupyter-widgets/controls",
          "model_name": "DescriptionStyleModel",
          "model_module_version": "1.5.0",
          "state": {
            "_view_name": "StyleView",
            "_model_name": "DescriptionStyleModel",
            "description_width": "",
            "_view_module": "@jupyter-widgets/base",
            "_model_module_version": "1.5.0",
            "_view_count": null,
            "_view_module_version": "1.2.0",
            "_model_module": "@jupyter-widgets/controls"
          }
        },
        "cd2ba7cfe49047c19f7a8076003b196a": {
          "model_module": "@jupyter-widgets/base",
          "model_name": "LayoutModel",
          "model_module_version": "1.2.0",
          "state": {
            "_view_name": "LayoutView",
            "grid_template_rows": null,
            "right": null,
            "justify_content": null,
            "_view_module": "@jupyter-widgets/base",
            "overflow": null,
            "_model_module_version": "1.2.0",
            "_view_count": null,
            "flex_flow": null,
            "width": null,
            "min_width": null,
            "border": null,
            "align_items": null,
            "bottom": null,
            "_model_module": "@jupyter-widgets/base",
            "top": null,
            "grid_column": null,
            "overflow_y": null,
            "overflow_x": null,
            "grid_auto_flow": null,
            "grid_area": null,
            "grid_template_columns": null,
            "flex": null,
            "_model_name": "LayoutModel",
            "justify_items": null,
            "grid_row": null,
            "max_height": null,
            "align_content": null,
            "visibility": null,
            "align_self": null,
            "height": null,
            "min_height": null,
            "padding": null,
            "grid_auto_rows": null,
            "grid_gap": null,
            "max_width": null,
            "order": null,
            "_view_module_version": "1.2.0",
            "grid_template_areas": null,
            "object_position": null,
            "object_fit": null,
            "grid_auto_columns": null,
            "margin": null,
            "display": null,
            "left": null
          }
        },
        "70e68757be8d4b4ea83ee3ba49390006": {
          "model_module": "@jupyter-widgets/controls",
          "model_name": "HBoxModel",
          "model_module_version": "1.5.0",
          "state": {
            "_view_name": "HBoxView",
            "_dom_classes": [],
            "_model_name": "HBoxModel",
            "_view_module": "@jupyter-widgets/controls",
            "_model_module_version": "1.5.0",
            "_view_count": null,
            "_view_module_version": "1.5.0",
            "box_style": "",
            "layout": "IPY_MODEL_4b3b96104be0427694bdd7e1ed27081c",
            "_model_module": "@jupyter-widgets/controls",
            "children": [
              "IPY_MODEL_ff5b922616664117a8ba9504fa49e4bb",
              "IPY_MODEL_5c3af4750d4f4bbbb4e5948c8c9b84a1",
              "IPY_MODEL_1fa37815b6f84bb78d25c622d6f62486"
            ]
          }
        },
        "4b3b96104be0427694bdd7e1ed27081c": {
          "model_module": "@jupyter-widgets/base",
          "model_name": "LayoutModel",
          "model_module_version": "1.2.0",
          "state": {
            "_view_name": "LayoutView",
            "grid_template_rows": null,
            "right": null,
            "justify_content": null,
            "_view_module": "@jupyter-widgets/base",
            "overflow": null,
            "_model_module_version": "1.2.0",
            "_view_count": null,
            "flex_flow": null,
            "width": null,
            "min_width": null,
            "border": null,
            "align_items": null,
            "bottom": null,
            "_model_module": "@jupyter-widgets/base",
            "top": null,
            "grid_column": null,
            "overflow_y": null,
            "overflow_x": null,
            "grid_auto_flow": null,
            "grid_area": null,
            "grid_template_columns": null,
            "flex": null,
            "_model_name": "LayoutModel",
            "justify_items": null,
            "grid_row": null,
            "max_height": null,
            "align_content": null,
            "visibility": null,
            "align_self": null,
            "height": null,
            "min_height": null,
            "padding": null,
            "grid_auto_rows": null,
            "grid_gap": null,
            "max_width": null,
            "order": null,
            "_view_module_version": "1.2.0",
            "grid_template_areas": null,
            "object_position": null,
            "object_fit": null,
            "grid_auto_columns": null,
            "margin": null,
            "display": null,
            "left": null
          }
        },
        "ff5b922616664117a8ba9504fa49e4bb": {
          "model_module": "@jupyter-widgets/controls",
          "model_name": "HTMLModel",
          "model_module_version": "1.5.0",
          "state": {
            "_view_name": "HTMLView",
            "style": "IPY_MODEL_b4801422c205465a937378f2416f09c1",
            "_dom_classes": [],
            "description": "",
            "_model_name": "HTMLModel",
            "placeholder": "​",
            "_view_module": "@jupyter-widgets/controls",
            "_model_module_version": "1.5.0",
            "value": " 27%",
            "_view_count": null,
            "_view_module_version": "1.5.0",
            "description_tooltip": null,
            "_model_module": "@jupyter-widgets/controls",
            "layout": "IPY_MODEL_c2532962be3b485eb85489088e59b358"
          }
        },
        "5c3af4750d4f4bbbb4e5948c8c9b84a1": {
          "model_module": "@jupyter-widgets/controls",
          "model_name": "FloatProgressModel",
          "model_module_version": "1.5.0",
          "state": {
            "_view_name": "ProgressView",
            "style": "IPY_MODEL_27af8bf76a0747c99107f6f33883f5fc",
            "_dom_classes": [],
            "description": "",
            "_model_name": "FloatProgressModel",
            "bar_style": "danger",
            "max": 3760,
            "_view_module": "@jupyter-widgets/controls",
            "_model_module_version": "1.5.0",
            "value": 1000,
            "_view_count": null,
            "_view_module_version": "1.5.0",
            "orientation": "horizontal",
            "min": 0,
            "description_tooltip": null,
            "_model_module": "@jupyter-widgets/controls",
            "layout": "IPY_MODEL_4e676790acf34f98a309842524e03121"
          }
        },
        "1fa37815b6f84bb78d25c622d6f62486": {
          "model_module": "@jupyter-widgets/controls",
          "model_name": "HTMLModel",
          "model_module_version": "1.5.0",
          "state": {
            "_view_name": "HTMLView",
            "style": "IPY_MODEL_fd4a1e61da6447a3b784250928bab125",
            "_dom_classes": [],
            "description": "",
            "_model_name": "HTMLModel",
            "placeholder": "​",
            "_view_module": "@jupyter-widgets/controls",
            "_model_module_version": "1.5.0",
            "value": " 1000/3760 [03:23&lt;09:29,  4.85it/s]",
            "_view_count": null,
            "_view_module_version": "1.5.0",
            "description_tooltip": null,
            "_model_module": "@jupyter-widgets/controls",
            "layout": "IPY_MODEL_d193a09af1394e8a8f877d0827eeaa39"
          }
        },
        "b4801422c205465a937378f2416f09c1": {
          "model_module": "@jupyter-widgets/controls",
          "model_name": "DescriptionStyleModel",
          "model_module_version": "1.5.0",
          "state": {
            "_view_name": "StyleView",
            "_model_name": "DescriptionStyleModel",
            "description_width": "",
            "_view_module": "@jupyter-widgets/base",
            "_model_module_version": "1.5.0",
            "_view_count": null,
            "_view_module_version": "1.2.0",
            "_model_module": "@jupyter-widgets/controls"
          }
        },
        "c2532962be3b485eb85489088e59b358": {
          "model_module": "@jupyter-widgets/base",
          "model_name": "LayoutModel",
          "model_module_version": "1.2.0",
          "state": {
            "_view_name": "LayoutView",
            "grid_template_rows": null,
            "right": null,
            "justify_content": null,
            "_view_module": "@jupyter-widgets/base",
            "overflow": null,
            "_model_module_version": "1.2.0",
            "_view_count": null,
            "flex_flow": null,
            "width": null,
            "min_width": null,
            "border": null,
            "align_items": null,
            "bottom": null,
            "_model_module": "@jupyter-widgets/base",
            "top": null,
            "grid_column": null,
            "overflow_y": null,
            "overflow_x": null,
            "grid_auto_flow": null,
            "grid_area": null,
            "grid_template_columns": null,
            "flex": null,
            "_model_name": "LayoutModel",
            "justify_items": null,
            "grid_row": null,
            "max_height": null,
            "align_content": null,
            "visibility": null,
            "align_self": null,
            "height": null,
            "min_height": null,
            "padding": null,
            "grid_auto_rows": null,
            "grid_gap": null,
            "max_width": null,
            "order": null,
            "_view_module_version": "1.2.0",
            "grid_template_areas": null,
            "object_position": null,
            "object_fit": null,
            "grid_auto_columns": null,
            "margin": null,
            "display": null,
            "left": null
          }
        },
        "27af8bf76a0747c99107f6f33883f5fc": {
          "model_module": "@jupyter-widgets/controls",
          "model_name": "ProgressStyleModel",
          "model_module_version": "1.5.0",
          "state": {
            "_view_name": "StyleView",
            "_model_name": "ProgressStyleModel",
            "description_width": "",
            "_view_module": "@jupyter-widgets/base",
            "_model_module_version": "1.5.0",
            "_view_count": null,
            "_view_module_version": "1.2.0",
            "bar_color": null,
            "_model_module": "@jupyter-widgets/controls"
          }
        },
        "4e676790acf34f98a309842524e03121": {
          "model_module": "@jupyter-widgets/base",
          "model_name": "LayoutModel",
          "model_module_version": "1.2.0",
          "state": {
            "_view_name": "LayoutView",
            "grid_template_rows": null,
            "right": null,
            "justify_content": null,
            "_view_module": "@jupyter-widgets/base",
            "overflow": null,
            "_model_module_version": "1.2.0",
            "_view_count": null,
            "flex_flow": null,
            "width": null,
            "min_width": null,
            "border": null,
            "align_items": null,
            "bottom": null,
            "_model_module": "@jupyter-widgets/base",
            "top": null,
            "grid_column": null,
            "overflow_y": null,
            "overflow_x": null,
            "grid_auto_flow": null,
            "grid_area": null,
            "grid_template_columns": null,
            "flex": null,
            "_model_name": "LayoutModel",
            "justify_items": null,
            "grid_row": null,
            "max_height": null,
            "align_content": null,
            "visibility": null,
            "align_self": null,
            "height": null,
            "min_height": null,
            "padding": null,
            "grid_auto_rows": null,
            "grid_gap": null,
            "max_width": null,
            "order": null,
            "_view_module_version": "1.2.0",
            "grid_template_areas": null,
            "object_position": null,
            "object_fit": null,
            "grid_auto_columns": null,
            "margin": null,
            "display": null,
            "left": null
          }
        },
        "fd4a1e61da6447a3b784250928bab125": {
          "model_module": "@jupyter-widgets/controls",
          "model_name": "DescriptionStyleModel",
          "model_module_version": "1.5.0",
          "state": {
            "_view_name": "StyleView",
            "_model_name": "DescriptionStyleModel",
            "description_width": "",
            "_view_module": "@jupyter-widgets/base",
            "_model_module_version": "1.5.0",
            "_view_count": null,
            "_view_module_version": "1.2.0",
            "_model_module": "@jupyter-widgets/controls"
          }
        },
        "d193a09af1394e8a8f877d0827eeaa39": {
          "model_module": "@jupyter-widgets/base",
          "model_name": "LayoutModel",
          "model_module_version": "1.2.0",
          "state": {
            "_view_name": "LayoutView",
            "grid_template_rows": null,
            "right": null,
            "justify_content": null,
            "_view_module": "@jupyter-widgets/base",
            "overflow": null,
            "_model_module_version": "1.2.0",
            "_view_count": null,
            "flex_flow": null,
            "width": null,
            "min_width": null,
            "border": null,
            "align_items": null,
            "bottom": null,
            "_model_module": "@jupyter-widgets/base",
            "top": null,
            "grid_column": null,
            "overflow_y": null,
            "overflow_x": null,
            "grid_auto_flow": null,
            "grid_area": null,
            "grid_template_columns": null,
            "flex": null,
            "_model_name": "LayoutModel",
            "justify_items": null,
            "grid_row": null,
            "max_height": null,
            "align_content": null,
            "visibility": null,
            "align_self": null,
            "height": null,
            "min_height": null,
            "padding": null,
            "grid_auto_rows": null,
            "grid_gap": null,
            "max_width": null,
            "order": null,
            "_view_module_version": "1.2.0",
            "grid_template_areas": null,
            "object_position": null,
            "object_fit": null,
            "grid_auto_columns": null,
            "margin": null,
            "display": null,
            "left": null
          }
        },
        "28125b87ae6a4e8cb477c268efd6c3b6": {
          "model_module": "@jupyter-widgets/controls",
          "model_name": "HBoxModel",
          "model_module_version": "1.5.0",
          "state": {
            "_view_name": "HBoxView",
            "_dom_classes": [],
            "_model_name": "HBoxModel",
            "_view_module": "@jupyter-widgets/controls",
            "_model_module_version": "1.5.0",
            "_view_count": null,
            "_view_module_version": "1.5.0",
            "box_style": "",
            "layout": "IPY_MODEL_198caa6e765d453ca700062bdcb8587b",
            "_model_module": "@jupyter-widgets/controls",
            "children": [
              "IPY_MODEL_0807681f64c747529938ec0a81737b85",
              "IPY_MODEL_baf795575ef14cdcb5e4e74d629d502e",
              "IPY_MODEL_640aea40bb6e4fdebdc7e56f0ca28b3e"
            ]
          }
        },
        "198caa6e765d453ca700062bdcb8587b": {
          "model_module": "@jupyter-widgets/base",
          "model_name": "LayoutModel",
          "model_module_version": "1.2.0",
          "state": {
            "_view_name": "LayoutView",
            "grid_template_rows": null,
            "right": null,
            "justify_content": null,
            "_view_module": "@jupyter-widgets/base",
            "overflow": null,
            "_model_module_version": "1.2.0",
            "_view_count": null,
            "flex_flow": null,
            "width": null,
            "min_width": null,
            "border": null,
            "align_items": null,
            "bottom": null,
            "_model_module": "@jupyter-widgets/base",
            "top": null,
            "grid_column": null,
            "overflow_y": null,
            "overflow_x": null,
            "grid_auto_flow": null,
            "grid_area": null,
            "grid_template_columns": null,
            "flex": null,
            "_model_name": "LayoutModel",
            "justify_items": null,
            "grid_row": null,
            "max_height": null,
            "align_content": null,
            "visibility": null,
            "align_self": null,
            "height": null,
            "min_height": null,
            "padding": null,
            "grid_auto_rows": null,
            "grid_gap": null,
            "max_width": null,
            "order": null,
            "_view_module_version": "1.2.0",
            "grid_template_areas": null,
            "object_position": null,
            "object_fit": null,
            "grid_auto_columns": null,
            "margin": null,
            "display": null,
            "left": null
          }
        },
        "0807681f64c747529938ec0a81737b85": {
          "model_module": "@jupyter-widgets/controls",
          "model_name": "HTMLModel",
          "model_module_version": "1.5.0",
          "state": {
            "_view_name": "HTMLView",
            "style": "IPY_MODEL_e0f4c41f151f48ccaa66cbf0d4753fe0",
            "_dom_classes": [],
            "description": "",
            "_model_name": "HTMLModel",
            "placeholder": "​",
            "_view_module": "@jupyter-widgets/controls",
            "_model_module_version": "1.5.0",
            "value": "100%",
            "_view_count": null,
            "_view_module_version": "1.5.0",
            "description_tooltip": null,
            "_model_module": "@jupyter-widgets/controls",
            "layout": "IPY_MODEL_4265f897bc9f4a04beff34a6c7bf9e72"
          }
        },
        "baf795575ef14cdcb5e4e74d629d502e": {
          "model_module": "@jupyter-widgets/controls",
          "model_name": "FloatProgressModel",
          "model_module_version": "1.5.0",
          "state": {
            "_view_name": "ProgressView",
            "style": "IPY_MODEL_546bc1c258c24f14bdb797b0375bbf1d",
            "_dom_classes": [],
            "description": "",
            "_model_name": "FloatProgressModel",
            "bar_style": "success",
            "max": 6,
            "_view_module": "@jupyter-widgets/controls",
            "_model_module_version": "1.5.0",
            "value": 6,
            "_view_count": null,
            "_view_module_version": "1.5.0",
            "orientation": "horizontal",
            "min": 0,
            "description_tooltip": null,
            "_model_module": "@jupyter-widgets/controls",
            "layout": "IPY_MODEL_abd3b71d495247ff94cc78c559cf8349"
          }
        },
        "640aea40bb6e4fdebdc7e56f0ca28b3e": {
          "model_module": "@jupyter-widgets/controls",
          "model_name": "HTMLModel",
          "model_module_version": "1.5.0",
          "state": {
            "_view_name": "HTMLView",
            "style": "IPY_MODEL_b861a60b8f874f6690ebe5b337db8fc1",
            "_dom_classes": [],
            "description": "",
            "_model_name": "HTMLModel",
            "placeholder": "​",
            "_view_module": "@jupyter-widgets/controls",
            "_model_module_version": "1.5.0",
            "value": " 6/6 [00:00&lt;00:00, 93.46it/s]",
            "_view_count": null,
            "_view_module_version": "1.5.0",
            "description_tooltip": null,
            "_model_module": "@jupyter-widgets/controls",
            "layout": "IPY_MODEL_0454d7da7465404cbddc1999e6924db8"
          }
        },
        "e0f4c41f151f48ccaa66cbf0d4753fe0": {
          "model_module": "@jupyter-widgets/controls",
          "model_name": "DescriptionStyleModel",
          "model_module_version": "1.5.0",
          "state": {
            "_view_name": "StyleView",
            "_model_name": "DescriptionStyleModel",
            "description_width": "",
            "_view_module": "@jupyter-widgets/base",
            "_model_module_version": "1.5.0",
            "_view_count": null,
            "_view_module_version": "1.2.0",
            "_model_module": "@jupyter-widgets/controls"
          }
        },
        "4265f897bc9f4a04beff34a6c7bf9e72": {
          "model_module": "@jupyter-widgets/base",
          "model_name": "LayoutModel",
          "model_module_version": "1.2.0",
          "state": {
            "_view_name": "LayoutView",
            "grid_template_rows": null,
            "right": null,
            "justify_content": null,
            "_view_module": "@jupyter-widgets/base",
            "overflow": null,
            "_model_module_version": "1.2.0",
            "_view_count": null,
            "flex_flow": null,
            "width": null,
            "min_width": null,
            "border": null,
            "align_items": null,
            "bottom": null,
            "_model_module": "@jupyter-widgets/base",
            "top": null,
            "grid_column": null,
            "overflow_y": null,
            "overflow_x": null,
            "grid_auto_flow": null,
            "grid_area": null,
            "grid_template_columns": null,
            "flex": null,
            "_model_name": "LayoutModel",
            "justify_items": null,
            "grid_row": null,
            "max_height": null,
            "align_content": null,
            "visibility": null,
            "align_self": null,
            "height": null,
            "min_height": null,
            "padding": null,
            "grid_auto_rows": null,
            "grid_gap": null,
            "max_width": null,
            "order": null,
            "_view_module_version": "1.2.0",
            "grid_template_areas": null,
            "object_position": null,
            "object_fit": null,
            "grid_auto_columns": null,
            "margin": null,
            "display": null,
            "left": null
          }
        },
        "546bc1c258c24f14bdb797b0375bbf1d": {
          "model_module": "@jupyter-widgets/controls",
          "model_name": "ProgressStyleModel",
          "model_module_version": "1.5.0",
          "state": {
            "_view_name": "StyleView",
            "_model_name": "ProgressStyleModel",
            "description_width": "",
            "_view_module": "@jupyter-widgets/base",
            "_model_module_version": "1.5.0",
            "_view_count": null,
            "_view_module_version": "1.2.0",
            "bar_color": null,
            "_model_module": "@jupyter-widgets/controls"
          }
        },
        "abd3b71d495247ff94cc78c559cf8349": {
          "model_module": "@jupyter-widgets/base",
          "model_name": "LayoutModel",
          "model_module_version": "1.2.0",
          "state": {
            "_view_name": "LayoutView",
            "grid_template_rows": null,
            "right": null,
            "justify_content": null,
            "_view_module": "@jupyter-widgets/base",
            "overflow": null,
            "_model_module_version": "1.2.0",
            "_view_count": null,
            "flex_flow": null,
            "width": null,
            "min_width": null,
            "border": null,
            "align_items": null,
            "bottom": null,
            "_model_module": "@jupyter-widgets/base",
            "top": null,
            "grid_column": null,
            "overflow_y": null,
            "overflow_x": null,
            "grid_auto_flow": null,
            "grid_area": null,
            "grid_template_columns": null,
            "flex": null,
            "_model_name": "LayoutModel",
            "justify_items": null,
            "grid_row": null,
            "max_height": null,
            "align_content": null,
            "visibility": null,
            "align_self": null,
            "height": null,
            "min_height": null,
            "padding": null,
            "grid_auto_rows": null,
            "grid_gap": null,
            "max_width": null,
            "order": null,
            "_view_module_version": "1.2.0",
            "grid_template_areas": null,
            "object_position": null,
            "object_fit": null,
            "grid_auto_columns": null,
            "margin": null,
            "display": null,
            "left": null
          }
        },
        "b861a60b8f874f6690ebe5b337db8fc1": {
          "model_module": "@jupyter-widgets/controls",
          "model_name": "DescriptionStyleModel",
          "model_module_version": "1.5.0",
          "state": {
            "_view_name": "StyleView",
            "_model_name": "DescriptionStyleModel",
            "description_width": "",
            "_view_module": "@jupyter-widgets/base",
            "_model_module_version": "1.5.0",
            "_view_count": null,
            "_view_module_version": "1.2.0",
            "_model_module": "@jupyter-widgets/controls"
          }
        },
        "0454d7da7465404cbddc1999e6924db8": {
          "model_module": "@jupyter-widgets/base",
          "model_name": "LayoutModel",
          "model_module_version": "1.2.0",
          "state": {
            "_view_name": "LayoutView",
            "grid_template_rows": null,
            "right": null,
            "justify_content": null,
            "_view_module": "@jupyter-widgets/base",
            "overflow": null,
            "_model_module_version": "1.2.0",
            "_view_count": null,
            "flex_flow": null,
            "width": null,
            "min_width": null,
            "border": null,
            "align_items": null,
            "bottom": null,
            "_model_module": "@jupyter-widgets/base",
            "top": null,
            "grid_column": null,
            "overflow_y": null,
            "overflow_x": null,
            "grid_auto_flow": null,
            "grid_area": null,
            "grid_template_columns": null,
            "flex": null,
            "_model_name": "LayoutModel",
            "justify_items": null,
            "grid_row": null,
            "max_height": null,
            "align_content": null,
            "visibility": null,
            "align_self": null,
            "height": null,
            "min_height": null,
            "padding": null,
            "grid_auto_rows": null,
            "grid_gap": null,
            "max_width": null,
            "order": null,
            "_view_module_version": "1.2.0",
            "grid_template_areas": null,
            "object_position": null,
            "object_fit": null,
            "grid_auto_columns": null,
            "margin": null,
            "display": null,
            "left": null
          }
        }
      }
    }
  },
  "cells": [
    {
      "cell_type": "markdown",
      "metadata": {
        "id": "Ot3c4fjZwC4T"
      },
      "source": [
        "<img src=\"https://s8.hostingkartinok.com/uploads/images/2018/08/308b49fcfbc619d629fe4604bceb67ac.jpg\" width=500, height=450>\n",
        "<h3 style=\"text-align: center;\"><b>Физтех-Школа Прикладной математики и информатики (ФПМИ) МФТИ</b></h3>"
      ]
    },
    {
      "cell_type": "markdown",
      "metadata": {
        "id": "P2JdzEXmwRU5"
      },
      "source": [
        "---"
      ]
    },
    {
      "cell_type": "markdown",
      "metadata": {
        "id": "Fc8iHXIVwDwj"
      },
      "source": [
        "***Some parts of the notebook are almost the copy of [ mmta-team course](https://github.com/mmta-team/mmta_fall_2020). Special thanks to mmta-team for making them publicly available. [Original notebook](https://github.com/mmta-team/mmta_fall_2020/blob/master/tasks/01_word_embeddings/task_word_embeddings.ipynb).***"
      ]
    },
    {
      "cell_type": "markdown",
      "metadata": {
        "id": "7D0wm5jt6j0U"
      },
      "source": [
        "<b> Прочитайте семинар, пожалуйста, для успешного выполнения домашнего задания. В конце ноутка напишите свой вывод. Работа без вывода оценивается ниже."
      ]
    },
    {
      "cell_type": "markdown",
      "metadata": {
        "id": "BIWqBuEa6j0b"
      },
      "source": [
        "## Задача поиска схожих по смыслу предложений"
      ]
    },
    {
      "cell_type": "markdown",
      "metadata": {
        "id": "NUkwMPLA6j0g"
      },
      "source": [
        "Мы будем ранжировать вопросы [StackOverflow](https://stackoverflow.com) на основе семантического векторного представления "
      ]
    },
    {
      "cell_type": "markdown",
      "metadata": {
        "id": "dNRXIEfu5a3Q"
      },
      "source": [
        "До этого в курсе не было речи про задачу ранжировния, поэтому введем математическую формулировку"
      ]
    },
    {
      "cell_type": "markdown",
      "metadata": {
        "id": "uS9FwWNd5a3S"
      },
      "source": [
        "## Задача ранжирования(Learning to Rank)"
      ]
    },
    {
      "cell_type": "markdown",
      "metadata": {
        "id": "wdwY9-f75a3T"
      },
      "source": [
        "* $X$ - множество объектов\n",
        "* $X^l = \\{x_1, x_2, ..., x_l\\}$ - обучающая выборка\n",
        "<br>На обучающей выборке задан порядок между некоторыми элементами, то есть нам известно, что некий объект выборки более релевантный для нас, чем другой:\n",
        "* $i \\prec j$ - порядок пары индексов объектов на выборке $X^l$ c индексами $i$ и $j$\n",
        "### Задача:\n",
        "построить ранжирующую функцию $a$ : $X \\rightarrow R$ такую, что\n",
        "$$i \\prec j \\Rightarrow a(x_i) < a(x_j)$$"
      ]
    },
    {
      "cell_type": "markdown",
      "metadata": {
        "id": "WG2IGBsh5a3U"
      },
      "source": [
        "<img src=\"https://d25skit2l41vkl.cloudfront.net/wp-content/uploads/2016/12/Featured-Image.jpg\" width=500, height=450>"
      ]
    },
    {
      "cell_type": "markdown",
      "metadata": {
        "id": "MQk_rolFwT_h"
      },
      "source": [
        "### Embeddings"
      ]
    },
    {
      "cell_type": "markdown",
      "metadata": {
        "id": "xUe1PGXn6j0l"
      },
      "source": [
        "Будем использовать предобученные векторные представления слов на постах Stack Overflow.<br>\n",
        "[A word2vec model trained on Stack Overflow posts](https://github.com/vefstathiou/SO_word2vec)"
      ]
    },
    {
      "cell_type": "code",
      "metadata": {
        "colab": {
          "base_uri": "https://localhost:8080/"
        },
        "id": "mYkI54Y-rk7a",
        "outputId": "70c20852-6b06-47b9-b5ef-e9d28dbb1765"
      },
      "source": [
        "!wget https://zenodo.org/record/1199620/files/SO_vectors_200.bin?download=1"
      ],
      "execution_count": 1,
      "outputs": [
        {
          "output_type": "stream",
          "name": "stdout",
          "text": [
            "--2021-10-09 15:35:31--  https://zenodo.org/record/1199620/files/SO_vectors_200.bin?download=1\n",
            "Resolving zenodo.org (zenodo.org)... 137.138.76.77\n",
            "Connecting to zenodo.org (zenodo.org)|137.138.76.77|:443... connected.\n",
            "HTTP request sent, awaiting response... 200 OK\n",
            "Length: 1453905423 (1.4G) [application/octet-stream]\n",
            "Saving to: ‘SO_vectors_200.bin?download=1’\n",
            "\n",
            "SO_vectors_200.bin? 100%[===================>]   1.35G   137MB/s    in 11s     \n",
            "\n",
            "2021-10-09 15:35:42 (129 MB/s) - ‘SO_vectors_200.bin?download=1’ saved [1453905423/1453905423]\n",
            "\n"
          ]
        }
      ]
    },
    {
      "cell_type": "code",
      "metadata": {
        "id": "O8YJTOYv6j0s"
      },
      "source": [
        "from gensim.models.keyedvectors import KeyedVectors\n",
        "wv_embeddings = KeyedVectors.load_word2vec_format(\"SO_vectors_200.bin?download=1\", binary=True)"
      ],
      "execution_count": 2,
      "outputs": []
    },
    {
      "cell_type": "code",
      "metadata": {
        "colab": {
          "base_uri": "https://localhost:8080/"
        },
        "id": "zipZdAC2aCak",
        "outputId": "47f58752-4067-42cc-d522-01676aaac449"
      },
      "source": [
        "from google.colab import drive\n",
        "drive.mount('/content/drive')"
      ],
      "execution_count": 3,
      "outputs": [
        {
          "output_type": "stream",
          "name": "stdout",
          "text": [
            "Mounted at /content/drive\n"
          ]
        }
      ]
    },
    {
      "cell_type": "markdown",
      "metadata": {
        "id": "aIcT_g-C6j1E"
      },
      "source": [
        "#### Как пользоваться этими векторами?"
      ]
    },
    {
      "cell_type": "markdown",
      "metadata": {
        "id": "DWO5SPDY6j1G"
      },
      "source": [
        "Посмотрим на примере одного слова, что из себя представляет embedding"
      ]
    },
    {
      "cell_type": "code",
      "metadata": {
        "colab": {
          "base_uri": "https://localhost:8080/"
        },
        "id": "KeSBlQfk6j1J",
        "scrolled": true,
        "outputId": "96b960de-0ebf-41a1-93e9-967d63e9c154"
      },
      "source": [
        "word = 'dog'\n",
        "if word in wv_embeddings:\n",
        "    print(wv_embeddings[word].dtype, wv_embeddings[word].shape)"
      ],
      "execution_count": 4,
      "outputs": [
        {
          "output_type": "stream",
          "name": "stdout",
          "text": [
            "float32 (200,)\n"
          ]
        }
      ]
    },
    {
      "cell_type": "code",
      "metadata": {
        "colab": {
          "base_uri": "https://localhost:8080/"
        },
        "id": "T4Eq-D1qxpMJ",
        "outputId": "e1b50684-7a04-415f-f174-51609cc89d0d"
      },
      "source": [
        "print(f\"Num of words: {len(wv_embeddings.index2word)}\")"
      ],
      "execution_count": 5,
      "outputs": [
        {
          "output_type": "stream",
          "name": "stdout",
          "text": [
            "Num of words: 1787145\n"
          ]
        }
      ]
    },
    {
      "cell_type": "markdown",
      "metadata": {
        "id": "ZT6NTCys6j1Q"
      },
      "source": [
        "Найдем наиболее близкие слова к слову `dog`:"
      ]
    },
    {
      "cell_type": "markdown",
      "metadata": {
        "id": "n08z2PjMwC5o"
      },
      "source": [
        "#### Вопрос 1:\n",
        "* Входит ли слов `cat` топ-5 близких слов к слову `dog`? Какое место?\n",
        "\n",
        "Как мы видим, дословно слово 'cat' не входит, однако на 4ом месте стоит слово cats. "
      ]
    },
    {
      "cell_type": "code",
      "metadata": {
        "colab": {
          "base_uri": "https://localhost:8080/"
        },
        "id": "nYwVz0xG6j1U",
        "scrolled": true,
        "outputId": "21a425a6-e449-4ce1-8d94-8fd40150c6af"
      },
      "source": [
        "wv_embeddings.most_similar('dog',topn=10)"
      ],
      "execution_count": 6,
      "outputs": [
        {
          "output_type": "execute_result",
          "data": {
            "text/plain": [
              "[('animal', 0.8564180135726929),\n",
              " ('dogs', 0.7880867123603821),\n",
              " ('mammal', 0.7623804807662964),\n",
              " ('cats', 0.7621253728866577),\n",
              " ('animals', 0.760793924331665),\n",
              " ('feline', 0.7392398118972778),\n",
              " ('bird', 0.7315489053726196),\n",
              " ('animal1', 0.7219215631484985),\n",
              " ('doggy', 0.7213349938392639),\n",
              " ('labrador', 0.7209131717681885)]"
            ]
          },
          "metadata": {},
          "execution_count": 6
        }
      ]
    },
    {
      "cell_type": "markdown",
      "metadata": {
        "id": "ai48-5vv6j1d"
      },
      "source": [
        "### Векторные представления текста\n",
        "\n",
        "Перейдем от векторных представлений отдельных слов к векторным представлениям вопросов, как к **среднему** векторов всех слов в вопросе. Если для какого-то слова нет предобученного вектора, то его нужно пропустить. Если вопрос не содержит ни одного известного слова, то нужно вернуть нулевой вектор."
      ]
    },
    {
      "cell_type": "code",
      "metadata": {
        "id": "EhNuxBJd6j1f"
      },
      "source": [
        "import numpy as np\n",
        "import re\n",
        "# you can use your tokenizer\n",
        "# for example, from nltk.tokenize import WordPunctTokenizer\n",
        "class MyTokenizer:\n",
        "    def __init__(self):\n",
        "        pass\n",
        "    def tokenize(self, text):\n",
        "        words = re.findall('\\w+', text)\n",
        "        for i in range(len(words)):\n",
        "            words[i] = words[i].lower()\n",
        "        return words\n",
        "tokenizer = MyTokenizer()"
      ],
      "execution_count": 65,
      "outputs": []
    },
    {
      "cell_type": "code",
      "metadata": {
        "id": "YHcvu6186j1m"
      },
      "source": [
        "def question_to_vec(question, embeddings, tokenizer, dim=200):\n",
        "    \"\"\"\n",
        "        question: строка\n",
        "        embeddings: наше векторное представление\n",
        "        dim: размер любого вектора в нашем представлении\n",
        "        \n",
        "        return: векторное представление для вопроса\n",
        "    \"\"\"\n",
        "    n = 0\n",
        "    words = tokenizer.tokenize(question)\n",
        "    question_vector = np.zeros_like(embeddings[embeddings.index2entity[0]])\n",
        "    for word in words:\n",
        "        try:\n",
        "            embeddings[word]\n",
        "        except:\n",
        "            #print(f'Word {word} is not in list of embedidngs')\n",
        "            continue\n",
        "        question_vector += embeddings[word]\n",
        "        n += 1\n",
        "\n",
        "    if n == 0:\n",
        "        return question_vector\n",
        "        \n",
        "    return question_vector / n\n",
        "\n",
        "    \n",
        "    '''your code'''"
      ],
      "execution_count": 66,
      "outputs": []
    },
    {
      "cell_type": "code",
      "metadata": {
        "colab": {
          "base_uri": "https://localhost:8080/"
        },
        "id": "kcANBOf21QdV",
        "outputId": "e7a2706f-1514-41f2-d501-894e17e37b48"
      },
      "source": [
        "question_to_vec('I abirvalg', wv_embeddings, tokenizer)"
      ],
      "execution_count": 9,
      "outputs": [
        {
          "output_type": "execute_result",
          "data": {
            "text/plain": [
              "array([0., 0., 0., 0., 0., 0., 0., 0., 0., 0., 0., 0., 0., 0., 0., 0., 0.,\n",
              "       0., 0., 0., 0., 0., 0., 0., 0., 0., 0., 0., 0., 0., 0., 0., 0., 0.,\n",
              "       0., 0., 0., 0., 0., 0., 0., 0., 0., 0., 0., 0., 0., 0., 0., 0., 0.,\n",
              "       0., 0., 0., 0., 0., 0., 0., 0., 0., 0., 0., 0., 0., 0., 0., 0., 0.,\n",
              "       0., 0., 0., 0., 0., 0., 0., 0., 0., 0., 0., 0., 0., 0., 0., 0., 0.,\n",
              "       0., 0., 0., 0., 0., 0., 0., 0., 0., 0., 0., 0., 0., 0., 0., 0., 0.,\n",
              "       0., 0., 0., 0., 0., 0., 0., 0., 0., 0., 0., 0., 0., 0., 0., 0., 0.,\n",
              "       0., 0., 0., 0., 0., 0., 0., 0., 0., 0., 0., 0., 0., 0., 0., 0., 0.,\n",
              "       0., 0., 0., 0., 0., 0., 0., 0., 0., 0., 0., 0., 0., 0., 0., 0., 0.,\n",
              "       0., 0., 0., 0., 0., 0., 0., 0., 0., 0., 0., 0., 0., 0., 0., 0., 0.,\n",
              "       0., 0., 0., 0., 0., 0., 0., 0., 0., 0., 0., 0., 0., 0., 0., 0., 0.,\n",
              "       0., 0., 0., 0., 0., 0., 0., 0., 0., 0., 0., 0., 0.], dtype=float32)"
            ]
          },
          "metadata": {},
          "execution_count": 9
        }
      ]
    },
    {
      "cell_type": "code",
      "metadata": {
        "colab": {
          "base_uri": "https://localhost:8080/"
        },
        "id": "LtVnR7b_2ECu",
        "outputId": "3b4f4007-f431-4079-db98-d458fea4b4e6"
      },
      "source": [
        "ans = question_to_vec('I love neural networks', wv_embeddings, tokenizer)\n",
        "print(ans)"
      ],
      "execution_count": 10,
      "outputs": [
        {
          "output_type": "stream",
          "name": "stdout",
          "text": [
            "[-1.0142275  -1.6891261  -1.2854122  -1.3710302   0.15916634  0.06706961\n",
            "  1.1188413  -0.07051762  0.5386369  -0.37139115  0.28913018  1.03125\n",
            " -2.865466   -1.3192873   2.2098296   1.1678672   1.0841951   1.8467226\n",
            " -0.98733807  0.8720946  -0.17219625  0.73839015 -0.7827826  -0.8827869\n",
            " -0.6152611  -0.15872358 -0.6170798   0.36668167  2.0137532   0.2627472\n",
            " -1.4950123  -1.386715   -1.2049937  -1.016617    2.7621174   1.7255713\n",
            " -0.19038178 -0.5899447  -0.1141155  -1.8890352  -1.7883505  -0.20420384\n",
            " -0.7062034   2.489034   -0.15452717  1.1255013   0.2610835   1.3153247\n",
            " -0.57667524 -0.3327141   1.6764902   0.91229993 -0.69880134  2.3752553\n",
            " -1.7634224   3.1378052   1.2243204  -1.0554415   0.7897571   0.04404024\n",
            "  1.1623045  -0.4478023  -0.9149816   0.01501505 -0.85523087 -1.0183454\n",
            " -0.7162116   1.0727204   0.8881876  -0.29789424  1.4994873  -0.9384045\n",
            " -1.6828092   1.0525229   0.77871495 -3.34081     0.15682733  0.7449282\n",
            " -1.4001557   0.26698634 -0.73809963  0.37732854 -1.186255   -1.5580353\n",
            " -1.6205387   0.3077639  -0.6114703   2.3046587  -1.5368671   1.1242722\n",
            "  1.1441461  -1.1531478  -0.5860432  -0.51876646  0.0847506   0.55700606\n",
            "  0.23870413  1.9462968   0.53030854  2.6519432  -0.44217658 -1.3738413\n",
            " -2.3082082  -1.7291006   0.09150317  0.5256326  -1.2948507   0.47028258\n",
            " -0.27833918  1.7435821   1.2399105  -0.5580708   1.1559254   0.41553274\n",
            "  1.609121    1.7537718  -1.77554     0.44009423 -1.2379423   0.10831648\n",
            " -0.6030591  -2.0164118  -0.741288    1.3980994  -0.16379206 -0.68049955\n",
            " -0.5787128  -0.39811432  0.01662459 -0.02013254 -1.4819161  -1.5942149\n",
            "  1.7215437   1.3974282   1.8339332  -1.6149954   1.6407114   0.01269384\n",
            "  0.8794584   0.8255847  -1.4109812  -0.6173281  -0.35946855  0.6510838\n",
            " -1.4075956   1.1300169  -0.93034726 -2.0259316   0.76860523  1.2960612\n",
            " -0.889519    1.3354112   0.99171686  0.9166878   1.4183179   1.3392485\n",
            " -2.2770903   2.0534172  -0.06724194 -2.3479369  -1.8847011  -0.02379521\n",
            " -0.26363063  1.0747885  -0.3491387  -0.7492485   0.6601408   0.02122569\n",
            "  0.35414076  0.21582615  0.5345003   0.8234115   0.03441159  1.2792889\n",
            "  0.57790637 -1.0084995  -1.4206891   1.8025084   0.8448728   0.35306382\n",
            " -0.61330116 -0.4524261  -0.4341513  -0.1759737  -0.7880316   0.02072136\n",
            "  0.683048   -0.3041604   1.2950336  -0.92554665 -1.357943    0.16884269\n",
            " -1.2752739   0.02057016 -1.4632632  -0.57811093  0.9936001   1.8199921\n",
            " -1.6206802   0.8086469 ]\n"
          ]
        }
      ]
    },
    {
      "cell_type": "markdown",
      "metadata": {
        "id": "u5Q_4j7r6j1u"
      },
      "source": [
        "Теперь у нас есть метод для создания векторного представления любого предложения."
      ]
    },
    {
      "cell_type": "markdown",
      "metadata": {
        "id": "EsJSNkhm6j1y"
      },
      "source": [
        "#### Вопрос 2:\n",
        "* Какая третья(с индексом 2) компонента вектора предложения `I love neural networks` (округлите до 2 знаков после запятой)?"
      ]
    },
    {
      "cell_type": "code",
      "metadata": {
        "colab": {
          "base_uri": "https://localhost:8080/"
        },
        "id": "a62r11cT6j10",
        "scrolled": true,
        "outputId": "bafa78b0-80c8-422d-c396-b9af7527ba08"
      },
      "source": [
        "print(round(ans[2],2))"
      ],
      "execution_count": 11,
      "outputs": [
        {
          "output_type": "stream",
          "name": "stdout",
          "text": [
            "-1.29\n"
          ]
        }
      ]
    },
    {
      "cell_type": "markdown",
      "metadata": {
        "id": "Y60z4t6W6j16"
      },
      "source": [
        "### Оценка близости текстов\n",
        "\n",
        "Представим, что мы используем идеальные векторные представления слов. Тогда косинусное расстояние между дублирующими предложениями должно быть меньше, чем между случайно взятыми предложениями. \n",
        "\n",
        "Сгенерируем для каждого из $N$ вопросов $R$ случайных отрицательных примеров и примешаем к ним также настоящие дубликаты. Для каждого вопроса будем ранжировать с помощью нашей модели $R + 1$ примеров и смотреть на позицию дубликата. Мы хотим, чтобы дубликат был первым в ранжированном списке.\n",
        "\n",
        "#### Hits@K\n",
        "Первой простой метрикой будет количество корректных попаданий для какого-то $K$:\n",
        "$$ \\text{Hits@K} = \\frac{1}{N}\\sum_{i=1}^N \\, [rank\\_q_i^{'} \\le K],$$\n",
        "* $\\begin{equation*}\n",
        "[x < 0 ] \\equiv \n",
        " \\begin{cases}\n",
        "   1, &x < 0\\\\\n",
        "   0, &x \\geq 0\n",
        " \\end{cases}\n",
        "\\end{equation*}$ - индикаторная функция\n",
        "* $q_i$ - $i$-ый вопрос\n",
        "* $q_i^{'}$ - его дубликат\n",
        "* $rank\\_q_i^{'}$ - позиция дубликата в ранжированном списке ближайших предложений для вопроса $q_i$.\n",
        "\n",
        "#### DCG@K\n",
        "Второй метрикой будет упрощенная DCG метрика, учитывающая порядок элементов в списке путем домножения релевантности элемента на вес равный обратному логарифму номера позиции::\n",
        "$$ \\text{DCG@K} = \\frac{1}{N} \\sum_{i=1}^N\\frac{1}{\\log_2(1+rank\\_q_i^{'})}\\cdot[rank\\_q_i^{'} \\le K],$$\n",
        "С такой метрикой модель штрафуется за большой ранк корректного ответа"
      ]
    },
    {
      "cell_type": "markdown",
      "metadata": {
        "id": "eHCnH-jw6j18"
      },
      "source": [
        "#### Вопрос 3:\n",
        "* Максимум `Hits@47 - DCG@1`?\n",
        "\n",
        "для максимума нам нужно, чтобы дубликаты не были на первом месте. Иначе будет задействоваться метрика DCG@1 что плохо. Но, благо у нас достаточно выбора, начиная от 2 до 47 места позиции дубликата в ранжировании. Поэтому сам максимум = 1"
      ]
    },
    {
      "cell_type": "markdown",
      "metadata": {
        "id": "_tFemBkP6j1-"
      },
      "source": [
        "<img src='https://hsto.org/files/1c5/edf/dee/1c5edfdeebce4b71a86bdf986d9f88f2.jpg' width=400, height=200>"
      ]
    },
    {
      "cell_type": "markdown",
      "metadata": {
        "id": "0sUSxk866j1_"
      },
      "source": [
        "#### Пример оценок\n",
        "\n",
        "Вычислим описанные выше метрики для игрушечного примера. \n",
        "Пусть\n",
        "* $N = 1$, $R = 3$\n",
        "* <font color='green'>\"Что такое python?\"</font> - вопрос $q_1$\n",
        "* <font color='red'>\"Что такое язык python?\"</font> - его дубликат $q_i^{'}$\n",
        "\n",
        "Пусть модель выдала следующий ранжированный список кандидатов:\n",
        "\n",
        "1. \"Как изучить с++?\"\n",
        "2. <font color='red'>\"Что такое язык python?\"</font>\n",
        "3. \"Хочу учить Java\"\n",
        "4. \"Не понимаю Tensorflow\"\n",
        "\n",
        "$\\Rightarrow rank\\_q_i^{'} = 2$\n",
        "\n",
        "Вычислим метрику *Hits@K* для *K = 1, 4*:\n",
        "\n",
        "- [K = 1] $\\text{Hits@1} =  [rank\\_q_i^{'} \\le 1)] = 0$\n",
        "- [K = 4] $\\text{Hits@4} =  [rank\\_q_i^{'} \\le 4] = 1$\n",
        "\n",
        "Вычислим метрику *DCG@K* для *K = 1, 4*:\n",
        "- [K = 1] $\\text{DCG@1} = \\frac{1}{\\log_2(1+2)}\\cdot[2 \\le 1] = 0$\n",
        "- [K = 4] $\\text{DCG@4} = \\frac{1}{\\log_2(1+2)}\\cdot[2 \\le 4] = \\frac{1}{\\log_2{3}}$"
      ]
    },
    {
      "cell_type": "markdown",
      "metadata": {
        "id": "B4L6HJJC6j2B"
      },
      "source": [
        "#### Вопрос 4:\n",
        "* Вычислите `DCG@10`, если $rank\\_q_i^{'} = 9$(округлите до одного знака после запятой)\n",
        "\n",
        "На самом деле это будет = 1/ log2(10)"
      ]
    },
    {
      "cell_type": "code",
      "metadata": {
        "colab": {
          "base_uri": "https://localhost:8080/"
        },
        "id": "_iq1VNyYbTxm",
        "outputId": "7011c7ab-c290-4b5a-bb4a-34606a393221"
      },
      "source": [
        "round(1/np.log2(10),1)"
      ],
      "execution_count": 12,
      "outputs": [
        {
          "output_type": "execute_result",
          "data": {
            "text/plain": [
              "0.3"
            ]
          },
          "metadata": {},
          "execution_count": 12
        }
      ]
    },
    {
      "cell_type": "markdown",
      "metadata": {
        "id": "J5xWOORI6j2F"
      },
      "source": [
        "### HITS\\_COUNT и DCG\\_SCORE"
      ]
    },
    {
      "cell_type": "markdown",
      "metadata": {
        "id": "I1q9WQOx6j2H"
      },
      "source": [
        "Каждая функция имеет два аргумента: $dup\\_ranks$ и $k$. $dup\\_ranks$ является списком, который содержит рейтинги дубликатов(их позиции в ранжированном списке). Например, $dup\\_ranks = [2]$ для примера, описанного выше."
      ]
    },
    {
      "cell_type": "code",
      "metadata": {
        "id": "F5VwySUB6j2J"
      },
      "source": [
        "def hits_count(dup_ranks, k):\n",
        "    \"\"\"\n",
        "        dup_ranks: list индексов дубликатов\n",
        "        result: вернуть  Hits@k\n",
        "    \"\"\"\n",
        "    '''your code'''\n",
        "    hits_value = 0\n",
        "    for rank in dup_ranks:\n",
        "        if rank <= k:\n",
        "            hits_value += 1\n",
        "    return hits_value / len(dup_ranks)\n"
      ],
      "execution_count": 67,
      "outputs": []
    },
    {
      "cell_type": "code",
      "metadata": {
        "colab": {
          "base_uri": "https://localhost:8080/"
        },
        "id": "al9EBPBBd9TM",
        "outputId": "3381dfdb-cc5f-4e19-d509-7b1d08d28c58"
      },
      "source": [
        "hits_count([2,2,3,5],3)"
      ],
      "execution_count": 68,
      "outputs": [
        {
          "output_type": "execute_result",
          "data": {
            "text/plain": [
              "0.75"
            ]
          },
          "metadata": {},
          "execution_count": 68
        }
      ]
    },
    {
      "cell_type": "code",
      "metadata": {
        "id": "82hQaxCH6j2R"
      },
      "source": [
        "def dcg_score(dup_ranks, k):\n",
        "    \"\"\"\n",
        "        dup_ranks: list индексов дубликатов\n",
        "        result: вернуть DCG@k\n",
        "    \"\"\"\n",
        "    '''your code'''\n",
        "    dcg_value = 0\n",
        "    for rank in dup_ranks:\n",
        "        if rank <= k:\n",
        "            dcg_value += 1 / np.log2(1+rank)\n",
        "        \n",
        "    return dcg_value / len(dup_ranks)"
      ],
      "execution_count": 69,
      "outputs": []
    },
    {
      "cell_type": "code",
      "metadata": {
        "colab": {
          "base_uri": "https://localhost:8080/"
        },
        "id": "6jBa-u3eijpA",
        "outputId": "af098294-405a-44b1-95ca-edebbe223ed7"
      },
      "source": [
        "dcg_score([2,2,3,5],3)"
      ],
      "execution_count": 70,
      "outputs": [
        {
          "output_type": "execute_result",
          "data": {
            "text/plain": [
              "0.44046487678572877"
            ]
          },
          "metadata": {},
          "execution_count": 70
        }
      ]
    },
    {
      "cell_type": "markdown",
      "metadata": {
        "id": "PcwHeXN26j2Y"
      },
      "source": [
        "Протестируем функции. Пусть $N = 1$, то есть один эксперимент. Будем искать копию вопроса и оценивать метрики."
      ]
    },
    {
      "cell_type": "code",
      "metadata": {
        "id": "fjISmOEW6j2h"
      },
      "source": [
        "import pandas as pd"
      ],
      "execution_count": 71,
      "outputs": []
    },
    {
      "cell_type": "code",
      "metadata": {
        "colab": {
          "base_uri": "https://localhost:8080/"
        },
        "id": "gLa_Wqfh6j2m",
        "outputId": "fed44b5b-aed6-4b9b-f652-8572e4b7a173"
      },
      "source": [
        "copy_answers = [\"How does the catch keyword determine the type of exception that was thrown\",]\n",
        "\n",
        "# наги кандидаты\n",
        "candidates_ranking = [[\"How Can I Make These Links Rotate in PHP\",\n",
        "                       \"How does the catch keyword determine the type of exception that was thrown\",\n",
        "                       \"NSLog array description not memory address\",\n",
        "                       \"PECL_HTTP not recognised php ubuntu\"],]\n",
        "# dup_ranks — позиции наших копий, так как эксперимент один, то этот массив длины 1\n",
        "dup_ranks = [2]\n",
        "\n",
        "# вычисляем метрику для разных k\n",
        "print('Ваш ответ HIT:', [hits_count(dup_ranks, k) for k in range(1, 5)])\n",
        "print('Ваш ответ DCG:', [round(dcg_score(dup_ranks, k), 5) for k in range(1, 5)])"
      ],
      "execution_count": 72,
      "outputs": [
        {
          "output_type": "stream",
          "name": "stdout",
          "text": [
            "Ваш ответ HIT: [0.0, 1.0, 1.0, 1.0]\n",
            "Ваш ответ DCG: [0.0, 0.63093, 0.63093, 0.63093]\n"
          ]
        }
      ]
    },
    {
      "cell_type": "markdown",
      "metadata": {
        "id": "MoHC3YoQ6j2t"
      },
      "source": [
        "У вас должно получиться"
      ]
    },
    {
      "cell_type": "code",
      "metadata": {
        "colab": {
          "base_uri": "https://localhost:8080/",
          "height": 112
        },
        "id": "B0NFWq4f6j2u",
        "scrolled": true,
        "outputId": "b888c154-49ab-4741-d782-36485afddeb5"
      },
      "source": [
        "# correct_answers - метрика для разных k\n",
        "correct_answers = pd.DataFrame([[0, 1, 1, 1], [0, 1 / (np.log2(3)), 1 / (np.log2(3)), 1 / (np.log2(3))]],\n",
        "                               index=['HITS', 'DCG'], columns=range(1,5))\n",
        "correct_answers"
      ],
      "execution_count": 73,
      "outputs": [
        {
          "output_type": "execute_result",
          "data": {
            "text/html": [
              "<div>\n",
              "<style scoped>\n",
              "    .dataframe tbody tr th:only-of-type {\n",
              "        vertical-align: middle;\n",
              "    }\n",
              "\n",
              "    .dataframe tbody tr th {\n",
              "        vertical-align: top;\n",
              "    }\n",
              "\n",
              "    .dataframe thead th {\n",
              "        text-align: right;\n",
              "    }\n",
              "</style>\n",
              "<table border=\"1\" class=\"dataframe\">\n",
              "  <thead>\n",
              "    <tr style=\"text-align: right;\">\n",
              "      <th></th>\n",
              "      <th>1</th>\n",
              "      <th>2</th>\n",
              "      <th>3</th>\n",
              "      <th>4</th>\n",
              "    </tr>\n",
              "  </thead>\n",
              "  <tbody>\n",
              "    <tr>\n",
              "      <th>HITS</th>\n",
              "      <td>0</td>\n",
              "      <td>1.00000</td>\n",
              "      <td>1.00000</td>\n",
              "      <td>1.00000</td>\n",
              "    </tr>\n",
              "    <tr>\n",
              "      <th>DCG</th>\n",
              "      <td>0</td>\n",
              "      <td>0.63093</td>\n",
              "      <td>0.63093</td>\n",
              "      <td>0.63093</td>\n",
              "    </tr>\n",
              "  </tbody>\n",
              "</table>\n",
              "</div>"
            ],
            "text/plain": [
              "      1        2        3        4\n",
              "HITS  0  1.00000  1.00000  1.00000\n",
              "DCG   0  0.63093  0.63093  0.63093"
            ]
          },
          "metadata": {},
          "execution_count": 73
        }
      ]
    },
    {
      "cell_type": "markdown",
      "metadata": {
        "id": "tHZqgDTo6j0i"
      },
      "source": [
        "### Данные\n",
        "[arxiv link](https://drive.google.com/file/d/1QqT4D0EoqJTy7v9VrNCYD-m964XZFR7_/edit)\n",
        "\n",
        "`train.tsv` - выборка для обучения.<br> В каждой строке через табуляцию записаны: **<вопрос>, <похожий вопрос>**\n",
        "\n",
        "`validation.tsv` - тестовая выборка.<br> В каждой строке через табуляцию записаны: **<вопрос>, <похожий вопрос>, <отрицательный пример 1>, <отрицательный пример 2>, ...**"
      ]
    },
    {
      "cell_type": "code",
      "metadata": {
        "colab": {
          "base_uri": "https://localhost:8080/"
        },
        "id": "jKVK2lDGvrIe",
        "outputId": "810c6df0-253e-41e9-de9d-ca10c91585e9"
      },
      "source": [
        "!unzip drive/MyDrive/stackoverflow_similar_questions.zip"
      ],
      "execution_count": 20,
      "outputs": [
        {
          "output_type": "stream",
          "name": "stdout",
          "text": [
            "Archive:  drive/MyDrive/stackoverflow_similar_questions.zip\n",
            "   creating: data/\n",
            "  inflating: data/.DS_Store          \n",
            "   creating: __MACOSX/\n",
            "   creating: __MACOSX/data/\n",
            "  inflating: __MACOSX/data/._.DS_Store  \n",
            "  inflating: data/train.tsv          \n",
            "  inflating: data/validation.tsv     \n"
          ]
        }
      ]
    },
    {
      "cell_type": "markdown",
      "metadata": {
        "id": "hil2UsUG6j22"
      },
      "source": [
        "Считайте данные."
      ]
    },
    {
      "cell_type": "code",
      "metadata": {
        "id": "B4EBho8s6j26"
      },
      "source": [
        "def read_corpus(filename):\n",
        "    data = []\n",
        "    for line in open(filename, encoding='utf-8'):\n",
        "        data.append(line.split('\\t'))\n",
        "    return data"
      ],
      "execution_count": 21,
      "outputs": []
    },
    {
      "cell_type": "markdown",
      "metadata": {
        "id": "kkTxY3Mk9_nG"
      },
      "source": [
        "Нам понадобиться только файл validation."
      ]
    },
    {
      "cell_type": "code",
      "metadata": {
        "id": "PTVB9Tnp6j29"
      },
      "source": [
        "validation_data = read_corpus('./data/validation.tsv')"
      ],
      "execution_count": 22,
      "outputs": []
    },
    {
      "cell_type": "markdown",
      "metadata": {
        "id": "bTHfL-9y6j3F"
      },
      "source": [
        "Кол-во строк"
      ]
    },
    {
      "cell_type": "code",
      "metadata": {
        "colab": {
          "base_uri": "https://localhost:8080/"
        },
        "id": "z6ubXhIe6j3H",
        "scrolled": false,
        "outputId": "e04b28d6-a971-494b-cb67-009c6b72417d"
      },
      "source": [
        "len(validation_data)"
      ],
      "execution_count": 23,
      "outputs": [
        {
          "output_type": "execute_result",
          "data": {
            "text/plain": [
              "3760"
            ]
          },
          "metadata": {},
          "execution_count": 23
        }
      ]
    },
    {
      "cell_type": "markdown",
      "metadata": {
        "id": "kaOQblBy6j3M"
      },
      "source": [
        "Размер нескольких первых строк"
      ]
    },
    {
      "cell_type": "code",
      "metadata": {
        "colab": {
          "base_uri": "https://localhost:8080/"
        },
        "id": "yRx6e-Pe6j3M",
        "outputId": "22f42267-8f60-407d-bc80-cb199237b73a"
      },
      "source": [
        "for i in range(5):\n",
        "    print(i + 1, len(validation_data[i]))"
      ],
      "execution_count": 24,
      "outputs": [
        {
          "output_type": "stream",
          "name": "stdout",
          "text": [
            "1 1001\n",
            "2 1001\n",
            "3 1001\n",
            "4 1001\n",
            "5 1001\n"
          ]
        }
      ]
    },
    {
      "cell_type": "code",
      "metadata": {
        "colab": {
          "base_uri": "https://localhost:8080/"
        },
        "id": "jZSC0GhxURQX",
        "outputId": "4f521ae2-1783-4e0d-ee24-739b5009d26a"
      },
      "source": [
        "validation_data[1]"
      ],
      "execution_count": 25,
      "outputs": [
        {
          "output_type": "execute_result",
          "data": {
            "text/plain": [
              "['How to start PhoneStateListener programmatically?',\n",
              " 'PhoneStateListener and service',\n",
              " 'Java cast object[] to model',\n",
              " 'WCF and What does this mean?',\n",
              " 'How to uncheck checkbox using jQuery Uniform library',\n",
              " 'Two projects with same code base',\n",
              " \"Can't read php file when upload image to server in titanium\",\n",
              " 'create pandas dataframe from dictionary of dictionaries',\n",
              " 'how to pass tkinter text to flex',\n",
              " 'runtime error project source code not found and invalid string null exception?',\n",
              " 'excel VBA new URL on existing IE',\n",
              " 'Howto immediately update TextBox after correction of bound property?',\n",
              " 'JAX-RS Jersey/Grizzly Define an interface resource',\n",
              " 'JSONConvert.DeserializeObject not handling child array with unnamed array items',\n",
              " 'Unexpected error while loading data',\n",
              " 'Cucumber Capybara Selenium race condition with expect(all())',\n",
              " 'How do I check if one vector is a subset of another?',\n",
              " 'Dropdown list where options populate a second list js/php?',\n",
              " 'Automated Email Sender',\n",
              " 'mysqldump --routines not including routines in created file',\n",
              " \"'Save As' image with src from PHP\",\n",
              " 'enable mouse scrolling but not mouse visual selection in vim?',\n",
              " \"Cucumber's AfterConfiguration can't access helper modules\",\n",
              " 'Doctrine 1.2: Can a model have two instances of the sluggabl behavior?',\n",
              " 'Should a custom find method on a Laravel Model be static?',\n",
              " \"Calling spring data rest repository method doesn't return links\",\n",
              " 'QML : Flippable issue',\n",
              " 'css: how to build centered div with minimum spacing on the left',\n",
              " 'Android OS Calling onActivityResult before picking up image from gallery',\n",
              " 'how to detect if is running the scan for new media files on Android (in background)',\n",
              " 'Undo in JTextField and setText',\n",
              " 'Swift: Create Reproducible NSView using Interface Builder',\n",
              " 'Is there a predefined webpart called CAPTCHA webpart?',\n",
              " 'fme datalist extension for alfresco community 4.0.c',\n",
              " 'How to read the call log on iPhone iOS 5 programmatically',\n",
              " 'Rendering partial views with Razor in MVC5',\n",
              " '$ is not a function errors',\n",
              " 'Get values on a row based on two or more rows in Excel',\n",
              " \"Python 3.3 can't import Crypt\",\n",
              " 'Why Hashmap is not displaying in order?',\n",
              " 'Keepalive time - cannot reduce below one minute in C++',\n",
              " 'ExecCommand not working on all systems',\n",
              " 'What are we doing wrong with git?',\n",
              " \"Database foreign key constraint doesn't work?\",\n",
              " 'Custom Partitioner : N number of keys to N different files',\n",
              " 'Behaviour of autoDestroy: false in Extjs4',\n",
              " 'Conditional extends in Blade',\n",
              " 'Get Word bookmark index to replace image inside bookmark from Excel',\n",
              " 'Set label text based on dropdown list selection from datasource',\n",
              " 'How do I refresh in Firefox and preserve breakpoints?',\n",
              " 'Closely coupled C# classes in one module, how to improve this design?',\n",
              " 'Jacobian and Hessian inputs in `scipy.optimize.minimize`',\n",
              " 'Force full calculation of entire workbook in Coldfusion / Apache POI',\n",
              " 'Adobe AIR lag on high resolution Android devices',\n",
              " 'magento product category not applying, but applying after manual \"save\"',\n",
              " 'how to get environment variables desktop path',\n",
              " 'Get few lines of HDFS data',\n",
              " 'JSP Redirect: Session Loss Issues',\n",
              " 'What does JPA EntityManager.getSingleResult() return for a COUNT query?',\n",
              " 'Limit Linq result columns for GridView',\n",
              " 'Unmarshalling, manipulating and then marshalling CVS data in Camel using Spring DSL',\n",
              " 'Sphinx Search Multiple Tables and Aggregate Results Using PHP API',\n",
              " 'What is a Sanity Suite?',\n",
              " 'In Spring OAuth2, why is my resource still unprotected even though I have marked it in my resource server?',\n",
              " \"Unable to run rails server: `require': cannot load such file -- net/ssh (LoadError)\",\n",
              " 'Building a Matrix of Combinations',\n",
              " 'Convert Perl Regular Expression into Java Regular Expression',\n",
              " \"Value of type 'String' has no member 'range' in Swift\",\n",
              " 'Using awk to remove spaces from a field',\n",
              " 'Executing a function on ring/compjure application startup after deploy',\n",
              " 'Does using compare on a nil NSNumber always return NSOrderedSame?',\n",
              " 'Sign on several sites',\n",
              " 'Finding entry of vector in PARI/GP?',\n",
              " 'How to draw line and font without D3DX9 in DirectX 9?',\n",
              " 'grep through colored text , e.g. gcc | colorgcc | grep regexp',\n",
              " 'Querying ignoring a time portion of TIMESTAMP fields along with JPA converter',\n",
              " 'refresh gridview after adding or deleting new record in c#',\n",
              " 'Move static data from db into code in rails 3',\n",
              " 'How to free memory after array in PHP? unset and = null seems to not working',\n",
              " 'CSS Sprites Bottom repeating',\n",
              " \"How can I workaround heroku's 30 sec timeout when executing long PLSQL procedure in Rails?\",\n",
              " 'java.lang.OutOfMemoryError - Very large SOAP response',\n",
              " 'Data binding access in xaml vs in code behind - Linq to XML?',\n",
              " 'Filter Array Content to a Query containing $concatArrays',\n",
              " 'IntelliJ IDEA: ClassNotFoundException if run Debug, execution/run does work',\n",
              " 'How to read events for a particular date from native calendar',\n",
              " 'PEAR and absolute paths',\n",
              " 'Ember, safe way to save models',\n",
              " 'Javascript Json Parser',\n",
              " 'How can I keep my initializer configuration from being lost in development mode?',\n",
              " 'Adding in-app purchase to existing published application and testing it without publishing',\n",
              " 'If statement in TableView Cell not working',\n",
              " 'SFML fails in multithreading',\n",
              " 'Is there a canonical way of passing options to a Go function?',\n",
              " 'Problems with limit method in Rails 3.2 and hash ordering',\n",
              " 'How can I choose the location where I want to save downloaded files?',\n",
              " 'Creating NSWindow programmatically in Mono using MonoMac.dll Ref',\n",
              " \"Can you use DataTable.Contains(object key) if your datatable's primary key is two columns?\",\n",
              " 'Linking two UIScrollViews so they follow each others touches',\n",
              " 'Unable to dump a relation in PIG',\n",
              " 'Error when TS audio stream over UDP',\n",
              " 'getting java.net.SocketException: Invalid argument:inside docker container',\n",
              " 'GIT - Fail to checkout to other branch when nothing to commit - when file is in gitignore',\n",
              " 'ASP.NET: How can I create a Login System using aspnet_regsql.exe?',\n",
              " 'Putting 2 divs on the same line',\n",
              " \"Interface's function clashes with Property's getter\",\n",
              " 'How do I make a table from a List MVC?',\n",
              " 'Ignore blur event if user choose address on google map autocomplete',\n",
              " 'RethinkDB update field inside nested array->obj',\n",
              " 'Authenticate users using cURL for my login system on my site?',\n",
              " 'Silverlight datagrid disable particular cell',\n",
              " 'Path configuration with sphinx',\n",
              " 'FileNotFoundError: [WinError 2] python 3.4',\n",
              " 'SVG click events not firing/bubbling when using <use> element',\n",
              " 'Visual Studio publish to azure existing apps error',\n",
              " \"angular javascript won't apply to ui-view inserted element\",\n",
              " 'Passing shake gesture event to the app delegate',\n",
              " 'How to display french letters?',\n",
              " 'Forbidden access Codeigniter URL',\n",
              " 'Calling Method in Android',\n",
              " \"Facebook Comment box inside UIWebView doesn't have the right height\",\n",
              " 'how can i get the object of a button created with storyboard',\n",
              " 'CodeIgniter Removing index.php using .htaccess file',\n",
              " 'ArgumentException: The specified structure must be blittable or have layout information',\n",
              " \"Event Viewer reporting my C# application crashed through 'System.Environment.FailFast()'\",\n",
              " 'Leaving equal width gap spacing before and between menu buttons',\n",
              " 'Get Button Value when click in Angularjs',\n",
              " 'Android map api-2 disable click',\n",
              " 'Can not add rows using datatable.js Ajax',\n",
              " 'Passing a simple IEnumerable to view and using foreach to loop through returns a blank screen?',\n",
              " 'Cordova brightness still returns -1',\n",
              " 'GDB/MI redirect stdin and stdout to files',\n",
              " 'how to clear devise session on browser close?',\n",
              " 'JsTree - Get Degree of Node',\n",
              " 'Swift type inference and type checking issue',\n",
              " 'How to call DocuSign Signer Information screen?',\n",
              " \"Getfield.SetValue doesn't work\",\n",
              " 'Why do we put \"#\" in front of myTempTableName?',\n",
              " 'Accessing SQL Server over an SSH tunnel',\n",
              " 'Deleting Li doesnot work for dynamic li',\n",
              " 'iOS 10 FBSDKAppInviteContent() not working anymore?',\n",
              " 'RoR: How to populate table from radio buttons?',\n",
              " 'I have a SQLite syntax error in DELETE statement',\n",
              " 'Cookies of domain are sent to subdomain, how to fix?',\n",
              " 'Why libuv use thread pool to run all file system operations',\n",
              " 'CSS button not styling',\n",
              " 'Error while creating Menu Dynamically with Xamarin Android',\n",
              " 'Why does my GradientDescentOptimizer produce NaN?',\n",
              " 'Dynamic table in html',\n",
              " 'Coq tutorial and/or book with exercises involving subset types',\n",
              " 'How to have a where clause on an insert or an update in Linq to Sql?',\n",
              " \"Aren't these two statements incompatible in N4140?\",\n",
              " 'how use tests written in Selenium and Cucumber-JVM with JMeter?',\n",
              " 'Why use Thread.currentThread().isInterrupted() instead of Thread.interrupted() when implementing Runnable?',\n",
              " 'How to preserve TwoWay binding of CurrentItem when databinding to CollectionViewSource in ComboBox',\n",
              " 'Android find if color is too close to black or white',\n",
              " 'Dynamic listview with jquery mobile',\n",
              " 'ClearCase Remote Client CLI?',\n",
              " 'Ajax Accordion issues in firefox/chrome',\n",
              " 'Running Webrick server in background?',\n",
              " 'Can I create my own command in sublime and how to associate python implementation to that command?',\n",
              " 'prepareForSegue not getting called when registering a custom cell',\n",
              " 'C# Xml Parsing from StringBuilder',\n",
              " 'Dynamically generate a list of available languages in Spring MVC',\n",
              " 'Recursively find subdirectories and files',\n",
              " 'Check key exists in NSDictionary',\n",
              " 'c++ for loop with decrement update causing infinite loop?',\n",
              " 'MySQL JOIN returns NULL fields',\n",
              " 'Need algorithm for angle of WPF line',\n",
              " 'How to get String value from a boolean value using MySQL query in Jasper Studio',\n",
              " 'What is the usage of global:: keyword in C#?',\n",
              " 'iOS Framework: All Functions Demanding Different Types of Parameters',\n",
              " 'How to print a binary heap tree without recursion?',\n",
              " 'JavaScript variable is undefined after being passed in a function',\n",
              " '\"preprocess current file\" addin for Visual Studio? (C++ )',\n",
              " 'Object Oriented Database Vs object Relational Database',\n",
              " 'run method onclick crash in android',\n",
              " 'Does Akka support in-process messaging without object serialization?',\n",
              " 'AWS Elastic Beanstalk - Increase Instance Disk Capacity',\n",
              " 'Inter Thread Communication in C',\n",
              " 'Do we have Reminders in windows 8',\n",
              " 'Make specific ListView item not clickable in Universal Windows Platform',\n",
              " 'Regex groups in python',\n",
              " 'Facebook Realtime Updates - Dispute - Response',\n",
              " 'Is empty struct defined by C++ standard?',\n",
              " 'Background Image disappearing in Microsoft Edge',\n",
              " 'Java getNodeName and namespaces',\n",
              " 'SpringBatch CommandLineJobRunner -next using old run.id',\n",
              " 'Apache camel soap request type conversion error',\n",
              " 'How to get mouse position in float or double with exact resolution?',\n",
              " 'Hive query output to file',\n",
              " 'Check if an object exists in JSON',\n",
              " 'PHP - Socket communication between servers',\n",
              " 'Windows Phone with XML file',\n",
              " 'Laravel 5.2 $fillable',\n",
              " 'Treeview - highlighting multiple items',\n",
              " 'OpenGL - Sweep Representations',\n",
              " 'Rstudio is.na(e2) error when sourcing r file of functions',\n",
              " \"Add subview to tableview which doesn't scroll\",\n",
              " 'readHTMLTable and UTF-8 encoding',\n",
              " '.htaccess block certain website',\n",
              " 'Use for WorkItemAttribute?',\n",
              " 'Foreach changes not being preserved on Linq item collection',\n",
              " 'Why/How is IntelliJ causing debug output in Netbeans?',\n",
              " 'TypeInitializationException when running Stanford.NLP.CoreNLP example',\n",
              " 'Cannot load MySQL JDBC driver',\n",
              " 'MySQL - Trying to count tickets sold for an event',\n",
              " \"A string with '-' character is not drawing properly in drawrect method in iOS\",\n",
              " 'tabBar:didSelectItem and popToRootViewControllerAnimated',\n",
              " 'APK loading workflow documentation',\n",
              " 'chosen allow_single_deselect is not working as expected',\n",
              " 'writing boost::archive to C# stream',\n",
              " 'Replacing directory with external results in \"working copy locked\" on `update`',\n",
              " 'Lm across many columns in a dataframe in R',\n",
              " 'Cassandra adding disks / increase storage volume without adding new nodes',\n",
              " 'How do I pass variables between methods in java?',\n",
              " 'Camera crash if called by other application',\n",
              " 'Trying to retrieve the most recent previous entry in a table',\n",
              " 'Watir wait_until_present times out instead of returning false',\n",
              " 'CentOS install mod_dav_svn',\n",
              " 'Facing issue with camera application',\n",
              " 'How to import data into neo4j (neo4j-community-2.0.0) in windows 7?',\n",
              " 'Trying to save my Django Model Formset, keep getting ManagementForm error?',\n",
              " 'UIToolbar on each page of UINavigationController',\n",
              " 'Non interactive samba user creation via ansible',\n",
              " \"Error while installing netCDF4 for Python, can't find HDF5\",\n",
              " \"Use Flexslider's selector property to skip some slides in DOM descending order\",\n",
              " 'carouFredSel Slider - prevent scroll to top on slides rolling',\n",
              " 'Structure a NoSQL database for a chat application (using FireBase)',\n",
              " 'How to change images in grid view as the position changes in android?',\n",
              " 'iOS6.1, iPod: Second video does not start at the beginning',\n",
              " 'Android Emulator Won\\'t Start in Eclipse \"reqested operation requires elevation',\n",
              " 'Test that app launches another app in Android',\n",
              " 'ZF2 detach listener from EventManager',\n",
              " 'PyScripter Rpyc',\n",
              " 'Cython: cimport and import numpy as (both) np',\n",
              " 'Access or download .csv file from dropbox using objective-c',\n",
              " 'Replacing an equation and embedding a math function plotter?',\n",
              " 'can you make an image button move in the same was as a bitmap in android',\n",
              " 'Dynamic name, password and ip in MySQL',\n",
              " 'AppleScript error \"Can’t make \\\\\"\" into type integer.\" number -1700',\n",
              " 'node (angular 2) updates the input field even on different PC or browser?',\n",
              " 'Restrict cipher suites on JRE level',\n",
              " 'Join tables hibernate + group by',\n",
              " 'Pulling prior year data',\n",
              " 'how to get rid of ArrayOfString classes from jax-ws client code',\n",
              " 'Get a worksheet name using Excel VBA',\n",
              " 'jQuery menu hover',\n",
              " 'Formation of Clusters in MATLAB',\n",
              " 'Use SQL to filter the results of a stored procedure',\n",
              " 'Java: How can I tell if one of my array String values is null?',\n",
              " 'Get log file name of database from .mdf file',\n",
              " 'Rename control methods in Windows Forms application',\n",
              " 'Spring Boot maven exec - unable to start class',\n",
              " 'Is IntentService appropriate for FileObserver',\n",
              " 'Add Button to CMS_Page_Edit via Observer',\n",
              " 'Using Nested Graphs in Sparql',\n",
              " 'asp.net mvc int property bind exception',\n",
              " 'Looping through AJAX and callbacks in jquery',\n",
              " 'Printing a Table from a Dictionary',\n",
              " 'Xcode 6, Yosemite Mac app help book: topic unavailable',\n",
              " 'There was no endpoint listening',\n",
              " 'NSString that contain lots of null termination?',\n",
              " 'BadTokenException - Unable to add window',\n",
              " 'Why is the getElementsByTagNameNS empty in java?',\n",
              " 'Ajax ModalPopup wrong display in IE8',\n",
              " 'Rescue all errors of a specific type inside a module',\n",
              " 'Setting svn:ignore property on files that are not version controlled',\n",
              " 'Is there a way to print to the console in an Android app?',\n",
              " 'Program exceeds a time limit, which seems impossible - buggy code',\n",
              " 'Reading values from one database and write it to another database',\n",
              " 'Visual Studio 201x: C# syntax highlighting for new object names',\n",
              " 'Calling a JAX-WS webservice from inside Matlab',\n",
              " 'How can I program a button in HTML to go to a link?',\n",
              " 'Rails 4, Ruby 2.0: Get PG Error when trying to get all records having a specified value in joined table',\n",
              " 'Add one \"day\" to date but let me choose what time',\n",
              " 'how to use jquery deferred with vktemplate / queuing ajax requests',\n",
              " 'Cant set text in TextView - android',\n",
              " 'Displaying image in MFC method that is not ONPaint',\n",
              " 'How to insert new row to database with AUTO_INCREMENT column without specifying column names?',\n",
              " 'Invalid Constraint Value',\n",
              " 'Magento not saving any data',\n",
              " \"Java Generics : Casting a raw type to any reifiable type doesn't generate unchecked cast warning\",\n",
              " 'Notifying user-mode as soon as a packet arrives',\n",
              " 'How to handle this type of events',\n",
              " \"Links don't work with jsp and jquery (How to link websiteurl in anchor tag in jsp page)\",\n",
              " 'how to populate a dropdownlist based on another dropdownlist selected value in mvc 4?',\n",
              " 'test driven asynch tasks',\n",
              " 'Log file not being generated while running a script via Windows Task Scheduler',\n",
              " 'How to know the discriminator value',\n",
              " \"Wrap two adjacent td's\",\n",
              " 'How do I get a Faye client given a client ID?',\n",
              " 'RoboGuice custom module application context',\n",
              " 'Memory leak in Python extension when array is created with PyArray_SimpleNewFromData() and returned',\n",
              " 'terminal command for running sublime text 3 from on ubuntu',\n",
              " 'Strange PHP 5.3 issue with date diff calculating difference in days',\n",
              " 'Why is my code making PDO return nested arrays?',\n",
              " 'Delphi TWebBrowser - how to use proxy with login/password?',\n",
              " \"Under iOS, does anyone know how UUID's are generated for executables and what information may be encoded therein?\",\n",
              " \"Can't create a Hadoop sequence file on a local file system\",\n",
              " 'hibernate ImprovedNamingStrategy overrides Table name in entity',\n",
              " 'Can I compare MysQL timestamp with datetime columns? is it bad?',\n",
              " 'JSON Safe Values from MySQL',\n",
              " 'SQL Select MIN in Subquery returns multiple records',\n",
              " 'How to update self based on reference of value from hashmap from self',\n",
              " 'Compile a Standalone Static Executable',\n",
              " 'Rally SDK App using Grid with collapsible tree of children stories',\n",
              " 'make a favorite list of job using PHP and MYSQL',\n",
              " \"Parent UIViewController Orientation Shouldn't Change After Dismissing the Child\",\n",
              " 'how to use jquery file upload angular version?',\n",
              " 'How do I fast foward branches without switching to them?',\n",
              " 'Managing database connectivity with ADO.NET',\n",
              " 'Repeat each value of an array two times (numpy)',\n",
              " 'Help me understand this C code (*(void(*) ()) scode) ()',\n",
              " 'Unity3D - Audio playing getting muted after getting any call/notification on Android',\n",
              " 'Can you set a tkinter background image without adding a new canvas element?',\n",
              " 'using tapply/dapply etc for t.tests',\n",
              " \"Binding a 'IsReadOnly' Dependency Property\",\n",
              " 'Meteor: Sharing/Passing Variable Between Controller and Helper (diff files)',\n",
              " 'Google Dart Simple Contact form',\n",
              " 'Loop invariant of linear search',\n",
              " 'How do I add an element to a list in Groovy?',\n",
              " 'DbAcl::check() - Failed ARO/ACO node lookup in permissions check.',\n",
              " 'Rotating coverflow effect',\n",
              " 'How to create multiple objects from a class with different variables?',\n",
              " 'How to store DbType.Time from c#',\n",
              " 'Custom keyboard clear button',\n",
              " 'Test class extending test class in dependency module',\n",
              " 'Error while making CLucene for Max OS X 10.10',\n",
              " 'Bind to docker socket on Windows',\n",
              " 'give type to anonymous type in linq query',\n",
              " 'Bigger image for first item of the gridview android',\n",
              " 'Form is submitting the Array instead of the wanted field in CakePHP',\n",
              " 'Proper groovy script for sum of fields in Elasticsearch documents',\n",
              " 'Monitor network usage of a process',\n",
              " 'PHP SCRIPT issue with passing the uploaded image to facebook->api function',\n",
              " 'Cocoon and has_one association',\n",
              " 'Bad performance (stuttering) with Windows Phone 7 Page Transitions',\n",
              " 'Datagridview enter key selects next cell from next row',\n",
              " 'Search and then delete depending on whether files contain a string',\n",
              " 'Beautifulsoup Exception list out of range',\n",
              " 'Footer. It overlaps on div',\n",
              " 'How to get the semantic orientation of String or adjectives by using SentiWordNet',\n",
              " 'Visual Basic Regular Expression Question',\n",
              " 'Jquery validate file ext on upload',\n",
              " 'CKEditor paragraph spacing issue',\n",
              " 'boost::shared_ptr and nullptr in default template function argument',\n",
              " \"Enemy Script Isn't working properly on my Tower Defense game c#\",\n",
              " 'TFS Build fails on Specifying Drop folder location',\n",
              " 'Formatting a numeric field to fixed length in crystal reports',\n",
              " 'Is there a framework/app for testing distributed systems or just network apps?',\n",
              " 'async/await for Worker',\n",
              " 'ComboBox bound to ICollectionView is displaying incorrect SelectedItem',\n",
              " 'How do I implement multiple argument generation using FsCheck?',\n",
              " 'Universal Analytics Custom Dimensions with Multiple Trackers - Old tracker recording User-Level Scope Dimension',\n",
              " 'SSLSetup on Amazon Linux: SSL Error, Multiple certificates provided',\n",
              " 'Firebird 2.5.6 romanian collation for UTF8 charset',\n",
              " 'How to implement builder pattern with fluent-interface with immutable results and extended interfaces?',\n",
              " 'Why did Rails Active Record migration generate COLLATE utf8_bin on varchar columns of mysql',\n",
              " 'Assign Topic in chm file',\n",
              " 'How do I get a stack trace using the ruby debugger?',\n",
              " \"ef7 unable to retrieve child collections' child object's properties\",\n",
              " 'C# JSON Post From JavaScript',\n",
              " 'simple sentiment analysis with java',\n",
              " 'dynamic allocation of more than 1 dimensional array',\n",
              " 'jQuery works on my page, but firebug says $ is not defined error. Why and how to avoid it?',\n",
              " 'How reliable is h2 database?',\n",
              " 'Scrapy How to check if certain class exists in a given element',\n",
              " 'Using Workflow Foundation to define flow of asp.net pages',\n",
              " 'Add precompiled dynamic library to APK when using QBS build system',\n",
              " 'Connecting mssql using php in linux server',\n",
              " '2 states roundable numeric text box with knockoutjs',\n",
              " 'a href in FT InfoWindow not working as I would like',\n",
              " 'How can I do point-to-point messaging in Bluemix using MQ Light?',\n",
              " 'My javascript web workers are dying silently at random places. How can I debug this?',\n",
              " 'Docker compose - secrets Additional property secrets is not allowed',\n",
              " \"NUnit - Loads ALL TestCaseSources even if they're not required by current test\",\n",
              " \"What's MySQL's string compare rule?\",\n",
              " 'Python: Using Excel CSV file to read only certain columns and rows',\n",
              " 'Creating a jump function',\n",
              " 'auto-increment using loopback.js and MongoDB',\n",
              " 'How to go to next screen of an app using appium?',\n",
              " 'CSS3 Rotate on animated element causing click event not to invoke',\n",
              " 'datagridview keypress event for adding new row',\n",
              " 'Subtypes vs Derived Types in C++',\n",
              " 'asmx service work regular but not async',\n",
              " 'Intellisense on wstring displays: npos = 18446744',\n",
              " 'After update from vs15 to vs17 660 errors appeared',\n",
              " 'Is there a better HTML escaping and unescaping tool than CGI for Ruby?',\n",
              " \"Can't add content on pages using webform template in Umbraco\",\n",
              " 'Xcode crashes when i run the app on my real device',\n",
              " 'How to set a custom UIToolBar always in the front and top of the application?',\n",
              " 'How can I use the mongolab add-on to Heroku from python?',\n",
              " \"I want to initialized every jtabbedpane's JTextarea with a new dynamic name?\",\n",
              " 'jquery: maskedinput plugin not playing nice with validation plugin',\n",
              " 'CSS Conditionals for WebKit Browsers',\n",
              " 'How to check if an NSMutableArray contains an object which contains certain text?',\n",
              " 'RxJS: Share() an Observable & Emit Last Value to each new subscriber',\n",
              " 'how to load unstructured non-queryset data with django-tables2',\n",
              " 'How to search a video using youtube api',\n",
              " 'div width height according text?',\n",
              " 'Jenkins node connection troubles',\n",
              " 'unexpected behavior in core.logic conjo goal',\n",
              " 'Calling an extension method on a member variable of type T of class<T>',\n",
              " 'Clear CSS menu hover state on click (page loaded via ajax)',\n",
              " \"Field 'x' doesn't have a default value\",\n",
              " 'Compatibility issues in swing drawing app OSX/Windows',\n",
              " 'glMapBufferRange() is slow and memcpy() of the mapped data is also slow on Android',\n",
              " 'Finding a control in TemplatedWizardStep',\n",
              " 'WPF how to easily chain animations in code behind?',\n",
              " 'Connect to remote MongoDB instance from ASP.NET',\n",
              " 'What does --net=host option in Docker command really do?',\n",
              " 'Inject database context into classes using interface',\n",
              " 'dojo tree custom icons',\n",
              " 'Add a choicefield to search_fields in django admin',\n",
              " 'iOS app is rejected as \"Spam\"',\n",
              " 'getElementsByTagName results in NullPointerException',\n",
              " 'Combining Parsley.js validation with the malsup jQuery form plugin',\n",
              " 'Laravel 5.2 - Updated and Route group Middleware now is no longer called',\n",
              " 'C# Component collection property not serialized when filled from property setter',\n",
              " 'How to enable bokeh tools in a pyqt QWebview',\n",
              " 'How to pass JavaScript value from View to Controller?',\n",
              " 'BlueZ version in Android Honeycomb',\n",
              " \"How do I ensure nicely formatted HTML when I 'view source' on the browser?\",\n",
              " 'C# Socket BeginReceive / EndReceive capturing multiple messages',\n",
              " 'Retrieve info from MongoDB using C#',\n",
              " 'Invalid read/write of size when alloc',\n",
              " 'Why is assigning a value to the variable \"let\" possible?',\n",
              " 'Is there any way to force https for some pages in spring-security?',\n",
              " \"zClip don't work - multiple copy to clipboard JS\",\n",
              " 'ArangoDB - Executing AQL using java driver 4.0.0 using filter returns null',\n",
              " 'How to add an attribute to a field a many-to many-field selected entry of a model which is inline in django 1.2?',\n",
              " 'ASP.NET oData patchValue received from Angular is nothing',\n",
              " 'Hard Code List of Years?',\n",
              " 'Is it possible to access the state of a trigger in Angular2?',\n",
              " \"JsonConvert throws a 'not a valid integer' exception when deserializing to a double\",\n",
              " 'Use a Gnuplot variable instead of Bash Variable in a bash script + gnuplot script',\n",
              " 'How to make a query linq check date is in month, quarter or a year',\n",
              " 'Android app installation: Unknown failure (Failure - not installed for 0)',\n",
              " 'How to include the GroupBy() elements in Select() in Linq to Sql query',\n",
              " 'Does iPhone OS 3.0.1 ruin your development phone?',\n",
              " 'htaccess Rewrite URL Without .php Extension To File',\n",
              " 'NodeJs receive UDP numbers in ugly binary format',\n",
              " \"Failed to execute 'importStylesheet' on 'XSLTProcessor': parameter 1 is not of type 'Node'\",\n",
              " 'ClickOnce Error, Cannot activate a deployment with earlier version',\n",
              " 'Dynamically creating checkboxes',\n",
              " 'Is Selenium 2.0 waiting for element / page to load?',\n",
              " 'Developing Cordova plugins for Firefox OS',\n",
              " 'Implementing a \"Singleton\" like feature using internal',\n",
              " 'CSS Right Margin Does Not Work Inside a Div With Overflow Scroll',\n",
              " 'sql query to get distinct rows in let table in simple two tables',\n",
              " 'Connecting my Android phone to the DDMS SDK utility',\n",
              " 'Google Charts - switch between table and chart view',\n",
              " 'MVC Restful routing and returning Views',\n",
              " 'WPF UpdateSourceTrigger',\n",
              " 'How to launch a LWUIT form from a LCDUI form?',\n",
              " 'How do I remove from the beginning to the 2nd specific character of a string?',\n",
              " 'Create dynamic checkbox in UIWebView',\n",
              " 'Azure-cli installation failed',\n",
              " 'Uncaught SyntaxError: Unexpected token < VM105:17Uncaught ReferenceError: System is not defined',\n",
              " 'org.hibernate.StaleStateException: Batch update returned unexpected row count from update [0]; actual row count: 0; expected: 1',\n",
              " 'Show div based on selected checkboxes',\n",
              " 'Fullcalendar week view has unrecognized character',\n",
              " 'How to visualize embedded derby database?',\n",
              " 'Hyperlink URL causing resource not found error',\n",
              " 'List view item having multiple buttons',\n",
              " 'Android AWS S3 video upload occasionally does not work',\n",
              " 'Soft keyboard \"del\" key fails in EditText on Gallery widget',\n",
              " 'Compare two List<string> and print the duplicates',\n",
              " 'Need to pass string with newline character from Unix shell script to sql query',\n",
              " 'Correct way to initialize a NULL-terminated array of strings in C',\n",
              " 'How can i run this program in parallel',\n",
              " 'Exporting order details magento',\n",
              " \"Bokeh's equivalent to matplotlib subplots\",\n",
              " 'TypeScript type checking on type rather than instance',\n",
              " 'componentdef error with ant',\n",
              " 'How to setup Quartz.NET for scheduling Emails',\n",
              " 'HTML <tr> on double click show new messagebox containing table format',\n",
              " 'Getting the name or ID of the User Name TextBox from an ASP.Net Login Control',\n",
              " 'Context Free Grammar for which a RegEx is impossible',\n",
              " \"How to remove entire substring from '<' to '>' in Java\",\n",
              " \"Red5 demos don't work\",\n",
              " 'How to change the background color of a non selected cell in JavaFx 8 table view',\n",
              " \"Android Bitmap setPixel doens't work correctly? (set value, then read a different value)\",\n",
              " 'Attach Database using Management studio points to the wrong file path for the log file',\n",
              " 'Growing memory usage in MATLAB',\n",
              " 'I have issue about the design view of windows phone 8 in blend&visual 2012',\n",
              " 'get Phone Number from Facebook',\n",
              " 'Error in SendGrid on Heroku cedar stack',\n",
              " 'Mac OSX PHP and XAMPP path issue',\n",
              " 'Sharing data between Elastic Beanstalk web and worker tiers',\n",
              " 'Reroute query string using friendlyUrl',\n",
              " 'Simultaneous events',\n",
              " 'Inserting a checkbox via jQuery stops the form to submit on webkit',\n",
              " 'Memory versus Speed in Javascript Web Applications',\n",
              " 'Missing \"libiconv.h\" when crosscompiling for Windows with mingw on Ubuntu',\n",
              " 'How to setup a JMX Notification Listener?',\n",
              " 'IllegalStateException: Cannot convert value of type to required type',\n",
              " 'HTML5 video background in Android showing black',\n",
              " 'CORONA: timer.cancel() returns \"Attempt to index a nil value\"',\n",
              " 'D3js code when called twice duplicates the graph instead of refreshing',\n",
              " 'What is the shortest way of converting any JavaScript value to a string?',\n",
              " 'how should I use the velX,velY information to get the displacement in X and Y between current frame and previous frame?',\n",
              " 'How to detect headset button double click in HTC phones with broadcast receiver?',\n",
              " '(Java) Check array for increasing elements',\n",
              " 'Toast notifications only pop up if the app is being activated',\n",
              " 'Add totals from rows that are otherwise identical',\n",
              " 'Auto select item on JavaFX ComboBox after KeyPress',\n",
              " 'Why is Ebean not loading field project from ZenTasks example application?',\n",
              " 'Compile error on serializing boost::unordered_set',\n",
              " 'C++ A method that returns the decimal value as an integer of a binary that is represented with a boolean array',\n",
              " 'Using SetThreadAffinityMask function imported from kernel32.dll in C # code',\n",
              " 'Change tab names in app',\n",
              " 'apache rewrite: force https and name of server, not IP',\n",
              " 'Is it possible to generate a global list of marked strings at compile time/runtime?',\n",
              " 'PHP Content-Length header not working',\n",
              " 'How do I tell if the ObjectDataSource OnSelected event was called for the selectmethod or selectcountmethod?',\n",
              " 'set background image in Jlabel (Label) box with dynamic text',\n",
              " 'Errors with json_decode, array and foreach',\n",
              " \"Action Script 3. Timer starts count when I'm in menu, but game not started\",\n",
              " \"How to download a file with it's name using curl (C++ or D)\",\n",
              " 'query error on search result of a xml file',\n",
              " 'What do they mean when they say LINQ is composable?',\n",
              " 'How to render a Javascript and CSS for desktop devices only with client side solution?',\n",
              " 'SqlAlchemy Oracle DataTime format',\n",
              " 'Keyword sorting algorithm',\n",
              " 'Writing to textbox in another process in Win32 (c++)',\n",
              " 'How to access spring jpa references in json',\n",
              " 'passing variables to sed command',\n",
              " 'How to send a data from arduino uno to a webpage through esp8266 wifi module?',\n",
              " 'enums inside a struct - C vs C++',\n",
              " 'Binary Tree type constructor in Haskell',\n",
              " 'How to add an error to a constraint in form?',\n",
              " 'Java - Take text from file and assign matching parameter text to matching object',\n",
              " 'negative integer/float decimal number to signed hex and octal in standard C code',\n",
              " 'Programmatically append Swagger operations to generated JSON',\n",
              " 'HTTP Error 500.19 - Internal Server Error',\n",
              " 'Can we return any class object to Interceptor from action class',\n",
              " 'Cannot find existing package',\n",
              " 'Displaying an ArrayList with and without sorting?',\n",
              " 'Foreach group and subgroup dynamic loop',\n",
              " 'Display Images from internet in a windows phone 7 app?',\n",
              " 'Garbage collection with a very large dictionary',\n",
              " 'PHP - Simplest Way to Post & Display',\n",
              " 'NSCoding crash on encode only on 64bit devices',\n",
              " 'highchart mysql jason with dropdown select value for where condition',\n",
              " 'WPF Data binding C# in xaml',\n",
              " 'Making a content div fill the space between a variable height header and fixed height footer',\n",
              " 'What are some viable alternatives to BizTalk Server?',\n",
              " 'Bluebird Promise.any() early reject?',\n",
              " 'How to make non-blocking raw_input when using eventlet.monkey_patch() and why it block everything, even when executed on another thread?',\n",
              " 'How Can I Make These Links Rotate in PHP?',\n",
              " \"I18n and Passwords that aren't US-ASCII, Latin1, or Win1252\",\n",
              " 'How to add a peridic timer callback in a linux kernel module',\n",
              " \"Hide all div's except one\",\n",
              " 'How can I calculate pi using Bash command',\n",
              " 'Gson with dynamic objects',\n",
              " 'Convert iOS project to 64 bit using ConvertCocoa64 script',\n",
              " 'Material 2 - autocomplete not showing options',\n",
              " 'Laravel Valet not working. 127.0.0.1 Connection Refused',\n",
              " 'How to check column is virtual in Oracle?',\n",
              " 'Search functionality result should be in the same page in Rails',\n",
              " 'Importing values from one window to another in MATLAB GUI',\n",
              " 'how to read sql server mdf header for log file information programmatically in c#',\n",
              " 'Display progress while restoring database in linqpad with reative extensions',\n",
              " 'How to invoke a remote REST service in NiFi',\n",
              " 'Using Ajax to render partial view, taking an object as parameter',\n",
              " 'PHP fread() Function Returning Extra Characters at the Front on UTF-8 Text Files',\n",
              " 'How can I call a webservice from C# with HTTP POST',\n",
              " 'Why is there a visible gap between adjacent DIVs on iOS Safari?',\n",
              " 'Doxygen and Objective-C categories',\n",
              " 'How to send personal message to my Facebook friends in iOS SDK',\n",
              " 'Slicing NumPy array with dictionary',\n",
              " 'Should a class constructor return a subclass?',\n",
              " 'How can I programmatically set column filters?',\n",
              " 'Stackoverflow exception in JSON.net',\n",
              " 'Xcopy to multiple folder into subdirectory',\n",
              " 'Retrieving the length of a list in MongoDB',\n",
              " 'Android Database Access Design Approach',\n",
              " 'parse XML Subfolders in to iphone',\n",
              " 'Is 1 Session Token enough for multiple Ajax Request?',\n",
              " 'LNK2005: \" already defined error',\n",
              " 'Get element width in px',\n",
              " 'StreamWriter 64512 character limitation',\n",
              " 'Fixed Header & Footer not working in JqueryMobile',\n",
              " 'call a function when the program is finished with ctrl c',\n",
              " \"when implementing a binary search in Java, is using ArrayList.sublist considered 'in place'?\",\n",
              " 'Google+ Domains API 404 Not Found error',\n",
              " 'File name matching with -e and regular expressions in perl',\n",
              " 'Issue setting up Android SDK - Failed to Start Emulator',\n",
              " 'How to read Logback configuration file from path outside the war file?',\n",
              " 'Display multiple tables in datagrid',\n",
              " 'Mocha + React: navigator is not defined',\n",
              " 'matlab: eigs appears to give out inconsistent results',\n",
              " 'Passing lxml output to BeautifulSoup',\n",
              " 'Pass an array of objects with function to directives',\n",
              " 'Cocoapods Completely Broke',\n",
              " 'Reading/editing IndexedDB data for IE11',\n",
              " 'css ie6 sprities image not showing using inline-block',\n",
              " 'why is 5 the default number of connections in the rails database connection pool?',\n",
              " 'How can I make my elements fade in and out as their display attributes are changed in Javascript?',\n",
              " 'Jaggies text when fillText in canvas in chrome',\n",
              " 'Window_Load event in MVVM',\n",
              " 'Use calc() in transform:rotate()',\n",
              " 'Speed of many regular expressions in python',\n",
              " 'Notification placement on website with notify.js',\n",
              " 'image size limit on iPad?',\n",
              " 'How to remove whitespace in a list',\n",
              " 'Generate a dynamic ul li List from DB',\n",
              " 'Shopping cart program',\n",
              " 'Error Importing Jar to Android Project',\n",
              " 'Convert Varied Text Fields of Duration to Seconds in Pandas',\n",
              " 'How to POST empty <select .. multiple> HTML elements if empty?',\n",
              " 'How does Erlang heart work?',\n",
              " 'Fix spurious rspec \"photo can\\'t be blank\" failures for Carrierwave',\n",
              " 'how have different background images for different times in the day',\n",
              " 'Creating a loading Arc in C# (WPF)',\n",
              " 'some clang-generated assembly not working in real mode (.COM, tiny memory model)',\n",
              " 'Handle tunneled custom routed event',\n",
              " 'Android app Listview cannot be scrolled to bottom to search a specific element using appium in java',\n",
              " 'How to use boto.manage.cmdshell with ssh-agent?',\n",
              " 'How to create URL Link outside UI Project?',\n",
              " 'Proximity searching phrases with root expanders in Solr or ElasticSearch (especially websolr or bonsai.io)?',\n",
              " 'What is localStorage?',\n",
              " 'The easiest way to replace white spaces with (underscores) _ in bash',\n",
              " 'Not Able To Add A New User To An Existing Account Using Management API',\n",
              " 'In Emacs, how do I display a message in the minibuffer with font face properties?',\n",
              " 'codeigniter validation should work only when array of email id is not empty',\n",
              " 'Why does Phalcon 2 raise \"undefined symbol: php_pdo_get_dbh_ce in Unknown on line 0\" warning?',\n",
              " \"How to solve undefined method `to_key' for #<Book::ActiveRecord_Relation:0x007fb709a6a8c0>?\",\n",
              " \"TypeScript 0.9.* VisualStudio TS5037: Cannot compile external modules unless the '--module' flag is provided\",\n",
              " 'Cannot get my bootstrap rows on the same line',\n",
              " 'RInside on Mac OS X',\n",
              " 'Communication between two modules in AngularJs',\n",
              " 'iframe scrolling on the iphone',\n",
              " 'TURN Server use https connection for the admin session',\n",
              " 'IOUtils.copy fails 2nd time',\n",
              " 'print copyright symbol in TextView',\n",
              " \"How does codeigniter's load work?\",\n",
              " 'How to create Windows Phone 7 SMS textbox',\n",
              " 'Mock GPS location and Chrome for Android',\n",
              " 'What was Tim Sweeney thinking? (How does this C++ parser work?)',\n",
              " 'Init a class with one argument using objc_msgSend',\n",
              " 'SQL Server Management Studio Schema View',\n",
              " 'C++11 for windows XP SP1',\n",
              " 'Invalid Cast DateTime?',\n",
              " 'How to implement clock frequency multiplier using VHDL',\n",
              " 'Send an email from an iPhone app containing an img tag',\n",
              " 'Regex which ignores comments',\n",
              " 'How to implement AVAudioPlayer Inside Singleton Method?',\n",
              " 'How do I get rid of the gap left by an relative positioned div in Firefox?',\n",
              " 'What is a good method of persisting application properties?',\n",
              " 'Simple way to hook registry access for specific process',\n",
              " 'ember.js show default nested route if none provided',\n",
              " 'Using transform() and calc() in firefox',\n",
              " 'twisted passing certificate to ssl handler',\n",
              " 'Processing items in SQS queue with a php script',\n",
              " 'Dirty Reads in SQL Server AlwaysOn',\n",
              " 'Looping through generic object properties',\n",
              " 'Why is Cocoapods complaining about the embedded content contains swift setting in the build settings?',\n",
              " 'Using PHP & cron how can i inform  a user that he has got 15 days more left to pay his amount?',\n",
              " 'MVC 5: Should I inherit my User from IdentityUser class?',\n",
              " 'Preserve the tab spacing and white spaces in attributes of XML',\n",
              " 'Is it possible to refresh a timer in a Today Widget?',\n",
              " 'Jenkins copy files between 2 Server',\n",
              " 'app is crashing when i try to release nsmutablestring please help on this',\n",
              " 'Custom UIView iboutlet not set',\n",
              " 'How can I achieve float left at bottom and float right at top with css flexbox?',\n",
              " 'shell_exec() returning null on \"ls\"',\n",
              " 'How to do an XOR of the binary forms of all integer items in a list',\n",
              " 'Passing Form OpenArgs errors as NULL?',\n",
              " 'Getting quoted string using ContentValues for insertOrThrow',\n",
              " \"is there an 'afterShow' on jQuery UI datepicker?\",\n",
              " 'cell computation for tablesorter',\n",
              " 'accumulation curve in R',\n",
              " 'php script running on apache',\n",
              " 'NSString to NSData Failing in Encoding',\n",
              " 'How to match a crash\\'s \"Fault offset\" to the source code?',\n",
              " 'How to get the total number of subscribers from start date to current date?',\n",
              " 'sbt unresolved dependency for spark-cassandra-connector 2.0.2',\n",
              " 'how to remove the save button in odoo 10?',\n",
              " 'Explicit instantiation of a templated class and dynamic_cast in a shared library',\n",
              " 'Restrict keypress in wpf textbox',\n",
              " 'Rails - how to send some information from one form to other controller',\n",
              " 'Using Filemerge how to you get to see the lower pane. The one with the results in?',\n",
              " 'web.go install error',\n",
              " 'How to update the different XML element simultaneously by multiple users in single XML file?',\n",
              " 'Bootstrap Carousel does not work',\n",
              " 'Formatting textfield based on currency style',\n",
              " 'TCL : what is the major drawbacks of source command over package command',\n",
              " 'How to Declare Complex Nested C# Type for Web Service',\n",
              " 'JmsTemplate - define concurrency per queue?',\n",
              " 'Debug+Unplug vs RUN Android',\n",
              " 'Get configured wifis with ADB',\n",
              " 'Errno::EPERM (Operation not permitted FILE_PATH) when uploading image with Rails, Carrierwave, Amazon EC2',\n",
              " 'how to change xcode app icon?',\n",
              " 'adding multiple columns to a data.table, where column names are held in a vector',\n",
              " 'Find the date difference in ElasticSearch',\n",
              " 'Yii2 has many or where',\n",
              " 'Compare array values with others values from the same array',\n",
              " \"Create appointment via Exchange Web Services, set extended property only on organizer's instance\",\n",
              " 'Bokeh - how to update ColumnDataSource to plot streaming line graph using periodic callback',\n",
              " 'how to get selected rows in QTableView',\n",
              " 'Delphi-XE4 understanding threads count',\n",
              " 'Visual Studio Report Designer: Embed font',\n",
              " 'Facebook like button statistics',\n",
              " 'SQL - One record per date',\n",
              " 'Passing Parameters between xaml window and usercontrol WPF',\n",
              " \"Password field <p:password> Value Won't Re-Appear In Form After Saved And Selecting That Row From Data Table\",\n",
              " 'Extjs:Assign value to hiiden field from store',\n",
              " 'Workaround for external API which does not have CORS enabled?',\n",
              " 'How to edit epub file content with PHP',\n",
              " 'How do you handle an aggregate root with a collection of child entities whose update frequency is different than the root?',\n",
              " 'Change Select value using GWT Uniform.js',\n",
              " 'Redirect to action passes null instead of object',\n",
              " 'Convert Begin and End Coordinates into Spatial Lines in R',\n",
              " 'Using the Windows.Media.Speechrecognition namespace in a Qt C++ application',\n",
              " 'Table View Cells \"jump\" when going back from View Controller to Table View Controller',\n",
              " 'Positioning Toolbars in Eclipse/RCP',\n",
              " 'Redirect simple url to https in php codeigniter',\n",
              " 'Chrome Extension with Database API interface',\n",
              " 'Testing a web based application on Iphone',\n",
              " 'RSA encryption AND decryption with JS AND PHP',\n",
              " 'Sort Options in a Select List with javascript/jQuery.. but not alphabetically',\n",
              " 'Output tabular data with IO.ANSI',\n",
              " 'Binding Attached Behaviour from code',\n",
              " 'Set zebra list after javascript filtering',\n",
              " 'Externalizing JPA Mappings Configuration',\n",
              " 'MemoryStream Seek, Needed After Instance Creation With Buffer?',\n",
              " 'Building QGIS source code on Windows 7 - Not working',\n",
              " 'How to add/remove many-to-many relation with entity framework by entity key?',\n",
              " 'Choosing cloud storage service with web API can FTP third party server',\n",
              " 'How to pass text with new line as parameter to a bat file?',\n",
              " 'How can I populate an associative array with a variable name in bash?',\n",
              " 'Using map in Python',\n",
              " 'unable to apply three.js texture to JSON model imported from blender',\n",
              " 'XPS Viewer will not open document created using .NET printer Graphics object?',\n",
              " 'Comparing value to that of previous row depending on different field',\n",
              " 'Anomaly in GNU Prolog `delete/3` predicate?',\n",
              " 'Zend Php ORA-02391',\n",
              " 'Stream a PDF to a web page failing',\n",
              " 'Counting the frequencies of bases using for loop and substr in perl',\n",
              " 'Angular slotted transclusion with attributes',\n",
              " 'Kerberos/SPNEGO : multiple SPNs for the same AD account',\n",
              " 'React es7 static childContextTypes unexpected token',\n",
              " 'Simultaneous HttpClient request using multiple AsyncTasks',\n",
              " 'PHP extension install - phpize error - on NGINX/PHP-FPM',\n",
              " 'Redirect only WordPress homepage with a 301 redirect',\n",
              " 'Convert unicode to string',\n",
              " 'Disabling specific cell edit in DataGrid',\n",
              " 'Python and Regular Expression Substring',\n",
              " 'Workflow for Using Django South with Multiple Code Branches',\n",
              " 'How to dynamically generate CSS file from database in ASP.NET MVC',\n",
              " 'CLLocationCoordinate2D without knowing how many will be in the array?',\n",
              " 'Castle Windsor: How to register by convention with delegate method?',\n",
              " 'How to apply segment using Google Analytics .NET client',\n",
              " 'Is there a way to redirect the browser from the bootstrap in Zend Framework?',\n",
              " \"GWT RPC can't instatiate class on server side\",\n",
              " 'Load website in iframe dialog, jquery',\n",
              " 'How to execute code when textField content changes?',\n",
              " 'Recursion in C confusion',\n",
              " 'Find Leaflet map object after initialisation',\n",
              " 'WM_GETREDRAW available?',\n",
              " 'Javascript: Round Time UP nearest 5 minutes',\n",
              " 'Fatal Error Msg',\n",
              " 'New line character in VB.Net?',\n",
              " 'Finding all indices for certain input',\n",
              " 'Call function on jQuery show()',\n",
              " 'Hex sum algorithm',\n",
              " 'Run PHP using AJAX in Laravel',\n",
              " 'Eclipse hangs when trying to debug clojure project',\n",
              " 'MVC2 how is <%: tag different to <%=',\n",
              " 'What is the default PHP configuration?',\n",
              " 'How to copy entire directory structure?',\n",
              " 'Laravel Error on Repopulating: htmlentities() expects parameter 1 to be string, array given in',\n",
              " \"Threaded Beans doesn't get Environment @Autowired to them in Spring when using JSR330 Provider\",\n",
              " 'Sorting and Limiting data in MySQL',\n",
              " \"Same versions of Office.js hosted on 'beta' and '/1/'?\",\n",
              " 'SAX2 (Xerces-C): How to get the line number of parsed tags?',\n",
              " 'LVM_GETITEMPOSITION',\n",
              " 'regex match string replace in new string (notepad )',\n",
              " 'Android ImageView drag and drop positioning',\n",
              " 'Where I can find a place id on google maps',\n",
              " 'categories is undefined - rails',\n",
              " 'backbone: better way to template?',\n",
              " \"Where's my stderr going?\",\n",
              " 'Java Spring - Redirect page to \"outage\" based on db cell value.',\n",
              " 'Is there a way to open the Duplicate Detection window in CRM using javascript and without saving the record?',\n",
              " 'Energy efficiency on CPU utilization',\n",
              " 'Using same hibernate mapping files across multiple projects',\n",
              " 'Linq to XML query not picking up any values',\n",
              " 'pyqt: controlling a border widget',\n",
              " 'I am searching for the PowerBuider Foundation Classes User Guide. Preferably PDF to download',\n",
              " 'CodeIgniter - get error messages',\n",
              " 'How to read logback configuration file from system environment in tomcat 7',\n",
              " \"jQuery Ajax file upload : Required MultipartFile parameter 'file' is not present\",\n",
              " 'read xml from jsp',\n",
              " 'Adding objects to an array and then showing in a table',\n",
              " 'How do you write an exception without revealing sensitive information?',\n",
              " 'Wordcount example using Apache pig',\n",
              " 'How to know the which activity is ruuning in windows phone 7?',\n",
              " 'how to get log messages from ios app',\n",
              " 'Formula to divide data from one cell equally into multiple cells',\n",
              " 'Multiply two int arrays',\n",
              " 'Connection string error using membership provider from WCF service',\n",
              " 'Java : How to access UNC location',\n",
              " 'Permission denied to access property \"invoke\"',\n",
              " 'MvvmCross services from another assembly, not MyApp.Core',\n",
              " 'Why we should always return values from a function?',\n",
              " 'Updating iTunesArtwork and screenshots for published app',\n",
              " 'How to pass a Javascript variable to Twig in this particular example',\n",
              " 'Zebra-striping nested lists with CSS',\n",
              " 'AngularJS - Create a login page with a totally different layout',\n",
              " 'How to drop rows by name pattern in R?',\n",
              " 'Summarizing rows in a Pandas DataFrame',\n",
              " 'Equivalent of Hibernate SEQUENCE in Sybase ASE 15.5',\n",
              " 'recreating iOS SMS/Facebook Messenger text bubble tail',\n",
              " 'Border Image Confusion',\n",
              " 'How to build a numpy array row by row in a for loop?',\n",
              " 'WPF validation not working as expected',\n",
              " 'Change Tab view after certain time interval received as response from Server request',\n",
              " \"Can all 'for' loops be replaced with a LINQ statement?\",\n",
              " 'Seconds into time elapsed in JS',\n",
              " \"can't override class file in module in prestashop\",\n",
              " 'MOMC error in xCode 6.2 beta',\n",
              " 'Using a fragment as a ListView header in only one orientation',\n",
              " 'How to use unapi for biliographic in drupal',\n",
              " 'WinForms Data Binding Entity Framework 6',\n",
              " 'String masking: Confoming text to a given mask',\n",
              " \"Removing rows which contain all 0's in r\",\n",
              " 'how to add 2 background images on the sides of the page',\n",
              " 'Beginning and end of the string in Emacs regexps',\n",
              " 'multiple gremlin commands combined as one',\n",
              " 'SQL join, sum, group-by and instead of null 0',\n",
              " 'How to check cursor is on newline or not in ckeditor 4.x',\n",
              " 'Filter array result with mechanize',\n",
              " 'How to remove � character while parsing xml file in android',\n",
              " 'LINQ to Json data retrieval from polymorphic json',\n",
              " 'Running native code on Azure',\n",
              " 'Bootstrap3 Navbar fill content',\n",
              " 'Does SQL Server Compact (CE) support a RequiresNew transaction scope inside another one?',\n",
              " 'How to redirect a URL containing smartquotes via .htaccess?',\n",
              " 'Accordion open when page loads',\n",
              " 'Zurb foundation more than one joyride',\n",
              " 'Is there something like $this->db->matched_rows() in CodeIgniter?',\n",
              " 'C# LinqToSql SubmitChanges() does not update, even though PK is set',\n",
              " 'How to completely remove vitualenv?',\n",
              " 'Java rotate an image in the center',\n",
              " 'why do `#!/usr/bin/env var=val command` gets into an infinite loop',\n",
              " 'OpenTBS - Strategy for dynamic number of row, column generation in excel template (used for chart data)',\n",
              " 'Error installing Frama-C with opam (Ubuntu 14.04 LTS)',\n",
              " 'How to configure jacoco for integration tests written in jersey test framework',\n",
              " 'Video chat application : Which technology to choose?',\n",
              " 'A strange error in java generic',\n",
              " 'Pandas Split Column',\n",
              " 'How to add dynamically created tables to SQLFORM in web2py',\n",
              " 'A separate thread freezes while sending HTTP sequests',\n",
              " 'converting javascript array to a dropdown - jquery',\n",
              " 'Spring jpa modifies column names',\n",
              " 'Country, state list for SQL Server',\n",
              " 'server side control in MVC',\n",
              " 'java not saving ints correctly',\n",
              " 'Size of menu dependent on screen resolution',\n",
              " 'Add PHP API documentation to vims balloonexpr',\n",
              " 'How best to access current_user devise helper in backbone',\n",
              " 'how do I generate histogram output from an array in Java?',\n",
              " 'Modify dynamically a rdlc report (c#)',\n",
              " 'Delphi XE4 64bit _TExitDllException',\n",
              " 'java.lang.IllegalArgumentException: Failed to find configured root that contains /storage/emulated/0/Pictures/',\n",
              " 'how to use CSPARQL-ReadyToGoPack-0.9 in a SBT project',\n",
              " 'ClassNotFound exception during deploy',\n",
              " 'Dictionary Help! Extracting values and making a table',\n",
              " 'Permission to provision new site collection through workflow',\n",
              " 'How to Retrive Apple App Store Rating Details',\n",
              " 'converting UTF-8 string to ASCII in pure LUA',\n",
              " 'Retrieve rails/devise current_user from Backbone',\n",
              " 'How to create dynamic dependent list in Excel VBA?',\n",
              " 'Mysqli query return empty results',\n",
              " 'Finding the shortest path between 2 points namely S and G?',\n",
              " 'Input to print output',\n",
              " 'NHibernate - Paging with ICriteria and optional ICriteria calls',\n",
              " 'Oracle adding trailing whitespace to my to_char(date)',\n",
              " 'variable passing -v in awk not working',\n",
              " 'Routes in DART, s server required?',\n",
              " 'Why does the Server need access to Kerberos?',\n",
              " 'JQuery > ScrollTo > highlighting the item that was scrolled to',\n",
              " 'How to get the package name from JNI to Android?',\n",
              " 'How to use or condition in serverspec?',\n",
              " '7-Segment display control using Microprocessor',\n",
              " 'Newly installed IIS. Aspx page not getting displayed',\n",
              " 'Finding string length without using strlen and using function in C',\n",
              " 'force LinqToSql to submit',\n",
              " 'makedepend missing?',\n",
              " 'Array implementation on FPGA using VHDL',\n",
              " 'Would you implement a lightweight XML parser with <regex>?',\n",
              " 'Differentiating division from regex when lexing gawk code',\n",
              " 'Mssql query exec returns error',\n",
              " 'C# ASP.NET SQL Data Source',\n",
              " 'Webpage Fitting To Every Screen Reslution',\n",
              " 'Find the path of a local file or directory in javascript',\n",
              " 'What is the recommended way to append to files on HDFS?',\n",
              " 'UML modelling tool for php',\n",
              " 'Jacoco.exec file not being picked up by Sonar in Jenkins',\n",
              " 'WPF : Is it impossible to UI load in background thread?',\n",
              " \"CodeIgniter doesn't see images (using file_exists)\",\n",
              " 'SQL Server real/float precision changing during SSIS import to MS-Access database',\n",
              " 'How can I easily maintain a cross-file JavaScript Library Development Environment',\n",
              " 'Passing arguments to execfile in python 2.7',\n",
              " 'Runtime error of Console()',\n",
              " 'Is android.view.View touched now?',\n",
              " 'Play MP3/WAV files without using libraries?',\n",
              " '@ManyToMany relation not save',\n",
              " 'How to have margin on extended page tablix with SSRS',\n",
              " 'Can we export multiple non-AMD functions from a module in requirejs?',\n",
              " 'Distribution of decreasing quantity over X number of days',\n",
              " 'Assistance with Nested Dictionary',\n",
              " '-[UIScrollView zoomToRect:animated:] weird behavior when contentSize < bounds.size',\n",
              " 'Appointment.Bind() and Mailbox',\n",
              " 'I want to pull out the number of special characters and the number of vowels in each sentence using a matlab command',\n",
              " 'Setting background color of android actionbar',\n",
              " 'Add an arrow under the active menu item in HTML+CSS',\n",
              " 'Delphi - XE2 code to Delphi7 needed. Using wininet to download a file',\n",
              " 'Carriage Return showing in notepad++ but not textpad?',\n",
              " 'Django SSL for some pages only',\n",
              " \"D3 - Uncaught TypeError: Cannot read property 'length' of undefined\",\n",
              " 'How to check for network reachability on iOS in a non-blocking manner?',\n",
              " 'How do you best convert a recursive function to an iterative one?',\n",
              " 'JQuery use .on() with not selector',\n",
              " 'How to run an application in background for windows mobile 6?',\n",
              " 'Swing GUI Development with Spring',\n",
              " 'Access Get parameter with a scriptlet',\n",
              " 'Exporting HBase table to mysql',\n",
              " 'R extension breaks connection to extensions directory in NetLogo',\n",
              " 'Google App Engine Deployment Failed, \"empty index configuration\"',\n",
              " 'CRON - chown and chgrp to a directory from root user to www-data',\n",
              " 'EaselJS object inspector',\n",
              " 'Applying jQuery Resizable on a dynamically generated html data table',\n",
              " 'Running magento on other port than default 80',\n",
              " 'Liferay: what is the default approach for logging in Liferay?',\n",
              " \"UICollectionVIew : How can i remove the space on top first cell's row\",\n",
              " 'Sort a Delphi dataset',\n",
              " 'Polygon object support in Backand with an external MySQL',\n",
              " 'Multiple JavaFX stages in fullscreen mode',\n",
              " 'matching form input to mysql database value',\n",
              " 'Firemonkey IFMXLoggingService Windows Event Log Location',\n",
              " 'tpl dataflow: fixed buffer size without throwing items away',\n",
              " 'bash- Redirection inside quotes after ssh',\n",
              " 'Fetch 5 Columns and their value from Mysql query and translate into PHP',\n",
              " 'IndexedDB - Dexie JS : Dynamically create stores',\n",
              " 'How to use PackageManager to check if an app is disabled in a method',\n",
              " 'How to show notification on top of screen?',\n",
              " 'Sqlalchemy: Undefined variable from import: metadata',\n",
              " 'ansible: use different logging level for terminal and log file',\n",
              " \"How do I refresh page automatically when partial refresh doesn't work?\",\n",
              " \"TFS - What security would allow me to 'Add files' in one project and not the other?\",\n",
              " 'PHP rest API authentication',\n",
              " 'Displaying or editing data readed from floppy',\n",
              " 'What does the slash denote in postgresql virtual transaction identifiers?',\n",
              " 'Is it possible to create a bubble polar chart with Highcharts?',\n",
              " 'Mako Filter in Chameleon?',\n",
              " 'how to do select all when selected a checkbox',\n",
              " 'ExtJS floating window focus lose detection',\n",
              " 'How to hide the paging row in the gridview when exporting in excel?',\n",
              " 'Error \"No recognizer is installed\" with recognition speech',\n",
              " 'embed json file within d3.js',\n",
              " 'is there any way to create a menu bar using glut?',\n",
              " 'How does waze change objects location with their localization?',\n",
              " 'how to call cross-domain web api using ajax?',\n",
              " 'Printing Entire Contents of WebView in Cocoa, Not Just Displayed',\n",
              " 'JSON arrays with duplicate items with Hamcrest and RestAssured',\n",
              " 'How can I return an array of Promises from a then clause',\n",
              " \"Can't get run my application after installation?\",\n",
              " 'How do websites like torrentz.eu collect their content?',\n",
              " 'how to include google-map in polymer#^2.0 as it was working in polymer 1.7',\n",
              " 'How to change the reference point of an html element?',\n",
              " 'Core data executeFetchRequest consumes huge amounts of memory',\n",
              " 'Daylight Saving Cause an issue on jQuery UI datepicker on Firefox',\n",
              " \"Why can't this macro execute?\",\n",
              " 'How to get linkedin profile follower count',\n",
              " 'How to call protected constructor in c#?',\n",
              " 'Excel VBA / SQL Union',\n",
              " 'Go, Golang : array type inside struct, missing type composite literal',\n",
              " 'Unable to install bower on Openshift',\n",
              " 'Combining jQuery .val() and .contains()',\n",
              " 'CNG, CryptoServiceProvider and Managed implementations of HashAlgorithm',\n",
              " 'NSString writeToFile with URL encoded string',\n",
              " 'Django: Access pre-save object with post-save signal?',\n",
              " 'Custom Merge Function in R',\n",
              " 'Assignment makes pointer without a cast',\n",
              " 'Weird Behaviors of time in Rails application',\n",
              " 'Python-mock: how to test if super() was called',\n",
              " 'setGraphic() not working correctly on recursively created TreeItems',\n",
              " 'Strange behaviour of sscanf with string',\n",
              " 'HTTP method for a WCF Restful Service',\n",
              " 'SubSonic .Filter() in memory filter',\n",
              " 'Does ASP.NET MVC use the regular toolbox controls?',\n",
              " 'How can I render a GSP as a String?',\n",
              " 'publishing ASP.Net MVC 4 Project',\n",
              " 'how to hyperlink to a TFS item from visual studio',\n",
              " 'mutex attribute PTHREAD_PROCESS_SHARED inverts logic?',\n",
              " ...]"
            ]
          },
          "metadata": {},
          "execution_count": 25
        }
      ]
    },
    {
      "cell_type": "markdown",
      "metadata": {
        "id": "ySQQp0oQt1Ep"
      },
      "source": [
        "### Ранжирование без обучения"
      ]
    },
    {
      "cell_type": "markdown",
      "metadata": {
        "id": "iElEDhj-6j3R"
      },
      "source": [
        "Реализуйте функцию ранжирования кандидатов на основе косинусного расстояния. Функция должна по списку кандидатов вернуть отсортированный список пар (позиция в исходном списке кандидатов, кандидат). При этом позиция кандидата в полученном списке является его рейтингом (первый - лучший). Например, если исходный список кандидатов был [a, b, c], и самый похожий на исходный вопрос среди них - c, затем a, и в конце b, то функция должна вернуть список **[(2, c), (0, a), (1, b)]**."
      ]
    },
    {
      "cell_type": "code",
      "metadata": {
        "id": "K02JARKr6j3T"
      },
      "source": [
        "from sklearn.metrics.pairwise import cosine_similarity\n",
        "import scipy\n",
        "from copy import deepcopy"
      ],
      "execution_count": 31,
      "outputs": []
    },
    {
      "cell_type": "code",
      "metadata": {
        "id": "1yP8wJWj6j3X"
      },
      "source": [
        "def rank_candidates(question, candidates, embeddings, tokenizer, dim=200):\n",
        "\n",
        "    q_vec = question_to_vec(question, embeddings, tokenizer)\n",
        "    candidates_vectors = [question_to_vec(candidate, embeddings, tokenizer) for candidate in candidates]\n",
        "    similarities = []\n",
        "    for vector in candidates_vectors:\n",
        "        similarities.append(scipy.spatial.distance.cosine(q_vec, vector))\n",
        "    sort_indexes = np.argsort(similarities)\n",
        "    result = []\n",
        "    for i in sort_indexes:\n",
        "        result.append((i,candidates[i]))\n",
        "    return result\n",
        "    \"\"\"\n",
        "        question: строка\n",
        "        candidates: массив строк(кандидатов) [a, b, c]\n",
        "        result: пары (начальная позиция, кандидат) [(2, c), (0, a), (1, b)]\n",
        "    \"\"\"\n",
        "    '''your code'''"
      ],
      "execution_count": 74,
      "outputs": []
    },
    {
      "cell_type": "markdown",
      "metadata": {
        "id": "TnBszTb76j3c"
      },
      "source": [
        "Протестируйте работу функции на примерах ниже. Пусть $N=2$, то есть два эксперимента"
      ]
    },
    {
      "cell_type": "code",
      "metadata": {
        "id": "xvQgtP176j3h"
      },
      "source": [
        "questions = ['converting string to list', 'Sending array via Ajax fails'] \n",
        "\n",
        "candidates = [['Convert Google results object (pure js) to Python object', # первый эксперимент\n",
        "               'C# create cookie from string and send it',\n",
        "               'How to use jQuery AJAX for an outside domain?'],\n",
        "              \n",
        "              ['Getting all list items of an unordered list in PHP',      # второй эксперимент\n",
        "               'WPF- How to update the changes in list item of a list',\n",
        "               'select2 not displaying search results']]"
      ],
      "execution_count": 75,
      "outputs": []
    },
    {
      "cell_type": "code",
      "metadata": {
        "colab": {
          "base_uri": "https://localhost:8080/"
        },
        "id": "bPj1JGFi6j3m",
        "outputId": "a137c0df-f96d-4233-8069-f4bc25d35762"
      },
      "source": [
        "for question, q_candidates in zip(questions, candidates):\n",
        "        ranks = rank_candidates(question, q_candidates, wv_embeddings, tokenizer)\n",
        "        print(ranks)\n",
        "        print()"
      ],
      "execution_count": 76,
      "outputs": [
        {
          "output_type": "stream",
          "name": "stdout",
          "text": [
            "[(1, 'C# create cookie from string and send it'), (0, 'Convert Google results object (pure js) to Python object'), (2, 'How to use jQuery AJAX for an outside domain?')]\n",
            "\n",
            "[(0, 'Getting all list items of an unordered list in PHP'), (2, 'select2 not displaying search results'), (1, 'WPF- How to update the changes in list item of a list')]\n",
            "\n"
          ]
        }
      ]
    },
    {
      "cell_type": "markdown",
      "metadata": {
        "id": "jm4cidj56j3q"
      },
      "source": [
        "Для первого экперимента вы можете полностью сравнить ваши ответы и правильные ответы. Но для второго эксперимента два ответа на кандидаты будут <b>скрыты</b>(*)"
      ]
    },
    {
      "cell_type": "code",
      "metadata": {
        "id": "0LeKMIsn6j3s"
      },
      "source": [
        "# должно вывести\n",
        "results = [[(1, 'C# create cookie from string and send it'),\n",
        "            (0, 'Convert Google results object (pure js) to Python object'),\n",
        "            (2, 'How to use jQuery AJAX for an outside domain?')],\n",
        "           [('*', 'Getting all list items of an unordered list in PHP'), #скрыт\n",
        "            ('*', 'select2 not displaying search results'), #скрыт\n",
        "            ('*', 'WPF- How to update the changes in list item of a list')]] #скрыт"
      ],
      "execution_count": null,
      "outputs": []
    },
    {
      "cell_type": "markdown",
      "metadata": {
        "id": "t1ttnIBe6j3x"
      },
      "source": [
        "Последовательность начальных индексов вы должны получить `для эксперимента 1`  1, 0, 2."
      ]
    },
    {
      "cell_type": "markdown",
      "metadata": {
        "id": "5WQgYDWd6j3y"
      },
      "source": [
        "#### Вопрос 5:\n",
        "* Какую последовательность начальных индексов вы получили `для эксперимента 2`(перечисление без запятой и пробелов, например, `102` для первого эксперимента?\n",
        "\n",
        "До того, как в токенайзер добавил .lower() было 102\n",
        "после этого стало 021"
      ]
    },
    {
      "cell_type": "markdown",
      "metadata": {
        "id": "fPllOY-Y6j30"
      },
      "source": [
        "Теперь мы можем оценить качество нашего метода. Запустите следующие два блока кода для получения результата. Обратите внимание, что вычисление расстояния между векторами занимает некоторое время (примерно 10 минут). Можете взять для validation 1000 примеров."
      ]
    },
    {
      "cell_type": "code",
      "metadata": {
        "id": "Z3q9sxddz-yU"
      },
      "source": [
        "from tqdm.notebook import tqdm"
      ],
      "execution_count": 45,
      "outputs": []
    },
    {
      "cell_type": "code",
      "metadata": {
        "colab": {
          "base_uri": "https://localhost:8080/",
          "height": 49,
          "referenced_widgets": [
            "181f6783be894af4bee745e96cd256ce",
            "f6aa6a8e6ce74613ab3c78f19b975b5f",
            "966223197edd4f65893e23077365702f",
            "41a0d96661d244bc9012717eac0d608c",
            "c65d83597c8b4b0cb51000a7a49ec9e7",
            "3ecc269fcc794d91bc0cb334366e9538",
            "7583e3de87b9426eb387285e10f85a6f",
            "0b2c9cfc67a14c9f8b7ac4db6c653e83",
            "0064f1f4d091468ea5af10ac5daac302",
            "ac07b1a4261a47099a3cf768541abc28",
            "d85728ba5b59446b939aba32e26059a8"
          ]
        },
        "id": "nu7K4mis6j32",
        "outputId": "9504d9b5-6750-47de-a922-9b25e5b62e04"
      },
      "source": [
        "wv_ranking = []\n",
        "max_validation_examples = 1000\n",
        "for i, line in enumerate(tqdm(validation_data)):\n",
        "    if i == max_validation_examples:\n",
        "        break\n",
        "    q, *ex = line\n",
        "    ranks = rank_candidates(q, ex, wv_embeddings, tokenizer)\n",
        "    wv_ranking.append([r[0] for r in ranks].index(0) + 1)"
      ],
      "execution_count": 77,
      "outputs": [
        {
          "output_type": "display_data",
          "data": {
            "application/vnd.jupyter.widget-view+json": {
              "model_id": "181f6783be894af4bee745e96cd256ce",
              "version_minor": 0,
              "version_major": 2
            },
            "text/plain": [
              "  0%|          | 0/3760 [00:00<?, ?it/s]"
            ]
          },
          "metadata": {}
        }
      ]
    },
    {
      "cell_type": "code",
      "metadata": {
        "id": "gDtS520v6j35",
        "scrolled": true,
        "colab": {
          "base_uri": "https://localhost:8080/",
          "height": 153,
          "referenced_widgets": [
            "b90c5f2a1c2e4f6dae4d1d675748e354",
            "1a15080da4fb439180f7e3cab54f6feb",
            "a08d644030f7427e9437a43cab4f3ad8",
            "d1bad061eec94778b8930d36a786ea47",
            "605ec0d22c034854828b560f9fa74a65",
            "96bd73b6df784294a117e9e5355cd5e5",
            "15bdd72b3dd745899e01f1056f115284",
            "9a4ce5253aef49dab484d2d6effd4777",
            "66f87394467548dd8c8bc5ed8b127c88",
            "dd4f02dcc74c421cb6aad06e74e259b6",
            "5bac7f7354d1405c90dcaa353e5af78b"
          ]
        },
        "outputId": "eed5eeff-cd65-4fd3-f568-a8dcc1fae987"
      },
      "source": [
        "for k in tqdm([1, 5, 10, 100, 500, 1000]):\n",
        "    print(\"DCG@%4d: %.3f | Hits@%4d: %.3f\" % (k, dcg_score(wv_ranking, k), k, hits_count(wv_ranking, k)))"
      ],
      "execution_count": 47,
      "outputs": [
        {
          "output_type": "display_data",
          "data": {
            "application/vnd.jupyter.widget-view+json": {
              "model_id": "b90c5f2a1c2e4f6dae4d1d675748e354",
              "version_minor": 0,
              "version_major": 2
            },
            "text/plain": [
              "  0%|          | 0/6 [00:00<?, ?it/s]"
            ]
          },
          "metadata": {}
        },
        {
          "output_type": "stream",
          "name": "stdout",
          "text": [
            "DCG@   1: 0.285 | Hits@   1: 0.285\n",
            "DCG@   5: 0.342 | Hits@   5: 0.393\n",
            "DCG@  10: 0.360 | Hits@  10: 0.449\n",
            "DCG@ 100: 0.406 | Hits@ 100: 0.679\n",
            "DCG@ 500: 0.431 | Hits@ 500: 0.878\n",
            "DCG@1000: 0.444 | Hits@1000: 1.000\n"
          ]
        }
      ]
    },
    {
      "cell_type": "code",
      "metadata": {
        "colab": {
          "base_uri": "https://localhost:8080/",
          "height": 153,
          "referenced_widgets": [
            "ca59b338096c4d16b807c39701081415",
            "b457302cb683423caa5dc037019c19cf",
            "c1277b9d00fc47098d20bcada315a28d",
            "cf74606fde074d5c830c44198da330f8",
            "5370bee161a94ca9aa07c01a9a8405bc",
            "53239293e91740e9a0773b6673f6f817",
            "871be9990c0c468bb8f1c50d390da71d",
            "d66d21816742498397ed5ab59a4be804",
            "02e787f015a14f48a0b844da0f3f4c05",
            "659f9014e0644a81826e12668ca2cc08",
            "e61dc2ea902a4cc9bffa592b9d5046ce"
          ]
        },
        "id": "ca5GNK03y-mZ",
        "outputId": "d608c4a1-d7ef-4f9a-b146-82615bc6d0ea"
      },
      "source": [
        "for k in tqdm([1, 5, 10, 100, 500, 1000]):\n",
        "    print(\"DCG@%4d: %.3f | Hits@%4d: %.3f\" % (k, dcg_score(wv_ranking, k), k, hits_count(wv_ranking, k)))\n",
        "\n",
        "# это когда я додумался добавить .lower() в токенайзер"
      ],
      "execution_count": 78,
      "outputs": [
        {
          "output_type": "display_data",
          "data": {
            "application/vnd.jupyter.widget-view+json": {
              "model_id": "ca59b338096c4d16b807c39701081415",
              "version_minor": 0,
              "version_major": 2
            },
            "text/plain": [
              "  0%|          | 0/6 [00:00<?, ?it/s]"
            ]
          },
          "metadata": {}
        },
        {
          "output_type": "stream",
          "name": "stdout",
          "text": [
            "DCG@   1: 0.415 | Hits@   1: 0.415\n",
            "DCG@   5: 0.502 | Hits@   5: 0.582\n",
            "DCG@  10: 0.524 | Hits@  10: 0.650\n",
            "DCG@ 100: 0.570 | Hits@ 100: 0.874\n",
            "DCG@ 500: 0.583 | Hits@ 500: 0.973\n",
            "DCG@1000: 0.586 | Hits@1000: 1.000\n"
          ]
        }
      ]
    },
    {
      "cell_type": "markdown",
      "metadata": {
        "id": "LL6_Rjg3InL8"
      },
      "source": [
        "### Эмбеддинги, обученные на корпусе похожих вопросов"
      ]
    },
    {
      "cell_type": "code",
      "metadata": {
        "id": "iNvbpR5gJIPz"
      },
      "source": [
        "train_data = read_corpus('./data/train.tsv')"
      ],
      "execution_count": 50,
      "outputs": []
    },
    {
      "cell_type": "markdown",
      "metadata": {
        "id": "Nr281ZyEJfjT"
      },
      "source": [
        "Улучшите качество модели.<br>Склеим вопросы в пары и обучим на них модель Word2Vec из gensim. Выберите размер window. Объясните свой выбор."
      ]
    },
    {
      "cell_type": "code",
      "metadata": {
        "id": "f6Y46SSQMTL0"
      },
      "source": [
        "words = []\n",
        "for data in train_data:\n",
        "    words.append(tokenizer.tokenize(' '.join(data)))"
      ],
      "execution_count": 79,
      "outputs": []
    },
    {
      "cell_type": "code",
      "metadata": {
        "id": "QuJzAM0cI-UH"
      },
      "source": [
        "from gensim.models import Word2Vec\n",
        "embeddings_trained = Word2Vec(words, # data for model to train on\n",
        "                 size=200,                 # embedding vector size\n",
        "                 min_count=5,             # consider words that occured at least 5 times\n",
        "                 window=5).wv"
      ],
      "execution_count": 87,
      "outputs": []
    },
    {
      "cell_type": "code",
      "metadata": {
        "id": "OQonbm4nMenD",
        "colab": {
          "base_uri": "https://localhost:8080/",
          "height": 84,
          "referenced_widgets": [
            "47919544ce1749329c0634fdb191034e",
            "34191284ba3b47fb99d08f394e53c10a",
            "553b2a3b1a3544a58025b83b1a20243e",
            "f02689aaba694a5abfe5ab7bd0ddbea8",
            "b41740b4bf61486ea0f48b5a1cd6ae9f",
            "f47f8dc376ed4b98853ae34cec8949ac",
            "e80d6b3cd4474626a53aaaec4135aa0c",
            "8abedc130c5c4f16b06e0bc1637d57bb",
            "2b7b83cbc22743b19dc5cd6f311f3bbd",
            "b87868739cb146b2bf64fc45ff5b7815",
            "059e73a687204886a51c40c63db8bc7e"
          ]
        },
        "outputId": "60dffaee-c4c7-4fb4-b066-370c23e1e062"
      },
      "source": [
        "wv_ranking = []\n",
        "max_validation_examples = 1000\n",
        "for i, line in enumerate(tqdm(validation_data)):\n",
        "    if i == max_validation_examples:\n",
        "        break\n",
        "    q, *ex = line\n",
        "    ranks = rank_candidates(q, ex, embeddings_trained, tokenizer)\n",
        "    wv_ranking.append([r[0] for r in ranks].index(0) + 1)"
      ],
      "execution_count": 88,
      "outputs": [
        {
          "output_type": "display_data",
          "data": {
            "application/vnd.jupyter.widget-view+json": {
              "model_id": "47919544ce1749329c0634fdb191034e",
              "version_minor": 0,
              "version_major": 2
            },
            "text/plain": [
              "  0%|          | 0/3760 [00:00<?, ?it/s]"
            ]
          },
          "metadata": {}
        },
        {
          "output_type": "stream",
          "name": "stderr",
          "text": [
            "/usr/local/lib/python3.7/dist-packages/scipy/spatial/distance.py:720: RuntimeWarning: invalid value encountered in float_scalars\n",
            "  dist = 1.0 - uv / np.sqrt(uu * vv)\n"
          ]
        }
      ]
    },
    {
      "cell_type": "code",
      "metadata": {
        "id": "3kahBUPGMgGR",
        "colab": {
          "base_uri": "https://localhost:8080/",
          "height": 153,
          "referenced_widgets": [
            "8f11199ef7e84f88b37c8f84fca324e3",
            "b00e4999bfd6407cad2d1bbaf0bd4203",
            "30a5364bf14b48eca73749020d135227",
            "af2fffab053a4673a637ae6da23f6d95",
            "8d9731d8b65d42fb9fa94fb6c96811f7",
            "4c891cfcbacf48a7b22a350b9d206c12",
            "7e5f6c7acd5e4530a2d493395ddd3a51",
            "cdb7c2f6925d41438c6eee40582337c2",
            "299787b512374d4d9679ba8dc97704d6",
            "3eba9d1cf9034aa59655c5932de43f00",
            "cd2ba7cfe49047c19f7a8076003b196a"
          ]
        },
        "outputId": "6288e6de-2d9a-424b-c2b8-fa20203e3cd8"
      },
      "source": [
        "for k in tqdm([1, 5, 10, 100, 500, 1000]):\n",
        "    print(\"DCG@%4d: %.3f | Hits@%4d: %.3f\" % (k, dcg_score(wv_ranking, k), k, hits_count(wv_ranking, k)))"
      ],
      "execution_count": 89,
      "outputs": [
        {
          "output_type": "display_data",
          "data": {
            "application/vnd.jupyter.widget-view+json": {
              "model_id": "8f11199ef7e84f88b37c8f84fca324e3",
              "version_minor": 0,
              "version_major": 2
            },
            "text/plain": [
              "  0%|          | 0/6 [00:00<?, ?it/s]"
            ]
          },
          "metadata": {}
        },
        {
          "output_type": "stream",
          "name": "stdout",
          "text": [
            "DCG@   1: 0.320 | Hits@   1: 0.320\n",
            "DCG@   5: 0.389 | Hits@   5: 0.450\n",
            "DCG@  10: 0.416 | Hits@  10: 0.535\n",
            "DCG@ 100: 0.469 | Hits@ 100: 0.790\n",
            "DCG@ 500: 0.489 | Hits@ 500: 0.942\n",
            "DCG@1000: 0.495 | Hits@1000: 1.000\n"
          ]
        }
      ]
    },
    {
      "cell_type": "markdown",
      "metadata": {
        "id": "oGjgALRglCVc"
      },
      "source": [
        "Window = 3\n",
        "DCG@   1: 0.248 | Hits@   1: 0.248\n",
        "DCG@   5: 0.307 | Hits@   5: 0.362\n",
        "DCG@  10: 0.333 | Hits@  10: 0.442\n",
        "DCG@ 100: 0.384 | Hits@ 100: 0.693\n",
        "DCG@ 500: 0.412 | Hits@ 500: 0.910\n",
        "DCG@1000: 0.421 | Hits@1000: 1.000\n",
        "\n",
        "Window = 5\n",
        "DCG@   1: 0.266 | Hits@   1: 0.266\n",
        "DCG@   5: 0.331 | Hits@   5: 0.392\n",
        "DCG@  10: 0.358 | Hits@  10: 0.473\n",
        "DCG@ 100: 0.408 | Hits@ 100: 0.722\n",
        "DCG@ 500: 0.434 | Hits@ 500: 0.928\n",
        "DCG@1000: 0.442 | Hits@1000: 1.000\n",
        "\n",
        "Window = 7\n",
        "DCG@   1: 0.273 | Hits@   1: 0.273\n",
        "DCG@   5: 0.342 | Hits@   5: 0.408\n",
        "DCG@  10: 0.367 | Hits@  10: 0.485\n",
        "DCG@ 100: 0.419 | Hits@ 100: 0.741\n",
        "DCG@ 500: 0.444 | Hits@ 500: 0.935\n",
        "DCG@1000: 0.450 | Hits@1000: 1.000\n",
        "\n",
        "Window = 9\n",
        "DCG@   1: 0.280 | Hits@   1: 0.280\n",
        "DCG@   5: 0.349 | Hits@   5: 0.411\n",
        "DCG@  10: 0.376 | Hits@  10: 0.496\n",
        "DCG@ 100: 0.426 | Hits@ 100: 0.745\n",
        "DCG@ 500: 0.451 | Hits@ 500: 0.939\n",
        "DCG@1000: 0.457 | Hits@1000: 1.000\n",
        "\n",
        "window = 11\n",
        "DCG@   1: 0.279 | Hits@   1: 0.279\n",
        "DCG@   5: 0.354 | Hits@   5: 0.420\n",
        "DCG@  10: 0.380 | Hits@  10: 0.502\n",
        "DCG@ 100: 0.430 | Hits@ 100: 0.755\n",
        "DCG@ 500: 0.454 | Hits@ 500: 0.938\n",
        "DCG@1000: 0.460 | Hits@1000: 1.000\n",
        "\n",
        "Window = 13\n",
        "DCG@   1: 0.287 | Hits@   1: 0.287\n",
        "DCG@   5: 0.357 | Hits@   5: 0.416\n",
        "DCG@  10: 0.383 | Hits@  10: 0.497\n",
        "DCG@ 100: 0.434 | Hits@ 100: 0.750\n",
        "DCG@ 500: 0.458 | Hits@ 500: 0.935\n",
        "DCG@1000: 0.465 | Hits@1000: 1.000\n",
        "\n",
        "Window = 15\n",
        "DCG@   1: 0.287 | Hits@   1: 0.287\n",
        "DCG@   5: 0.362 | Hits@   5: 0.428\n",
        "DCG@  10: 0.385 | Hits@  10: 0.499\n",
        "DCG@ 100: 0.439 | Hits@ 100: 0.764\n",
        "DCG@ 500: 0.461 | Hits@ 500: 0.939\n",
        "DCG@1000: 0.468 | Hits@1000: 1.\n",
        "\n",
        "Window = 17\n",
        "DCG@   1: 0.292 | Hits@   1: 0.292\n",
        "DCG@   5: 0.367 | Hits@   5: 0.434\n",
        "DCG@  10: 0.391 | Hits@  10: 0.507\n",
        "DCG@ 100: 0.442 | Hits@ 100: 0.763\n",
        "DCG@ 500: 0.464 | Hits@ 500: 0.936\n",
        "DCG@1000: 0.471 | Hits@1000: 1.000\n",
        "\n",
        "Window = 19\n",
        "DCG@   1: 0.300 | Hits@   1: 0.300\n",
        "DCG@   5: 0.371 | Hits@   5: 0.433\n",
        "DCG@  10: 0.395 | Hits@  10: 0.506\n",
        "DCG@ 100: 0.446 | Hits@ 100: 0.764\n",
        "DCG@ 500: 0.468 | Hits@ 500: 0.937\n",
        "DCG@1000: 0.475 | Hits@1000: 1.000\n",
        "\n",
        "Window = 21\n",
        "DCG@   1: 0.295 | Hits@   1: 0.295\n",
        "DCG@   5: 0.369 | Hits@   5: 0.434\n",
        "DCG@  10: 0.392 | Hits@  10: 0.505\n",
        "DCG@ 100: 0.443 | Hits@ 100: 0.756\n",
        "DCG@ 500: 0.466 | Hits@ 500: 0.933\n",
        "DCG@1000: 0.473 | Hits@1000: 1.000\n",
        "\n",
        "Как видим, 19 был оптимален, далее уже слишком большое окно\n",
        "\n",
        "это все когда я не додумался поставить .lower() для него окно уже другое\n",
        "\n",
        "при lower() получаем лучше результаты, но почему-то после обучения результаты хуже чем без обучения. При уже времени перебирать window не было так. Однако попробовал 5, 15, 21 и на 21 лучший результат был, однако все же хуже чем без обучения.\n",
        "\n",
        "давайте попробуем добавить лемматизацию"
      ]
    },
    {
      "cell_type": "code",
      "metadata": {
        "id": "dk9S_VQs_WFC"
      },
      "source": [
        "words = []\n",
        "for data in train_data:\n",
        "    words.append(tokenizer.tokenize(' '.join(data)))"
      ],
      "execution_count": 90,
      "outputs": []
    },
    {
      "cell_type": "code",
      "metadata": {
        "colab": {
          "base_uri": "https://localhost:8080/"
        },
        "id": "I0GL_MnAwAd9",
        "outputId": "ea7780b4-be33-4397-8e85-b022c325166f"
      },
      "source": [
        "words[0]"
      ],
      "execution_count": 91,
      "outputs": [
        {
          "output_type": "execute_result",
          "data": {
            "text/plain": [
              "['converting',\n",
              " 'string',\n",
              " 'to',\n",
              " 'list',\n",
              " 'convert',\n",
              " 'google',\n",
              " 'results',\n",
              " 'object',\n",
              " 'pure',\n",
              " 'js',\n",
              " 'to',\n",
              " 'python',\n",
              " 'object']"
            ]
          },
          "metadata": {},
          "execution_count": 91
        }
      ]
    },
    {
      "cell_type": "code",
      "metadata": {
        "colab": {
          "base_uri": "https://localhost:8080/"
        },
        "id": "F55CjuURC_iy",
        "outputId": "a255d239-8687-4dcf-8e11-08b5c149da23"
      },
      "source": [
        "import nltk\n",
        "nltk.download('wordnet')\n",
        "from nltk.stem import WordNetLemmatizer\n",
        "lemmatizer = WordNetLemmatizer()"
      ],
      "execution_count": 96,
      "outputs": [
        {
          "output_type": "stream",
          "name": "stdout",
          "text": [
            "[nltk_data] Downloading package wordnet to /root/nltk_data...\n",
            "[nltk_data]   Unzipping corpora/wordnet.zip.\n"
          ]
        }
      ]
    },
    {
      "cell_type": "code",
      "metadata": {
        "id": "sjS7muR0COn3"
      },
      "source": [
        "for i in range(len(words)):\n",
        "    for j in range(len(words[i])):\n",
        "        words[i][j] = lemmatizer.lemmatize(words[i][j])"
      ],
      "execution_count": 97,
      "outputs": []
    },
    {
      "cell_type": "code",
      "metadata": {
        "id": "syDwJUW5_WiC"
      },
      "source": [
        "embeddings_trained = Word2Vec(words, # data for model to train on\n",
        "                 size=200,                 # embedding vector size\n",
        "                 min_count=5,             # consider words that occured at least 5 times\n",
        "                 window=19).wv"
      ],
      "execution_count": 100,
      "outputs": []
    },
    {
      "cell_type": "code",
      "metadata": {
        "colab": {
          "base_uri": "https://localhost:8080/",
          "height": 84,
          "referenced_widgets": [
            "70e68757be8d4b4ea83ee3ba49390006",
            "4b3b96104be0427694bdd7e1ed27081c",
            "ff5b922616664117a8ba9504fa49e4bb",
            "5c3af4750d4f4bbbb4e5948c8c9b84a1",
            "1fa37815b6f84bb78d25c622d6f62486",
            "b4801422c205465a937378f2416f09c1",
            "c2532962be3b485eb85489088e59b358",
            "27af8bf76a0747c99107f6f33883f5fc",
            "4e676790acf34f98a309842524e03121",
            "fd4a1e61da6447a3b784250928bab125",
            "d193a09af1394e8a8f877d0827eeaa39"
          ]
        },
        "id": "jA4zRk8Y_Wq2",
        "outputId": "01c455fb-e348-456d-f8e1-62d0965b1007"
      },
      "source": [
        "wv_ranking = []\n",
        "max_validation_examples = 1000\n",
        "for i, line in enumerate(tqdm(validation_data)):\n",
        "    if i == max_validation_examples:\n",
        "        break\n",
        "    q, *ex = line\n",
        "    ranks = rank_candidates(q, ex, embeddings_trained, tokenizer)\n",
        "    wv_ranking.append([r[0] for r in ranks].index(0) + 1)"
      ],
      "execution_count": 101,
      "outputs": [
        {
          "output_type": "display_data",
          "data": {
            "application/vnd.jupyter.widget-view+json": {
              "model_id": "70e68757be8d4b4ea83ee3ba49390006",
              "version_minor": 0,
              "version_major": 2
            },
            "text/plain": [
              "  0%|          | 0/3760 [00:00<?, ?it/s]"
            ]
          },
          "metadata": {}
        },
        {
          "output_type": "stream",
          "name": "stderr",
          "text": [
            "/usr/local/lib/python3.7/dist-packages/scipy/spatial/distance.py:720: RuntimeWarning: invalid value encountered in float_scalars\n",
            "  dist = 1.0 - uv / np.sqrt(uu * vv)\n"
          ]
        }
      ]
    },
    {
      "cell_type": "code",
      "metadata": {
        "colab": {
          "base_uri": "https://localhost:8080/",
          "height": 153,
          "referenced_widgets": [
            "28125b87ae6a4e8cb477c268efd6c3b6",
            "198caa6e765d453ca700062bdcb8587b",
            "0807681f64c747529938ec0a81737b85",
            "baf795575ef14cdcb5e4e74d629d502e",
            "640aea40bb6e4fdebdc7e56f0ca28b3e",
            "e0f4c41f151f48ccaa66cbf0d4753fe0",
            "4265f897bc9f4a04beff34a6c7bf9e72",
            "546bc1c258c24f14bdb797b0375bbf1d",
            "abd3b71d495247ff94cc78c559cf8349",
            "b861a60b8f874f6690ebe5b337db8fc1",
            "0454d7da7465404cbddc1999e6924db8"
          ]
        },
        "id": "VlbOmco9_k5w",
        "outputId": "a57c77bd-af25-468c-f5b3-05a2717b59cb"
      },
      "source": [
        "for k in tqdm([1, 5, 10, 100, 500, 1000]):\n",
        "    print(\"DCG@%4d: %.3f | Hits@%4d: %.3f\" % (k, dcg_score(wv_ranking, k), k, hits_count(wv_ranking, k)))"
      ],
      "execution_count": 102,
      "outputs": [
        {
          "output_type": "display_data",
          "data": {
            "application/vnd.jupyter.widget-view+json": {
              "model_id": "28125b87ae6a4e8cb477c268efd6c3b6",
              "version_minor": 0,
              "version_major": 2
            },
            "text/plain": [
              "  0%|          | 0/6 [00:00<?, ?it/s]"
            ]
          },
          "metadata": {}
        },
        {
          "output_type": "stream",
          "name": "stdout",
          "text": [
            "DCG@   1: 0.318 | Hits@   1: 0.318\n",
            "DCG@   5: 0.392 | Hits@   5: 0.461\n",
            "DCG@  10: 0.413 | Hits@  10: 0.527\n",
            "DCG@ 100: 0.463 | Hits@ 100: 0.769\n",
            "DCG@ 500: 0.484 | Hits@ 500: 0.932\n",
            "DCG@1000: 0.491 | Hits@1000: 1.000\n"
          ]
        }
      ]
    },
    {
      "cell_type": "markdown",
      "metadata": {
        "id": "OjuF7rT179l6"
      },
      "source": [
        "Довольно странно, но с лемматизацией вышло хуже качество чем без неё. Видимо это из-за неидеальности самого способа приведения слов к начальной форме. И за счет специфичности слов программистских."
      ]
    },
    {
      "cell_type": "code",
      "metadata": {
        "id": "J2Dice6X778u"
      },
      "source": [
        ""
      ],
      "execution_count": null,
      "outputs": []
    },
    {
      "cell_type": "markdown",
      "metadata": {
        "id": "tY8PxB0j-ThG"
      },
      "source": [
        "### Замечание:\n",
        "Решить эту задачу с помощью обучения полноценной нейронной сети будет вам предложено, как часть задания в одной из домашних работ по теме \"Диалоговые системы\"."
      ]
    },
    {
      "cell_type": "markdown",
      "metadata": {
        "id": "vymVj8IxO2PO"
      },
      "source": [
        "Напишите свой вывод о полученных результатах.\n",
        "* Какой принцип токенизации даёт качество лучше и почему?\n",
        "* Помогает ли нормализация слов?\n",
        "* Какие эмбеддинги лучше справляются с задачей и почему?\n",
        "* Почему получилось плохое качество решения задачи?\n",
        "* Предложите свой подход к решению задачи.\n",
        "\n",
        "## Вывод:\n"
      ]
    },
    {
      "cell_type": "markdown",
      "metadata": {
        "id": "emODHztAQUQz"
      },
      "source": [
        ""
      ]
    },
    {
      "cell_type": "markdown",
      "metadata": {
        "id": "0mrHgsVM8NUJ"
      },
      "source": [
        " Лучше качество дало конечно же разбиение по словам, но при этом приведение их к одному регистру. Вообще часто слова в разных регистрах и вправду могут нести разный смысл. Но видимо в данном случае было важнее найти общее в этих словах так.\n",
        " как раз .lower() можно отнести в какой-то мере к нормализации слов. Однако та же лемматизация почему-то не особо помогла. Хотя ожидалось обратное, т.к. если больше слов будут менее отличаться между собой из-за различных окончаний, мы сможем найти общее между ними лучше.\n",
        " Думаю качество вышло плохим из-за большой специфичности программистских слов. Также сами эмбеддинги, которые мы использовали довольно простые. Можно было бы написать поверх всего более умную нейронную сеть, которая бы училась правильно классифицировать опираясь, например на вектора, полученные из слов или вопросов.\n"
      ]
    },
    {
      "cell_type": "code",
      "metadata": {
        "id": "fY6vtYg6G6nG"
      },
      "source": [
        ""
      ],
      "execution_count": null,
      "outputs": []
    },
    {
      "cell_type": "code",
      "metadata": {
        "id": "nmw94VMmv-Xa"
      },
      "source": [
        ""
      ],
      "execution_count": null,
      "outputs": []
    }
  ]
}